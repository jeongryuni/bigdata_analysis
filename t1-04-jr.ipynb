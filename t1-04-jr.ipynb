{
 "cells": [
  {
   "cell_type": "markdown",
   "id": "53c4c8b2",
   "metadata": {
    "papermill": {
     "duration": 0.012848,
     "end_time": "2025-06-20T15:41:20.660893",
     "exception": false,
     "start_time": "2025-06-20T15:41:20.648045",
     "status": "completed"
    },
    "tags": []
   },
   "source": [
    "## 왜도와 첨도 구하기\n",
    "-  주어진 데이터 중 train.csv에서 'SalePrice'컬럼의 왜도와 첨도를 구한 값과, 'SalePrice'컬럼을 스케일링(log1p)로 변환한 이후 왜도와 첨도를 구해 모두 더한 다음 소수점 2째자리까지 출력하시오\n",
    "- 데이터셋 : House Prices - Advanced Regression Technique (https://www.kaggle.com/c/house-prices-advanced-regression-techniques)\n",
    "- 오른쪽 상단 copy&edit 클릭 -> 예상문제 풀이 시작\n",
    "- 강의 영상 : https://youtu.be/_ft7ZlDlk7c"
   ]
  },
  {
   "attachments": {
    "502821f9-762a-4f63-bd70-944b6e6a213c.png": {
     "image/png": "[encoded data removed]"
    }
   },
   "cell_type": "markdown",
   "id": "28145533",
   "metadata": {
    "papermill": {
     "duration": 0.012343,
     "end_time": "2025-06-20T15:41:20.685736",
     "exception": false,
     "start_time": "2025-06-20T15:41:20.673393",
     "status": "completed"
    },
    "tags": []
   },
   "source": [
    "### 왜도\n",
    "비대칭도(非對稱度, skewness) 또는 왜도(歪度)는 **실수 값 확률 변수의 확률 분포 비대칭성을 나타내는 지표**이다. 왜도의 값은 양수나 음수가 될 수 있으며 정의되지 않을 수도 있다. 왜도가 음수일 경우에는 확률밀도함수의 왼쪽 부분에 긴 꼬리를 가지며 중앙값을 포함한 자료가 오른쪽에 더 많이 분포해 있다. 왜도가 양수일 때는 확률밀도함수의 오른쪽 부분에 긴 꼬리를 가지며 자료가 왼쪽에 더 많이 분포해 있다는 것을 나타낸다. 평균과 중앙값이 같으면 왜도는 0이 된다.\n",
    "\n",
    "![SkewedDistribution.png](attachment:502821f9-762a-4f63-bd70-944b6e6a213c.png)\n",
    "\n",
    "**위키백과 https://ko.wikipedia.org/wiki/%EB%B9%84%EB%8C%80%EC%B9%AD%EB%8F%84"
   ]
  },
  {
   "cell_type": "markdown",
   "id": "7f842408",
   "metadata": {
    "papermill": {
     "duration": 0.011241,
     "end_time": "2025-06-20T15:41:20.708356",
     "exception": false,
     "start_time": "2025-06-20T15:41:20.697115",
     "status": "completed"
    },
    "tags": []
   },
   "source": [
    "### 첨도\n",
    "**확률분포의 꼬리가 두꺼운 정도**를 나타내는 척도이다. 극단적인 편차 또는 이상치가 많을 수록 큰 값을 나타낸다. 첨도값(K)이 3에 가까우면 산포도가 정규분포에 가깝다. 3보다 작을 경우에는(K<3) 산포는 정규분포보다 꼬리가 얇은 분포로 생각할 수 있다, 첨도값이 3보다 큰 양수이면(K>3) 정규분포보다 꼬리가 두꺼운 분포로 판단할 수 있다."
   ]
  },
  {
   "cell_type": "markdown",
   "id": "acb0fc86",
   "metadata": {
    "papermill": {
     "duration": 0.010901,
     "end_time": "2025-06-20T15:41:20.730442",
     "exception": false,
     "start_time": "2025-06-20T15:41:20.719541",
     "status": "completed"
    },
    "tags": []
   },
   "source": [
    "# Start"
   ]
  },
  {
   "cell_type": "code",
   "execution_count": 1,
   "id": "ade60783",
   "metadata": {
    "execution": {
     "iopub.execute_input": "2025-06-20T15:41:20.771539Z",
     "iopub.status.busy": "2025-06-20T15:41:20.770233Z",
     "iopub.status.idle": "2025-06-20T15:41:20.815923Z",
     "shell.execute_reply": "2025-06-20T15:41:20.816776Z",
     "shell.execute_reply.started": "2025-06-20T15:40:38.971118Z"
    },
    "papermill": {
     "duration": 0.075408,
     "end_time": "2025-06-20T15:41:20.817191",
     "exception": false,
     "start_time": "2025-06-20T15:41:20.741783",
     "status": "completed"
    },
    "tags": []
   },
   "outputs": [
    {
     "name": "stdout",
     "output_type": "stream",
     "text": [
      "9.35\n"
     ]
    }
   ],
   "source": [
    "import numpy as np\n",
    "import pandas as pd\n",
    "\n",
    "df = pd.read_csv(\"../input/house-prices-advanced-regression-techniques/train.csv\")\n",
    "\n",
    "# 주어진 데이터 중 train.csv에서 'SalePrice'컬럼의 왜도와 첨도를 구한 값과, \n",
    "# 'SalePrice'컬럼을 스케일링(log1p)로 변환한 이후 왜도와 첨도를 구해 모두 더한 다음 소수점 2째자리까지 출력하시오\n",
    "\n",
    "# 왜도\n",
    "skew = df['SalePrice'].skew()\n",
    "kurt = df['SalePrice'].kurt()\n",
    "\n",
    "# log1p\n",
    "log_skew = np.log1p(df['SalePrice']).skew()\n",
    "log_kurt = np.log1p(df['SalePrice']).kurt()\n",
    "\n",
    "result = skew + kurt + log_skew + log_kurt\n",
    "print(round(result,2))"
   ]
  },
  {
   "cell_type": "code",
   "execution_count": null,
   "id": "341761ad",
   "metadata": {
    "papermill": {
     "duration": 0.011384,
     "end_time": "2025-06-20T15:41:20.845500",
     "exception": false,
     "start_time": "2025-06-20T15:41:20.834116",
     "status": "completed"
    },
    "tags": []
   },
   "outputs": [],
   "source": []
  },
  {
   "cell_type": "code",
   "execution_count": null,
   "id": "fc48d768",
   "metadata": {
    "papermill": {
     "duration": 0.011391,
     "end_time": "2025-06-20T15:41:20.868545",
     "exception": false,
     "start_time": "2025-06-20T15:41:20.857154",
     "status": "completed"
    },
    "tags": []
   },
   "outputs": [],
   "source": []
  },
  {
   "cell_type": "code",
   "execution_count": null,
   "id": "10e09616",
   "metadata": {
    "papermill": {
     "duration": 0.01135,
     "end_time": "2025-06-20T15:41:20.892468",
     "exception": false,
     "start_time": "2025-06-20T15:41:20.881118",
     "status": "completed"
    },
    "tags": []
   },
   "outputs": [],
   "source": []
  },
  {
   "cell_type": "markdown",
   "id": "34c8e83c",
   "metadata": {
    "papermill": {
     "duration": 0.013585,
     "end_time": "2025-06-20T15:41:20.917760",
     "exception": false,
     "start_time": "2025-06-20T15:41:20.904175",
     "status": "completed"
    },
    "tags": []
   },
   "source": [
    "## Hint\n",
    "- DataFrame.skew() 왜도\n",
    "- DataFrame.kurt() 첨도"
   ]
  },
  {
   "cell_type": "markdown",
   "id": "61ee0662",
   "metadata": {
    "papermill": {
     "duration": 0.011592,
     "end_time": "2025-06-20T15:41:20.941198",
     "exception": false,
     "start_time": "2025-06-20T15:41:20.929606",
     "status": "completed"
    },
    "tags": []
   },
   "source": [
    "## 풀이"
   ]
  },
  {
   "cell_type": "code",
   "execution_count": 2,
   "id": "20fd5374",
   "metadata": {
    "_cell_guid": "b1076dfc-b9ad-4769-8c92-a6c4dae69d19",
    "_uuid": "8f2839f25d086af736a60e9eeb907d3b93b6e0e5",
    "execution": {
     "iopub.execute_input": "2025-06-20T15:41:20.971535Z",
     "iopub.status.busy": "2025-06-20T15:41:20.970530Z",
     "iopub.status.idle": "2025-06-20T15:41:20.974262Z",
     "shell.execute_reply": "2025-06-20T15:41:20.973344Z",
     "shell.execute_reply.started": "2024-10-26T18:42:38.313690Z"
    },
    "papermill": {
     "duration": 0.020246,
     "end_time": "2025-06-20T15:41:20.974449",
     "exception": false,
     "start_time": "2025-06-20T15:41:20.954203",
     "status": "completed"
    },
    "tags": []
   },
   "outputs": [],
   "source": [
    "# 라이브러리 불러오기\n",
    "import pandas as pd\n",
    "import numpy as np"
   ]
  },
  {
   "cell_type": "code",
   "execution_count": 3,
   "id": "92b9cefe",
   "metadata": {
    "execution": {
     "iopub.execute_input": "2025-06-20T15:41:21.005087Z",
     "iopub.status.busy": "2025-06-20T15:41:21.003442Z",
     "iopub.status.idle": "2025-06-20T15:41:21.041403Z",
     "shell.execute_reply": "2025-06-20T15:41:21.042160Z",
     "shell.execute_reply.started": "2024-10-26T18:42:38.487071Z"
    },
    "papermill": {
     "duration": 0.056216,
     "end_time": "2025-06-20T15:41:21.042419",
     "exception": false,
     "start_time": "2025-06-20T15:41:20.986203",
     "status": "completed"
    },
    "tags": []
   },
   "outputs": [
    {
     "data": {
      "text/plain": [
       "0    208500\n",
       "1    181500\n",
       "2    223500\n",
       "3    140000\n",
       "4    250000\n",
       "Name: SalePrice, dtype: int64"
      ]
     },
     "execution_count": 3,
     "metadata": {},
     "output_type": "execute_result"
    }
   ],
   "source": [
    "# 데이터 불러오기\n",
    "df = pd.read_csv(\"../input/house-prices-advanced-regression-techniques/train.csv\")\n",
    "df['SalePrice'].head()"
   ]
  },
  {
   "cell_type": "code",
   "execution_count": 4,
   "id": "afe388fa",
   "metadata": {
    "execution": {
     "iopub.execute_input": "2025-06-20T15:41:21.080886Z",
     "iopub.status.busy": "2025-06-20T15:41:21.079057Z",
     "iopub.status.idle": "2025-06-20T15:41:21.084231Z",
     "shell.execute_reply": "2025-06-20T15:41:21.085021Z",
     "shell.execute_reply.started": "2024-10-26T18:42:38.666155Z"
    },
    "papermill": {
     "duration": 0.025585,
     "end_time": "2025-06-20T15:41:21.085236",
     "exception": false,
     "start_time": "2025-06-20T15:41:21.059651",
     "status": "completed"
    },
    "tags": []
   },
   "outputs": [
    {
     "name": "stdout",
     "output_type": "stream",
     "text": [
      "왜도: 1.8828757597682129\n",
      "첨도: 6.536281860064529\n"
     ]
    }
   ],
   "source": [
    "# 'SalePrice'컬럼 왜도와 첨도계산\n",
    "s1 = df['SalePrice'].skew()\n",
    "k1 = df['SalePrice'].kurt()\n",
    "print(\"왜도:\" ,s1)\n",
    "print(\"첨도:\" ,k1)"
   ]
  },
  {
   "cell_type": "code",
   "execution_count": 5,
   "id": "7c295539",
   "metadata": {
    "execution": {
     "iopub.execute_input": "2025-06-20T15:41:21.121383Z",
     "iopub.status.busy": "2025-06-20T15:41:21.120570Z",
     "iopub.status.idle": "2025-06-20T15:41:21.124695Z",
     "shell.execute_reply": "2025-06-20T15:41:21.124091Z",
     "shell.execute_reply.started": "2024-10-26T18:42:38.864743Z"
    },
    "papermill": {
     "duration": 0.025999,
     "end_time": "2025-06-20T15:41:21.124849",
     "exception": false,
     "start_time": "2025-06-20T15:41:21.098850",
     "status": "completed"
    },
    "tags": []
   },
   "outputs": [],
   "source": [
    "# 'SalePrice'컬럼 로그변환\n",
    "df['SalePrice'] = np.log1p(df['SalePrice'])"
   ]
  },
  {
   "cell_type": "code",
   "execution_count": 6,
   "id": "c7d380f3",
   "metadata": {
    "execution": {
     "iopub.execute_input": "2025-06-20T15:41:21.157166Z",
     "iopub.status.busy": "2025-06-20T15:41:21.156202Z",
     "iopub.status.idle": "2025-06-20T15:41:21.164713Z",
     "shell.execute_reply": "2025-06-20T15:41:21.163610Z",
     "shell.execute_reply.started": "2024-10-26T18:42:39.042101Z"
    },
    "papermill": {
     "duration": 0.027843,
     "end_time": "2025-06-20T15:41:21.164924",
     "exception": false,
     "start_time": "2025-06-20T15:41:21.137081",
     "status": "completed"
    },
    "tags": []
   },
   "outputs": [
    {
     "name": "stdout",
     "output_type": "stream",
     "text": [
      "왜도: 0.12134661989685333\n",
      "첨도: 0.809519155707878\n"
     ]
    }
   ],
   "source": [
    "# 'SalePrice'컬럼 왜도와 첨도계산\n",
    "s2 = df['SalePrice'].skew()\n",
    "k2 = df['SalePrice'].kurt()\n",
    "print(\"왜도:\" ,s2)\n",
    "print(\"첨도:\" ,k2)"
   ]
  },
  {
   "cell_type": "code",
   "execution_count": 7,
   "id": "f692eeee",
   "metadata": {
    "execution": {
     "iopub.execute_input": "2025-06-20T15:41:21.205750Z",
     "iopub.status.busy": "2025-06-20T15:41:21.204813Z",
     "iopub.status.idle": "2025-06-20T15:41:21.208957Z",
     "shell.execute_reply": "2025-06-20T15:41:21.208260Z",
     "shell.execute_reply.started": "2024-10-26T18:42:39.696939Z"
    },
    "papermill": {
     "duration": 0.023633,
     "end_time": "2025-06-20T15:41:21.209106",
     "exception": false,
     "start_time": "2025-06-20T15:41:21.185473",
     "status": "completed"
    },
    "tags": []
   },
   "outputs": [
    {
     "name": "stdout",
     "output_type": "stream",
     "text": [
      "9.35\n"
     ]
    }
   ],
   "source": [
    "# 모두 더한 다음 출력\n",
    "print(round(s1+s2+k1+k2,2)) #9.35"
   ]
  },
  {
   "cell_type": "code",
   "execution_count": null,
   "id": "45e7c55d",
   "metadata": {
    "papermill": {
     "duration": 0.012937,
     "end_time": "2025-06-20T15:41:21.235722",
     "exception": false,
     "start_time": "2025-06-20T15:41:21.222785",
     "status": "completed"
    },
    "tags": []
   },
   "outputs": [],
   "source": []
  }
 ],
 "metadata": {
  "kaggle": {
   "accelerator": "none",
   "dataSources": [
    {
     "databundleVersionId": 868283,
     "sourceId": 5407,
     "sourceType": "competition"
    },
    {
     "databundleVersionId": 12753598,
     "datasetId": 1633303,
     "sourceId": 12211878,
     "sourceType": "datasetVersion"
    }
   ],
   "dockerImageVersionId": 30129,
   "isGpuEnabled": false,
   "isInternetEnabled": false,
   "language": "python",
   "sourceType": "notebook"
  },
  "kernelspec": {
   "display_name": "Python 3",
   "language": "python",
   "name": "python3"
  },
  "language_info": {
   "codemirror_mode": {
    "name": "ipython",
    "version": 3
   },
   "file_extension": ".py",
   "mimetype": "text/x-python",
   "name": "python",
   "nbconvert_exporter": "python",
   "pygments_lexer": "ipython3",
   "version": "3.7.10"
  },
  "papermill": {
   "default_parameters": {},
   "duration": 10.939093,
   "end_time": "2025-06-20T15:41:22.401257",
   "environment_variables": {},
   "exception": null,
   "input_path": "__notebook__.ipynb",
   "output_path": "__notebook__.ipynb",
   "parameters": {},
   "start_time": "2025-06-20T15:41:11.462164",
   "version": "2.3.3"
  }
 },
 "nbformat": 4,
 "nbformat_minor": 5
}
