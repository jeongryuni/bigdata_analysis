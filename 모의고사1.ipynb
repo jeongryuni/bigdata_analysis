{
 "cells": [
  {
   "cell_type": "markdown",
   "id": "cd2baa82",
   "metadata": {
    "papermill": {
     "duration": 0.004386,
     "end_time": "2025-06-07T21:57:12.034206",
     "exception": false,
     "start_time": "2025-06-07T21:57:12.029820",
     "status": "completed"
    },
    "tags": []
   },
   "source": [
    "# 작업형 1유형"
   ]
  },
  {
   "cell_type": "markdown",
   "id": "4f3a884b",
   "metadata": {
    "papermill": {
     "duration": 0.00304,
     "end_time": "2025-06-07T21:57:12.040936",
     "exception": false,
     "start_time": "2025-06-07T21:57:12.037896",
     "status": "completed"
    },
    "tags": []
   },
   "source": [
    "## 1번\n",
    "\n",
    "주어진 공기질 데이터를 활용하여 결측값이 가장 많은 컬럼명을 확인하고 결측값을 최빈값으로 대체한 뒤,\n",
    "\n",
    "결측값을 대체하기 전 컬럼의 평균과 결측값을 대체하고 난 후 컬럼 평균의 차이를 구하시오\n",
    "\n",
    "(연산 결과는 반올림 후 소수 3자리 출력)\n",
    "\n",
    "- Ozone : 오존지수\n",
    "- Solar. R :태양복사량\n",
    "- Wind : 풍량\n",
    "- Temp : 온도\n",
    "- Month : 월\n",
    "- Day : 일"
   ]
  },
  {
   "cell_type": "code",
   "execution_count": 1,
   "id": "07145a0a",
   "metadata": {
    "_cell_guid": "b1076dfc-b9ad-4769-8c92-a6c4dae69d19",
    "_uuid": "8f2839f25d086af736a60e9eeb907d3b93b6e0e5",
    "execution": {
     "iopub.execute_input": "2025-06-07T21:57:12.048842Z",
     "iopub.status.busy": "2025-06-07T21:57:12.048470Z",
     "iopub.status.idle": "2025-06-07T21:57:14.186812Z",
     "shell.execute_reply": "2025-06-07T21:57:14.185691Z"
    },
    "papermill": {
     "duration": 2.144482,
     "end_time": "2025-06-07T21:57:14.188703",
     "exception": false,
     "start_time": "2025-06-07T21:57:12.044221",
     "status": "completed"
    },
    "tags": []
   },
   "outputs": [
    {
     "name": "stdout",
     "output_type": "stream",
     "text": [
      "4.626\n"
     ]
    }
   ],
   "source": [
    "import numpy as np \n",
    "import pandas as pd\n",
    "import warnings\n",
    "\n",
    "warnings.filterwarnings('ignore')  # 경고 메시지 무시\n",
    "df = pd.read_csv('/kaggle/input/bigdata-csvfile/airquality.csv')\n",
    "\n",
    "# 결측값이 가장 많은컬럼 # Ozone\n",
    "# 대체 전 평균\n",
    "b_mean = df['Ozone'].mean()\n",
    "\n",
    "# 결측값 최빈값으로 대체\n",
    "ozone_mode = df['Ozone'].mode()[0]\n",
    "df['Ozone'] = df['Ozone'].fillna(ozone_mode)\n",
    "a_mean = df['Ozone'].mean()\n",
    "\n",
    "# 컬럼 평균의 차이\n",
    "print(round(b_mean - a_mean,3 ))"
   ]
  },
  {
   "cell_type": "markdown",
   "id": "0177848e",
   "metadata": {
    "papermill": {
     "duration": 0.002984,
     "end_time": "2025-06-07T21:57:14.195389",
     "exception": false,
     "start_time": "2025-06-07T21:57:14.192405",
     "status": "completed"
    },
    "tags": []
   },
   "source": [
    "## 2번\n",
    "주어진 와인데이터 alcohol 컬럼의 데이터를 최소-최대 정규화한 뒤, \n",
    "\n",
    "alcohol컬럼의 표준편차를 구하시오\n",
    "\n",
    "(단, 자유도는 0으로 하고, 연산 결과는 반올림 후 소수점 3자리까지 출력)"
   ]
  },
  {
   "cell_type": "code",
   "execution_count": 2,
   "id": "4cdd4f58",
   "metadata": {
    "execution": {
     "iopub.execute_input": "2025-06-07T21:57:14.203299Z",
     "iopub.status.busy": "2025-06-07T21:57:14.202942Z",
     "iopub.status.idle": "2025-06-07T21:57:15.842656Z",
     "shell.execute_reply": "2025-06-07T21:57:15.841437Z"
    },
    "papermill": {
     "duration": 1.645935,
     "end_time": "2025-06-07T21:57:15.844599",
     "exception": false,
     "start_time": "2025-06-07T21:57:14.198664",
     "status": "completed"
    },
    "tags": []
   },
   "outputs": [
    {
     "name": "stdout",
     "output_type": "stream",
     "text": [
      "0.213\n"
     ]
    }
   ],
   "source": [
    "import numpy as np \n",
    "import pandas as pd\n",
    "\n",
    "df = pd.read_csv('/kaggle/input/bigdata-csvfile/wine_data.csv')\n",
    "\n",
    "# MinMaxScaler\n",
    "from sklearn.preprocessing import MinMaxScaler\n",
    "scaler = MinMaxScaler()\n",
    "df['scaler'] = scaler.fit_transform(df[['alcohol']])\n",
    "alcohol_std = df['scaler'].std(ddof = 0) # 자유도는 0이므로 ddof = 0\n",
    "print(round(alcohol_std, 3)) "
   ]
  },
  {
   "cell_type": "markdown",
   "id": "758281c0",
   "metadata": {
    "papermill": {
     "duration": 0.003089,
     "end_time": "2025-06-07T21:57:15.851195",
     "exception": false,
     "start_time": "2025-06-07T21:57:15.848106",
     "status": "completed"
    },
    "tags": []
   },
   "source": [
    "## 3번\n",
    "주어진 심장병 데이터의 chol칼럼의 이상치 개수를 구하시오\n",
    "\n",
    "(단, 이상치범위는 Q1-1.5*IQR 또는 Q3+1.5*IQR 이상으로 하고, IQR은 Q3- Q1과 같이 연산한다.\n",
    "\n",
    "- Q1 : 1사분위 수\n",
    "- Q3 : 3사분위 수"
   ]
  },
  {
   "cell_type": "code",
   "execution_count": 3,
   "id": "cbc663c8",
   "metadata": {
    "execution": {
     "iopub.execute_input": "2025-06-07T21:57:15.859673Z",
     "iopub.status.busy": "2025-06-07T21:57:15.859168Z",
     "iopub.status.idle": "2025-06-07T21:57:15.883351Z",
     "shell.execute_reply": "2025-06-07T21:57:15.882189Z"
    },
    "papermill": {
     "duration": 0.030931,
     "end_time": "2025-06-07T21:57:15.885686",
     "exception": false,
     "start_time": "2025-06-07T21:57:15.854755",
     "status": "completed"
    },
    "tags": []
   },
   "outputs": [
    {
     "name": "stdout",
     "output_type": "stream",
     "text": [
      "16\n"
     ]
    }
   ],
   "source": [
    "import numpy as np \n",
    "import pandas as pd\n",
    "\n",
    "df = pd.read_csv('/kaggle/input/bigdata-csvfile/heart_disease_data.csv')\n",
    "\n",
    "Q1 = df['chol'].quantile(0.25)\n",
    "Q3 = df['chol'].quantile(0.75)\n",
    "IQR = Q3-Q1\n",
    "\n",
    "outlier = (df['chol'] > Q3 + (1.5 * IQR)) | (df['chol'] < Q1 - (1.5 * IQR))\n",
    "print(len(df[outlier])) "
   ]
  },
  {
   "cell_type": "markdown",
   "id": "b0bce4c5",
   "metadata": {
    "papermill": {
     "duration": 0.003301,
     "end_time": "2025-06-07T21:57:15.893172",
     "exception": false,
     "start_time": "2025-06-07T21:57:15.889871",
     "status": "completed"
    },
    "tags": []
   },
   "source": [
    "# 작업형 2유형"
   ]
  },
  {
   "cell_type": "markdown",
   "id": "00d9383c",
   "metadata": {
    "papermill": {
     "duration": 0.003148,
     "end_time": "2025-06-07T21:57:15.899805",
     "exception": false,
     "start_time": "2025-06-07T21:57:15.896657",
     "status": "completed"
    },
    "tags": []
   },
   "source": [
    "1. 전체 데이터 목록 1,025행 중 80%인 820행을 학습용 데이터로 사용하고 나머지를 테스트 데이터로 사용\n",
    "2. 학습용 데이터를 활용하여 예측 모델을 모델링하고, 테스터 데이터에 적용하여 목표변수(target)를 예측하고, 예측 결과 제출 (단, 제출 결과는 데이터의 개수인 205행이 될 수 있도록 한다.)\n",
    "3. 모델 평가지표는 f1-score macro와 roc_auc_score로 한다.\n",
    "4. 예측 결과는 pred컬럼, index는 표시하지 않는다.\n",
    "5. 예측 결과 파일명은 다음과 같이 제출한다. (파일명 result.csv)"
   ]
  },
  {
   "cell_type": "code",
   "execution_count": 4,
   "id": "48f04c45",
   "metadata": {
    "execution": {
     "iopub.execute_input": "2025-06-07T21:57:15.907865Z",
     "iopub.status.busy": "2025-06-07T21:57:15.907539Z",
     "iopub.status.idle": "2025-06-07T21:57:16.684296Z",
     "shell.execute_reply": "2025-06-07T21:57:16.683120Z"
    },
    "papermill": {
     "duration": 0.78288,
     "end_time": "2025-06-07T21:57:16.685956",
     "exception": false,
     "start_time": "2025-06-07T21:57:15.903076",
     "status": "completed"
    },
    "tags": []
   },
   "outputs": [
    {
     "name": "stdout",
     "output_type": "stream",
     "text": [
      "     pred\n",
      "0       0\n",
      "1       0\n",
      "2       0\n",
      "3       1\n",
      "4       0\n",
      "..    ...\n",
      "200     1\n",
      "201     0\n",
      "202     0\n",
      "203     1\n",
      "204     0\n",
      "\n",
      "[205 rows x 1 columns]\n"
     ]
    }
   ],
   "source": [
    "import numpy as np \n",
    "import pandas as pd\n",
    "\n",
    "df = pd.read_csv('/kaggle/input/bigdata-csvfile/heart_disease_data.csv')\n",
    "\n",
    "train = df.iloc[:820]\n",
    "test = df.iloc[820:]\n",
    "y = train['target']\n",
    "\n",
    "# 모델링 및 학습\n",
    "from sklearn.ensemble import RandomForestClassifier\n",
    "model = RandomForestClassifier()\n",
    "model.fit(train, y)\n",
    "pred = model.predict(test)\n",
    "\n",
    "# 데이터프레임 생성\n",
    "result = pd.DataFrame({'pred' : pred})\n",
    "\n",
    "# csv생성\n",
    "result.to_csv('result.csv', index=False)\n",
    "read_csv = pd.read_csv('result.csv')\n",
    "print(read_csv)"
   ]
  },
  {
   "cell_type": "markdown",
   "id": "17375456",
   "metadata": {
    "papermill": {
     "duration": 0.003047,
     "end_time": "2025-06-07T21:57:16.692592",
     "exception": false,
     "start_time": "2025-06-07T21:57:16.689545",
     "status": "completed"
    },
    "tags": []
   },
   "source": [
    "# 작업형 3유형"
   ]
  },
  {
   "cell_type": "markdown",
   "id": "19579680",
   "metadata": {
    "papermill": {
     "duration": 0.003043,
     "end_time": "2025-06-07T21:57:16.698917",
     "exception": false,
     "start_time": "2025-06-07T21:57:16.695874",
     "status": "completed"
    },
    "tags": []
   },
   "source": [
    "# 문제1"
   ]
  },
  {
   "cell_type": "markdown",
   "id": "ab5c0192",
   "metadata": {
    "papermill": {
     "duration": 0.00294,
     "end_time": "2025-06-07T21:57:16.705011",
     "exception": false,
     "start_time": "2025-06-07T21:57:16.702071",
     "status": "completed"
    },
    "tags": []
   },
   "source": [
    "신유형으로 변경되던 6회때 작업형 3유형 예시로 최초에 공개 \n",
    "치료 전과 후의 혈압. 이러한 치료가 고혈압에 효과가 있는지 대응표본 T-검정 수행\n",
    "\n",
    "- mu = (치료 후 혈압 - 치료 전 혈압)의 평균\n",
    "\n",
    "\n",
    "1. mu의 표본평균을 구하시오. (단, 소수점 둘째 자리까지 반올림)\n",
    "2. 검정 통계량의 값을 구하시오 (단, 소수 넷째 자리까지 반올림)\n",
    "3. p-value 값을 구하시오. (단, 소수점 넷째 자리까지 반올림)\n",
    "4. 유의수준 5%에서 검정결과 구하시오 (대립가설 채택 또는 대립가설 기각)"
   ]
  },
  {
   "cell_type": "code",
   "execution_count": 5,
   "id": "c6f9047a",
   "metadata": {
    "execution": {
     "iopub.execute_input": "2025-06-07T21:57:16.713762Z",
     "iopub.status.busy": "2025-06-07T21:57:16.712797Z",
     "iopub.status.idle": "2025-06-07T21:57:16.730801Z",
     "shell.execute_reply": "2025-06-07T21:57:16.729737Z"
    },
    "papermill": {
     "duration": 0.0241,
     "end_time": "2025-06-07T21:57:16.732375",
     "exception": false,
     "start_time": "2025-06-07T21:57:16.708275",
     "status": "completed"
    },
    "tags": []
   },
   "outputs": [
    {
     "name": "stdout",
     "output_type": "stream",
     "text": [
      "-5.09\n",
      "-3.3372\n",
      "0.0006\n",
      "귀무가설 기각, 혈압은 차이가 있다.\n"
     ]
    }
   ],
   "source": [
    "# 귀무가설 : 치료 전과 후의 혈압은 같다 mu = 0\n",
    "# 대립가설 : 치료 전과 후의 혈압은 차이가 있다. mu < 0\n",
    "\n",
    "import numpy as np \n",
    "import pandas as pd\n",
    "from scipy import stats\n",
    "\n",
    "df = pd.read_csv('/kaggle/input/bigdata-csvfile/blood_pressure.csv')\n",
    "mu = (df['bp_after'] - df['bp_before']).mean()\n",
    "\n",
    "st, pv = stats.ttest_rel(df['bp_after'], df['bp_before'], alternative = 'less')\n",
    "\n",
    "print(round(mu, 2))\n",
    "print(round(st,4))\n",
    "print(round(pv, 4))\n",
    "\n",
    "if pv < 0.05:\n",
    "    print('귀무가설 기각, 혈압은 차이가 있다.')\n",
    "else:\n",
    "    print('귀무가설 채택, 혈압은 차이가 없다.')"
   ]
  },
  {
   "cell_type": "markdown",
   "id": "c4a5b233",
   "metadata": {
    "papermill": {
     "duration": 0.003195,
     "end_time": "2025-06-07T21:57:16.739124",
     "exception": false,
     "start_time": "2025-06-07T21:57:16.735929",
     "status": "completed"
    },
    "tags": []
   },
   "source": [
    "# 문제2"
   ]
  },
  {
   "cell_type": "markdown",
   "id": "74ab377d",
   "metadata": {
    "papermill": {
     "duration": 0.003166,
     "end_time": "2025-06-07T21:57:16.745778",
     "exception": false,
     "start_time": "2025-06-07T21:57:16.742612",
     "status": "completed"
    },
    "tags": []
   },
   "source": [
    "1. 칼럼 SurviVed와 가장 큰 상관관계를 갖는 변수의 상관계수를 구하시오. (단, 피어슨 상관계수를 사용한다.)\n",
    "2. 칼럼 Survived와 가장 큰 상관계수를 갖는 변수 2개를 활용하여 다중 선형 회귀 모형으로 생존 여부(Survived)를 예측할 때, 가장 작은 값을 갖는 회귀계수를 구하시오.\n",
    "3. 문제 2의 모델에서 확인되는 가장 큰 값의 p_value를 구하시오. (탄, 모든 문제의 정답은 반올림하여 소수점 셋째 자리까지 출력하고, 전체 데이터 중 'Name', 'Sex', 'Ticket', 'Cabin; , Embarked 칼럼은 분석에서 제외한다."
   ]
  },
  {
   "cell_type": "code",
   "execution_count": 6,
   "id": "46d354ba",
   "metadata": {
    "execution": {
     "iopub.execute_input": "2025-06-07T21:57:16.753830Z",
     "iopub.status.busy": "2025-06-07T21:57:16.753515Z",
     "iopub.status.idle": "2025-06-07T21:57:17.679306Z",
     "shell.execute_reply": "2025-06-07T21:57:17.678325Z"
    },
    "papermill": {
     "duration": 0.932046,
     "end_time": "2025-06-07T21:57:17.681164",
     "exception": false,
     "start_time": "2025-06-07T21:57:16.749118",
     "status": "completed"
    },
    "tags": []
   },
   "outputs": [
    {
     "name": "stdout",
     "output_type": "stream",
     "text": [
      "Pclass         0.338\n",
      "Fare           0.257\n",
      "Parch          0.082\n",
      "Age            0.077\n",
      "SibSp          0.035\n",
      "PassengerId    0.005\n",
      "Name: Survived, dtype: float64\n",
      "                            OLS Regression Results                            \n",
      "==============================================================================\n",
      "Dep. Variable:               Survived   R-squared:                       0.122\n",
      "Model:                            OLS   Adj. R-squared:                  0.120\n",
      "Method:                 Least Squares   F-statistic:                     61.61\n",
      "Date:                Sat, 07 Jun 2025   Prob (F-statistic):           8.78e-26\n",
      "Time:                        21:57:17   Log-Likelihood:                -564.07\n",
      "No. Observations:                 891   AIC:                             1134.\n",
      "Df Residuals:                     888   BIC:                             1149.\n",
      "Df Model:                           2                                         \n",
      "Covariance Type:            nonrobust                                         \n",
      "==============================================================================\n",
      "                 coef    std err          t      P>|t|      [0.025      0.975]\n",
      "------------------------------------------------------------------------------\n",
      "Intercept      0.7310      0.060     12.197      0.000       0.613       0.849\n",
      "Pclass        -0.1643      0.022     -7.501      0.000      -0.207      -0.121\n",
      "Fare           0.0010      0.000      2.714      0.007       0.000       0.002\n",
      "==============================================================================\n",
      "Omnibus:                     1030.575   Durbin-Watson:                   1.966\n",
      "Prob(Omnibus):                  0.000   Jarque-Bera (JB):               88.979\n",
      "Skew:                           0.456   Prob(JB):                     4.77e-20\n",
      "Kurtosis:                       1.750   Cond. No.                         246.\n",
      "==============================================================================\n",
      "\n",
      "Notes:\n",
      "[1] Standard Errors assume that the covariance matrix of the errors is correctly specified.\n",
      "0.007\n"
     ]
    }
   ],
   "source": [
    "import numpy as np \n",
    "import pandas as pd\n",
    "from scipy import stats\n",
    "\n",
    "df = pd.read_csv('/kaggle/input/bigdata-csvfile/titanic.csv')\n",
    "\n",
    "df = df.drop(columns = [ 'Name', 'Sex', 'Ticket', 'Cabin' , 'Embarked'])\n",
    "\n",
    "# 1.\n",
    "corr = df.corr()\n",
    "corr_survived = np.abs(corr['Survived'].drop('Survived'))\n",
    "sort_values_corr = corr_survived.sort_values(ascending = False)\n",
    "print(round(sort_values_corr, 3)) # Pclass 0.338\n",
    "\n",
    "# 2.\n",
    "from statsmodels.formula.api import ols\n",
    "model = ols('Survived ~ Pclass + Fare', data = df).fit()\n",
    "print(model.summary()) #  -0.1643\n",
    "\n",
    "# 3\n",
    "print(round(model.pvalues.max(),3)) # 0.007"
   ]
  }
 ],
 "metadata": {
  "kaggle": {
   "accelerator": "none",
   "dataSources": [
    {
     "datasetId": 7611297,
     "sourceId": 12090743,
     "sourceType": "datasetVersion"
    }
   ],
   "dockerImageVersionId": 31040,
   "isGpuEnabled": false,
   "isInternetEnabled": false,
   "language": "python",
   "sourceType": "notebook"
  },
  "kernelspec": {
   "display_name": "Python 3",
   "language": "python",
   "name": "python3"
  },
  "language_info": {
   "codemirror_mode": {
    "name": "ipython",
    "version": 3
   },
   "file_extension": ".py",
   "mimetype": "text/x-python",
   "name": "python",
   "nbconvert_exporter": "python",
   "pygments_lexer": "ipython3",
   "version": "3.11.11"
  },
  "papermill": {
   "default_parameters": {},
   "duration": 12.963225,
   "end_time": "2025-06-07T21:57:18.406450",
   "environment_variables": {},
   "exception": null,
   "input_path": "__notebook__.ipynb",
   "output_path": "__notebook__.ipynb",
   "parameters": {},
   "start_time": "2025-06-07T21:57:05.443225",
   "version": "2.6.0"
  }
 },
 "nbformat": 4,
 "nbformat_minor": 5
}
