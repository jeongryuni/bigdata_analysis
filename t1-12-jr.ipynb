{
 "cells": [
  {
   "cell_type": "markdown",
   "id": "2d076811",
   "metadata": {
    "papermill": {
     "duration": 0.010454,
     "end_time": "2025-06-20T22:46:10.910769",
     "exception": false,
     "start_time": "2025-06-20T22:46:10.900315",
     "status": "completed"
    },
    "tags": []
   },
   "source": [
    "# START"
   ]
  },
  {
   "cell_type": "markdown",
   "id": "42fba946",
   "metadata": {
    "papermill": {
     "duration": 0.007852,
     "end_time": "2025-06-20T22:46:10.928835",
     "exception": false,
     "start_time": "2025-06-20T22:46:10.920983",
     "status": "completed"
    },
    "tags": []
   },
   "source": [
    "주어진 데이터에서 상위 10개 국가의 접종률 평균과 하위 10개 국가의 접종률 평균을 구하고, 그 차이를 구해보세요 \n",
    "(단, 100%가 넘는 접종률 제거, 소수 첫째자리까지 출력)"
   ]
  },
  {
   "cell_type": "raw",
   "id": "49fe1a30",
   "metadata": {
    "jupyter": {
     "source_hidden": true
    },
    "papermill": {
     "duration": 0.007593,
     "end_time": "2025-06-20T22:46:10.944477",
     "exception": false,
     "start_time": "2025-06-20T22:46:10.936884",
     "status": "completed"
    },
    "tags": []
   },
   "source": [
    "import pandas as pd\n",
    "import numpy as np\n",
    "\n",
    "df = pd.read_csv(\"../input/covid-vaccination-vs-death/covid-vaccination-vs-death_ratio.csv\")\n",
    "\n",
    "# 국가 country\n",
    "# 접종률 ratio\n",
    "df = df.gr\n",
    "print(df)"
   ]
  },
  {
   "cell_type": "code",
   "execution_count": null,
   "id": "d4e5ffa2",
   "metadata": {
    "papermill": {
     "duration": 0.010301,
     "end_time": "2025-06-20T22:46:10.963464",
     "exception": false,
     "start_time": "2025-06-20T22:46:10.953163",
     "status": "completed"
    },
    "tags": []
   },
   "outputs": [],
   "source": []
  },
  {
   "cell_type": "code",
   "execution_count": 1,
   "id": "89a45514",
   "metadata": {
    "execution": {
     "iopub.execute_input": "2025-06-20T22:46:10.995593Z",
     "iopub.status.busy": "2025-06-20T22:46:10.989654Z",
     "iopub.status.idle": "2025-06-20T22:46:11.169684Z",
     "shell.execute_reply": "2025-06-20T22:46:11.168821Z",
     "shell.execute_reply.started": "2025-06-20T22:45:18.876297Z"
    },
    "papermill": {
     "duration": 0.198278,
     "end_time": "2025-06-20T22:46:11.169867",
     "exception": false,
     "start_time": "2025-06-20T22:46:10.971589",
     "status": "completed"
    },
    "tags": []
   },
   "outputs": [
    {
     "name": "stdout",
     "output_type": "stream",
     "text": [
      "88.4\n"
     ]
    }
   ],
   "source": [
    "#주어진 데이터에서 상위 10개 국가의 접종률 평균과 하위 10개 국가의 접종률 평균을 구하고, 그 차이를 구해보세요 \n",
    "#(단, 100%가 넘는 접종률 제거, 소수 첫째자리까지 출력)\n",
    "\n",
    "import pandas as pd\n",
    "import numpy as np\n",
    "\n",
    "df = pd.read_csv(\"../input/covid-vaccination-vs-death/covid-vaccination-vs-death_ratio.csv\")\n",
    "\n",
    "df = df.groupby('country').max().sort_values(by = 'ratio', ascending = False)\n",
    "df = df[df['ratio'] <= 100]\n",
    "\n",
    "head = df['ratio'].head(10).mean()\n",
    "tail = df['ratio'].tail(10).mean()\n",
    "\n",
    "print(round(head - tail,1))"
   ]
  },
  {
   "cell_type": "code",
   "execution_count": null,
   "id": "3859a707",
   "metadata": {
    "papermill": {
     "duration": 0.007747,
     "end_time": "2025-06-20T22:46:11.186235",
     "exception": false,
     "start_time": "2025-06-20T22:46:11.178488",
     "status": "completed"
    },
    "tags": []
   },
   "outputs": [],
   "source": []
  },
  {
   "cell_type": "code",
   "execution_count": null,
   "id": "0e18b109",
   "metadata": {
    "papermill": {
     "duration": 0.007795,
     "end_time": "2025-06-20T22:46:11.202309",
     "exception": false,
     "start_time": "2025-06-20T22:46:11.194514",
     "status": "completed"
    },
    "tags": []
   },
   "outputs": [],
   "source": []
  },
  {
   "cell_type": "code",
   "execution_count": null,
   "id": "63afb7e1",
   "metadata": {
    "papermill": {
     "duration": 0.007773,
     "end_time": "2025-06-20T22:46:11.218212",
     "exception": false,
     "start_time": "2025-06-20T22:46:11.210439",
     "status": "completed"
    },
    "tags": []
   },
   "outputs": [],
   "source": []
  },
  {
   "cell_type": "code",
   "execution_count": null,
   "id": "076d0bb7",
   "metadata": {
    "papermill": {
     "duration": 0.008444,
     "end_time": "2025-06-20T22:46:11.234903",
     "exception": false,
     "start_time": "2025-06-20T22:46:11.226459",
     "status": "completed"
    },
    "tags": []
   },
   "outputs": [],
   "source": []
  },
  {
   "cell_type": "markdown",
   "id": "e685878e",
   "metadata": {
    "papermill": {
     "duration": 0.008022,
     "end_time": "2025-06-20T22:46:11.251158",
     "exception": false,
     "start_time": "2025-06-20T22:46:11.243136",
     "status": "completed"
    },
    "tags": []
   },
   "source": [
    "주어진 데이터에서 상위 10개 국가의 접종률 평균과 하위 10개 국가의 접종률 평균을 구하고, 그 차이를 구해보세요 \n",
    "\n",
    "(단, 100%가 넘는 접종률 제거, 소수 첫째자리까지 출력)"
   ]
  },
  {
   "cell_type": "code",
   "execution_count": 2,
   "id": "863ba100",
   "metadata": {
    "execution": {
     "iopub.execute_input": "2025-06-20T22:46:11.275273Z",
     "iopub.status.busy": "2025-06-20T22:46:11.274547Z",
     "iopub.status.idle": "2025-06-20T22:46:11.403417Z",
     "shell.execute_reply": "2025-06-20T22:46:11.402787Z",
     "shell.execute_reply.started": "2025-06-20T22:43:06.994976Z"
    },
    "papermill": {
     "duration": 0.144072,
     "end_time": "2025-06-20T22:46:11.403579",
     "exception": false,
     "start_time": "2025-06-20T22:46:11.259507",
     "status": "completed"
    },
    "tags": []
   },
   "outputs": [
    {
     "name": "stdout",
     "output_type": "stream",
     "text": [
      "   Unnamed: 0      country iso_code        date  total_vaccinations  \\\n",
      "0           0  Afghanistan      AFG  2021-05-11            504502.0   \n",
      "1           1  Afghanistan      AFG  2021-05-20            547901.0   \n",
      "2           2  Afghanistan      AFG  2021-05-24            573277.0   \n",
      "3           3  Afghanistan      AFG  2021-05-26            590454.0   \n",
      "4           4  Afghanistan      AFG  2021-05-27            593313.0   \n",
      "\n",
      "   people_vaccinated  people_fully_vaccinated  New_deaths  population  \\\n",
      "0           448878.0                  55624.0          12  40374668.0   \n",
      "1           470341.0                  77560.0          10  40374668.0   \n",
      "2           476367.0                  96910.0          10  40374668.0   \n",
      "3           479372.0                 111082.0          19  40374668.0   \n",
      "4           479574.0                 113739.0          14  40374668.0   \n",
      "\n",
      "      ratio  \n",
      "0  1.111781  \n",
      "1  1.164941  \n",
      "2  1.179866  \n",
      "3  1.187309  \n",
      "4  1.187809  \n",
      "88.4\n"
     ]
    }
   ],
   "source": [
    "import pandas as pd\n",
    "\n",
    "df = pd.read_csv(\"../input/covid-vaccination-vs-death/covid-vaccination-vs-death_ratio.csv\")\n",
    "print(df.head())\n",
    "\n",
    "df2 = df.groupby('country').max() #시간에 따라 접종률이 점점 올라감\n",
    "df2 = df2.sort_values(by='ratio', ascending = False)\n",
    "\n",
    "#100%가 넘는 접종률 제거\n",
    "cond = df2['ratio'] <= 100\n",
    "df2 = df2[cond]\n",
    "\n",
    "top = df2['ratio'].head(10).mean()\n",
    "bottom = df2['ratio'].tail(10).mean()\n",
    "\n",
    "print(round(top - bottom,1))\n",
    "# 결과값은 데이터 업데이트에 따라 달라질 수 있음"
   ]
  },
  {
   "cell_type": "markdown",
   "id": "f57fb74b",
   "metadata": {
    "papermill": {
     "duration": 0.008339,
     "end_time": "2025-06-20T22:46:11.420897",
     "exception": false,
     "start_time": "2025-06-20T22:46:11.412558",
     "status": "completed"
    },
    "tags": []
   },
   "source": [
    "# HINT"
   ]
  },
  {
   "cell_type": "code",
   "execution_count": 3,
   "id": "fedfc95f",
   "metadata": {
    "_cell_guid": "6884c97b-c79c-4385-ad7a-32e595da2b38",
    "_uuid": "c359d250-af16-4996-bbe9-4aa1c6a80c20",
    "collapsed": false,
    "execution": {
     "iopub.execute_input": "2025-06-20T22:46:11.446419Z",
     "iopub.status.busy": "2025-06-20T22:46:11.445661Z",
     "iopub.status.idle": "2025-06-20T22:46:11.559512Z",
     "shell.execute_reply": "2025-06-20T22:46:11.559974Z",
     "shell.execute_reply.started": "2024-11-13T12:44:10.532783Z"
    },
    "jupyter": {
     "outputs_hidden": false
    },
    "papermill": {
     "duration": 0.130519,
     "end_time": "2025-06-20T22:46:11.560193",
     "exception": false,
     "start_time": "2025-06-20T22:46:11.429674",
     "status": "completed"
    },
    "tags": []
   },
   "outputs": [
    {
     "name": "stdout",
     "output_type": "stream",
     "text": [
      "   Unnamed: 0      country iso_code        date  total_vaccinations  \\\n",
      "0           0  Afghanistan      AFG  2021-05-11            504502.0   \n",
      "1           1  Afghanistan      AFG  2021-05-20            547901.0   \n",
      "2           2  Afghanistan      AFG  2021-05-24            573277.0   \n",
      "3           3  Afghanistan      AFG  2021-05-26            590454.0   \n",
      "4           4  Afghanistan      AFG  2021-05-27            593313.0   \n",
      "\n",
      "   people_vaccinated  people_fully_vaccinated  New_deaths  population  \\\n",
      "0           448878.0                  55624.0          12  40374668.0   \n",
      "1           470341.0                  77560.0          10  40374668.0   \n",
      "2           476367.0                  96910.0          10  40374668.0   \n",
      "3           479372.0                 111082.0          19  40374668.0   \n",
      "4           479574.0                 113739.0          14  40374668.0   \n",
      "\n",
      "      ratio  \n",
      "0  1.111781  \n",
      "1  1.164941  \n",
      "2  1.179866  \n",
      "3  1.187309  \n",
      "4  1.187809  \n",
      "88.4\n"
     ]
    }
   ],
   "source": [
    "# 주어진 데이터에서 상위 10개 국가의 접종률 평균과 하위 10개 국가의 접종률 평균을 구하고, 그 차이를 구해보세요 \n",
    "# (단, 100%가 넘는 접종률 제거, 소수 첫째자리까지 출력)\n",
    "\n",
    "# - 데이터셋 : ../input/covid-vaccination-vs-death/covid-vaccination-vs-death_ratio.csv\n",
    "# - 오른쪽 상단 copy&edit 클릭 -> 예상문제 풀이 시작\n",
    "# - File -> Editor Type -> Script\n",
    "\n",
    "\n",
    "import pandas as pd\n",
    "\n",
    "df = pd.read_csv(\"../input/covid-vaccination-vs-death/covid-vaccination-vs-death_ratio.csv\")\n",
    "print(df.head())\n",
    "\n",
    "df2 = df.groupby('country').max() #시간에 따라 접종률이 점점 올라감\n",
    "df2 = df2.sort_values(by='ratio', ascending = False)\n",
    "\n",
    "#100%가 넘는 접종률 제거\n",
    "cond = df2['ratio'] <= 100\n",
    "df2 = df2[cond]\n",
    "\n",
    "top = df2['ratio'].head(10).mean()\n",
    "bottom = df2['ratio'].tail(10).mean()\n",
    "\n",
    "print(round(top - bottom,1)) #88.4\n",
    "# 결과값은 데이터 업데이트에 따라 달라질 수 있음\n",
    "\n",
    "\n",
    "\n",
    "# 이 데이터는 각 나라마다 1개의 데이터가 있는 것이 아니라 50%, 60%, 70% 누적되어 있어요. 따라서 가장 %가 큰 값이 최근 접종률로 판단하였습니다."
   ]
  },
  {
   "cell_type": "code",
   "execution_count": null,
   "id": "dc855417",
   "metadata": {
    "papermill": {
     "duration": 0.00893,
     "end_time": "2025-06-20T22:46:11.578867",
     "exception": false,
     "start_time": "2025-06-20T22:46:11.569937",
     "status": "completed"
    },
    "tags": []
   },
   "outputs": [],
   "source": []
  }
 ],
 "metadata": {
  "kaggle": {
   "accelerator": "none",
   "dataSources": [
    {
     "datasetId": 1632717,
     "sourceId": 3887549,
     "sourceType": "datasetVersion"
    },
    {
     "datasetId": 1633303,
     "sourceId": 12211878,
     "sourceType": "datasetVersion"
    }
   ],
   "dockerImageVersionId": 30138,
   "isGpuEnabled": false,
   "isInternetEnabled": false,
   "language": "python",
   "sourceType": "notebook"
  },
  "kernelspec": {
   "display_name": "Python 3",
   "language": "python",
   "name": "python3"
  },
  "language_info": {
   "codemirror_mode": {
    "name": "ipython",
    "version": 3
   },
   "file_extension": ".py",
   "mimetype": "text/x-python",
   "name": "python",
   "nbconvert_exporter": "python",
   "pygments_lexer": "ipython3",
   "version": "3.7.10"
  },
  "papermill": {
   "default_parameters": {},
   "duration": 11.952793,
   "end_time": "2025-06-20T22:46:12.200137",
   "environment_variables": {},
   "exception": null,
   "input_path": "__notebook__.ipynb",
   "output_path": "__notebook__.ipynb",
   "parameters": {},
   "start_time": "2025-06-20T22:46:00.247344",
   "version": "2.3.3"
  }
 },
 "nbformat": 4,
 "nbformat_minor": 5
}
