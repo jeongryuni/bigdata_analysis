{
 "cells": [
  {
   "cell_type": "markdown",
   "id": "2442714e",
   "metadata": {
    "papermill": {
     "duration": 0.010881,
     "end_time": "2025-06-20T15:49:23.390479",
     "exception": false,
     "start_time": "2025-06-20T15:49:23.379598",
     "status": "completed"
    },
    "tags": []
   },
   "source": [
    "## 조건에 맞는 데이터 표준편차 구하기\n",
    "- 주어진 데이터 중 basic1.csv에서 'f4'컬럼 값이 'ENFJ'와 'INFP'인 'f1'의 표준편차 차이를 절대값으로 구하시오\n",
    "- 데이터셋 : basic1.csv\n",
    "- 오른쪽 상단 copy&edit 클릭 -> 예상문제 풀이 시작"
   ]
  },
  {
   "cell_type": "code",
   "execution_count": 1,
   "id": "3b61a929",
   "metadata": {
    "execution": {
     "iopub.execute_input": "2025-06-20T15:49:23.420067Z",
     "iopub.status.busy": "2025-06-20T15:49:23.419165Z",
     "iopub.status.idle": "2025-06-20T15:49:23.445846Z",
     "shell.execute_reply": "2025-06-20T15:49:23.446364Z",
     "shell.execute_reply.started": "2025-06-20T15:48:28.724069Z"
    },
    "papermill": {
     "duration": 0.046657,
     "end_time": "2025-06-20T15:49:23.446696",
     "exception": false,
     "start_time": "2025-06-20T15:49:23.400039",
     "status": "completed"
    },
    "tags": []
   },
   "outputs": [
    {
     "name": "stdout",
     "output_type": "stream",
     "text": [
      "5.859621525876811\n"
     ]
    }
   ],
   "source": [
    "import numpy as np\n",
    "import pandas as pd\n",
    "\n",
    "df = pd.read_csv('../input/bigdatacertificationkr/basic1.csv')\n",
    "\n",
    "enfj = df[df['f4'] == 'ENFJ']['f1'].std()\n",
    "infp = df[df['f4'] == 'INFP']['f1'].std()\n",
    "\n",
    "\n",
    "print(np.abs(enfj - infp))"
   ]
  },
  {
   "cell_type": "code",
   "execution_count": null,
   "id": "aceba8b8",
   "metadata": {
    "papermill": {
     "duration": 0.009198,
     "end_time": "2025-06-20T15:49:23.465784",
     "exception": false,
     "start_time": "2025-06-20T15:49:23.456586",
     "status": "completed"
    },
    "tags": []
   },
   "outputs": [],
   "source": []
  },
  {
   "cell_type": "code",
   "execution_count": null,
   "id": "4a8b8e9c",
   "metadata": {
    "papermill": {
     "duration": 0.008833,
     "end_time": "2025-06-20T15:49:23.483907",
     "exception": false,
     "start_time": "2025-06-20T15:49:23.475074",
     "status": "completed"
    },
    "tags": []
   },
   "outputs": [],
   "source": []
  },
  {
   "cell_type": "code",
   "execution_count": null,
   "id": "a9ed3700",
   "metadata": {
    "papermill": {
     "duration": 0.009037,
     "end_time": "2025-06-20T15:49:23.502881",
     "exception": false,
     "start_time": "2025-06-20T15:49:23.493844",
     "status": "completed"
    },
    "tags": []
   },
   "outputs": [],
   "source": []
  },
  {
   "cell_type": "code",
   "execution_count": null,
   "id": "f6547590",
   "metadata": {
    "papermill": {
     "duration": 0.009008,
     "end_time": "2025-06-20T15:49:23.521238",
     "exception": false,
     "start_time": "2025-06-20T15:49:23.512230",
     "status": "completed"
    },
    "tags": []
   },
   "outputs": [],
   "source": []
  },
  {
   "cell_type": "code",
   "execution_count": null,
   "id": "272d0e61",
   "metadata": {
    "papermill": {
     "duration": 0.008927,
     "end_time": "2025-06-20T15:49:23.540316",
     "exception": false,
     "start_time": "2025-06-20T15:49:23.531389",
     "status": "completed"
    },
    "tags": []
   },
   "outputs": [],
   "source": []
  },
  {
   "cell_type": "markdown",
   "id": "3629d596",
   "metadata": {
    "papermill": {
     "duration": 0.008989,
     "end_time": "2025-06-20T15:49:23.558764",
     "exception": false,
     "start_time": "2025-06-20T15:49:23.549775",
     "status": "completed"
    },
    "tags": []
   },
   "source": [
    "## Hint\n",
    "- 절대 값 : np.abs()\n",
    "- 표준편차 : DataFrame.std()"
   ]
  },
  {
   "cell_type": "markdown",
   "id": "0227ca1b",
   "metadata": {
    "papermill": {
     "duration": 0.009122,
     "end_time": "2025-06-20T15:49:23.577237",
     "exception": false,
     "start_time": "2025-06-20T15:49:23.568115",
     "status": "completed"
    },
    "tags": []
   },
   "source": [
    "## 풀이"
   ]
  },
  {
   "cell_type": "code",
   "execution_count": 2,
   "id": "3e67cc08",
   "metadata": {
    "_cell_guid": "b1076dfc-b9ad-4769-8c92-a6c4dae69d19",
    "_uuid": "8f2839f25d086af736a60e9eeb907d3b93b6e0e5",
    "execution": {
     "iopub.execute_input": "2025-06-20T15:49:23.601793Z",
     "iopub.status.busy": "2025-06-20T15:49:23.600875Z",
     "iopub.status.idle": "2025-06-20T15:49:23.630270Z",
     "shell.execute_reply": "2025-06-20T15:49:23.629632Z",
     "shell.execute_reply.started": "2024-09-29T16:28:45.578965Z"
    },
    "papermill": {
     "duration": 0.043866,
     "end_time": "2025-06-20T15:49:23.630437",
     "exception": false,
     "start_time": "2025-06-20T15:49:23.586571",
     "status": "completed"
    },
    "tags": []
   },
   "outputs": [
    {
     "data": {
      "text/html": [
       "<div>\n",
       "<style scoped>\n",
       "    .dataframe tbody tr th:only-of-type {\n",
       "        vertical-align: middle;\n",
       "    }\n",
       "\n",
       "    .dataframe tbody tr th {\n",
       "        vertical-align: top;\n",
       "    }\n",
       "\n",
       "    .dataframe thead th {\n",
       "        text-align: right;\n",
       "    }\n",
       "</style>\n",
       "<table border=\"1\" class=\"dataframe\">\n",
       "  <thead>\n",
       "    <tr style=\"text-align: right;\">\n",
       "      <th></th>\n",
       "      <th>id</th>\n",
       "      <th>age</th>\n",
       "      <th>city</th>\n",
       "      <th>f1</th>\n",
       "      <th>f2</th>\n",
       "      <th>f3</th>\n",
       "      <th>f4</th>\n",
       "      <th>f5</th>\n",
       "    </tr>\n",
       "  </thead>\n",
       "  <tbody>\n",
       "    <tr>\n",
       "      <th>0</th>\n",
       "      <td>id01</td>\n",
       "      <td>2.0</td>\n",
       "      <td>서울</td>\n",
       "      <td>NaN</td>\n",
       "      <td>0</td>\n",
       "      <td>NaN</td>\n",
       "      <td>ENFJ</td>\n",
       "      <td>91.297791</td>\n",
       "    </tr>\n",
       "    <tr>\n",
       "      <th>1</th>\n",
       "      <td>id02</td>\n",
       "      <td>9.0</td>\n",
       "      <td>서울</td>\n",
       "      <td>70.0</td>\n",
       "      <td>1</td>\n",
       "      <td>NaN</td>\n",
       "      <td>ENFJ</td>\n",
       "      <td>60.339826</td>\n",
       "    </tr>\n",
       "    <tr>\n",
       "      <th>2</th>\n",
       "      <td>id03</td>\n",
       "      <td>27.0</td>\n",
       "      <td>서울</td>\n",
       "      <td>61.0</td>\n",
       "      <td>1</td>\n",
       "      <td>NaN</td>\n",
       "      <td>ISTJ</td>\n",
       "      <td>17.252986</td>\n",
       "    </tr>\n",
       "    <tr>\n",
       "      <th>3</th>\n",
       "      <td>id04</td>\n",
       "      <td>75.0</td>\n",
       "      <td>서울</td>\n",
       "      <td>NaN</td>\n",
       "      <td>2</td>\n",
       "      <td>NaN</td>\n",
       "      <td>INFP</td>\n",
       "      <td>52.667078</td>\n",
       "    </tr>\n",
       "    <tr>\n",
       "      <th>4</th>\n",
       "      <td>id05</td>\n",
       "      <td>24.0</td>\n",
       "      <td>서울</td>\n",
       "      <td>85.0</td>\n",
       "      <td>2</td>\n",
       "      <td>NaN</td>\n",
       "      <td>ISFJ</td>\n",
       "      <td>29.269869</td>\n",
       "    </tr>\n",
       "  </tbody>\n",
       "</table>\n",
       "</div>"
      ],
      "text/plain": [
       "     id   age city    f1  f2   f3    f4         f5\n",
       "0  id01   2.0   서울   NaN   0  NaN  ENFJ  91.297791\n",
       "1  id02   9.0   서울  70.0   1  NaN  ENFJ  60.339826\n",
       "2  id03  27.0   서울  61.0   1  NaN  ISTJ  17.252986\n",
       "3  id04  75.0   서울   NaN   2  NaN  INFP  52.667078\n",
       "4  id05  24.0   서울  85.0   2  NaN  ISFJ  29.269869"
      ]
     },
     "execution_count": 2,
     "metadata": {},
     "output_type": "execute_result"
    }
   ],
   "source": [
    "# 라이브러리 및 데이터 불러오기\n",
    "import pandas as pd\n",
    "import numpy as np\n",
    "\n",
    "df = pd.read_csv('../input/bigdatacertificationkr/basic1.csv')\n",
    "df.head()"
   ]
  },
  {
   "cell_type": "code",
   "execution_count": 3,
   "id": "26ed4640",
   "metadata": {
    "execution": {
     "iopub.execute_input": "2025-06-20T15:49:23.668367Z",
     "iopub.status.busy": "2025-06-20T15:49:23.667370Z",
     "iopub.status.idle": "2025-06-20T15:49:23.671044Z",
     "shell.execute_reply": "2025-06-20T15:49:23.671759Z",
     "shell.execute_reply.started": "2024-09-29T16:28:45.867565Z"
    },
    "papermill": {
     "duration": 0.028953,
     "end_time": "2025-06-20T15:49:23.671996",
     "exception": false,
     "start_time": "2025-06-20T15:49:23.643043",
     "status": "completed"
    },
    "tags": []
   },
   "outputs": [
    {
     "data": {
      "text/html": [
       "<div>\n",
       "<style scoped>\n",
       "    .dataframe tbody tr th:only-of-type {\n",
       "        vertical-align: middle;\n",
       "    }\n",
       "\n",
       "    .dataframe tbody tr th {\n",
       "        vertical-align: top;\n",
       "    }\n",
       "\n",
       "    .dataframe thead th {\n",
       "        text-align: right;\n",
       "    }\n",
       "</style>\n",
       "<table border=\"1\" class=\"dataframe\">\n",
       "  <thead>\n",
       "    <tr style=\"text-align: right;\">\n",
       "      <th></th>\n",
       "      <th>id</th>\n",
       "      <th>age</th>\n",
       "      <th>city</th>\n",
       "      <th>f1</th>\n",
       "      <th>f2</th>\n",
       "      <th>f3</th>\n",
       "      <th>f4</th>\n",
       "      <th>f5</th>\n",
       "    </tr>\n",
       "  </thead>\n",
       "  <tbody>\n",
       "    <tr>\n",
       "      <th>0</th>\n",
       "      <td>id01</td>\n",
       "      <td>2.0</td>\n",
       "      <td>서울</td>\n",
       "      <td>NaN</td>\n",
       "      <td>0</td>\n",
       "      <td>NaN</td>\n",
       "      <td>ENFJ</td>\n",
       "      <td>91.297791</td>\n",
       "    </tr>\n",
       "    <tr>\n",
       "      <th>1</th>\n",
       "      <td>id02</td>\n",
       "      <td>9.0</td>\n",
       "      <td>서울</td>\n",
       "      <td>70.0</td>\n",
       "      <td>1</td>\n",
       "      <td>NaN</td>\n",
       "      <td>ENFJ</td>\n",
       "      <td>60.339826</td>\n",
       "    </tr>\n",
       "    <tr>\n",
       "      <th>32</th>\n",
       "      <td>id33</td>\n",
       "      <td>47.0</td>\n",
       "      <td>부산</td>\n",
       "      <td>94.0</td>\n",
       "      <td>0</td>\n",
       "      <td>NaN</td>\n",
       "      <td>ENFJ</td>\n",
       "      <td>17.252986</td>\n",
       "    </tr>\n",
       "    <tr>\n",
       "      <th>40</th>\n",
       "      <td>id41</td>\n",
       "      <td>81.0</td>\n",
       "      <td>대구</td>\n",
       "      <td>55.0</td>\n",
       "      <td>0</td>\n",
       "      <td>NaN</td>\n",
       "      <td>ENFJ</td>\n",
       "      <td>37.113739</td>\n",
       "    </tr>\n",
       "    <tr>\n",
       "      <th>44</th>\n",
       "      <td>id45</td>\n",
       "      <td>97.0</td>\n",
       "      <td>대구</td>\n",
       "      <td>88.0</td>\n",
       "      <td>0</td>\n",
       "      <td>NaN</td>\n",
       "      <td>ENFJ</td>\n",
       "      <td>13.049921</td>\n",
       "    </tr>\n",
       "    <tr>\n",
       "      <th>53</th>\n",
       "      <td>id54</td>\n",
       "      <td>53.0</td>\n",
       "      <td>대구</td>\n",
       "      <td>NaN</td>\n",
       "      <td>1</td>\n",
       "      <td>NaN</td>\n",
       "      <td>ENFJ</td>\n",
       "      <td>69.730313</td>\n",
       "    </tr>\n",
       "  </tbody>\n",
       "</table>\n",
       "</div>"
      ],
      "text/plain": [
       "      id   age city    f1  f2   f3    f4         f5\n",
       "0   id01   2.0   서울   NaN   0  NaN  ENFJ  91.297791\n",
       "1   id02   9.0   서울  70.0   1  NaN  ENFJ  60.339826\n",
       "32  id33  47.0   부산  94.0   0  NaN  ENFJ  17.252986\n",
       "40  id41  81.0   대구  55.0   0  NaN  ENFJ  37.113739\n",
       "44  id45  97.0   대구  88.0   0  NaN  ENFJ  13.049921\n",
       "53  id54  53.0   대구   NaN   1  NaN  ENFJ  69.730313"
      ]
     },
     "execution_count": 3,
     "metadata": {},
     "output_type": "execute_result"
    }
   ],
   "source": [
    "# 조건에 맞는 데이터\n",
    "df[df['f4']=='ENFJ']"
   ]
  },
  {
   "cell_type": "code",
   "execution_count": 4,
   "id": "594b323a",
   "metadata": {
    "execution": {
     "iopub.execute_input": "2025-06-20T15:49:23.708907Z",
     "iopub.status.busy": "2025-06-20T15:49:23.708119Z",
     "iopub.status.idle": "2025-06-20T15:49:23.711802Z",
     "shell.execute_reply": "2025-06-20T15:49:23.712259Z",
     "shell.execute_reply.started": "2024-09-29T16:28:46.399541Z"
    },
    "papermill": {
     "duration": 0.022154,
     "end_time": "2025-06-20T15:49:23.712424",
     "exception": false,
     "start_time": "2025-06-20T15:49:23.690270",
     "status": "completed"
    },
    "tags": []
   },
   "outputs": [
    {
     "data": {
      "text/plain": [
       "17.727097901235837"
      ]
     },
     "execution_count": 4,
     "metadata": {},
     "output_type": "execute_result"
    }
   ],
   "source": [
    "df[df['f4']=='ENFJ']['f1'].std()"
   ]
  },
  {
   "cell_type": "code",
   "execution_count": 5,
   "id": "b5c64187",
   "metadata": {
    "execution": {
     "iopub.execute_input": "2025-06-20T15:49:23.740383Z",
     "iopub.status.busy": "2025-06-20T15:49:23.739203Z",
     "iopub.status.idle": "2025-06-20T15:49:23.744089Z",
     "shell.execute_reply": "2025-06-20T15:49:23.743628Z",
     "shell.execute_reply.started": "2024-09-29T16:28:50.177495Z"
    },
    "papermill": {
     "duration": 0.021195,
     "end_time": "2025-06-20T15:49:23.744222",
     "exception": false,
     "start_time": "2025-06-20T15:49:23.723027",
     "status": "completed"
    },
    "tags": []
   },
   "outputs": [
    {
     "data": {
      "text/plain": [
       "17.727097901235837"
      ]
     },
     "execution_count": 5,
     "metadata": {},
     "output_type": "execute_result"
    }
   ],
   "source": [
    "# 조건에 맞는 f1의 표준편차\n",
    "enfj = df[df['f4']=='ENFJ']['f1'].std()\n",
    "enfj"
   ]
  },
  {
   "cell_type": "code",
   "execution_count": 6,
   "id": "28dc8802",
   "metadata": {
    "execution": {
     "iopub.execute_input": "2025-06-20T15:49:23.772999Z",
     "iopub.status.busy": "2025-06-20T15:49:23.772177Z",
     "iopub.status.idle": "2025-06-20T15:49:23.775437Z",
     "shell.execute_reply": "2025-06-20T15:49:23.775882Z",
     "shell.execute_reply.started": "2024-09-29T16:28:50.557728Z"
    },
    "papermill": {
     "duration": 0.020971,
     "end_time": "2025-06-20T15:49:23.776049",
     "exception": false,
     "start_time": "2025-06-20T15:49:23.755078",
     "status": "completed"
    },
    "tags": []
   },
   "outputs": [
    {
     "data": {
      "text/plain": [
       "23.586719427112648"
      ]
     },
     "execution_count": 6,
     "metadata": {},
     "output_type": "execute_result"
    }
   ],
   "source": [
    "# 조건에 맞는 f1의 표준편차\n",
    "infp = df[df['f4']=='INFP']['f1'].std()\n",
    "infp"
   ]
  },
  {
   "cell_type": "code",
   "execution_count": 7,
   "id": "65abd365",
   "metadata": {
    "execution": {
     "iopub.execute_input": "2025-06-20T15:49:23.803291Z",
     "iopub.status.busy": "2025-06-20T15:49:23.802434Z",
     "iopub.status.idle": "2025-06-20T15:49:23.805530Z",
     "shell.execute_reply": "2025-06-20T15:49:23.805998Z",
     "shell.execute_reply.started": "2024-09-29T16:28:51.114014Z"
    },
    "papermill": {
     "duration": 0.019118,
     "end_time": "2025-06-20T15:49:23.806157",
     "exception": false,
     "start_time": "2025-06-20T15:49:23.787039",
     "status": "completed"
    },
    "tags": []
   },
   "outputs": [
    {
     "name": "stdout",
     "output_type": "stream",
     "text": [
      "5.859621525876811\n"
     ]
    }
   ],
   "source": [
    "# 두 표준편차 차이 절대값 출력\n",
    "print(np.abs(enfj - infp))"
   ]
  },
  {
   "cell_type": "code",
   "execution_count": null,
   "id": "a7d8fceb",
   "metadata": {
    "papermill": {
     "duration": 0.011029,
     "end_time": "2025-06-20T15:49:23.829912",
     "exception": false,
     "start_time": "2025-06-20T15:49:23.818883",
     "status": "completed"
    },
    "tags": []
   },
   "outputs": [],
   "source": []
  }
 ],
 "metadata": {
  "kaggle": {
   "accelerator": "none",
   "dataSources": [
    {
     "databundleVersionId": 12753598,
     "datasetId": 1633303,
     "sourceId": 12211878,
     "sourceType": "datasetVersion"
    }
   ],
   "dockerImageVersionId": 30129,
   "isGpuEnabled": false,
   "isInternetEnabled": false,
   "language": "python",
   "sourceType": "notebook"
  },
  "kernelspec": {
   "display_name": "Python 3",
   "language": "python",
   "name": "python3"
  },
  "language_info": {
   "codemirror_mode": {
    "name": "ipython",
    "version": 3
   },
   "file_extension": ".py",
   "mimetype": "text/x-python",
   "name": "python",
   "nbconvert_exporter": "python",
   "pygments_lexer": "ipython3",
   "version": "3.7.10"
  },
  "papermill": {
   "default_parameters": {},
   "duration": 8.551066,
   "end_time": "2025-06-20T15:49:24.350806",
   "environment_variables": {},
   "exception": null,
   "input_path": "__notebook__.ipynb",
   "output_path": "__notebook__.ipynb",
   "parameters": {},
   "start_time": "2025-06-20T15:49:15.799740",
   "version": "2.3.3"
  }
 },
 "nbformat": 4,
 "nbformat_minor": 5
}
