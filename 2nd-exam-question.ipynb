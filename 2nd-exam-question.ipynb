{
 "cells": [
  {
   "cell_type": "markdown",
   "id": "599be751",
   "metadata": {
    "papermill": {
     "duration": 0.002713,
     "end_time": "2025-06-08T19:53:26.772013",
     "exception": false,
     "start_time": "2025-06-08T19:53:26.769300",
     "status": "completed"
    },
    "tags": []
   },
   "source": [
    "# 작업형1"
   ]
  },
  {
   "cell_type": "markdown",
   "id": "50ed90d5",
   "metadata": {
    "papermill": {
     "duration": 0.00209,
     "end_time": "2025-06-08T19:53:26.776461",
     "exception": false,
     "start_time": "2025-06-08T19:53:26.774371",
     "status": "completed"
    },
    "tags": []
   },
   "source": [
    "## 문제1\n",
    "주어진 Dataset에서 'CRIM' 값이 가장 큰 10개의 지역을 구하고 10개 지역의 'CRIM'값을 그 중 가장 작은 값으로 대체한 후, 'AGE'컬럼 값이 80이상인 행의 'CRIM'의 평균값을 구하시오.\n",
    "(단, 출력결과는 정수 형태로 한다)"
   ]
  },
  {
   "cell_type": "code",
   "execution_count": 1,
   "id": "21c4fbe2",
   "metadata": {
    "_cell_guid": "b1076dfc-b9ad-4769-8c92-a6c4dae69d19",
    "_uuid": "8f2839f25d086af736a60e9eeb907d3b93b6e0e5",
    "execution": {
     "iopub.execute_input": "2025-06-08T19:53:26.781957Z",
     "iopub.status.busy": "2025-06-08T19:53:26.781623Z",
     "iopub.status.idle": "2025-06-08T19:53:28.854060Z",
     "shell.execute_reply": "2025-06-08T19:53:28.852954Z"
    },
    "papermill": {
     "duration": 2.077127,
     "end_time": "2025-06-08T19:53:28.855649",
     "exception": false,
     "start_time": "2025-06-08T19:53:26.778522",
     "status": "completed"
    },
    "tags": []
   },
   "outputs": [
    {
     "name": "stdout",
     "output_type": "stream",
     "text": [
      "5\n"
     ]
    }
   ],
   "source": [
    "import pandas as pd\n",
    "import numpy as np\n",
    "import warnings\n",
    "\n",
    "warnings.filterwarnings('ignore')  # 경고 메시지 무시\n",
    "df = pd.read_csv('/kaggle/input/bigdata-csvfile/boston_housing_data.csv')\n",
    "df = df.sort_values(by = 'CRIM', ascending=False).reset_index()\n",
    "\n",
    "# CRIM값이 가장 큰 10개의 지역\n",
    "top = df.head(10)\n",
    "top_crim_min = top['CRIM'].min()\n",
    "# print(top_crim_min)\n",
    "\n",
    "# 상위 10개 값 대체\n",
    "df['CRIM'][:10] = top_crim_min\n",
    "\n",
    "# 'AGE'컬럼값 80이상인 행 평균값\n",
    "cond = df.loc[df['AGE'] >= 80, 'CRIM'].mean()\n",
    "print(cond.astype(int)) # 5"
   ]
  },
  {
   "cell_type": "markdown",
   "id": "374a92a2",
   "metadata": {
    "papermill": {
     "duration": 0.001958,
     "end_time": "2025-06-08T19:53:28.859962",
     "exception": false,
     "start_time": "2025-06-08T19:53:28.858004",
     "status": "completed"
    },
    "tags": []
   },
   "source": [
    "## 문제2"
   ]
  },
  {
   "cell_type": "markdown",
   "id": "97e170d7",
   "metadata": {
    "papermill": {
     "duration": 0.001798,
     "end_time": "2025-06-08T19:53:28.863868",
     "exception": false,
     "start_time": "2025-06-08T19:53:28.862070",
     "status": "completed"
    },
    "tags": []
   },
   "source": [
    "주어진 Dataset에서 첫 번째 행부터 순서대로 80%까지의 데이터를 추출 후, \n",
    "\n",
    "'total_bedrooms'컬럼의 중앙값으로 해당 컬럼의 결측치를 대체하고, \n",
    "\n",
    "'total_bedrooms'컬럼의 대치 전후의 표준편차 차이를 구하시오. \n",
    "\n",
    "(단, 출력값은 반올림하여 소수점 3자리까지 출력된다.)"
   ]
  },
  {
   "cell_type": "code",
   "execution_count": 2,
   "id": "b907e6a2",
   "metadata": {
    "execution": {
     "iopub.execute_input": "2025-06-08T19:53:28.869052Z",
     "iopub.status.busy": "2025-06-08T19:53:28.868747Z",
     "iopub.status.idle": "2025-06-08T19:53:28.922865Z",
     "shell.execute_reply": "2025-06-08T19:53:28.921790Z"
    },
    "papermill": {
     "duration": 0.058493,
     "end_time": "2025-06-08T19:53:28.924393",
     "exception": false,
     "start_time": "2025-06-08T19:53:28.865900",
     "status": "completed"
    },
    "tags": []
   },
   "outputs": [
    {
     "name": "stdout",
     "output_type": "stream",
     "text": [
      "1.975\n"
     ]
    }
   ],
   "source": [
    "import pandas as pd\n",
    "import numpy as np\n",
    "import warnings\n",
    "\n",
    "warnings.filterwarnings('ignore')  # 경고 메시지 무시\n",
    "df = pd.read_csv('/kaggle/input/bigdata-csvfile/california_housing.csv')\n",
    "# print(df.shape[0] * 0.8) #16512\n",
    "df = df.iloc[:16512]\n",
    "\n",
    "# 대치 전 표준편차\n",
    "before = df['total_bedrooms'].std()\n",
    "\n",
    "# 중앙값 결측값 대체\n",
    "median = df['total_bedrooms'].median()\n",
    "df['total_bedrooms'] = df['total_bedrooms'].fillna(median)\n",
    "\n",
    "# 대체 후 표준편차\n",
    "after = df['total_bedrooms'].std()\n",
    "print(round(before - after,3))"
   ]
  },
  {
   "cell_type": "markdown",
   "id": "17c77c48",
   "metadata": {
    "papermill": {
     "duration": 0.002497,
     "end_time": "2025-06-08T19:53:28.929269",
     "exception": false,
     "start_time": "2025-06-08T19:53:28.926772",
     "status": "completed"
    },
    "tags": []
   },
   "source": [
    "## 문제3\n",
    "주어진 데이터의 Population 칼럼의 평균으로부터 1.5 x 표준편차를 벗어나는 영역을 이상치라고 판단하고 이상치들의 합을 구하시오. \n",
    "\n",
    "(단, 출력 결과는 정수 형 태로 하고, 이상치는 '평균-1.5x 표준편차 미만' 또는 '평균+ 1.5 x 포준편차 초 과'로 연산한다.)"
   ]
  },
  {
   "cell_type": "code",
   "execution_count": 3,
   "id": "c50ebe72",
   "metadata": {
    "execution": {
     "iopub.execute_input": "2025-06-08T19:53:28.936097Z",
     "iopub.status.busy": "2025-06-08T19:53:28.935098Z",
     "iopub.status.idle": "2025-06-08T19:53:28.979023Z",
     "shell.execute_reply": "2025-06-08T19:53:28.977952Z"
    },
    "papermill": {
     "duration": 0.049067,
     "end_time": "2025-06-08T19:53:28.980554",
     "exception": false,
     "start_time": "2025-06-08T19:53:28.931487",
     "status": "completed"
    },
    "tags": []
   },
   "outputs": [
    {
     "name": "stdout",
     "output_type": "stream",
     "text": [
      "5607295\n"
     ]
    }
   ],
   "source": [
    "import pandas as pd\n",
    "import numpy as np\n",
    "import warnings\n",
    "\n",
    "warnings.filterwarnings('ignore')  # 경고 메시지 무시\n",
    "df = pd.read_csv('/kaggle/input/bigdata-csvfile/california_housing.csv')\n",
    "\n",
    "mean =  df['population'].mean()\n",
    "std = df['population'].std()\n",
    "\n",
    "outlier =  (df['population'] < mean - (1.5 * std)) | (df['population'] > mean + (1.5 * std))\n",
    "outdata = df[outlier]\n",
    "\n",
    "print(outdata['population'].sum().astype(int))"
   ]
  }
 ],
 "metadata": {
  "kaggle": {
   "accelerator": "none",
   "dataSources": [
    {
     "datasetId": 7611297,
     "sourceId": 12090743,
     "sourceType": "datasetVersion"
    }
   ],
   "dockerImageVersionId": 31040,
   "isGpuEnabled": false,
   "isInternetEnabled": false,
   "language": "python",
   "sourceType": "notebook"
  },
  "kernelspec": {
   "display_name": "Python 3",
   "language": "python",
   "name": "python3"
  },
  "language_info": {
   "codemirror_mode": {
    "name": "ipython",
    "version": 3
   },
   "file_extension": ".py",
   "mimetype": "text/x-python",
   "name": "python",
   "nbconvert_exporter": "python",
   "pygments_lexer": "ipython3",
   "version": "3.11.11"
  },
  "papermill": {
   "default_parameters": {},
   "duration": 7.659269,
   "end_time": "2025-06-08T19:53:29.503064",
   "environment_variables": {},
   "exception": null,
   "input_path": "__notebook__.ipynb",
   "output_path": "__notebook__.ipynb",
   "parameters": {},
   "start_time": "2025-06-08T19:53:21.843795",
   "version": "2.6.0"
  }
 },
 "nbformat": 4,
 "nbformat_minor": 5
}
