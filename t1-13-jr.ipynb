{
 "cells": [
  {
   "cell_type": "markdown",
   "id": "7a317334",
   "metadata": {
    "papermill": {
     "duration": 0.007947,
     "end_time": "2025-06-20T22:49:53.267072",
     "exception": false,
     "start_time": "2025-06-20T22:49:53.259125",
     "status": "completed"
    },
    "tags": []
   },
   "source": [
    "상관관계 구하기\n",
    "\n",
    "\n",
    "주어진 데이터에서 상관관계를 구하고, quality와의 상관관계가 가장 큰 값과, 가장 작은 값을 구한 다음 더하시오!\n",
    "\n",
    "단, quality와 quality 상관관계 제외, 소수점 둘째 자리까지 반올림하여 계산"
   ]
  },
  {
   "cell_type": "code",
   "execution_count": 1,
   "id": "bdc995fa",
   "metadata": {
    "execution": {
     "iopub.execute_input": "2025-06-20T22:49:53.292501Z",
     "iopub.status.busy": "2025-06-20T22:49:53.291743Z",
     "iopub.status.idle": "2025-06-20T22:49:53.333951Z",
     "shell.execute_reply": "2025-06-20T22:49:53.334505Z",
     "shell.execute_reply.started": "2025-06-20T22:49:09.302918Z"
    },
    "papermill": {
     "duration": 0.060243,
     "end_time": "2025-06-20T22:49:53.334969",
     "exception": false,
     "start_time": "2025-06-20T22:49:53.274726",
     "status": "completed"
    },
    "tags": []
   },
   "outputs": [
    {
     "name": "stdout",
     "output_type": "stream",
     "text": [
      "0.49\n"
     ]
    }
   ],
   "source": [
    "import pandas as pd\n",
    "import numpy as np\n",
    "\n",
    "# 데이터 불러오기\n",
    "df = pd.read_csv(\"../input/red-wine-quality-cortez-et-al-2009/winequality-red.csv\")\n",
    "\n",
    "# 주어진 데이터에서 상관관계를 구하고, quality와의 상관관계가 가장 큰 값과, 가장 작은 값을 구한 다음 더하시오!\n",
    "# 단, quality와 quality 상관관계 제외, 소수점 둘째 자리까지 반올림하여 계산\n",
    "\n",
    "corr = df.corr().drop('quality')\n",
    "corr = np.abs(corr)\n",
    "result = (corr['quality'].max() + corr['quality'].min())\n",
    "print(round(result, 2))"
   ]
  },
  {
   "cell_type": "code",
   "execution_count": null,
   "id": "193f29e4",
   "metadata": {
    "papermill": {
     "duration": 0.006717,
     "end_time": "2025-06-20T22:49:53.349177",
     "exception": false,
     "start_time": "2025-06-20T22:49:53.342460",
     "status": "completed"
    },
    "tags": []
   },
   "outputs": [],
   "source": []
  },
  {
   "cell_type": "code",
   "execution_count": 2,
   "id": "1dac2ef3",
   "metadata": {
    "execution": {
     "iopub.execute_input": "2025-06-20T22:49:53.373869Z",
     "iopub.status.busy": "2025-06-20T22:49:53.373058Z",
     "iopub.status.idle": "2025-06-20T22:49:53.387929Z",
     "shell.execute_reply": "2025-06-20T22:49:53.388476Z",
     "shell.execute_reply.started": "2025-05-16T21:54:40.068828Z"
    },
    "papermill": {
     "duration": 0.032392,
     "end_time": "2025-06-20T22:49:53.388686",
     "exception": false,
     "start_time": "2025-06-20T22:49:53.356294",
     "status": "completed"
    },
    "tags": []
   },
   "outputs": [
    {
     "name": "stdout",
     "output_type": "stream",
     "text": [
      "0.49\n"
     ]
    }
   ],
   "source": [
    "import pandas as pd\n",
    "import numpy as np\n",
    "\n",
    "# 데이터 불러오기\n",
    "df = pd.read_csv(\"../input/red-wine-quality-cortez-et-al-2009/winequality-red.csv\")\n",
    "\n",
    "# 주어진 데이터에서 상관관계를 구하고, quality와의 상관관계가 가장 큰 값과, 가장 작은 값을 구한 다음 더하시오!\n",
    "# 단, quality와 quality 상관관계 제외, 소수점 둘째 자리까지 반올림하여 계산\n",
    "\n",
    "# 1. 상관계수 구하기\n",
    "corr = df.corr()\n",
    "\n",
    "# 2. 'quality'와 다른 변수들과의 상관계수만 추출\n",
    "quality_corr = corr['quality'].drop('quality')\n",
    "\n",
    "corr_min = np.abs(quality_corr).min()\n",
    "corr_max = np.abs(quality_corr).max()\n",
    "\n",
    "print(round(corr_min + corr_max, 2))"
   ]
  },
  {
   "cell_type": "code",
   "execution_count": null,
   "id": "51ab07bc",
   "metadata": {
    "papermill": {
     "duration": 0.007156,
     "end_time": "2025-06-20T22:49:53.403593",
     "exception": false,
     "start_time": "2025-06-20T22:49:53.396437",
     "status": "completed"
    },
    "tags": []
   },
   "outputs": [],
   "source": []
  },
  {
   "cell_type": "code",
   "execution_count": null,
   "id": "b0b3ccab",
   "metadata": {
    "papermill": {
     "duration": 0.006882,
     "end_time": "2025-06-20T22:49:53.417783",
     "exception": false,
     "start_time": "2025-06-20T22:49:53.410901",
     "status": "completed"
    },
    "tags": []
   },
   "outputs": [],
   "source": []
  },
  {
   "cell_type": "code",
   "execution_count": null,
   "id": "d84e7209",
   "metadata": {
    "papermill": {
     "duration": 0.006934,
     "end_time": "2025-06-20T22:49:53.431957",
     "exception": false,
     "start_time": "2025-06-20T22:49:53.425023",
     "status": "completed"
    },
    "tags": []
   },
   "outputs": [],
   "source": []
  },
  {
   "cell_type": "markdown",
   "id": "a4d77118",
   "metadata": {
    "papermill": {
     "duration": 0.006934,
     "end_time": "2025-06-20T22:49:53.446303",
     "exception": false,
     "start_time": "2025-06-20T22:49:53.439369",
     "status": "completed"
    },
    "tags": []
   },
   "source": [
    "# HINT"
   ]
  },
  {
   "cell_type": "code",
   "execution_count": 3,
   "id": "9d5503a3",
   "metadata": {
    "_cell_guid": "fc4c7a73-5a8b-4995-8dcd-d76ff100e5ee",
    "_uuid": "350b3aeb-9298-4205-90b7-d7984c40c9d5",
    "collapsed": false,
    "execution": {
     "iopub.execute_input": "2025-06-20T22:49:53.469154Z",
     "iopub.status.busy": "2025-06-20T22:49:53.463999Z",
     "iopub.status.idle": "2025-06-20T22:49:53.492552Z",
     "shell.execute_reply": "2025-06-20T22:49:53.491963Z",
     "shell.execute_reply.started": "2024-10-28T04:32:54.895399Z"
    },
    "jupyter": {
     "outputs_hidden": false
    },
    "papermill": {
     "duration": 0.039012,
     "end_time": "2025-06-20T22:49:53.492720",
     "exception": false,
     "start_time": "2025-06-20T22:49:53.453708",
     "status": "completed"
    },
    "tags": []
   },
   "outputs": [
    {
     "name": "stdout",
     "output_type": "stream",
     "text": [
      "0.49\n"
     ]
    }
   ],
   "source": [
    "# 상관관계 구하기\n",
    "# 주어진 데이터에서 상관관계를 구하고, quality와의 상관관계가 가장 큰 값과, 가장 작은 값을 구한 다음 더하시오!\n",
    "# 단, quality와 quality 상관관계 제외, 소수점 둘째 자리까지 반올림하여 계산\n",
    "\n",
    "# - 데이터셋 : ../input/red-wine-quality-cortez-et-al-2009/winequality-red.csv\n",
    "# - 오른쪽 상단 copy&edit 클릭 -> 예상문제 풀이 시작\n",
    "# - 스크립트 방식 권장: File -> Editor Type -> Script\n",
    "\n",
    "import pandas as pd\n",
    "import numpy as np\n",
    "\n",
    "# 데이터 불러오기\n",
    "df = pd.read_csv(\"../input/red-wine-quality-cortez-et-al-2009/winequality-red.csv\")\n",
    "#print(df.head())\n",
    "\n",
    "# 상관관계 구하기 \n",
    "df_corr = df.corr()\n",
    "df_corr = df_corr[:-1] # quailiy-quailiy 상관관계 제거\n",
    "# print(df_corr['quality'])\n",
    "\n",
    "################# 풀이 수정 2022.6.21 ###################\n",
    "# @b0ngb0ng 님 코드 반영\n",
    "\n",
    "# 상관관계가 가장 큰 값과 가장 작은 값 (절대값으로 확인)\n",
    "max_corr=abs(df.corr()['quality'][:-1]).max()  #0.47\n",
    "min_corr=abs(df.corr()['quality'][:-1]).min()   #0.013\n",
    "\n",
    "if max_corr not in df.corr()[['quality']][:-1].values:\n",
    "    max_corr=-max_corr\n",
    "if min_corr not in df.corr()[['quality']][:-1].values:\n",
    "    min_corr=-min_corr\n",
    "    \n",
    "# 결과 출력\n",
    "ans=round(max_corr+min_corr,2)\n",
    "print(ans) \n",
    "# 0.49"
   ]
  },
  {
   "cell_type": "code",
   "execution_count": null,
   "id": "6cb7d36e",
   "metadata": {
    "papermill": {
     "duration": 0.007307,
     "end_time": "2025-06-20T22:49:53.507734",
     "exception": false,
     "start_time": "2025-06-20T22:49:53.500427",
     "status": "completed"
    },
    "tags": []
   },
   "outputs": [],
   "source": []
  }
 ],
 "metadata": {
  "kaggle": {
   "accelerator": "none",
   "dataSources": [
    {
     "databundleVersionId": 12753598,
     "datasetId": 1633303,
     "sourceId": 12211878,
     "sourceType": "datasetVersion"
    },
    {
     "databundleVersionId": 8204,
     "datasetId": 4458,
     "sourceId": 8204,
     "sourceType": "datasetVersion"
    }
   ],
   "dockerImageVersionId": 30145,
   "isGpuEnabled": false,
   "isInternetEnabled": false,
   "language": "python",
   "sourceType": "notebook"
  },
  "kernelspec": {
   "display_name": "Python 3",
   "language": "python",
   "name": "python3"
  },
  "language_info": {
   "codemirror_mode": {
    "name": "ipython",
    "version": 3
   },
   "file_extension": ".py",
   "mimetype": "text/x-python",
   "name": "python",
   "nbconvert_exporter": "python",
   "pygments_lexer": "ipython3",
   "version": "3.7.10"
  },
  "papermill": {
   "default_parameters": {},
   "duration": 10.540769,
   "end_time": "2025-06-20T22:49:54.129783",
   "environment_variables": {},
   "exception": null,
   "input_path": "__notebook__.ipynb",
   "output_path": "__notebook__.ipynb",
   "parameters": {},
   "start_time": "2025-06-20T22:49:43.589014",
   "version": "2.3.3"
  }
 },
 "nbformat": 4,
 "nbformat_minor": 5
}
