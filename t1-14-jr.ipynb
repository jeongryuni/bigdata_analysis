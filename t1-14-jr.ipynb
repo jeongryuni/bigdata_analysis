{
 "cells": [
  {
   "cell_type": "markdown",
   "id": "257db98c",
   "metadata": {
    "papermill": {
     "duration": 0.007683,
     "end_time": "2025-06-20T22:55:39.499363",
     "exception": false,
     "start_time": "2025-06-20T22:55:39.491680",
     "status": "completed"
    },
    "tags": []
   },
   "source": [
    "city와 f4를 기준으로 f5의 평균값을 구한 다음, f5를 기준으로 상위 7개 값을 모두 더해 출력하시오 (소수점 둘째자리까지 출력)"
   ]
  },
  {
   "cell_type": "code",
   "execution_count": 1,
   "id": "e835d953",
   "metadata": {
    "execution": {
     "iopub.execute_input": "2025-06-20T22:55:39.523872Z",
     "iopub.status.busy": "2025-06-20T22:55:39.520551Z",
     "iopub.status.idle": "2025-06-20T22:55:39.558689Z",
     "shell.execute_reply": "2025-06-20T22:55:39.559222Z",
     "shell.execute_reply.started": "2025-06-20T22:54:43.162858Z"
    },
    "papermill": {
     "duration": 0.052882,
     "end_time": "2025-06-20T22:55:39.559510",
     "exception": false,
     "start_time": "2025-06-20T22:55:39.506628",
     "status": "completed"
    },
    "tags": []
   },
   "outputs": [
    {
     "name": "stdout",
     "output_type": "stream",
     "text": [
      "643.68\n"
     ]
    }
   ],
   "source": [
    "import numpy as np\n",
    "import pandas as pd\n",
    "\n",
    "df = pd.read_csv(\"../input/bigdatacertificationkr/basic1.csv\")\n",
    "df = df.groupby(['city', 'f4'])['f5'].mean().reset_index().sort_values(by = 'f5', ascending = False).head(7)\n",
    "\n",
    "print(round(df['f5'].sum(), 2))"
   ]
  },
  {
   "cell_type": "code",
   "execution_count": null,
   "id": "d7b6ef5b",
   "metadata": {
    "papermill": {
     "duration": 0.005823,
     "end_time": "2025-06-20T22:55:39.571846",
     "exception": false,
     "start_time": "2025-06-20T22:55:39.566023",
     "status": "completed"
    },
    "tags": []
   },
   "outputs": [],
   "source": []
  },
  {
   "cell_type": "code",
   "execution_count": null,
   "id": "096a4668",
   "metadata": {
    "papermill": {
     "duration": 0.005759,
     "end_time": "2025-06-20T22:55:39.583597",
     "exception": false,
     "start_time": "2025-06-20T22:55:39.577838",
     "status": "completed"
    },
    "tags": []
   },
   "outputs": [],
   "source": []
  },
  {
   "cell_type": "code",
   "execution_count": 2,
   "id": "67525505",
   "metadata": {
    "execution": {
     "iopub.execute_input": "2025-06-20T22:55:39.605074Z",
     "iopub.status.busy": "2025-06-20T22:55:39.604068Z",
     "iopub.status.idle": "2025-06-20T22:55:39.614205Z",
     "shell.execute_reply": "2025-06-20T22:55:39.614680Z",
     "shell.execute_reply.started": "2025-06-20T22:54:35.506714Z"
    },
    "papermill": {
     "duration": 0.022871,
     "end_time": "2025-06-20T22:55:39.614865",
     "exception": false,
     "start_time": "2025-06-20T22:55:39.591994",
     "status": "completed"
    },
    "tags": []
   },
   "outputs": [
    {
     "name": "stdout",
     "output_type": "stream",
     "text": [
      "643.68\n"
     ]
    }
   ],
   "source": [
    "# city와 f4를 기준으로 f5의 평균값을 구한 다음, \n",
    "# f5를 기준으로 상위 7개 값을 모두 더해 출력하시오 (소수점 둘째자리까지 출력)\n",
    "import numpy as np\n",
    "import pandas as pd\n",
    "\n",
    "df = pd.read_csv(\"../input/bigdatacertificationkr/basic1.csv\")\n",
    "\n",
    "df2 = df.groupby(['city', 'f4'])['f5'].mean().reset_index()\n",
    "df2 = df2.sort_values(by = 'f5', ascending=False)\n",
    "\n",
    "print(round(df2['f5'][:7].sum(), 2))\n",
    "\n"
   ]
  },
  {
   "cell_type": "code",
   "execution_count": null,
   "id": "33c0085b",
   "metadata": {
    "papermill": {
     "duration": 0.00639,
     "end_time": "2025-06-20T22:55:39.628259",
     "exception": false,
     "start_time": "2025-06-20T22:55:39.621869",
     "status": "completed"
    },
    "tags": []
   },
   "outputs": [],
   "source": []
  },
  {
   "cell_type": "code",
   "execution_count": null,
   "id": "f2fe9162",
   "metadata": {
    "papermill": {
     "duration": 0.006144,
     "end_time": "2025-06-20T22:55:39.641061",
     "exception": false,
     "start_time": "2025-06-20T22:55:39.634917",
     "status": "completed"
    },
    "tags": []
   },
   "outputs": [],
   "source": []
  },
  {
   "cell_type": "code",
   "execution_count": null,
   "id": "7a255376",
   "metadata": {
    "papermill": {
     "duration": 0.006093,
     "end_time": "2025-06-20T22:55:39.653562",
     "exception": false,
     "start_time": "2025-06-20T22:55:39.647469",
     "status": "completed"
    },
    "tags": []
   },
   "outputs": [],
   "source": []
  },
  {
   "cell_type": "code",
   "execution_count": 3,
   "id": "54b87257",
   "metadata": {
    "_cell_guid": "8749c78e-32a4-4068-b124-1fb8500b6d90",
    "_uuid": "005df716-cbcc-4e2d-b232-de97134e3626",
    "collapsed": false,
    "execution": {
     "iopub.execute_input": "2025-06-20T22:55:39.673064Z",
     "iopub.status.busy": "2025-06-20T22:55:39.672350Z",
     "iopub.status.idle": "2025-06-20T22:55:39.695611Z",
     "shell.execute_reply": "2025-06-20T22:55:39.696123Z"
    },
    "jupyter": {
     "outputs_hidden": false
    },
    "papermill": {
     "duration": 0.03588,
     "end_time": "2025-06-20T22:55:39.696306",
     "exception": false,
     "start_time": "2025-06-20T22:55:39.660426",
     "status": "completed"
    },
    "tags": []
   },
   "outputs": [
    {
     "name": "stdout",
     "output_type": "stream",
     "text": [
      "                  f5\n",
      "city f4             \n",
      "경기   ENTJ  51.693799\n",
      "     ENTP  54.704075\n",
      "     ESFJ  97.381034\n",
      "     ESFP  53.187491\n",
      "     ESTJ  79.487043\n",
      "     ESTP  34.022130\n",
      "     INFJ  80.138280\n",
      "     INFP  90.531801\n",
      "     INTJ  80.388795\n",
      "     INTP  55.887974\n",
      "     ISFJ  64.468233\n",
      "     ISFP  69.108148\n",
      "     ISTP  48.431184\n",
      "대구   ENFJ  39.964658\n",
      "     ENFP  32.574085\n",
      "     ENTP  13.049921\n",
      "     ESFJ  20.129444\n",
      "     ESTJ  77.323257\n",
      "     ESTP  28.915814\n",
      "     INTP  26.698797\n",
      "     ISFJ  59.883434\n",
      "     ISTJ  83.685380\n",
      "     ISTP  29.269869\n",
      "부산   ENFJ  17.252986\n",
      "     ENFP  68.176229\n",
      "     ENTP  74.012327\n",
      "     ESFJ  73.586397\n",
      "     ESTJ  25.280992\n",
      "     ESTP  62.730150\n",
      "     INFJ  53.447698\n",
      "     INFP  48.431184\n",
      "     INTP  13.049921\n",
      "     ISFJ  13.049921\n",
      "     ISFP  29.269869\n",
      "     ISTP  69.730313\n",
      "서울   ENFJ  75.818808\n",
      "     ENFP  98.429899\n",
      "     ENTJ  67.886373\n",
      "     ENTP   9.796378\n",
      "     ESFJ  50.469183\n",
      "     ESFP  16.283854\n",
      "     ESTP  91.297791\n",
      "     INFJ  83.685380\n",
      "     INFP  52.667078\n",
      "     INTJ  91.297791\n",
      "     INTP  20.129444\n",
      "     ISFJ  39.734842\n",
      "     ISFP  91.057640\n",
      "     ISTJ  17.252986\n",
      "     ISTP  67.886373\n",
      "   city    f4         f5\n",
      "36   서울  ENFP  98.429899\n",
      "2    경기  ESFJ  97.381034\n",
      "44   서울  INTJ  91.297791\n",
      "41   서울  ESTP  91.297791\n",
      "47   서울  ISFP  91.057640\n",
      "7    경기  INFP  90.531801\n",
      "42   서울  INFJ  83.685380\n"
     ]
    },
    {
     "data": {
      "text/plain": [
       "643.68"
      ]
     },
     "execution_count": 3,
     "metadata": {},
     "output_type": "execute_result"
    }
   ],
   "source": [
    "# city와 f4를 기준으로 f5의 평균값을 구한 다음, f5를 기준으로 상위 7개 값을 모두 더해 출력하시오 (소수점 둘째자리까지 출력)\n",
    "# - 데이터셋 : basic1.csv \n",
    "# - 오른쪽 상단 copy&edit 클릭 -> 예상문제 풀이 시작\n",
    "# - File -> Editor Type -> Script\n",
    "\n",
    "\n",
    "import pandas as pd\n",
    "\n",
    "df = pd.read_csv(\"../input/bigdatacertificationkr/basic1.csv\")\n",
    "df.head()\n",
    "\n",
    "# city와 f4별 f5의 평균 값 (멀티인덱스 출력)\n",
    "df = df.groupby(['city', 'f4'])[['f5']].mean()\n",
    "print(df)\n",
    "\n",
    "# dataframe 전환 후 상위 7개 출력\n",
    "df = df.reset_index().sort_values('f5', ascending=False).head(7)\n",
    "print(df)\n",
    "\n",
    "# f7의 합계 (소수점 둘째자리까지)\n",
    "round(df['f5'].sum(), 2)\n",
    "\n",
    "#결과값 : 643.68"
   ]
  }
 ],
 "metadata": {
  "kaggle": {
   "accelerator": "none",
   "dataSources": [
    {
     "databundleVersionId": 12753598,
     "datasetId": 1633303,
     "sourceId": 12211878,
     "sourceType": "datasetVersion"
    }
   ],
   "dockerImageVersionId": 30145,
   "isGpuEnabled": false,
   "isInternetEnabled": false,
   "language": "python",
   "sourceType": "notebook"
  },
  "kernelspec": {
   "display_name": "Python 3",
   "language": "python",
   "name": "python3"
  },
  "language_info": {
   "codemirror_mode": {
    "name": "ipython",
    "version": 3
   },
   "file_extension": ".py",
   "mimetype": "text/x-python",
   "name": "python",
   "nbconvert_exporter": "python",
   "pygments_lexer": "ipython3",
   "version": "3.7.10"
  },
  "papermill": {
   "default_parameters": {},
   "duration": 9.049958,
   "end_time": "2025-06-20T22:55:40.212363",
   "environment_variables": {},
   "exception": null,
   "input_path": "__notebook__.ipynb",
   "output_path": "__notebook__.ipynb",
   "parameters": {},
   "start_time": "2025-06-20T22:55:31.162405",
   "version": "2.3.3"
  }
 },
 "nbformat": 4,
 "nbformat_minor": 5
}
