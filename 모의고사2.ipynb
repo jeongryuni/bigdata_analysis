{
 "cells": [
  {
   "cell_type": "markdown",
   "id": "a2b0633b",
   "metadata": {
    "papermill": {
     "duration": 0.003936,
     "end_time": "2025-06-08T18:16:04.684504",
     "exception": false,
     "start_time": "2025-06-08T18:16:04.680568",
     "status": "completed"
    },
    "tags": []
   },
   "source": [
    "# 작업형1"
   ]
  },
  {
   "cell_type": "markdown",
   "id": "36ca1efa",
   "metadata": {
    "papermill": {
     "duration": 0.00289,
     "end_time": "2025-06-08T18:16:04.690993",
     "exception": false,
     "start_time": "2025-06-08T18:16:04.688103",
     "status": "completed"
    },
    "tags": []
   },
   "source": [
    "## 문제1\n",
    "\n",
    "주어진 코로나19 데이터를 활용하여 코로나19 사망자가 가장 많이 발생한 나라 의 수치와 사망자가 5번째로 적게 발생한 나라의 수치의 차이를 출력하시오. (단, 중복값은 고려하지 않으며, 특수 문자('-')가 포함된 데이터의 값은 0으로 대체 한다.)"
   ]
  },
  {
   "cell_type": "code",
   "execution_count": 1,
   "id": "0a6572f3",
   "metadata": {
    "_cell_guid": "b1076dfc-b9ad-4769-8c92-a6c4dae69d19",
    "_uuid": "8f2839f25d086af736a60e9eeb907d3b93b6e0e5",
    "execution": {
     "iopub.execute_input": "2025-06-08T18:16:04.698595Z",
     "iopub.status.busy": "2025-06-08T18:16:04.698260Z",
     "iopub.status.idle": "2025-06-08T18:16:06.728324Z",
     "shell.execute_reply": "2025-06-08T18:16:06.727256Z"
    },
    "papermill": {
     "duration": 2.035946,
     "end_time": "2025-06-08T18:16:06.730088",
     "exception": false,
     "start_time": "2025-06-08T18:16:04.694142",
     "status": "completed"
    },
    "tags": []
   },
   "outputs": [
    {
     "name": "stdout",
     "output_type": "stream",
     "text": [
      "1110232\n"
     ]
    }
   ],
   "source": [
    "import numpy as np\n",
    "import pandas as pd \n",
    "\n",
    "df = pd.read_csv('/kaggle/input/bigdata-csvfile/covid_death_bycountry.csv')\n",
    "\n",
    "df['Deaths'] = df['Deaths'].replace('—', 0)\n",
    "df['Deaths'] = df['Deaths'].astype(int)\n",
    "\n",
    "df = df.sort_values(by='Deaths', ascending = False)\n",
    "print(df['Deaths'].iloc[0] - df['Deaths'].iloc[-5])\n",
    "# 가장 많은 사망자 나라 수치 - 5번째로 적게 발생한 나라의 수치"
   ]
  },
  {
   "cell_type": "markdown",
   "id": "a6e7bbfc",
   "metadata": {
    "papermill": {
     "duration": 0.003068,
     "end_time": "2025-06-08T18:16:06.739889",
     "exception": false,
     "start_time": "2025-06-08T18:16:06.736821",
     "status": "completed"
    },
    "tags": []
   },
   "source": [
    "## 문제2"
   ]
  },
  {
   "cell_type": "markdown",
   "id": "ae5cf1b6",
   "metadata": {
    "papermill": {
     "duration": 0.003153,
     "end_time": "2025-06-08T18:16:06.746237",
     "exception": false,
     "start_time": "2025-06-08T18:16:06.743084",
     "status": "completed"
    },
    "tags": []
   },
   "source": [
    "다음은 2000년부터 2022년까지 국내의 지역별 출생률, 사망률, 이혼율, 혼인율,\n",
    "자연 성장률에 대한 데이터이다. \n",
    "\n",
    "2008년 7월 1일 데이터 중 출생률이 가장 높은 지역의 이름을 출력하시오. (단, 결측값이 포함된 경우 결측값은 해당 칼럼의 중 앙값으로 대체한다.)"
   ]
  },
  {
   "cell_type": "code",
   "execution_count": 2,
   "id": "f3122124",
   "metadata": {
    "execution": {
     "iopub.execute_input": "2025-06-08T18:16:06.754220Z",
     "iopub.status.busy": "2025-06-08T18:16:06.753880Z",
     "iopub.status.idle": "2025-06-08T18:16:06.796520Z",
     "shell.execute_reply": "2025-06-08T18:16:06.795384Z"
    },
    "papermill": {
     "duration": 0.048783,
     "end_time": "2025-06-08T18:16:06.798055",
     "exception": false,
     "start_time": "2025-06-08T18:16:06.749272",
     "status": "completed"
    },
    "tags": []
   },
   "outputs": [
    {
     "name": "stdout",
     "output_type": "stream",
     "text": [
      "Gyeonggi-do\n"
     ]
    }
   ],
   "source": [
    "import numpy as np\n",
    "import pandas as pd \n",
    "\n",
    "df = pd.read_csv('/kaggle/input/bigdata-csvfile/Korean_demographics_2000-2022.csv')\n",
    "df['Date'] = pd.to_datetime(df['Date'])\n",
    "df['Year'] = df['Date'].dt.year\n",
    "df['Month'] = df['Date'].dt.month\n",
    "df['Day'] = df['Date'].dt.day\n",
    "\n",
    "df['Birth_reate'] = df['Birth_rate'].fillna(df['Birth_rate'].median())\n",
    "cond = df.loc[(df['Year']==2008) & (df['Month'] == 7) & (df['Day'] == 1)]\n",
    "df = cond.sort_values(by = 'Birth_rate', ascending=False)\n",
    "print(df['Region'].iloc[0]) # Gyeonggi-do"
   ]
  },
  {
   "cell_type": "markdown",
   "id": "95e5e0ec",
   "metadata": {
    "papermill": {
     "duration": 0.002873,
     "end_time": "2025-06-08T18:16:06.804270",
     "exception": false,
     "start_time": "2025-06-08T18:16:06.801397",
     "status": "completed"
    },
    "tags": []
   },
   "source": [
    "## 문제3\n",
    "\n",
    "주어진 수면 데이터에서 수면시간(Sleep Duration) 칼럼과 가장 높게 상관계수를 갖는 변수의 최빈값을 출력하시오.\n",
    "(단, Blood Pressure 컬럼과 Sleep Disorder 컬럼은 분석에서 제외한다.)"
   ]
  },
  {
   "cell_type": "code",
   "execution_count": 3,
   "id": "09ac7ad6",
   "metadata": {
    "execution": {
     "iopub.execute_input": "2025-06-08T18:16:06.812277Z",
     "iopub.status.busy": "2025-06-08T18:16:06.811216Z",
     "iopub.status.idle": "2025-06-08T18:16:06.836056Z",
     "shell.execute_reply": "2025-06-08T18:16:06.834920Z"
    },
    "papermill": {
     "duration": 0.030163,
     "end_time": "2025-06-08T18:16:06.837474",
     "exception": false,
     "start_time": "2025-06-08T18:16:06.807311",
     "status": "completed"
    },
    "tags": []
   },
   "outputs": [
    {
     "name": "stdout",
     "output_type": "stream",
     "text": [
      "Quality of Sleep\n",
      "8\n"
     ]
    }
   ],
   "source": [
    "import numpy as np\n",
    "import pandas as pd \n",
    "\n",
    "df = pd.read_csv('/kaggle/input/bigdata-csvfile/Sleep_health_and_lifestyle_dataset.csv')\n",
    "\n",
    "# 필요없는 컬럼 제거\n",
    "df = df.drop(columns = ['Gender','Blood Pressure', 'Sleep Disorder', 'Age', 'Occupation', 'BMI Category'])\n",
    "corr = df.corr()\n",
    "\n",
    "# 상관계수 출력\n",
    "corr_sleep = (corr['Sleep Duration'].drop('Sleep Duration')).sort_values(ascending=False)\n",
    "print((np.abs(corr_sleep)).idxmax())  #Quality of Sleep : 0.8832130004106182 \n",
    "\n",
    "# Quality of Sleep의 최빈값\n",
    "Quality_of_Sleep_mode = df['Quality of Sleep'].mode()[0]\n",
    "print(Quality_of_Sleep_mode) #최빈값 : 8\n"
   ]
  },
  {
   "cell_type": "markdown",
   "id": "ae763774",
   "metadata": {
    "papermill": {
     "duration": 0.002987,
     "end_time": "2025-06-08T18:16:06.843984",
     "exception": false,
     "start_time": "2025-06-08T18:16:06.840997",
     "status": "completed"
    },
    "tags": []
   },
   "source": [
    "# 작업형2"
   ]
  },
  {
   "cell_type": "markdown",
   "id": "b7acec99",
   "metadata": {
    "papermill": {
     "duration": 0.002938,
     "end_time": "2025-06-08T18:16:06.850030",
     "exception": false,
     "start_time": "2025-06-08T18:16:06.847092",
     "status": "completed"
    },
    "tags": []
   },
   "source": [
    "1. 전체 데이터 목록 4,000행 중 3,800을 학습용 데이터로 사용하고, 나머지를 테스트 데이터로 사용할 수 있도록 데이터를 슬라이싱한다.\n",
    "2. 학습용 데이터를 활용하여 예측 모델을 모델링하고, 테스트 데이터를 적용하여 목표 변수를(price) 예측하고, 예측 결과를 제출한다. (단, 제출 결과는 테스트 데이터의 개수인 209행이 될 수 있도록 한다.)\n",
    "3. 모델 평가지표는 RMSE로 한다.\n",
    "4. 모델 예측 결과는 price 칼럼을 갖고, 예측 결과를 나타내며, index는 표시하지 않 는다.\n",
    "5. 모델 예측 결과 파일명은 다음과 같이 하여 제출한다. (파일명 : result.csv)"
   ]
  },
  {
   "cell_type": "code",
   "execution_count": 4,
   "id": "7eba0774",
   "metadata": {
    "execution": {
     "iopub.execute_input": "2025-06-08T18:16:06.857604Z",
     "iopub.status.busy": "2025-06-08T18:16:06.857284Z",
     "iopub.status.idle": "2025-06-08T18:16:46.202140Z",
     "shell.execute_reply": "2025-06-08T18:16:46.200961Z"
    },
    "papermill": {
     "duration": 39.353978,
     "end_time": "2025-06-08T18:16:46.207064",
     "exception": false,
     "start_time": "2025-06-08T18:16:06.853086",
     "status": "completed"
    },
    "tags": []
   },
   "outputs": [
    {
     "name": "stdout",
     "output_type": "stream",
     "text": [
      "           pred\n",
      "0     71041.810\n",
      "1     19205.025\n",
      "2     14877.500\n",
      "3     46347.150\n",
      "4     23399.600\n",
      "..          ...\n",
      "204  224518.200\n",
      "205   65704.320\n",
      "206  162349.260\n",
      "207   51974.870\n",
      "208   44375.190\n",
      "\n",
      "[209 rows x 1 columns]\n"
     ]
    }
   ],
   "source": [
    "import pandas as pd\n",
    "import numpy as np\n",
    "\n",
    "df = pd.read_csv('/kaggle/input/bigdata-csvfile/used_cars_price_data.csv')\n",
    "df['price'] = df['price'].str.replace('$','')\n",
    "df['price'] = df['price'].str.replace(',','')\n",
    "df['price'] = df['price'].astype(int)\n",
    "\n",
    "\n",
    "train = df.iloc[:3800]\n",
    "test = df.iloc[3800:]\n",
    "y = train['price']\n",
    "\n",
    "train_drop = train.drop(columns='price')\n",
    "test_drop = test.drop(columns='price')\n",
    "\n",
    "# 인코딩\n",
    "train_dummies = pd.get_dummies(train_drop)\n",
    "test_dummies = pd.get_dummies(test_drop)\n",
    "\n",
    "for col in train_dummies.columns:\n",
    "    if col not in test_dummies.columns:\n",
    "        train_dummies.drop(columns=col, axis=1, inplace=True)\n",
    "\n",
    "for col in test_dummies.columns:\n",
    "    if col not in train_dummies.columns:\n",
    "        test_dummies.drop(columns=col, axis=1, inplace=True)\n",
    "\n",
    "from sklearn.ensemble import RandomForestRegressor\n",
    "model = RandomForestRegressor()\n",
    "model.fit(train_dummies, y)\n",
    "pred = model.predict(test_dummies)\n",
    "\n",
    "# DataFrame생성\n",
    "result = pd.DataFrame({'pred':pred})\n",
    "# csv파일 생성\n",
    "result.to_csv('result.csv', index=False)\n",
    "result_csv = pd.read_csv('result.csv')\n",
    "print(result_csv)"
   ]
  },
  {
   "cell_type": "markdown",
   "id": "e714fdb4",
   "metadata": {
    "papermill": {
     "duration": 0.003308,
     "end_time": "2025-06-08T18:16:46.213876",
     "exception": false,
     "start_time": "2025-06-08T18:16:46.210568",
     "status": "completed"
    },
    "tags": []
   },
   "source": [
    "# 작업형 3"
   ]
  },
  {
   "cell_type": "markdown",
   "id": "201ed119",
   "metadata": {
    "papermill": {
     "duration": 0.003098,
     "end_time": "2025-06-08T18:16:46.220339",
     "exception": false,
     "start_time": "2025-06-08T18:16:46.217241",
     "status": "completed"
    },
    "tags": []
   },
   "source": [
    "## 문제1\n",
    "제공되는 심혈관 질한데이터를 활용하여 심혈관 질환 발생 여부(cardio)를 예측 하고자 한다.\n",
    "각 문항의 답을 제출 형식에 맞게 제출하시오\n",
    "\n",
    "1. alco, cardio 변수 간의 독립성 검정을 실시할 때, 카이제곱 통계량을 구하시오.\n",
    "2. gender, weight, smoke, cholesterol을 독립변수로 사용하여 로지스틱 회귀 모형 으로 분석할 때, smoke 변수의 계수 값을 구하시오.\n",
    "3. 2번 문제에서 생성한 로지스틱 회귀 모형에서 gender 변수가 한 단위 증가할 때 심 혈관 질환이 발생할 오즈비의 값을 구하시오. (단, 모든 문제의 정답은 반올림하여 소수점 넷째 자리까지 출력한다.)"
   ]
  },
  {
   "cell_type": "markdown",
   "id": "9939015d",
   "metadata": {
    "papermill": {
     "duration": 0.003092,
     "end_time": "2025-06-08T18:16:46.226664",
     "exception": false,
     "start_time": "2025-06-08T18:16:46.223572",
     "status": "completed"
    },
    "tags": []
   },
   "source": [
    "- id : 측정자 id\n",
    "- age : 나이\n",
    "- gender : 성별\n",
    "- height : 키\n",
    "- ap_hi : 수축 혈압\n",
    "- ap_lo : 이완 혈압\n",
    "- cholestrol : 콜레스테롤 (1:평균, 2:높음, 3:매우 높음)\n",
    "- glue : 포도당 (1:평균, 2:높음, 3:매우 높음)\n",
    "- smoke : 흡연여부\n",
    "- alco : 음주여부\n",
    "- active : 신체 활동\n",
    "- cardio : 심혈관 질환 여부 (목표변수)"
   ]
  },
  {
   "cell_type": "code",
   "execution_count": 5,
   "id": "aea660c6",
   "metadata": {
    "execution": {
     "iopub.execute_input": "2025-06-08T18:16:46.234947Z",
     "iopub.status.busy": "2025-06-08T18:16:46.234134Z",
     "iopub.status.idle": "2025-06-08T18:16:47.224128Z",
     "shell.execute_reply": "2025-06-08T18:16:47.223322Z"
    },
    "papermill": {
     "duration": 0.996093,
     "end_time": "2025-06-08T18:16:47.225891",
     "exception": false,
     "start_time": "2025-06-08T18:16:46.229798",
     "status": "completed"
    },
    "tags": []
   },
   "outputs": [
    {
     "name": "stdout",
     "output_type": "stream",
     "text": [
      "3.6965\n",
      "Optimization terminated successfully.\n",
      "         Current function value: 0.654936\n",
      "         Iterations 5\n",
      "-0.2174\n",
      "1.0002\n"
     ]
    }
   ],
   "source": [
    "import pandas as pd\n",
    "import numpy as np\n",
    "\n",
    "df = pd.read_csv('/kaggle/input/bigdata-csvfile/cardiovascular_heart_disease_data.csv')\n",
    "\n",
    "contingency = pd.crosstab(df['alco'], df['cardio'])\n",
    "# 1. alco, cardio 변수 간의 독립성 검정을 실시할 때, 카이제곱 통계량을 구하시오.\n",
    "from scipy import stats\n",
    "st, pv, dof, exp_f = stats.chi2_contingency(contingency) \n",
    "print(round(st,4)) # 3.6965\n",
    "\n",
    "# 2.gender, weight, smoke, cholesterol을 독립변수로 사용하여 로지스틱 회귀 모형 으로 분석할 때, \n",
    "# smoke 변수의 계수 값을 구하시오.\n",
    "from statsmodels.formula.api import logit\n",
    "formula = ('cardio ~ gender + weight + smoke + cholesterol')\n",
    "model = logit(formula, data=df).fit()\n",
    "# print(model.summary()) # 전체 통계표\n",
    "print(round(model.params['smoke'],4)) #-0.2174\n",
    "\n",
    "# 2번 문제에서 생성한 로지스틱 회귀 모형에서 gender 변수가 한 단위 증가할 때 심 혈관 질환이 발생할 오즈비의 값을 구하시오. \n",
    "# (단, 모든 문제의 정답은 반올림하여 소수점 넷째 자리까지 출력한다.)\n",
    "odds_ratio = np.exp(model.params['gender'])\n",
    "print(round(odds_ratio,4)) #1.0002"
   ]
  },
  {
   "cell_type": "markdown",
   "id": "6f61afa0",
   "metadata": {
    "papermill": {
     "duration": 0.003277,
     "end_time": "2025-06-08T18:16:47.232784",
     "exception": false,
     "start_time": "2025-06-08T18:16:47.229507",
     "status": "completed"
    },
    "tags": []
   },
   "source": [
    "## 문제2\n",
    "\n",
    "1. 독립변수를 exang, trestbps, ca로 하고, 목표변수를 target으로 하는 로지스틱 회 귀 분석을 진행했을 때, ca 변수의 표준오차를 구하시오.\n",
    "2. fbs, thalach, chol, sex를 독립변수로 target을 분류하는 로지스틱 회귀 분석 모 형을 생성했을 때, 학습(train) 데이터의 오분류율을 구하시오. (단, 전체 데이터 중\n",
    "800행을 학습(train) 데이터로 사용하고, train test_split의 test_size는 0.2로 하 며, random_state는 123으로 한다.)\n",
    "3. 2번 문제 모델의 심장 질환 발생(1)에 대한 정밀도를 구하시오. (단, 모든 문제의 정 답은 반올림하여 소수점 둘째 자리까지 출력한다.)"
   ]
  },
  {
   "cell_type": "code",
   "execution_count": 6,
   "id": "0ec9df8d",
   "metadata": {
    "execution": {
     "iopub.execute_input": "2025-06-08T18:16:47.241123Z",
     "iopub.status.busy": "2025-06-08T18:16:47.240672Z",
     "iopub.status.idle": "2025-06-08T18:16:47.309593Z",
     "shell.execute_reply": "2025-06-08T18:16:47.308687Z"
    },
    "papermill": {
     "duration": 0.075528,
     "end_time": "2025-06-08T18:16:47.311785",
     "exception": false,
     "start_time": "2025-06-08T18:16:47.236257",
     "status": "completed"
    },
    "tags": []
   },
   "outputs": [
    {
     "name": "stdout",
     "output_type": "stream",
     "text": [
      "Optimization terminated successfully.\n",
      "         Current function value: 0.516009\n",
      "         Iterations 6\n",
      "Optimization terminated successfully.\n",
      "         Current function value: 0.520073\n",
      "         Iterations 6\n",
      "0.29\n",
      "0.74\n"
     ]
    }
   ],
   "source": [
    "import numpy as np\n",
    "import pandas as pd\n",
    "\n",
    "df = pd.read_csv('/kaggle/input/bigdata-csvfile/heart_disease_data.csv')\n",
    "\n",
    "# 1. ca변수의 표준오차 std err\n",
    "from statsmodels.formula.api import logit\n",
    "formula = ('target ~ exang + trestbps + ca')\n",
    "model = logit(formula, data=df).fit()\n",
    "# print(model.summary()) 0.083\n",
    "\n",
    "# 2 오류분율 = 1 - 정확도\n",
    "from sklearn.model_selection import train_test_split\n",
    "\n",
    "df_sub = df[['fbs', 'thalach', 'chol', 'sex', 'target']][:800]\n",
    "train, test = train_test_split(df_sub, test_size = 0.2, random_state=123)\n",
    "\n",
    "# formula방식\n",
    "model = logit('target ~ fbs + thalach + chol + sex', data=train).fit()\n",
    "\n",
    "# 예측\n",
    "pred = model.predict(test)\n",
    "pred = (pred > 0.5).astype(int)\n",
    "\n",
    "# 정확도 계산\n",
    "accuracy = (pred == test['target']).mean()\n",
    "# 오류분율 = 1 - 정확도\n",
    "print(round(1 - accuracy, 2)) \n",
    "\n",
    "# 3. 정밀도 구하기\n",
    "from sklearn.metrics import precision_score\n",
    "precision = precision_score(test['target'], pred)\n",
    "print(round(precision,2))"
   ]
  }
 ],
 "metadata": {
  "kaggle": {
   "accelerator": "none",
   "dataSources": [
    {
     "datasetId": 7611297,
     "sourceId": 12090743,
     "sourceType": "datasetVersion"
    }
   ],
   "dockerImageVersionId": 31040,
   "isGpuEnabled": false,
   "isInternetEnabled": false,
   "language": "python",
   "sourceType": "notebook"
  },
  "kernelspec": {
   "display_name": "Python 3",
   "language": "python",
   "name": "python3"
  },
  "language_info": {
   "codemirror_mode": {
    "name": "ipython",
    "version": 3
   },
   "file_extension": ".py",
   "mimetype": "text/x-python",
   "name": "python",
   "nbconvert_exporter": "python",
   "pygments_lexer": "ipython3",
   "version": "3.11.11"
  },
  "papermill": {
   "default_parameters": {},
   "duration": 48.207079,
   "end_time": "2025-06-08T18:16:48.038126",
   "environment_variables": {},
   "exception": null,
   "input_path": "__notebook__.ipynb",
   "output_path": "__notebook__.ipynb",
   "parameters": {},
   "start_time": "2025-06-08T18:15:59.831047",
   "version": "2.6.0"
  }
 },
 "nbformat": 4,
 "nbformat_minor": 5
}
