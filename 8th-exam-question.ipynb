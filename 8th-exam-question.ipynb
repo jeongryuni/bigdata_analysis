{
 "cells": [
  {
   "cell_type": "markdown",
   "id": "df56d8dc",
   "metadata": {
    "papermill": {
     "duration": 0.003502,
     "end_time": "2025-06-12T12:01:44.119089",
     "exception": false,
     "start_time": "2025-06-12T12:01:44.115587",
     "status": "completed"
    },
    "tags": []
   },
   "source": [
    "# 작업형1"
   ]
  },
  {
   "cell_type": "markdown",
   "id": "f9f32307",
   "metadata": {
    "papermill": {
     "duration": 0.002631,
     "end_time": "2025-06-12T12:01:44.125018",
     "exception": false,
     "start_time": "2025-06-12T12:01:44.122387",
     "status": "completed"
    },
    "tags": []
   },
   "source": [
    "## 문제1\n",
    "1. 대륙(continent)별 맥주 소비량(beer_servings)의 평균을 계산하고, 평균이 가장 큰 대륙을 찾으시오\n",
    "2. 1번 문제에서 찾은 대륙(continent)에서 맥주 소비량이 5번째로 많은 나라 (country)의 맥주 소비량(beer_servings)을 정수로 구하시오"
   ]
  },
  {
   "cell_type": "code",
   "execution_count": 1,
   "id": "b4ba54b2",
   "metadata": {
    "_cell_guid": "b1076dfc-b9ad-4769-8c92-a6c4dae69d19",
    "_uuid": "8f2839f25d086af736a60e9eeb907d3b93b6e0e5",
    "execution": {
     "iopub.execute_input": "2025-06-12T12:01:44.132028Z",
     "iopub.status.busy": "2025-06-12T12:01:44.131687Z",
     "iopub.status.idle": "2025-06-12T12:01:46.049187Z",
     "shell.execute_reply": "2025-06-12T12:01:46.048117Z"
    },
    "papermill": {
     "duration": 1.922798,
     "end_time": "2025-06-12T12:01:46.050715",
     "exception": false,
     "start_time": "2025-06-12T12:01:44.127917",
     "status": "completed"
    },
    "tags": []
   },
   "outputs": [
    {
     "name": "stdout",
     "output_type": "stream",
     "text": [
      "평균이 가장 큰 대륙 : continent            Europe\n",
      "beer_servings    193.777778\n",
      "Name: 2, dtype: object\n",
      "index                 81\n",
      "country          Ireland\n",
      "beer_servings        313\n",
      "continent         Europe\n",
      "Name: 4, dtype: object\n"
     ]
    }
   ],
   "source": [
    "import pandas as pd\n",
    "import numpy as np\n",
    "\n",
    "df = pd.read_csv('/kaggle/input/bigdata-csvfile/Alcohol consumption by continent.csv')\n",
    "\n",
    "# 1.\n",
    "df2 = df.groupby('continent')['beer_servings'].mean().reset_index().sort_values(by='beer_servings', ascending=False)\n",
    "print(f'평균이 가장 큰 대륙 : {df2.iloc[0]}') #  Europe\n",
    "\n",
    "# 2 Europe에서 맥주소비량이 5번째로 많은 나라의 맥주소비량\n",
    "result = df[df['continent'] == 'Europe'].sort_values(by = 'beer_servings', ascending=False).drop(columns = ['spirit_servings' , 'wine_servings', 'total_litres_of_pure_alcohol']).reset_index()\n",
    "print(result.iloc[4]) # Ireland 313"
   ]
  },
  {
   "cell_type": "markdown",
   "id": "aa3329e6",
   "metadata": {
    "papermill": {
     "duration": 0.00297,
     "end_time": "2025-06-12T12:01:46.057011",
     "exception": false,
     "start_time": "2025-06-12T12:01:46.054041",
     "status": "completed"
    },
    "tags": []
   },
   "source": [
    "## 문제2\n",
    "관광객 비율 = 관광 인원 / (관광인원 + 공용인원)\n",
    "\n",
    "1. '관광객 비율'이 두 번째로 높은 나라의 '관광' 수를 a라고 정의한다.\n",
    "2. '관광' 수가 두 번째로 높은 나라의 '공용' 수를 b라고 정의한다.\n",
    "3.  a+b의 값을 구하시오"
   ]
  },
  {
   "cell_type": "code",
   "execution_count": 2,
   "id": "dd944403",
   "metadata": {
    "execution": {
     "iopub.execute_input": "2025-06-12T12:01:46.065191Z",
     "iopub.status.busy": "2025-06-12T12:01:46.064276Z",
     "iopub.status.idle": "2025-06-12T12:01:46.082973Z",
     "shell.execute_reply": "2025-06-12T12:01:46.082006Z"
    },
    "papermill": {
     "duration": 0.02423,
     "end_time": "2025-06-12T12:01:46.084369",
     "exception": false,
     "start_time": "2025-06-12T12:01:46.060139",
     "status": "completed"
    },
    "tags": []
   },
   "outputs": [
    {
     "name": "stdout",
     "output_type": "stream",
     "text": [
      "index            6\n",
      "국적            대  만\n",
      "관광          948560\n",
      "상용            1866\n",
      "공용             122\n",
      "유학연수          4412\n",
      "기타            5647\n",
      "관광객 비율    0.999871\n",
      "Name: 1, dtype: object\n",
      "index           43\n",
      "국적            중  국\n",
      "관광         1461827\n",
      "상용           29756\n",
      "공용            2668\n",
      "유학연수        157919\n",
      "기타          367254\n",
      "관광객 비율    0.998178\n",
      "Name: 1, dtype: object\n",
      "951228\n"
     ]
    }
   ],
   "source": [
    "import pandas as pd\n",
    "import numpy as np\n",
    "\n",
    "df = pd.read_csv('/kaggle/input/bigdata-csvfile/Entry_data_2023.csv')\n",
    "\n",
    "# 1.\n",
    "df['관광객 비율'] = df['관광'] / (df['관광'] + df['공용'])\n",
    "\n",
    "# 관광객 비율이 두 번쨰로 높은 나라 a = 948560\n",
    "quest1 = df.sort_values(by = '관광객 비율', ascending= False).reset_index()\n",
    "print(quest1.iloc[1]) #대만 관광:948560\n",
    "a = 948560\n",
    "# '관광' 수가 두 번째로 높은 나라의 '공용' 의 수 b\n",
    "quest2 = df.sort_values(by = '관광', ascending=False).reset_index()\n",
    "print(quest2.iloc[1]) # 중국 b = 2668\n",
    "b = 2668\n",
    "#3 a + b\n",
    "result = a + b\n",
    "print(result) # 951228"
   ]
  },
  {
   "cell_type": "markdown",
   "id": "72b914b9",
   "metadata": {
    "papermill": {
     "duration": 0.002823,
     "end_time": "2025-06-12T12:01:46.090256",
     "exception": false,
     "start_time": "2025-06-12T12:01:46.087433",
     "status": "completed"
    },
    "tags": []
   },
   "source": [
    "## 문제3\n",
    "\n",
    "1. PM10 농도 컬럼과 CO2농도 컬럼의 최소최대정규화를 시행하고, 각 컬럼의 표준편차를 구하시오\n",
    "2. PM10 농도 컬럼의 표준편차가 a이고, CO2농도컬럼의 표준편차가b 일 때, a-b값을 구하시오.\n",
    "\n",
    "(연산 결과는 반올림하여 소수 4자리수까지 출력)"
   ]
  },
  {
   "cell_type": "code",
   "execution_count": 3,
   "id": "4bc7daf8",
   "metadata": {
    "execution": {
     "iopub.execute_input": "2025-06-12T12:01:46.097142Z",
     "iopub.status.busy": "2025-06-12T12:01:46.096844Z",
     "iopub.status.idle": "2025-06-12T12:01:47.670380Z",
     "shell.execute_reply": "2025-06-12T12:01:47.669320Z"
    },
    "papermill": {
     "duration": 1.578844,
     "end_time": "2025-06-12T12:01:47.671974",
     "exception": false,
     "start_time": "2025-06-12T12:01:46.093130",
     "status": "completed"
    },
    "tags": []
   },
   "outputs": [
    {
     "name": "stdout",
     "output_type": "stream",
     "text": [
      "0.2692582403567252 0.3082265965595956\n",
      "-0.039\n"
     ]
    }
   ],
   "source": [
    "import pandas as pd\n",
    "import numpy as np\n",
    "\n",
    "df = pd.read_csv('/kaggle/input/bigdata-csvfile/Environmental data.csv')\n",
    "\n",
    "# Min-Max Scaler\n",
    "from sklearn.preprocessing import MinMaxScaler\n",
    "scaler = MinMaxScaler()\n",
    "df['CO2_Scaler'] = scaler.fit_transform(df[['Co2 농도']])\n",
    "df['PM10_Scaler'] = scaler.fit_transform(df[['PM10 농도']])\n",
    "\n",
    "# PM10표준편차 = a , CO2 표준편차 = b\n",
    "a = np.std(df['PM10_Scaler'])\n",
    "b = np.std(df['CO2_Scaler'])\n",
    "# a = (df['PM10_Scaler']).std()\n",
    "# b = (df['CO2_Scaler']).std()\n",
    "# a - b\n",
    "result = a - b\n",
    "print(a, b)\n",
    "print(round(result, 4))"
   ]
  },
  {
   "cell_type": "markdown",
   "id": "0ee53e87",
   "metadata": {
    "papermill": {
     "duration": 0.002862,
     "end_time": "2025-06-12T12:01:47.678252",
     "exception": false,
     "start_time": "2025-06-12T12:01:47.675390",
     "status": "completed"
    },
    "tags": []
   },
   "source": [
    "# 작업형2"
   ]
  },
  {
   "cell_type": "markdown",
   "id": "bafb1d9f",
   "metadata": {
    "papermill": {
     "duration": 0.002733,
     "end_time": "2025-06-12T12:01:47.684210",
     "exception": false,
     "start_time": "2025-06-12T12:01:47.681477",
     "status": "completed"
    },
    "tags": []
   },
   "source": [
    "전체 데이터의 상위 5,000행을 train 데이터로 사용하고, 나머지를 test 데이터로 사 용할 수 있도록 데이터 슬라이싱 작업을 한 후에 데이터를 분석하도록 한다.\n",
    "\n",
    "- 제공된 train 데이터를 활용하여 '이용 횟수'를 예측하는 모델을 개발하고, 개발한 모델에 기반하여 평가용 test 데이터에 적용하여 얻은 '이용 횟수' 예측 결과를 cSV 파일 로 생성하는 코드를 제출하시오.\n",
    "- 제출 결과는 test 데이터의 개수인 1,000이 될 수 있도록 한다.\n",
    "- 제출 데이터 칼럼은 이용 횟수만 존재해야 하고, 평가지표는 MAE로 한다.\n",
    "- 예측 결과 파일명은 8th_test_type2.csv로 한다."
   ]
  },
  {
   "cell_type": "code",
   "execution_count": 4,
   "id": "5aaffcba",
   "metadata": {
    "execution": {
     "iopub.execute_input": "2025-06-12T12:01:47.692021Z",
     "iopub.status.busy": "2025-06-12T12:01:47.691394Z",
     "iopub.status.idle": "2025-06-12T12:01:49.250899Z",
     "shell.execute_reply": "2025-06-12T12:01:49.249818Z"
    },
    "papermill": {
     "duration": 1.565207,
     "end_time": "2025-06-12T12:01:49.252434",
     "exception": false,
     "start_time": "2025-06-12T12:01:47.687227",
     "status": "completed"
    },
    "tags": []
   },
   "outputs": [
    {
     "name": "stdout",
     "output_type": "stream",
     "text": [
      "          pred\n",
      "0    39.161391\n",
      "1    27.611083\n",
      "2    25.783381\n",
      "3    35.275794\n",
      "4    50.112690\n",
      "..         ...\n",
      "995  28.787000\n",
      "996  77.487452\n",
      "997  53.303036\n",
      "998  61.050559\n",
      "999  34.778903\n",
      "\n",
      "[1000 rows x 1 columns]\n"
     ]
    }
   ],
   "source": [
    "import pandas as pd\n",
    "import numpy as np\n",
    "\n",
    "df = pd.read_csv('/kaggle/input/bigdata-csvfile/subway_usage_data_with_payment.csv')\n",
    "train = df[:5000]\n",
    "test = df[5000:]\n",
    "y = train['이용 횟수']\n",
    "train = train.drop(columns = '이용 횟수')\n",
    "test = test.drop(columns = '이용 횟수')\n",
    "\n",
    "# 결측값 확인\n",
    "# print(df['이용 횟수'].isnull().sum())  #0\n",
    "\n",
    "# 필요없는 컬럼제거\n",
    "# print(train)\n",
    "\n",
    "# 인코딩\n",
    "train_dummies = pd.get_dummies(train)\n",
    "test_dummies = pd.get_dummies(test)\n",
    "\n",
    "from sklearn.ensemble import RandomForestRegressor\n",
    "model = RandomForestRegressor()\n",
    "model.fit(train_dummies, y)\n",
    "pred = model.predict(test_dummies)\n",
    "\n",
    "# 데이터프레임 생성\n",
    "result = pd.DataFrame({'pred':pred})\n",
    "result.to_csv('result.csv', index=False)\n",
    "result_read = pd.read_csv('result.csv')\n",
    "print(result_read)"
   ]
  },
  {
   "cell_type": "markdown",
   "id": "67d677c8",
   "metadata": {
    "papermill": {
     "duration": 0.002968,
     "end_time": "2025-06-12T12:01:49.258638",
     "exception": false,
     "start_time": "2025-06-12T12:01:49.255670",
     "status": "completed"
    },
    "tags": []
   },
   "source": [
    "# 작업형 3"
   ]
  },
  {
   "cell_type": "markdown",
   "id": "b15b4ed8",
   "metadata": {
    "papermill": {
     "duration": 0.002759,
     "end_time": "2025-06-12T12:01:49.264522",
     "exception": false,
     "start_time": "2025-06-12T12:01:49.261763",
     "status": "completed"
    },
    "tags": []
   },
   "source": [
    "## 문제1\n",
    "주어진 통신 서비스 고객데이터를 활용하여 고객 '이탈 여부(Churn)'를 예측하고자 한다.\n",
    "각 문항의 답을 제출 형식에 맞춰 제출하시오\n",
    "\n",
    "1. 주어진 데이터를 활용하여 로지스틱 회귀 분석을 실시했을 때, 유의하지 않은 변수의 개수를 쓰시오.\n",
    "2. 1번 분석 결과를 바탕으로 유의미한 변수들만을 독립변수로 하여 로지스틱 회귀분석을 다시 실시했을 때, 회귀계수의 평균을 구하시오.\n",
    "3. 2번 문제에서 적용한 회귀식에서 tenure변수가 5 증가할 때, 오즈비를 구하시오.\n",
    "(단, 연산 결과는 소수점 4번째 자리에서 반올림하여 소수점 3자리까지 입력한다.)"
   ]
  },
  {
   "cell_type": "code",
   "execution_count": 5,
   "id": "cad437f7",
   "metadata": {
    "execution": {
     "iopub.execute_input": "2025-06-12T12:01:49.272695Z",
     "iopub.status.busy": "2025-06-12T12:01:49.272378Z",
     "iopub.status.idle": "2025-06-12T12:01:50.179847Z",
     "shell.execute_reply": "2025-06-12T12:01:50.178927Z"
    },
    "papermill": {
     "duration": 0.913602,
     "end_time": "2025-06-12T12:01:50.181451",
     "exception": false,
     "start_time": "2025-06-12T12:01:49.267849",
     "status": "completed"
    },
    "tags": []
   },
   "outputs": [
    {
     "name": "stdout",
     "output_type": "stream",
     "text": [
      "Optimization terminated successfully.\n",
      "         Current function value: 0.438772\n",
      "         Iterations 7\n",
      "Intercept         False\n",
      "gender             True\n",
      "SeniorCitizen     False\n",
      "Dependents        False\n",
      "tenure            False\n",
      "PhoneService      False\n",
      "OnlineSecurity    False\n",
      "MonthlyCharges    False\n",
      "dtype: bool\n",
      "Optimization terminated successfully.\n",
      "         Current function value: 0.438773\n",
      "         Iterations 7\n",
      "-0.23435671181049808\n",
      "0.779\n"
     ]
    }
   ],
   "source": [
    "import pandas as pd\n",
    "import numpy as np\n",
    "import warnings\n",
    "warnings.filterwarnings('ignore')\n",
    "\n",
    "df = pd.read_csv('/kaggle/input/bigdata-csvfile/Telco_customer_churn_data.csv')\n",
    "\n",
    "# 1. \n",
    "from statsmodels.formula.api import logit\n",
    "formula = ('Churn ~ gender + SeniorCitizen + Dependents + tenure + PhoneService + OnlineSecurity + MonthlyCharges')\n",
    "model = logit(formula, data=df).fit()\n",
    "result1 = model.pvalues > 0.05  \n",
    "print(result1) # p값이 0.05보다 큰 변수 : gender\n",
    "\n",
    "# 2.회귀계수 평균\n",
    "formula2 = ('Churn ~ SeniorCitizen + Dependents + tenure + PhoneService + OnlineSecurity + MonthlyCharges')\n",
    "model2 = logit(formula2, data=df).fit()\n",
    "print(model2.params.mean()) # -0.23435671181049808\n",
    "\n",
    "# 3. tenure변수가 5 증가할 때, 오즈비\n",
    "odds_ratio = np.exp(model2.params['tenure'] * 5)\n",
    "print(round(odds_ratio, 3)) # 0.779"
   ]
  },
  {
   "cell_type": "markdown",
   "id": "d6bd6b23",
   "metadata": {
    "papermill": {
     "duration": 0.002803,
     "end_time": "2025-06-12T12:01:50.187598",
     "exception": false,
     "start_time": "2025-06-12T12:01:50.184795",
     "status": "completed"
    },
    "tags": []
   },
   "source": [
    "## 문제2\n",
    "주어진 뇌와 신체관련 데이터를 활용하여 지능지수(PIQ)를 예측하고자 한다. 각 문항의 답을 제출 형식에 맞춰 제출하시오\n",
    "\n",
    "1. 다중 선형 회귀 분석을 적용하여 가장 유의미한 변수의 회귀계수를 구하시오\n",
    "2. 1번의 다중 선형 회귀 분석 모델의 결정계수의 값을 구하시오\n",
    "3. 1번의 다중 선형 회귀 모델에서 키70, 몸무게 150, 뇌 크기 90일 때 PIQ값을 구하시오\n",
    "\n",
    "(단, 연산 결과는 소수점 4번째 자리에서 반올림하여 소수점 3자리까지 입력한다.)"
   ]
  },
  {
   "cell_type": "code",
   "execution_count": 6,
   "id": "fc478c59",
   "metadata": {
    "execution": {
     "iopub.execute_input": "2025-06-12T12:01:50.195448Z",
     "iopub.status.busy": "2025-06-12T12:01:50.194774Z",
     "iopub.status.idle": "2025-06-12T12:01:50.288085Z",
     "shell.execute_reply": "2025-06-12T12:01:50.287121Z"
    },
    "papermill": {
     "duration": 0.099369,
     "end_time": "2025-06-12T12:01:50.290002",
     "exception": false,
     "start_time": "2025-06-12T12:01:50.190633",
     "status": "completed"
    },
    "tags": []
   },
   "outputs": [
    {
     "name": "stdout",
     "output_type": "stream",
     "text": [
      "                            OLS Regression Results                            \n",
      "==============================================================================\n",
      "Dep. Variable:                    PIQ   R-squared:                       0.295\n",
      "Model:                            OLS   Adj. R-squared:                  0.233\n",
      "Method:                 Least Squares   F-statistic:                     4.741\n",
      "Date:                Thu, 12 Jun 2025   Prob (F-statistic):            0.00722\n",
      "Time:                        12:01:50   Log-Likelihood:                -165.25\n",
      "No. Observations:                  38   AIC:                             338.5\n",
      "Df Residuals:                      34   BIC:                             345.1\n",
      "Df Model:                           3                                         \n",
      "Covariance Type:            nonrobust                                         \n",
      "==============================================================================\n",
      "                 coef    std err          t      P>|t|      [0.025      0.975]\n",
      "------------------------------------------------------------------------------\n",
      "Intercept    111.3536     62.971      1.768      0.086     -16.619     239.326\n",
      "Brain          2.0604      0.563      3.657      0.001       0.915       3.205\n",
      "Height        -2.7319      1.229     -2.222      0.033      -5.230      -0.233\n",
      "Weight         0.0006      0.197      0.003      0.998      -0.400       0.401\n",
      "==============================================================================\n",
      "Omnibus:                        1.379   Durbin-Watson:                   1.827\n",
      "Prob(Omnibus):                  0.502   Jarque-Bera (JB):                1.088\n",
      "Skew:                           0.409   Prob(JB):                        0.580\n",
      "Kurtosis:                       2.859   Cond. No.                     3.73e+03\n",
      "==============================================================================\n",
      "\n",
      "Notes:\n",
      "[1] Standard Errors assume that the covariance matrix of the errors is correctly specified.\n",
      "[2] The condition number is large, 3.73e+03. This might indicate that there are\n",
      "strong multicollinearity or other numerical problems.\n",
      "0.295\n",
      "0    105.636\n",
      "dtype: float64\n"
     ]
    }
   ],
   "source": [
    "import pandas as pd\n",
    "import numpy as np\n",
    "\n",
    "df = pd.read_csv('/kaggle/input/bigdata-csvfile/PIQ_Brain_Height_Weight.csv')\n",
    "\n",
    "from statsmodels.formula.api import ols\n",
    "formula = ('PIQ ~ Brain + Height + Weight')\n",
    "model = ols(formula, data = df).fit()\n",
    "\n",
    "#1. 가장 유의미한 변수의 회귀계수\n",
    "print(model.summary()) # P>|t|가 가장 작은 변수 0.001 : Brain 2.0604\n",
    "\n",
    "#2 . 결정계수 R-squared: 0.295\n",
    "print(0.295)\n",
    "\n",
    "#3 . 키70, 몸무게 150, 뇌 크기 90일 때 PIQ값\n",
    "new_data1 = pd.DataFrame({'Brain':[90], 'Height':[70], 'Weight':[150]})\n",
    "pred = model.predict(new_data1)\n",
    "print(round(pred, 3))"
   ]
  }
 ],
 "metadata": {
  "kaggle": {
   "accelerator": "none",
   "dataSources": [
    {
     "datasetId": 7611297,
     "sourceId": 12090743,
     "sourceType": "datasetVersion"
    }
   ],
   "dockerImageVersionId": 31040,
   "isGpuEnabled": false,
   "isInternetEnabled": false,
   "language": "python",
   "sourceType": "notebook"
  },
  "kernelspec": {
   "display_name": "Python 3",
   "language": "python",
   "name": "python3"
  },
  "language_info": {
   "codemirror_mode": {
    "name": "ipython",
    "version": 3
   },
   "file_extension": ".py",
   "mimetype": "text/x-python",
   "name": "python",
   "nbconvert_exporter": "python",
   "pygments_lexer": "ipython3",
   "version": "3.11.11"
  },
  "papermill": {
   "default_parameters": {},
   "duration": 11.717591,
   "end_time": "2025-06-12T12:01:51.014960",
   "environment_variables": {},
   "exception": null,
   "input_path": "__notebook__.ipynb",
   "output_path": "__notebook__.ipynb",
   "parameters": {},
   "start_time": "2025-06-12T12:01:39.297369",
   "version": "2.6.0"
  }
 },
 "nbformat": 4,
 "nbformat_minor": 5
}
