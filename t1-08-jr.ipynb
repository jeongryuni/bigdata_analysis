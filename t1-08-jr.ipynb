{
 "cells": [
  {
   "cell_type": "markdown",
   "id": "51dca19f",
   "metadata": {
    "papermill": {
     "duration": 0.013251,
     "end_time": "2025-06-20T16:52:05.823518",
     "exception": false,
     "start_time": "2025-06-20T16:52:05.810267",
     "status": "completed"
    },
    "tags": []
   },
   "source": [
    "### 주어진 데이터 셋에서 'f2' 컬럼이 1인 조건에 해당하는 데이터의 'f1'컬럼 누적합을 계산한다. 이때 발생하는 누적합 결측치는 바로 뒤의 값을 채우고, 누적합의 평균값을 출력한다. (단, 결측치 바로 뒤의 값이 없으면 다음에 나오는 값을 채워넣는다)\n",
    "\n",
    "- 데이터셋 : basic1.csv\n",
    "- 오른쪽 상단 copy&edit 클릭 -> 예상문제 풀이 시작"
   ]
  },
  {
   "cell_type": "markdown",
   "id": "5fba676f",
   "metadata": {
    "papermill": {
     "duration": 0.009413,
     "end_time": "2025-06-20T16:52:05.842752",
     "exception": false,
     "start_time": "2025-06-20T16:52:05.833339",
     "status": "completed"
    },
    "tags": []
   },
   "source": [
    "# START"
   ]
  },
  {
   "cell_type": "code",
   "execution_count": 1,
   "id": "d4904bb7",
   "metadata": {
    "execution": {
     "iopub.execute_input": "2025-06-20T16:52:05.873332Z",
     "iopub.status.busy": "2025-06-20T16:52:05.872563Z",
     "iopub.status.idle": "2025-06-20T16:52:05.902719Z",
     "shell.execute_reply": "2025-06-20T16:52:05.903277Z",
     "shell.execute_reply.started": "2025-06-20T16:50:37.764474Z"
    },
    "papermill": {
     "duration": 0.051123,
     "end_time": "2025-06-20T16:52:05.903563",
     "exception": false,
     "start_time": "2025-06-20T16:52:05.852440",
     "status": "completed"
    },
    "tags": []
   },
   "outputs": [
    {
     "name": "stdout",
     "output_type": "stream",
     "text": [
      "980.3783783783783\n"
     ]
    }
   ],
   "source": [
    "# 라이브러리 및 데이터 불러오기\n",
    "import pandas as pd\n",
    "import numpy as np\n",
    "df = pd.read_csv('/kaggle/input/bigdatacertificationkr/basic1.csv')\n",
    "\n",
    "#  'f2' 컬럼이 1인 조건에 해당하는 데이터의 'f1'컬럼 누적합을 계산한다.\n",
    "cumsum = df.loc[df['f2'] == 1, 'f1'].cumsum()\n",
    "\n",
    "# 이때 발생하는 누적합 결측치는 바로 뒤의 값을 채우고 누적합의 평균값을 출력\n",
    "cumsum = cumsum.fillna(method = 'bfill')\n",
    "print(cumsum.mean())"
   ]
  },
  {
   "cell_type": "code",
   "execution_count": null,
   "id": "fbd27e14",
   "metadata": {
    "papermill": {
     "duration": 0.009411,
     "end_time": "2025-06-20T16:52:05.923295",
     "exception": false,
     "start_time": "2025-06-20T16:52:05.913884",
     "status": "completed"
    },
    "tags": []
   },
   "outputs": [],
   "source": []
  },
  {
   "cell_type": "code",
   "execution_count": 2,
   "id": "e7dfef14",
   "metadata": {
    "execution": {
     "iopub.execute_input": "2025-06-20T16:52:05.948915Z",
     "iopub.status.busy": "2025-06-20T16:52:05.948197Z",
     "iopub.status.idle": "2025-06-20T16:52:05.958193Z",
     "shell.execute_reply": "2025-06-20T16:52:05.957707Z",
     "shell.execute_reply.started": "2025-05-04T22:57:57.019009Z"
    },
    "papermill": {
     "duration": 0.025318,
     "end_time": "2025-06-20T16:52:05.958343",
     "exception": false,
     "start_time": "2025-06-20T16:52:05.933025",
     "status": "completed"
    },
    "tags": []
   },
   "outputs": [
    {
     "name": "stdout",
     "output_type": "stream",
     "text": [
      "980.3783783783783\n"
     ]
    }
   ],
   "source": [
    "# 주어진 데이터 셋에서 'f2' 컬럼이 1인 조건에 해당하는 데이터의 'f1'컬럼 누적합을 계산한다. \n",
    "# 이때 발생하는 누적합 결측치는 바로 뒤의 값을 채우고, 누적합의 평균값을 출력한다. \n",
    "# (단, 결측치 바로 뒤의 값이 없으면 다음에 나오는 값을 채워넣는다\n",
    "\n",
    "import pandas as pd\n",
    "import numpy as np\n",
    "df = pd.read_csv('/kaggle/input/bigdatacertificationkr/basic1.csv')\n",
    "\n",
    "# 누적합 계산\n",
    "df2 = df.loc[df['f2'] == 1, 'f1'].cumsum()\n",
    "\n",
    "df2 = df2.fillna(method = 'bfill').mean()\n",
    "print(df2)"
   ]
  },
  {
   "cell_type": "code",
   "execution_count": null,
   "id": "5e33b000",
   "metadata": {
    "papermill": {
     "duration": 0.009693,
     "end_time": "2025-06-20T16:52:05.978182",
     "exception": false,
     "start_time": "2025-06-20T16:52:05.968489",
     "status": "completed"
    },
    "tags": []
   },
   "outputs": [],
   "source": []
  },
  {
   "cell_type": "code",
   "execution_count": null,
   "id": "8e056724",
   "metadata": {
    "papermill": {
     "duration": 0.00965,
     "end_time": "2025-06-20T16:52:05.997865",
     "exception": false,
     "start_time": "2025-06-20T16:52:05.988215",
     "status": "completed"
    },
    "tags": []
   },
   "outputs": [],
   "source": []
  },
  {
   "cell_type": "code",
   "execution_count": null,
   "id": "89682baf",
   "metadata": {
    "papermill": {
     "duration": 0.009817,
     "end_time": "2025-06-20T16:52:06.017670",
     "exception": false,
     "start_time": "2025-06-20T16:52:06.007853",
     "status": "completed"
    },
    "tags": []
   },
   "outputs": [],
   "source": []
  },
  {
   "cell_type": "markdown",
   "id": "f569e063",
   "metadata": {
    "papermill": {
     "duration": 0.009643,
     "end_time": "2025-06-20T16:52:06.038095",
     "exception": false,
     "start_time": "2025-06-20T16:52:06.028452",
     "status": "completed"
    },
    "tags": []
   },
   "source": [
    "## Hint"
   ]
  },
  {
   "cell_type": "code",
   "execution_count": 3,
   "id": "ee420e69",
   "metadata": {
    "execution": {
     "iopub.execute_input": "2025-06-20T16:52:06.070902Z",
     "iopub.status.busy": "2025-06-20T16:52:06.069840Z",
     "iopub.status.idle": "2025-06-20T16:52:06.074943Z",
     "shell.execute_reply": "2025-06-20T16:52:06.075452Z",
     "shell.execute_reply.started": "2024-10-27T09:49:17.882163Z"
    },
    "papermill": {
     "duration": 0.027513,
     "end_time": "2025-06-20T16:52:06.075646",
     "exception": false,
     "start_time": "2025-06-20T16:52:06.048133",
     "status": "completed"
    },
    "tags": []
   },
   "outputs": [
    {
     "name": "stdout",
     "output_type": "stream",
     "text": [
      "0     NaN\n",
      "1     퇴근후\n",
      "2     NaN\n",
      "3      딴짓\n",
      "4     NaN\n",
      "5      22\n",
      "6     NaN\n",
      "7      45\n",
      "8     NaN\n",
      "9     NaN\n",
      "10     60\n",
      "dtype: object\n"
     ]
    },
    {
     "data": {
      "text/plain": [
       "0     퇴근후\n",
       "1     퇴근후\n",
       "2      딴짓\n",
       "3      딴짓\n",
       "4      22\n",
       "5      22\n",
       "6      45\n",
       "7      45\n",
       "8      60\n",
       "9      60\n",
       "10     60\n",
       "dtype: object"
      ]
     },
     "execution_count": 3,
     "metadata": {},
     "output_type": "execute_result"
    }
   ],
   "source": [
    "import pandas as pd\n",
    "import numpy as np\n",
    "\n",
    "# 뒷값으로 결측치 채우기\n",
    "s = pd.Series([np.nan, \"퇴근후\", np.nan,\"딴짓\", np.nan, 22, np.nan,45, np.nan, np.nan, 60])\n",
    "print(s)\n",
    "\n",
    "s.fillna(method='bfill') # 바로 뒤값으로 채워넣는 방법\n",
    "# s.fillna(method='pad') # 이전값으로 채워넣는 방법"
   ]
  },
  {
   "cell_type": "markdown",
   "id": "35cac1c8",
   "metadata": {
    "papermill": {
     "duration": 0.010288,
     "end_time": "2025-06-20T16:52:06.097284",
     "exception": false,
     "start_time": "2025-06-20T16:52:06.086996",
     "status": "completed"
    },
    "tags": []
   },
   "source": [
    "## 풀이"
   ]
  },
  {
   "cell_type": "code",
   "execution_count": 4,
   "id": "fce879ff",
   "metadata": {
    "_cell_guid": "b1076dfc-b9ad-4769-8c92-a6c4dae69d19",
    "_uuid": "8f2839f25d086af736a60e9eeb907d3b93b6e0e5",
    "execution": {
     "iopub.execute_input": "2025-06-20T16:52:06.124784Z",
     "iopub.status.busy": "2025-06-20T16:52:06.124103Z",
     "iopub.status.idle": "2025-06-20T16:52:06.143893Z",
     "shell.execute_reply": "2025-06-20T16:52:06.143379Z",
     "shell.execute_reply.started": "2024-10-27T09:49:18.212306Z"
    },
    "papermill": {
     "duration": 0.035909,
     "end_time": "2025-06-20T16:52:06.144039",
     "exception": false,
     "start_time": "2025-06-20T16:52:06.108130",
     "status": "completed"
    },
    "tags": []
   },
   "outputs": [
    {
     "data": {
      "text/html": [
       "<div>\n",
       "<style scoped>\n",
       "    .dataframe tbody tr th:only-of-type {\n",
       "        vertical-align: middle;\n",
       "    }\n",
       "\n",
       "    .dataframe tbody tr th {\n",
       "        vertical-align: top;\n",
       "    }\n",
       "\n",
       "    .dataframe thead th {\n",
       "        text-align: right;\n",
       "    }\n",
       "</style>\n",
       "<table border=\"1\" class=\"dataframe\">\n",
       "  <thead>\n",
       "    <tr style=\"text-align: right;\">\n",
       "      <th></th>\n",
       "      <th>id</th>\n",
       "      <th>age</th>\n",
       "      <th>city</th>\n",
       "      <th>f1</th>\n",
       "      <th>f2</th>\n",
       "      <th>f3</th>\n",
       "      <th>f4</th>\n",
       "      <th>f5</th>\n",
       "    </tr>\n",
       "  </thead>\n",
       "  <tbody>\n",
       "    <tr>\n",
       "      <th>0</th>\n",
       "      <td>id01</td>\n",
       "      <td>2.0</td>\n",
       "      <td>서울</td>\n",
       "      <td>NaN</td>\n",
       "      <td>0</td>\n",
       "      <td>NaN</td>\n",
       "      <td>ENFJ</td>\n",
       "      <td>91.297791</td>\n",
       "    </tr>\n",
       "    <tr>\n",
       "      <th>1</th>\n",
       "      <td>id02</td>\n",
       "      <td>9.0</td>\n",
       "      <td>서울</td>\n",
       "      <td>70.0</td>\n",
       "      <td>1</td>\n",
       "      <td>NaN</td>\n",
       "      <td>ENFJ</td>\n",
       "      <td>60.339826</td>\n",
       "    </tr>\n",
       "  </tbody>\n",
       "</table>\n",
       "</div>"
      ],
      "text/plain": [
       "     id  age city    f1  f2   f3    f4         f5\n",
       "0  id01  2.0   서울   NaN   0  NaN  ENFJ  91.297791\n",
       "1  id02  9.0   서울  70.0   1  NaN  ENFJ  60.339826"
      ]
     },
     "execution_count": 4,
     "metadata": {},
     "output_type": "execute_result"
    }
   ],
   "source": [
    "# 라이브러리 및 데이터 불러오기\n",
    "import pandas as pd\n",
    "import numpy as np\n",
    "\n",
    "df = pd.read_csv('../input/bigdatacertificationkr/basic1.csv')\n",
    "df.head(2)"
   ]
  },
  {
   "cell_type": "code",
   "execution_count": 5,
   "id": "2201f18d",
   "metadata": {
    "execution": {
     "iopub.execute_input": "2025-06-20T16:52:06.179812Z",
     "iopub.status.busy": "2025-06-20T16:52:06.178846Z",
     "iopub.status.idle": "2025-06-20T16:52:06.183104Z",
     "shell.execute_reply": "2025-06-20T16:52:06.182610Z",
     "shell.execute_reply.started": "2024-10-27T09:49:18.384280Z"
    },
    "papermill": {
     "duration": 0.027081,
     "end_time": "2025-06-20T16:52:06.183251",
     "exception": false,
     "start_time": "2025-06-20T16:52:06.156170",
     "status": "completed"
    },
    "tags": []
   },
   "outputs": [
    {
     "data": {
      "text/plain": [
       "1       70.0\n",
       "2      131.0\n",
       "6      191.0\n",
       "7      292.0\n",
       "9      366.0\n",
       "13     416.0\n",
       "14     483.0\n",
       "16       NaN\n",
       "19     534.0\n",
       "20       NaN\n",
       "21     606.0\n",
       "22     681.0\n",
       "25     738.0\n",
       "27     772.0\n",
       "33       NaN\n",
       "35     849.0\n",
       "37       NaN\n",
       "46     924.0\n",
       "49    1002.0\n",
       "51    1084.0\n",
       "53       NaN\n",
       "55       NaN\n",
       "58       NaN\n",
       "62    1170.0\n",
       "65       NaN\n",
       "66    1222.0\n",
       "69    1318.0\n",
       "72       NaN\n",
       "77    1414.0\n",
       "80    1464.0\n",
       "82    1514.0\n",
       "86       NaN\n",
       "88    1580.0\n",
       "91    1658.0\n",
       "93       NaN\n",
       "94    1701.0\n",
       "95    1754.0\n",
       "Name: f1, dtype: float64"
      ]
     },
     "execution_count": 5,
     "metadata": {},
     "output_type": "execute_result"
    }
   ],
   "source": [
    "# 조건에 따른 누적합\n",
    "df2 = df[df['f2']==1]['f1'].cumsum()\n",
    "df2"
   ]
  },
  {
   "cell_type": "code",
   "execution_count": 6,
   "id": "a5f15a32",
   "metadata": {
    "execution": {
     "iopub.execute_input": "2025-06-20T16:52:06.214349Z",
     "iopub.status.busy": "2025-06-20T16:52:06.213649Z",
     "iopub.status.idle": "2025-06-20T16:52:06.217522Z",
     "shell.execute_reply": "2025-06-20T16:52:06.218069Z",
     "shell.execute_reply.started": "2024-10-27T09:49:18.560750Z"
    },
    "papermill": {
     "duration": 0.023361,
     "end_time": "2025-06-20T16:52:06.218241",
     "exception": false,
     "start_time": "2025-06-20T16:52:06.194880",
     "status": "completed"
    },
    "tags": []
   },
   "outputs": [
    {
     "data": {
      "text/plain": [
       "1       70.0\n",
       "2      131.0\n",
       "6      191.0\n",
       "7      292.0\n",
       "9      366.0\n",
       "13     416.0\n",
       "14     483.0\n",
       "16     534.0\n",
       "19     534.0\n",
       "20     606.0\n",
       "21     606.0\n",
       "22     681.0\n",
       "25     738.0\n",
       "27     772.0\n",
       "33     849.0\n",
       "35     849.0\n",
       "37     924.0\n",
       "46     924.0\n",
       "49    1002.0\n",
       "51    1084.0\n",
       "53    1170.0\n",
       "55    1170.0\n",
       "58    1170.0\n",
       "62    1170.0\n",
       "65    1222.0\n",
       "66    1222.0\n",
       "69    1318.0\n",
       "72    1414.0\n",
       "77    1414.0\n",
       "80    1464.0\n",
       "82    1514.0\n",
       "86    1580.0\n",
       "88    1580.0\n",
       "91    1658.0\n",
       "93    1701.0\n",
       "94    1701.0\n",
       "95    1754.0\n",
       "Name: f1, dtype: float64"
      ]
     },
     "execution_count": 6,
     "metadata": {},
     "output_type": "execute_result"
    }
   ],
   "source": [
    "# 결측치 처리 (뒤에 나오는 값으로 채움)\n",
    "df2 = df2.fillna(method = 'bfill')\n",
    "df2"
   ]
  },
  {
   "cell_type": "code",
   "execution_count": 7,
   "id": "07bad786",
   "metadata": {
    "execution": {
     "iopub.execute_input": "2025-06-20T16:52:06.249825Z",
     "iopub.status.busy": "2025-06-20T16:52:06.248886Z",
     "iopub.status.idle": "2025-06-20T16:52:06.251893Z",
     "shell.execute_reply": "2025-06-20T16:52:06.252354Z",
     "shell.execute_reply.started": "2024-10-27T09:49:18.726119Z"
    },
    "papermill": {
     "duration": 0.020499,
     "end_time": "2025-06-20T16:52:06.252519",
     "exception": false,
     "start_time": "2025-06-20T16:52:06.232020",
     "status": "completed"
    },
    "tags": []
   },
   "outputs": [
    {
     "name": "stdout",
     "output_type": "stream",
     "text": [
      "980.3783783783783\n"
     ]
    }
   ],
   "source": [
    "# 평균 출력\n",
    "print(df2.mean())"
   ]
  },
  {
   "cell_type": "code",
   "execution_count": null,
   "id": "285183e7",
   "metadata": {
    "papermill": {
     "duration": 0.011863,
     "end_time": "2025-06-20T16:52:06.276449",
     "exception": false,
     "start_time": "2025-06-20T16:52:06.264586",
     "status": "completed"
    },
    "tags": []
   },
   "outputs": [],
   "source": []
  },
  {
   "cell_type": "code",
   "execution_count": null,
   "id": "98c80440",
   "metadata": {
    "papermill": {
     "duration": 0.01168,
     "end_time": "2025-06-20T16:52:06.300186",
     "exception": false,
     "start_time": "2025-06-20T16:52:06.288506",
     "status": "completed"
    },
    "tags": []
   },
   "outputs": [],
   "source": []
  }
 ],
 "metadata": {
  "kaggle": {
   "accelerator": "none",
   "dataSources": [
    {
     "databundleVersionId": 12753598,
     "datasetId": 1633303,
     "sourceId": 12211878,
     "sourceType": "datasetVersion"
    }
   ],
   "dockerImageVersionId": 30138,
   "isGpuEnabled": false,
   "isInternetEnabled": false,
   "language": "python",
   "sourceType": "notebook"
  },
  "kernelspec": {
   "display_name": "Python 3",
   "language": "python",
   "name": "python3"
  },
  "language_info": {
   "codemirror_mode": {
    "name": "ipython",
    "version": 3
   },
   "file_extension": ".py",
   "mimetype": "text/x-python",
   "name": "python",
   "nbconvert_exporter": "python",
   "pygments_lexer": "ipython3",
   "version": "3.7.10"
  },
  "papermill": {
   "default_parameters": {},
   "duration": 10.057586,
   "end_time": "2025-06-20T16:52:06.922677",
   "environment_variables": {},
   "exception": null,
   "input_path": "__notebook__.ipynb",
   "output_path": "__notebook__.ipynb",
   "parameters": {},
   "start_time": "2025-06-20T16:51:56.865091",
   "version": "2.3.3"
  }
 },
 "nbformat": 4,
 "nbformat_minor": 5
}
