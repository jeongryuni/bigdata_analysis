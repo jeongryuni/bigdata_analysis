{
 "cells": [
  {
   "cell_type": "markdown",
   "id": "d41fba1a",
   "metadata": {
    "papermill": {
     "duration": 0.013458,
     "end_time": "2025-06-20T16:51:20.427138",
     "exception": false,
     "start_time": "2025-06-20T16:51:20.413680",
     "status": "completed"
    },
    "tags": []
   },
   "source": [
    "### 주어진 데이터 셋에서 'f2' 컬럼이 1인 조건에 해당하는 데이터의 'f1'컬럼 누적합을 계산한다. 이때 발생하는 누적합 결측치는 바로 뒤의 값을 채우고, 누적합의 평균값을 출력한다. (단, 결측치 바로 뒤의 값이 없으면 다음에 나오는 값을 채워넣는다)\n",
    "\n",
    "- 데이터셋 : basic1.csv\n",
    "- 오른쪽 상단 copy&edit 클릭 -> 예상문제 풀이 시작"
   ]
  },
  {
   "cell_type": "markdown",
   "id": "957c61c5",
   "metadata": {
    "papermill": {
     "duration": 0.009489,
     "end_time": "2025-06-20T16:51:20.447416",
     "exception": false,
     "start_time": "2025-06-20T16:51:20.437927",
     "status": "completed"
    },
    "tags": []
   },
   "source": [
    "# START"
   ]
  },
  {
   "cell_type": "code",
   "execution_count": 1,
   "id": "59dad1eb",
   "metadata": {
    "execution": {
     "iopub.execute_input": "2025-06-20T16:51:20.478728Z",
     "iopub.status.busy": "2025-06-20T16:51:20.477550Z",
     "iopub.status.idle": "2025-06-20T16:51:20.510265Z",
     "shell.execute_reply": "2025-06-20T16:51:20.509618Z",
     "shell.execute_reply.started": "2025-06-20T16:50:37.764474Z"
    },
    "papermill": {
     "duration": 0.053525,
     "end_time": "2025-06-20T16:51:20.510519",
     "exception": false,
     "start_time": "2025-06-20T16:51:20.456994",
     "status": "completed"
    },
    "tags": []
   },
   "outputs": [
    {
     "name": "stdout",
     "output_type": "stream",
     "text": [
      "980.3783783783783\n"
     ]
    }
   ],
   "source": [
    "# 라이브러리 및 데이터 불러오기\n",
    "import pandas as pd\n",
    "import numpy as np\n",
    "df = pd.read_csv('/kaggle/input/bigdatacertificationkr/basic1.csv')\n",
    "\n",
    "#  'f2' 컬럼이 1인 조건에 해당하는 데이터의 'f1'컬럼 누적합을 계산한다.\n",
    "cumsum = df.loc[df['f2'] == 1, 'f1'].cumsum()\n",
    "\n",
    "# 이때 발생하는 누적합 결측치는 바로 뒤의 값을 채우고 누적합의 평균값을 출력\n",
    "cumsum = cumsum.fillna(method = 'bfill')\n",
    "print(cumsum.mean())"
   ]
  },
  {
   "cell_type": "code",
   "execution_count": null,
   "id": "d7ce0680",
   "metadata": {
    "papermill": {
     "duration": 0.009591,
     "end_time": "2025-06-20T16:51:20.530594",
     "exception": false,
     "start_time": "2025-06-20T16:51:20.521003",
     "status": "completed"
    },
    "tags": []
   },
   "outputs": [],
   "source": []
  },
  {
   "cell_type": "code",
   "execution_count": 2,
   "id": "a00218a8",
   "metadata": {
    "execution": {
     "iopub.execute_input": "2025-06-20T16:51:20.557224Z",
     "iopub.status.busy": "2025-06-20T16:51:20.556522Z",
     "iopub.status.idle": "2025-06-20T16:51:20.567118Z",
     "shell.execute_reply": "2025-06-20T16:51:20.566589Z",
     "shell.execute_reply.started": "2025-05-04T22:57:57.019009Z"
    },
    "papermill": {
     "duration": 0.026414,
     "end_time": "2025-06-20T16:51:20.567256",
     "exception": false,
     "start_time": "2025-06-20T16:51:20.540842",
     "status": "completed"
    },
    "tags": []
   },
   "outputs": [
    {
     "name": "stdout",
     "output_type": "stream",
     "text": [
      "980.3783783783783\n"
     ]
    }
   ],
   "source": [
    "# 주어진 데이터 셋에서 'f2' 컬럼이 1인 조건에 해당하는 데이터의 'f1'컬럼 누적합을 계산한다. \n",
    "# 이때 발생하는 누적합 결측치는 바로 뒤의 값을 채우고, 누적합의 평균값을 출력한다. \n",
    "# (단, 결측치 바로 뒤의 값이 없으면 다음에 나오는 값을 채워넣는다\n",
    "\n",
    "import pandas as pd\n",
    "import numpy as np\n",
    "df = pd.read_csv('/kaggle/input/bigdatacertificationkr/basic1.csv')\n",
    "\n",
    "# 누적합 계산\n",
    "df2 = df.loc[df['f2'] == 1, 'f1'].cumsum()\n",
    "\n",
    "df2 = df2.fillna(method = 'bfill').mean()\n",
    "print(df2)"
   ]
  },
  {
   "cell_type": "code",
   "execution_count": null,
   "id": "cd0f0914",
   "metadata": {
    "papermill": {
     "duration": 0.009946,
     "end_time": "2025-06-20T16:51:20.587464",
     "exception": false,
     "start_time": "2025-06-20T16:51:20.577518",
     "status": "completed"
    },
    "tags": []
   },
   "outputs": [],
   "source": []
  },
  {
   "cell_type": "code",
   "execution_count": null,
   "id": "72dc6efd",
   "metadata": {
    "papermill": {
     "duration": 0.009838,
     "end_time": "2025-06-20T16:51:20.607519",
     "exception": false,
     "start_time": "2025-06-20T16:51:20.597681",
     "status": "completed"
    },
    "tags": []
   },
   "outputs": [],
   "source": []
  },
  {
   "cell_type": "code",
   "execution_count": null,
   "id": "43ce5f27",
   "metadata": {
    "papermill": {
     "duration": 0.010095,
     "end_time": "2025-06-20T16:51:20.627818",
     "exception": false,
     "start_time": "2025-06-20T16:51:20.617723",
     "status": "completed"
    },
    "tags": []
   },
   "outputs": [],
   "source": []
  },
  {
   "cell_type": "markdown",
   "id": "222971b0",
   "metadata": {
    "papermill": {
     "duration": 0.010025,
     "end_time": "2025-06-20T16:51:20.648234",
     "exception": false,
     "start_time": "2025-06-20T16:51:20.638209",
     "status": "completed"
    },
    "tags": []
   },
   "source": [
    "## Hint"
   ]
  },
  {
   "cell_type": "code",
   "execution_count": 3,
   "id": "2bd1436f",
   "metadata": {
    "execution": {
     "iopub.execute_input": "2025-06-20T16:51:20.680714Z",
     "iopub.status.busy": "2025-06-20T16:51:20.679820Z",
     "iopub.status.idle": "2025-06-20T16:51:20.684919Z",
     "shell.execute_reply": "2025-06-20T16:51:20.685418Z",
     "shell.execute_reply.started": "2024-10-27T09:49:17.882163Z"
    },
    "papermill": {
     "duration": 0.027063,
     "end_time": "2025-06-20T16:51:20.685605",
     "exception": false,
     "start_time": "2025-06-20T16:51:20.658542",
     "status": "completed"
    },
    "tags": []
   },
   "outputs": [
    {
     "name": "stdout",
     "output_type": "stream",
     "text": [
      "0     NaN\n",
      "1     퇴근후\n",
      "2     NaN\n",
      "3      딴짓\n",
      "4     NaN\n",
      "5      22\n",
      "6     NaN\n",
      "7      45\n",
      "8     NaN\n",
      "9     NaN\n",
      "10     60\n",
      "dtype: object\n"
     ]
    },
    {
     "data": {
      "text/plain": [
       "0     퇴근후\n",
       "1     퇴근후\n",
       "2      딴짓\n",
       "3      딴짓\n",
       "4      22\n",
       "5      22\n",
       "6      45\n",
       "7      45\n",
       "8      60\n",
       "9      60\n",
       "10     60\n",
       "dtype: object"
      ]
     },
     "execution_count": 3,
     "metadata": {},
     "output_type": "execute_result"
    }
   ],
   "source": [
    "import pandas as pd\n",
    "import numpy as np\n",
    "\n",
    "# 뒷값으로 결측치 채우기\n",
    "s = pd.Series([np.nan, \"퇴근후\", np.nan,\"딴짓\", np.nan, 22, np.nan,45, np.nan, np.nan, 60])\n",
    "print(s)\n",
    "\n",
    "s.fillna(method='bfill') # 바로 뒤값으로 채워넣는 방법\n",
    "# s.fillna(method='pad') # 이전값으로 채워넣는 방법"
   ]
  },
  {
   "cell_type": "markdown",
   "id": "94ef087c",
   "metadata": {
    "papermill": {
     "duration": 0.01052,
     "end_time": "2025-06-20T16:51:20.707002",
     "exception": false,
     "start_time": "2025-06-20T16:51:20.696482",
     "status": "completed"
    },
    "tags": []
   },
   "source": [
    "## 풀이"
   ]
  },
  {
   "cell_type": "code",
   "execution_count": 4,
   "id": "2c23d1f7",
   "metadata": {
    "_cell_guid": "b1076dfc-b9ad-4769-8c92-a6c4dae69d19",
    "_uuid": "8f2839f25d086af736a60e9eeb907d3b93b6e0e5",
    "execution": {
     "iopub.execute_input": "2025-06-20T16:51:20.734227Z",
     "iopub.status.busy": "2025-06-20T16:51:20.733576Z",
     "iopub.status.idle": "2025-06-20T16:51:20.752528Z",
     "shell.execute_reply": "2025-06-20T16:51:20.751887Z",
     "shell.execute_reply.started": "2024-10-27T09:49:18.212306Z"
    },
    "papermill": {
     "duration": 0.034653,
     "end_time": "2025-06-20T16:51:20.752675",
     "exception": false,
     "start_time": "2025-06-20T16:51:20.718022",
     "status": "completed"
    },
    "tags": []
   },
   "outputs": [
    {
     "data": {
      "text/html": [
       "<div>\n",
       "<style scoped>\n",
       "    .dataframe tbody tr th:only-of-type {\n",
       "        vertical-align: middle;\n",
       "    }\n",
       "\n",
       "    .dataframe tbody tr th {\n",
       "        vertical-align: top;\n",
       "    }\n",
       "\n",
       "    .dataframe thead th {\n",
       "        text-align: right;\n",
       "    }\n",
       "</style>\n",
       "<table border=\"1\" class=\"dataframe\">\n",
       "  <thead>\n",
       "    <tr style=\"text-align: right;\">\n",
       "      <th></th>\n",
       "      <th>id</th>\n",
       "      <th>age</th>\n",
       "      <th>city</th>\n",
       "      <th>f1</th>\n",
       "      <th>f2</th>\n",
       "      <th>f3</th>\n",
       "      <th>f4</th>\n",
       "      <th>f5</th>\n",
       "    </tr>\n",
       "  </thead>\n",
       "  <tbody>\n",
       "    <tr>\n",
       "      <th>0</th>\n",
       "      <td>id01</td>\n",
       "      <td>2.0</td>\n",
       "      <td>서울</td>\n",
       "      <td>NaN</td>\n",
       "      <td>0</td>\n",
       "      <td>NaN</td>\n",
       "      <td>ENFJ</td>\n",
       "      <td>91.297791</td>\n",
       "    </tr>\n",
       "    <tr>\n",
       "      <th>1</th>\n",
       "      <td>id02</td>\n",
       "      <td>9.0</td>\n",
       "      <td>서울</td>\n",
       "      <td>70.0</td>\n",
       "      <td>1</td>\n",
       "      <td>NaN</td>\n",
       "      <td>ENFJ</td>\n",
       "      <td>60.339826</td>\n",
       "    </tr>\n",
       "  </tbody>\n",
       "</table>\n",
       "</div>"
      ],
      "text/plain": [
       "     id  age city    f1  f2   f3    f4         f5\n",
       "0  id01  2.0   서울   NaN   0  NaN  ENFJ  91.297791\n",
       "1  id02  9.0   서울  70.0   1  NaN  ENFJ  60.339826"
      ]
     },
     "execution_count": 4,
     "metadata": {},
     "output_type": "execute_result"
    }
   ],
   "source": [
    "# 라이브러리 및 데이터 불러오기\n",
    "import pandas as pd\n",
    "import numpy as np\n",
    "\n",
    "df = pd.read_csv('../input/bigdatacertificationkr/basic1.csv')\n",
    "df.head(2)"
   ]
  },
  {
   "cell_type": "code",
   "execution_count": 5,
   "id": "3d02dd4d",
   "metadata": {
    "execution": {
     "iopub.execute_input": "2025-06-20T16:51:20.788275Z",
     "iopub.status.busy": "2025-06-20T16:51:20.787348Z",
     "iopub.status.idle": "2025-06-20T16:51:20.791262Z",
     "shell.execute_reply": "2025-06-20T16:51:20.790670Z",
     "shell.execute_reply.started": "2024-10-27T09:49:18.384280Z"
    },
    "papermill": {
     "duration": 0.026618,
     "end_time": "2025-06-20T16:51:20.791415",
     "exception": false,
     "start_time": "2025-06-20T16:51:20.764797",
     "status": "completed"
    },
    "tags": []
   },
   "outputs": [
    {
     "data": {
      "text/plain": [
       "1       70.0\n",
       "2      131.0\n",
       "6      191.0\n",
       "7      292.0\n",
       "9      366.0\n",
       "13     416.0\n",
       "14     483.0\n",
       "16       NaN\n",
       "19     534.0\n",
       "20       NaN\n",
       "21     606.0\n",
       "22     681.0\n",
       "25     738.0\n",
       "27     772.0\n",
       "33       NaN\n",
       "35     849.0\n",
       "37       NaN\n",
       "46     924.0\n",
       "49    1002.0\n",
       "51    1084.0\n",
       "53       NaN\n",
       "55       NaN\n",
       "58       NaN\n",
       "62    1170.0\n",
       "65       NaN\n",
       "66    1222.0\n",
       "69    1318.0\n",
       "72       NaN\n",
       "77    1414.0\n",
       "80    1464.0\n",
       "82    1514.0\n",
       "86       NaN\n",
       "88    1580.0\n",
       "91    1658.0\n",
       "93       NaN\n",
       "94    1701.0\n",
       "95    1754.0\n",
       "Name: f1, dtype: float64"
      ]
     },
     "execution_count": 5,
     "metadata": {},
     "output_type": "execute_result"
    }
   ],
   "source": [
    "# 조건에 따른 누적합\n",
    "df2 = df[df['f2']==1]['f1'].cumsum()\n",
    "df2"
   ]
  },
  {
   "cell_type": "code",
   "execution_count": 6,
   "id": "5949c8b3",
   "metadata": {
    "execution": {
     "iopub.execute_input": "2025-06-20T16:51:20.824969Z",
     "iopub.status.busy": "2025-06-20T16:51:20.823848Z",
     "iopub.status.idle": "2025-06-20T16:51:20.828321Z",
     "shell.execute_reply": "2025-06-20T16:51:20.827866Z",
     "shell.execute_reply.started": "2024-10-27T09:49:18.560750Z"
    },
    "papermill": {
     "duration": 0.024188,
     "end_time": "2025-06-20T16:51:20.828488",
     "exception": false,
     "start_time": "2025-06-20T16:51:20.804300",
     "status": "completed"
    },
    "tags": []
   },
   "outputs": [
    {
     "data": {
      "text/plain": [
       "1       70.0\n",
       "2      131.0\n",
       "6      191.0\n",
       "7      292.0\n",
       "9      366.0\n",
       "13     416.0\n",
       "14     483.0\n",
       "16     534.0\n",
       "19     534.0\n",
       "20     606.0\n",
       "21     606.0\n",
       "22     681.0\n",
       "25     738.0\n",
       "27     772.0\n",
       "33     849.0\n",
       "35     849.0\n",
       "37     924.0\n",
       "46     924.0\n",
       "49    1002.0\n",
       "51    1084.0\n",
       "53    1170.0\n",
       "55    1170.0\n",
       "58    1170.0\n",
       "62    1170.0\n",
       "65    1222.0\n",
       "66    1222.0\n",
       "69    1318.0\n",
       "72    1414.0\n",
       "77    1414.0\n",
       "80    1464.0\n",
       "82    1514.0\n",
       "86    1580.0\n",
       "88    1580.0\n",
       "91    1658.0\n",
       "93    1701.0\n",
       "94    1701.0\n",
       "95    1754.0\n",
       "Name: f1, dtype: float64"
      ]
     },
     "execution_count": 6,
     "metadata": {},
     "output_type": "execute_result"
    }
   ],
   "source": [
    "# 결측치 처리 (뒤에 나오는 값으로 채움)\n",
    "df2 = df2.fillna(method = 'bfill')\n",
    "df2"
   ]
  },
  {
   "cell_type": "code",
   "execution_count": 7,
   "id": "33ff1a7a",
   "metadata": {
    "execution": {
     "iopub.execute_input": "2025-06-20T16:51:20.859105Z",
     "iopub.status.busy": "2025-06-20T16:51:20.858404Z",
     "iopub.status.idle": "2025-06-20T16:51:20.862914Z",
     "shell.execute_reply": "2025-06-20T16:51:20.862154Z",
     "shell.execute_reply.started": "2024-10-27T09:49:18.726119Z"
    },
    "papermill": {
     "duration": 0.022522,
     "end_time": "2025-06-20T16:51:20.863065",
     "exception": false,
     "start_time": "2025-06-20T16:51:20.840543",
     "status": "completed"
    },
    "tags": []
   },
   "outputs": [
    {
     "name": "stdout",
     "output_type": "stream",
     "text": [
      "980.3783783783783\n"
     ]
    }
   ],
   "source": [
    "# 평균 출력\n",
    "print(df2.mean())"
   ]
  },
  {
   "cell_type": "code",
   "execution_count": null,
   "id": "9fd20d60",
   "metadata": {
    "papermill": {
     "duration": 0.012102,
     "end_time": "2025-06-20T16:51:20.888057",
     "exception": false,
     "start_time": "2025-06-20T16:51:20.875955",
     "status": "completed"
    },
    "tags": []
   },
   "outputs": [],
   "source": []
  },
  {
   "cell_type": "code",
   "execution_count": null,
   "id": "35eea6cd",
   "metadata": {
    "papermill": {
     "duration": 0.011905,
     "end_time": "2025-06-20T16:51:20.912081",
     "exception": false,
     "start_time": "2025-06-20T16:51:20.900176",
     "status": "completed"
    },
    "tags": []
   },
   "outputs": [],
   "source": []
  }
 ],
 "metadata": {
  "kaggle": {
   "accelerator": "none",
   "dataSources": [
    {
     "databundleVersionId": 12753598,
     "datasetId": 1633303,
     "sourceId": 12211878,
     "sourceType": "datasetVersion"
    }
   ],
   "dockerImageVersionId": 30138,
   "isGpuEnabled": false,
   "isInternetEnabled": false,
   "language": "python",
   "sourceType": "notebook"
  },
  "kernelspec": {
   "display_name": "Python 3",
   "language": "python",
   "name": "python3"
  },
  "language_info": {
   "codemirror_mode": {
    "name": "ipython",
    "version": 3
   },
   "file_extension": ".py",
   "mimetype": "text/x-python",
   "name": "python",
   "nbconvert_exporter": "python",
   "pygments_lexer": "ipython3",
   "version": "3.7.10"
  },
  "papermill": {
   "default_parameters": {},
   "duration": 10.177914,
   "end_time": "2025-06-20T16:51:21.536436",
   "environment_variables": {},
   "exception": null,
   "input_path": "__notebook__.ipynb",
   "output_path": "__notebook__.ipynb",
   "parameters": {},
   "start_time": "2025-06-20T16:51:11.358522",
   "version": "2.3.3"
  }
 },
 "nbformat": 4,
 "nbformat_minor": 5
}
