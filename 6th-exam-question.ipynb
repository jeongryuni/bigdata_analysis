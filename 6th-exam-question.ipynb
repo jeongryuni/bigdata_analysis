{
 "cells": [
  {
   "cell_type": "markdown",
   "id": "66760850",
   "metadata": {
    "papermill": {
     "duration": 0.004046,
     "end_time": "2025-06-10T20:55:35.641799",
     "exception": false,
     "start_time": "2025-06-10T20:55:35.637753",
     "status": "completed"
    },
    "tags": []
   },
   "source": [
    "# 작업형1"
   ]
  },
  {
   "cell_type": "markdown",
   "id": "c891ef93",
   "metadata": {
    "papermill": {
     "duration": 0.003228,
     "end_time": "2025-06-10T20:55:35.648685",
     "exception": false,
     "start_time": "2025-06-10T20:55:35.645457",
     "status": "completed"
    },
    "tags": []
   },
   "source": [
    "## 문제1\n",
    "각 구급 보고서별 출동시간과 신고시각의 차이를 '소요시간' 컬럼으로 만들어 초(sec) 단위로 구하고\n",
    "\n",
    "소방서명별 소요시간의 평균을 오름차순으로 정렬했을 때 3번째로 작은 소요시간의 값과 소방서명을 출력"
   ]
  },
  {
   "cell_type": "code",
   "execution_count": 1,
   "id": "1e0a3cf2",
   "metadata": {
    "_cell_guid": "b1076dfc-b9ad-4769-8c92-a6c4dae69d19",
    "_uuid": "8f2839f25d086af736a60e9eeb907d3b93b6e0e5",
    "execution": {
     "iopub.execute_input": "2025-06-10T20:55:35.656252Z",
     "iopub.status.busy": "2025-06-10T20:55:35.655948Z",
     "iopub.status.idle": "2025-06-10T20:55:38.039041Z",
     "shell.execute_reply": "2025-06-10T20:55:38.037746Z"
    },
    "papermill": {
     "duration": 2.388895,
     "end_time": "2025-06-10T20:55:38.040733",
     "exception": false,
     "start_time": "2025-06-10T20:55:35.651838",
     "status": "completed"
    },
    "tags": []
   },
   "outputs": [
    {
     "name": "stdout",
     "output_type": "stream",
     "text": [
      "소방서명    종로소방서\n",
      "소요시간    175.5\n",
      "Name: 21, dtype: object\n"
     ]
    }
   ],
   "source": [
    "import numpy as np\n",
    "import pandas as pd\n",
    "\n",
    "df = pd.read_csv('/kaggle/input/bigdata-csvfile/report_data.csv')\n",
    "\n",
    "df['신고일시'] = pd.to_datetime(\n",
    "   df['신고일자'].astype(str) + df['신고시각'].astype(str).str.zfill(6),\n",
    "    format = '%Y%m%d%H%M%S')\n",
    "\n",
    "df['출동일시'] = pd.to_datetime(\n",
    "   df['출동일자'].astype(str) + df['출동시각'].astype(str).str.zfill(6),\n",
    "    format = '%Y%m%d%H%M%S')\n",
    "    \n",
    "df['소요시간'] = (df['출동일시'] - df['신고일시']).dt.total_seconds()\n",
    "\n",
    "df2 = df.groupby('소방서명')['소요시간'].mean().reset_index().sort_values(by='소요시간')\n",
    "print(df2.iloc[2])"
   ]
  },
  {
   "cell_type": "markdown",
   "id": "c2d02f2d",
   "metadata": {
    "papermill": {
     "duration": 0.00297,
     "end_time": "2025-06-10T20:55:38.047329",
     "exception": false,
     "start_time": "2025-06-10T20:55:38.044359",
     "status": "completed"
    },
    "tags": []
   },
   "source": [
    "## 문제2\n",
    "\n",
    "학교 세부 유형이 일반중학교인 학교들 중 일반중학교 숫자가 2번째로 많은 시도의 일반중학교 데이터만 필터하여 해당 시도의 교원 한 명당 맡은 학생 수가 가장 많은 학교를 찾아서 해당 학교의 교원 수를 출력하시오.\n",
    "\n",
    "(단, 값이 0 또는 NaN의 경우 값이 없는 것으로 판단하여 연산에서 제외한다.)"
   ]
  },
  {
   "cell_type": "code",
   "execution_count": 2,
   "id": "4c5f8ecf",
   "metadata": {
    "execution": {
     "iopub.execute_input": "2025-06-10T20:55:38.054898Z",
     "iopub.status.busy": "2025-06-10T20:55:38.054545Z",
     "iopub.status.idle": "2025-06-10T20:55:38.094573Z",
     "shell.execute_reply": "2025-06-10T20:55:38.093515Z"
    },
    "papermill": {
     "duration": 0.045562,
     "end_time": "2025-06-10T20:55:38.096046",
     "exception": false,
     "start_time": "2025-06-10T20:55:38.050484",
     "status": "completed"
    },
    "tags": []
   },
   "outputs": [
    {
     "name": "stdout",
     "output_type": "stream",
     "text": [
      "33.0\n"
     ]
    }
   ],
   "source": [
    "import numpy as np\n",
    "import pandas as pd\n",
    "\n",
    "df = pd.read_csv('/kaggle/input/bigdata-csvfile/class_data.csv')\n",
    "\n",
    "# 일반중학교가 2번째로 많은 시도\n",
    "df = df[df['학교세부유형'] == '일반중학교']\n",
    "# print(df['시도'].value_counts()) #서울    387\n",
    "\n",
    "# 맡은 학생 수가 가장 많은 학교의 교원 수\n",
    "df = df[df['시도'] == '서울']\n",
    "new_data = df.groupby(['시도', '학교명', '학교세부유형']).sum()\n",
    "new_data['cond'] = new_data['일반학급_학생수_계'] / new_data['교원수_총계_계']\n",
    "new_data = new_data.sort_values(by='cond', ascending=False)\n",
    "result = new_data.iloc[0]\n",
    "print(result['교원수_총계_계']) "
   ]
  },
  {
   "cell_type": "markdown",
   "id": "ba02f251",
   "metadata": {
    "papermill": {
     "duration": 0.003136,
     "end_time": "2025-06-10T20:55:38.102669",
     "exception": false,
     "start_time": "2025-06-10T20:55:38.099533",
     "status": "completed"
    },
    "tags": []
   },
   "source": [
    "## 문제3\n",
    "\n",
    "5대 범죄(절도, 사기, 배임, 방화, 폭행)의 월별 총발생건수를 총범죄수라고 표현 하자. \n",
    "\n",
    "2018, 2019년의 각각 분기별 총범죄수의 월평균 값을 구했을 때 최댓값을 가지는 연도와 분기를 구하고 해당 분기의 최댓값의 사기 범죄가 발생한 월의 사 기 범죄 발생건수를 출력하시오. \n",
    "\n",
    "(단, 분기 정보는 다음과 같이 한다.\n",
    "1분기 :1, 2, 3월 / 2분기 : 4, 5, 6월 / 3분기 : 7, 8, 9월 / 4분기 : 10, 11, 12월, \n",
    "\n",
    "- 1분기 월평균 : 1, 2, 3월의 총범죄수 평균, 2분기 월평균 : 4, 5, 6월의 총범죄수 평균,\n",
    "- 3분기 월평균 : 7, 8, 9월의 총범죄수 평균, 4분기 월평균 : 10, 11, 12월의 총범 죄수 평균)"
   ]
  },
  {
   "cell_type": "code",
   "execution_count": 3,
   "id": "2faf95d2",
   "metadata": {
    "execution": {
     "iopub.execute_input": "2025-06-10T20:55:38.110391Z",
     "iopub.status.busy": "2025-06-10T20:55:38.110101Z",
     "iopub.status.idle": "2025-06-10T20:55:38.129210Z",
     "shell.execute_reply": "2025-06-10T20:55:38.128095Z"
    },
    "papermill": {
     "duration": 0.024799,
     "end_time": "2025-06-10T20:55:38.130755",
     "exception": false,
     "start_time": "2025-06-10T20:55:38.105956",
     "status": "completed"
    },
    "tags": []
   },
   "outputs": [
    {
     "name": "stdout",
     "output_type": "stream",
     "text": [
      "5\n",
      "27766\n"
     ]
    }
   ],
   "source": [
    "# 방법1\n",
    "import numpy as np\n",
    "import pandas as pd\n",
    "\n",
    "df = pd.read_csv('/kaggle/input/bigdata-csvfile/crime_data.csv')\n",
    "df['총발생건수'] = df['절도'] + df['사기'] + df['배임'] + df['방화'] + df['폭행']\n",
    "\n",
    "brach_2018_1 = df[0:3]['총발생건수'].sum()\n",
    "brach_2018_2 = df[3:6]['총발생건수'].sum()\n",
    "brach_2018_3 = df[6:9]['총발생건수'].sum()\n",
    "brach_2018_4 = df[9:12]['총발생건수'].sum()\n",
    "\n",
    "brach_2019_1 = df[12:15]['총발생건수'].sum()\n",
    "brach_2019_2 = df[15:18]['총발생건수'].sum()\n",
    "brach_2019_3 = df[18:21]['총발생건수'].sum()\n",
    "brach_2019_4 = df[21:24]['총발생건수'].sum()\n",
    "\n",
    "list = [brach_2018_1, brach_2018_2, brach_2018_3, brach_2018_4, brach_2019_1, brach_2019_2, brach_2019_3, brach_2019_4]\n",
    "\n",
    "print(list.index(max(list))) #brach_2019_2\n",
    "\n",
    "print(df[15:18]['사기'].max()) #27766"
   ]
  },
  {
   "cell_type": "code",
   "execution_count": 4,
   "id": "31e701f3",
   "metadata": {
    "execution": {
     "iopub.execute_input": "2025-06-10T20:55:38.139516Z",
     "iopub.status.busy": "2025-06-10T20:55:38.139207Z",
     "iopub.status.idle": "2025-06-10T20:55:38.162754Z",
     "shell.execute_reply": "2025-06-10T20:55:38.161735Z"
    },
    "papermill": {
     "duration": 0.029495,
     "end_time": "2025-06-10T20:55:38.164281",
     "exception": false,
     "start_time": "2025-06-10T20:55:38.134786",
     "status": "completed"
    },
    "tags": []
   },
   "outputs": [
    {
     "name": "stdout",
     "output_type": "stream",
     "text": [
      "분기          2분기\n",
      "연도         2019\n",
      "총발생건수    175315\n",
      "Name: 3, dtype: object\n",
      "27766\n"
     ]
    }
   ],
   "source": [
    "# 방법2\n",
    "import numpy as np\n",
    "import pandas as pd\n",
    "\n",
    "df = pd.read_csv('/kaggle/input/bigdata-csvfile/crime_data.csv')\n",
    "\n",
    "#2018년 2019년 각각 분기별 총범죄자수 월평균 값\n",
    "\n",
    "df['범죄분류'] = pd.to_datetime(df['범죄분류'], format='%Y년_%m월')\n",
    "df['범죄분류'] = df['범죄분류'].dt.to_period('M')\n",
    "df['연도'] = df['범죄분류'].dt.year\n",
    "df['월'] = df['범죄분류'].dt.month\n",
    "\n",
    "def branch(number):\n",
    "    if number in [1, 2, 3]:\n",
    "        return '1분기'\n",
    "    elif number in [4, 5, 6]:\n",
    "        return '2분기'\n",
    "    elif number in [7, 8, 9]:\n",
    "        return '3분기'\n",
    "    else:\n",
    "        return '4분기'\n",
    "\n",
    "df['분기'] = df['월'].apply(branch)\n",
    "df['총발생건수'] = df['절도'] + df['사기'] + df['배임'] + df['방화'] + df['폭행']\n",
    "\n",
    "# 최댓값을 가지는 연도와 분기를 구하고 해당 분기의 최댓값의 사기 범죄가 발생한 월의 사기 범죄 발생건수를 출력하시오.\n",
    "df2 = df.groupby(['분기', '연도'])['총발생건수'].sum().reset_index().sort_values(by='총발생건수', ascending=False)\n",
    "print(df2.iloc[0]) # 2019년도 2분기 총발생건수 175315\n",
    "\n",
    "# 2019-05 2분기의 사기범죄 발생건수\n",
    "cond = df.loc[(df['연도']==2019) & (df['월']==5) & (df['분기'] == '2분기'),'사기'].max()\n",
    "print(cond) #27766\n",
    "\n"
   ]
  },
  {
   "cell_type": "markdown",
   "id": "00b969ff",
   "metadata": {
    "papermill": {
     "duration": 0.003136,
     "end_time": "2025-06-10T20:55:38.171224",
     "exception": false,
     "start_time": "2025-06-10T20:55:38.168088",
     "status": "completed"
    },
    "tags": []
   },
   "source": [
    "## 작업형2\n"
   ]
  },
  {
   "cell_type": "markdown",
   "id": "d1da1499",
   "metadata": {
    "papermill": {
     "duration": 0.003076,
     "end_time": "2025-06-10T20:55:38.177775",
     "exception": false,
     "start_time": "2025-06-10T20:55:38.174699",
     "status": "completed"
    },
    "tags": []
   },
   "source": [
    "주어지는 데이터를 활용하여 예측 변수 General_Health에 대해 ID별로 GeneralLHealth 값을 예측하여 제출한다. \n",
    "\n",
    "(단, 제출 데이터 칼럼은 ID와 General_Health 두 개만 존재해야 하고, 평가지표는 macro f1 score로 한다. 제 출 파일 이름은 6th_test_type2.csv로 한다.)"
   ]
  },
  {
   "cell_type": "code",
   "execution_count": 5,
   "id": "129053c7",
   "metadata": {
    "execution": {
     "iopub.execute_input": "2025-06-10T20:55:38.185614Z",
     "iopub.status.busy": "2025-06-10T20:55:38.185255Z",
     "iopub.status.idle": "2025-06-10T20:55:42.907027Z",
     "shell.execute_reply": "2025-06-10T20:55:42.905978Z"
    },
    "papermill": {
     "duration": 4.727416,
     "end_time": "2025-06-10T20:55:42.908454",
     "exception": false,
     "start_time": "2025-06-10T20:55:38.181038",
     "status": "completed"
    },
    "tags": []
   },
   "outputs": [
    {
     "name": "stdout",
     "output_type": "stream",
     "text": [
      "(11230, 19) (4813, 19)\n",
      "           pred\n",
      "0     Excellent\n",
      "1     Excellent\n",
      "2          Good\n",
      "3     Excellent\n",
      "4     Excellent\n",
      "...         ...\n",
      "4808  Excellent\n",
      "4809       Good\n",
      "4810       Fair\n",
      "4811       Fair\n",
      "4812       Good\n",
      "\n",
      "[4813 rows x 1 columns]\n"
     ]
    }
   ],
   "source": [
    "import pandas as pd\n",
    "import numpy as np\n",
    "\n",
    "train = pd.read_csv('/kaggle/input/bigdata-csvfile/test6_type2_train.csv')\n",
    "test = pd.read_csv('/kaggle/input/bigdata-csvfile/test6_type2_test.csv')\n",
    "y = train['General_Health']\n",
    "\n",
    "train = train.drop(columns = 'General_Health')\n",
    "# 필요없는 컬럼 제거\n",
    "train_drop = train.drop(columns = 'ID')\n",
    "test_drop = test.drop(columns = 'ID')\n",
    "\n",
    "# 컬럼개수 확인\n",
    "print(train.shape, test.shape)\n",
    "\n",
    "# 인코딩\n",
    "train_dummies = pd.get_dummies(train_drop)\n",
    "test_dummies = pd.get_dummies(test_drop)\n",
    "\n",
    "# 컬럼개수 맞추기\n",
    "for col in train_dummies.columns:\n",
    "    if col not in test_dummies.columns:\n",
    "        train_dummies.drop(columns=col, axis=1, inplace=True)\n",
    "\n",
    "for col in test_dummies.columns:\n",
    "    if col not in train_dummies.columns:\n",
    "        test_dummies.drop(columns=col, axis=1, inplace=True)\n",
    "\n",
    "\n",
    "# 랜덤포레스트\n",
    "from sklearn.ensemble import RandomForestClassifier\n",
    "model = RandomForestClassifier()\n",
    "model.fit(train_dummies, y)\n",
    "pred = model.predict(test_dummies)\n",
    "\n",
    "# 데이터프레임 생성\n",
    "result = pd.DataFrame({'pred' : pred})\n",
    "# csv\n",
    "result.to_csv('result.csv', index=False)\n",
    "csv_read = pd.read_csv('result.csv')\n",
    "print(csv_read)"
   ]
  },
  {
   "cell_type": "markdown",
   "id": "f02b9d7a",
   "metadata": {
    "papermill": {
     "duration": 0.003132,
     "end_time": "2025-06-10T20:55:42.915215",
     "exception": false,
     "start_time": "2025-06-10T20:55:42.912083",
     "status": "completed"
    },
    "tags": []
   },
   "source": [
    "# 작업형3"
   ]
  },
  {
   "cell_type": "markdown",
   "id": "ca61cad0",
   "metadata": {
    "papermill": {
     "duration": 0.003024,
     "end_time": "2025-06-10T20:55:42.921496",
     "exception": false,
     "start_time": "2025-06-10T20:55:42.918472",
     "status": "completed"
    },
    "tags": []
   },
   "source": [
    "## 문제1\n",
    "\n",
    "S 도시에는 남성 700명과 여성 500명이 있다. S 도시의 남성 중 기혼자의 비율은 30%이고, 여성 중 기혼자의 비율은 20%이다. 남성과 여성의 혼인 여부에 따른 인 구 비율이 동일한지 확인해본다. 각 문항의 답을 제출 형식에 맞춰 제출하시오.\n",
    "\n",
    "1. 남, 여 기혼자와 미혼자에 대한 카이제곱 검정을 진행하고, 카이제곱 통계량을 출력 한다.\n",
    "2. 유의수준 0.05를 기준으로 할 때, 카이제 검정 결과의 p_value를 출력한다.\n",
    "3. 검증된 p_ value 결과를 바탕으로 '귀무가 기각' 혹은 귀무가 채택'을 출력한다."
   ]
  },
  {
   "cell_type": "code",
   "execution_count": 6,
   "id": "e4c811be",
   "metadata": {
    "execution": {
     "iopub.execute_input": "2025-06-10T20:55:42.929265Z",
     "iopub.status.busy": "2025-06-10T20:55:42.928948Z",
     "iopub.status.idle": "2025-06-10T20:55:42.939873Z",
     "shell.execute_reply": "2025-06-10T20:55:42.938953Z"
    },
    "papermill": {
     "duration": 0.016298,
     "end_time": "2025-06-10T20:55:42.941081",
     "exception": false,
     "start_time": "2025-06-10T20:55:42.924783",
     "status": "completed"
    },
    "tags": []
   },
   "outputs": [
    {
     "name": "stdout",
     "output_type": "stream",
     "text": [
      "14.705452286024956 0.00012568242320118184\n",
      "귀무가설 기각 남성과 여성의 혼인 여부에 따른 인구 비율이 동일하지 않다.\n"
     ]
    }
   ],
   "source": [
    "import pandas as pd\n",
    "import numpy as np\n",
    "from scipy import stats\n",
    "\n",
    "df = pd.DataFrame({'남자': [700 * 0.3, 700 * 0.7], '여자':[500 * 0.2, 500*0.8]},index = ['기혼자', '비혼자'])\n",
    "\n",
    "# 남녀 기혼자 카이제곱 검정\n",
    "st, pv, dof, exp_f = stats.chi2_contingency(df)\n",
    "print(st, pv)\n",
    "\n",
    "if pv < 0.05 :\n",
    "    print('귀무가설 기각 남성과 여성의 혼인 여부에 따른 인구 비율이 동일하지 않다.')\n",
    "else:\n",
    "    print('귀무가설 채택 남성과 여성의 혼인 여부에 따른 인구 비율이 동일하다.')"
   ]
  },
  {
   "cell_type": "markdown",
   "id": "e9ad6c57",
   "metadata": {
    "papermill": {
     "duration": 0.003204,
     "end_time": "2025-06-10T20:55:42.947851",
     "exception": false,
     "start_time": "2025-06-10T20:55:42.944647",
     "status": "completed"
    },
    "tags": []
   },
   "source": [
    "## 문제2"
   ]
  },
  {
   "cell_type": "markdown",
   "id": "992650eb",
   "metadata": {
    "papermill": {
     "duration": 0.003077,
     "end_time": "2025-06-10T20:55:42.954293",
     "exception": false,
     "start_time": "2025-06-10T20:55:42.951216",
     "status": "completed"
    },
    "tags": []
   },
   "source": [
    "주어진 건강정보 데이터를 활용하여 다중 선형 회귀 분석을 하고자 한다. 각 문항의 답을 제출 형식에 맞춰 제출하시오.\n",
    "\n",
    "1. age Cholesterol 칼럼으로 weight를 예측하는 선형 회귀 모델을 만들려고 한다.\n",
    "age의 회귀계수를 구하시오. (단, 반올림하여 소수점 3자리까지 입력한다.)\n",
    "2. age가 45이고, Cholesterol이 67.8일 때 문제 1의 모델을 기반으로 Weight 값을 예측하시오.\n",
    "3. 문제 1의 선형 회귀 모델에서 유의수준 0.05일 때 Cholesterol 회귀계수의 신뢰구 간을 구하시오."
   ]
  },
  {
   "cell_type": "code",
   "execution_count": 7,
   "id": "5917d1fc",
   "metadata": {
    "execution": {
     "iopub.execute_input": "2025-06-10T20:55:42.962314Z",
     "iopub.status.busy": "2025-06-10T20:55:42.962022Z",
     "iopub.status.idle": "2025-06-10T20:55:44.003350Z",
     "shell.execute_reply": "2025-06-10T20:55:44.001999Z"
    },
    "papermill": {
     "duration": 1.04715,
     "end_time": "2025-06-10T20:55:44.004885",
     "exception": false,
     "start_time": "2025-06-10T20:55:42.957735",
     "status": "completed"
    },
    "tags": []
   },
   "outputs": [
    {
     "name": "stdout",
     "output_type": "stream",
     "text": [
      "-0.036\n",
      "78.834\n",
      "                            OLS Regression Results                            \n",
      "==============================================================================\n",
      "Dep. Variable:                 weight   R-squared:                       0.044\n",
      "Model:                            OLS   Adj. R-squared:                  0.038\n",
      "Method:                 Least Squares   F-statistic:                     7.574\n",
      "Date:                Tue, 10 Jun 2025   Prob (F-statistic):           0.000608\n",
      "Time:                        20:55:43   Log-Likelihood:                -1374.9\n",
      "No. Observations:                 333   AIC:                             2756.\n",
      "Df Residuals:                     330   BIC:                             2767.\n",
      "Df Model:                           2                                         \n",
      "Covariance Type:            nonrobust                                         \n",
      "===============================================================================\n",
      "                  coef    std err          t      P>|t|      [0.025      0.975]\n",
      "-------------------------------------------------------------------------------\n",
      "Intercept      74.8953      4.455     16.813      0.000      66.132      83.658\n",
      "age            -0.0361      0.059     -0.611      0.542      -0.152       0.080\n",
      "Cholesterol     0.0819      0.022      3.716      0.000       0.039       0.125\n",
      "==============================================================================\n",
      "Omnibus:                       15.848   Durbin-Watson:                   2.033\n",
      "Prob(Omnibus):                  0.000   Jarque-Bera (JB):               17.569\n",
      "Skew:                           0.471   Prob(JB):                     0.000153\n",
      "Kurtosis:                       3.617   Cond. No.                         701.\n",
      "==============================================================================\n",
      "\n",
      "Notes:\n",
      "[1] Standard Errors assume that the covariance matrix of the errors is correctly specified.\n",
      "0.039 ~ 0.125\n"
     ]
    }
   ],
   "source": [
    "import pandas as pd\n",
    "import numpy as np\n",
    "from scipy import stats\n",
    "from statsmodels.formula.api import ols\n",
    "\n",
    "df = pd.read_csv('/kaggle/input/bigdata-csvfile/cholesterol_data.csv')\n",
    "formula = ('weight ~ age + Cholesterol')\n",
    "model = ols(formula, data=df).fit()\n",
    "print(round(model.params['age'],3))\n",
    "\n",
    "new_data = pd.DataFrame({'const':[1], 'age':[45], 'Cholesterol':[67.9]})\n",
    "result = model.predict(new_data)\n",
    "print(round(result[0], 3))\n",
    "\n",
    "print(model.summary())\n",
    "print('0.039 ~ 0.125')"
   ]
  }
 ],
 "metadata": {
  "kaggle": {
   "accelerator": "none",
   "dataSources": [
    {
     "datasetId": 7611297,
     "sourceId": 12090743,
     "sourceType": "datasetVersion"
    }
   ],
   "dockerImageVersionId": 31040,
   "isGpuEnabled": false,
   "isInternetEnabled": false,
   "language": "python",
   "sourceType": "notebook"
  },
  "kernelspec": {
   "display_name": "Python 3",
   "language": "python",
   "name": "python3"
  },
  "language_info": {
   "codemirror_mode": {
    "name": "ipython",
    "version": 3
   },
   "file_extension": ".py",
   "mimetype": "text/x-python",
   "name": "python",
   "nbconvert_exporter": "python",
   "pygments_lexer": "ipython3",
   "version": "3.11.11"
  },
  "papermill": {
   "default_parameters": {},
   "duration": 14.566918,
   "end_time": "2025-06-10T20:55:44.729882",
   "environment_variables": {},
   "exception": null,
   "input_path": "__notebook__.ipynb",
   "output_path": "__notebook__.ipynb",
   "parameters": {},
   "start_time": "2025-06-10T20:55:30.162964",
   "version": "2.6.0"
  }
 },
 "nbformat": 4,
 "nbformat_minor": 5
}
