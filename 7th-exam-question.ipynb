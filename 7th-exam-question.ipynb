{
 "cells": [
  {
   "cell_type": "markdown",
   "id": "37644bf1",
   "metadata": {
    "papermill": {
     "duration": 0.003299,
     "end_time": "2025-06-11T19:04:43.094745",
     "exception": false,
     "start_time": "2025-06-11T19:04:43.091446",
     "status": "completed"
    },
    "tags": []
   },
   "source": [
    "# 작업형1"
   ]
  },
  {
   "cell_type": "markdown",
   "id": "7900d3fb",
   "metadata": {
    "papermill": {
     "duration": 0.002829,
     "end_time": "2025-06-11T19:04:43.100348",
     "exception": false,
     "start_time": "2025-06-11T19:04:43.097519",
     "status": "completed"
    },
    "tags": []
   },
   "source": [
    "## 문제1\n",
    "주어진 데이터는 학생들의 성적 데이터이다.\n",
    "\n",
    "test preparation course 칼럼의 값 이 none인 데이터는 결측값으로 간주하여 제거한 뒤, \n",
    "\n",
    "학생들이 가장 많은 인종 (race/ethnicity) 그룹을 추출하여 새로운 데이터프레임을 만든다. \n",
    "\n",
    "새로 생성된 데이터프레임의 math score 칼럼을 표준화하고, \n",
    "\n",
    "표준화된 math score 칼럼의 최댓값을 출력하시오. (단, 연산 결과는 반올림 후 소수점 3자리까지 출력한다.)"
   ]
  },
  {
   "cell_type": "code",
   "execution_count": 1,
   "id": "0fd35477",
   "metadata": {
    "_cell_guid": "b1076dfc-b9ad-4769-8c92-a6c4dae69d19",
    "_uuid": "8f2839f25d086af736a60e9eeb907d3b93b6e0e5",
    "execution": {
     "iopub.execute_input": "2025-06-11T19:04:43.106449Z",
     "iopub.status.busy": "2025-06-11T19:04:43.106138Z",
     "iopub.status.idle": "2025-06-11T19:04:46.582644Z",
     "shell.execute_reply": "2025-06-11T19:04:46.581611Z"
    },
    "papermill": {
     "duration": 3.481268,
     "end_time": "2025-06-11T19:04:46.584059",
     "exception": false,
     "start_time": "2025-06-11T19:04:43.102791",
     "status": "completed"
    },
    "tags": []
   },
   "outputs": [
    {
     "name": "stdout",
     "output_type": "stream",
     "text": [
      "2.145\n"
     ]
    }
   ],
   "source": [
    "import numpy as np\n",
    "import pandas as pd\n",
    "import warnings\n",
    "\n",
    "warnings.filterwarnings('ignore')  # 경고 메시지 무시\n",
    "df = pd.read_csv('/kaggle/input/bigdata-csvfile/student_performance_data.csv')\n",
    "\n",
    "# test preparation course 결측값 제거\n",
    "df = df[df['test preparation course'] != 'none']\n",
    "\n",
    "# 학생들이 가장 많은 인종 (race/ethnicity) 그룹을 추출하여 새로운 데이터프레임\n",
    "student_group = df['race/ethnicity'].value_counts() \n",
    "#print(student_group) #group C 117\n",
    "new_data = df[df['race/ethnicity'] == 'group C']\n",
    "\n",
    "# math score컬럼 표준화\n",
    "from sklearn.preprocessing import StandardScaler\n",
    "scaler = StandardScaler()\n",
    "new_data['scaler'] = scaler.fit_transform(new_data[['math score']])\n",
    "print(round(new_data['scaler'].max(),3)) # 2.145"
   ]
  },
  {
   "cell_type": "markdown",
   "id": "dfdd7dfe",
   "metadata": {
    "papermill": {
     "duration": 0.002003,
     "end_time": "2025-06-11T19:04:46.588684",
     "exception": false,
     "start_time": "2025-06-11T19:04:46.586681",
     "status": "completed"
    },
    "tags": []
   },
   "source": [
    "## 문제2\n",
    "\n",
    "주어진 데이터는 2000년 1월부터 2023년 12월까지 주식, 외환, 주요 원자재에 대한 가격 데이터이다. \n",
    "\n",
    "원 달러 환율(dollar exchange rate)과 가장 높은 상관계수를 갖는 칼럼의 평균값을 구하시오. \n",
    "\n",
    "(단, 출력값은 반올림하여 소수점 3자리까 지 출력한다.)\n",
    "\n",
    "- date : 날짜\n",
    "- BAC : 뱅크오브아메리카 주식 가격\n",
    "- dollar exchange rate : 원 달러 환율\n",
    "- KOSPI : 코스피 지수\n",
    "- gold price : 금 거래가격\n",
    "- silver price : 은 거래가격\n",
    "- natural gas price : 천연가스 거래가격\n"
   ]
  },
  {
   "cell_type": "code",
   "execution_count": 2,
   "id": "e13156af",
   "metadata": {
    "execution": {
     "iopub.execute_input": "2025-06-11T19:04:46.594370Z",
     "iopub.status.busy": "2025-06-11T19:04:46.593971Z",
     "iopub.status.idle": "2025-06-11T19:04:46.615051Z",
     "shell.execute_reply": "2025-06-11T19:04:46.613612Z"
    },
    "papermill": {
     "duration": 0.025967,
     "end_time": "2025-06-11T19:04:46.616840",
     "exception": false,
     "start_time": "2025-06-11T19:04:46.590873",
     "status": "completed"
    },
    "tags": []
   },
   "outputs": [
    {
     "name": "stdout",
     "output_type": "stream",
     "text": [
      "4.514\n"
     ]
    }
   ],
   "source": [
    "import pandas as pd\n",
    "import numpy as np\n",
    "\n",
    "df = pd.read_csv('/kaggle/input/bigdata-csvfile/Financial_Data.csv')\n",
    "\n",
    "# 원 달러 환율(dollar exchange rate)과 가장 높은 상관계수를 갖는 칼럼의 평균값\n",
    "corr = df.drop(columns = 'date').corr()\n",
    "corr = (corr.drop('dollar exchange rate'))\n",
    "result_corr = np.abs(corr['dollar exchange rate']) # 가장 높은 상관계수를 갖는 칼럼 : natural gas price, 0.366707\n",
    "print(round(df['natural gas price'].mean(),3)) # 평균값 : 4.514"
   ]
  },
  {
   "cell_type": "markdown",
   "id": "4dabfd3e",
   "metadata": {
    "papermill": {
     "duration": 0.002207,
     "end_time": "2025-06-11T19:04:46.621742",
     "exception": false,
     "start_time": "2025-06-11T19:04:46.619535",
     "status": "completed"
    },
    "tags": []
   },
   "source": [
    "## 문제3\n",
    "\n",
    "주어진 공기질 데이터에서 결측값을 제거하고, Wind 컬럼의 이상치 개수를 구하시오.\n",
    "\n",
    "(단, 이상치 범위는 Q1-1.5*IQR 미만 또는 Q3+1.5*IQR 초과로 하고,\n",
    "\n",
    "IQR = Q3 - Q1와 같이 계산한다.)"
   ]
  },
  {
   "cell_type": "code",
   "execution_count": 3,
   "id": "8e560cc3",
   "metadata": {
    "execution": {
     "iopub.execute_input": "2025-06-11T19:04:46.627623Z",
     "iopub.status.busy": "2025-06-11T19:04:46.627267Z",
     "iopub.status.idle": "2025-06-11T19:04:46.651176Z",
     "shell.execute_reply": "2025-06-11T19:04:46.650234Z"
    },
    "papermill": {
     "duration": 0.028602,
     "end_time": "2025-06-11T19:04:46.652650",
     "exception": false,
     "start_time": "2025-06-11T19:04:46.624048",
     "status": "completed"
    },
    "tags": []
   },
   "outputs": [
    {
     "name": "stdout",
     "output_type": "stream",
     "text": [
      "3\n"
     ]
    }
   ],
   "source": [
    "import pandas as pd\n",
    "import numpy as np\n",
    "\n",
    "df = pd.read_csv('/kaggle/input/bigdata-csvfile/airquality.csv')\n",
    "# 결측값 제거\n",
    "df = df.dropna()\n",
    "\n",
    "# 이상값\n",
    "Q3 = df['Wind'].quantile(0.75)\n",
    "Q1 = df['Wind'].quantile(0.25)\n",
    "IQR = Q3-Q1\n",
    "\n",
    "outlier = (df['Wind'] < (Q1 - (IQR * 1.5))) | (df['Wind'] > (Q3 + (IQR * 1.5)))\n",
    "print(len(df[outlier])) # 이상치 : 3개"
   ]
  },
  {
   "cell_type": "markdown",
   "id": "eb4a1cc5",
   "metadata": {
    "papermill": {
     "duration": 0.00209,
     "end_time": "2025-06-11T19:04:46.657340",
     "exception": false,
     "start_time": "2025-06-11T19:04:46.655250",
     "status": "completed"
    },
    "tags": []
   },
   "source": [
    "# 작업형2"
   ]
  },
  {
   "cell_type": "markdown",
   "id": "4870b598",
   "metadata": {
    "papermill": {
     "duration": 0.001946,
     "end_time": "2025-06-11T19:04:46.661541",
     "exception": false,
     "start_time": "2025-06-11T19:04:46.659595",
     "status": "completed"
    },
    "tags": []
   },
   "source": [
    "1. 전체 데이터의 80%인 1,074행을 train 데이터로 사용하고, 나머지를 test 데이터로 사용할 수 있도록 데이터 슬라이싱 작업을 한 후에 데이터를 분석하도록 한다.\n",
    "2. train 데이터를 활용하여 예측 모델을 모델링하고, test 데이터에 적용하여 목표변 수인 mosquito_indicator를 예측하고, 예측 결과를 제출한다. (단, 제출 결과는 test 데이터의 개수인 268행이 될 수 있도록 한다.)\n",
    "3. 제출 데이터 칼럼은 date와 mosquito_Indicator 두 개만 존재해야 하고, 평가지표 는 RMSB로 한다.\n",
    "4. 예측 결과 파일명은 7th_test_type2.csv로 한다.\n",
    "\n",
    "- date : 날짜\n",
    "- mosquito_Indicator : 모기수\n",
    "- rain(mm) : 강수량\n",
    "- mean_T : 일 평균 온도\n",
    "- min_T : 일 최소 온도\n",
    "- max_T : 일 최대 온도"
   ]
  },
  {
   "cell_type": "code",
   "execution_count": 4,
   "id": "ce7c5443",
   "metadata": {
    "execution": {
     "iopub.execute_input": "2025-06-11T19:04:46.666972Z",
     "iopub.status.busy": "2025-06-11T19:04:46.666688Z",
     "iopub.status.idle": "2025-06-11T19:04:47.842574Z",
     "shell.execute_reply": "2025-06-11T19:04:47.841851Z"
    },
    "papermill": {
     "duration": 1.180596,
     "end_time": "2025-06-11T19:04:47.844243",
     "exception": false,
     "start_time": "2025-06-11T19:04:46.663647",
     "status": "completed"
    },
    "tags": []
   },
   "outputs": [
    {
     "name": "stdout",
     "output_type": "stream",
     "text": [
      "mse 34107.155662744204\n",
      "184.68122715301683\n",
      "       pred\n",
      "0    10.502\n",
      "1    43.196\n",
      "2     9.653\n",
      "3    40.964\n",
      "4    22.275\n",
      "..      ...\n",
      "263   3.100\n",
      "264   5.190\n",
      "265   4.120\n",
      "266   4.261\n",
      "267   4.114\n",
      "\n",
      "[268 rows x 1 columns]\n"
     ]
    }
   ],
   "source": [
    "import pandas as pd\n",
    "import numpy as np\n",
    "\n",
    "df = pd.read_csv('/kaggle/input/bigdata-csvfile/mosquito_Indicator.csv')\n",
    "\n",
    "train = df[:1074]\n",
    "test = df[1074:]\n",
    "y = train['mosquito_Indicator']\n",
    "train = train.drop(columns = ['mosquito_Indicator', 'date'])\n",
    "test = test.drop(columns = ['mosquito_Indicator', 'date'])\n",
    "# 데이터분할\n",
    "from sklearn.model_selection import train_test_split\n",
    "X = train\n",
    "y = y\n",
    "\n",
    "X_train, X_test, y_train, y_test = train_test_split(X, y, test_size=0.2, random_state=2024)\n",
    "\n",
    "# 모델링 학습\n",
    "from sklearn.ensemble import RandomForestRegressor\n",
    "model = RandomForestRegressor()\n",
    "model.fit(X_train, y_train)\n",
    "pred = model.predict(X_test)\n",
    "\n",
    "# 모델 성능 평가\n",
    "from sklearn.metrics import mean_squared_error\n",
    "\n",
    "mse = mean_squared_error(y_test, pred)\n",
    "print('mse', mse)\n",
    "rmse = np.sqrt(mse)\n",
    "print(rmse)\n",
    "\n",
    "# 최종결과 예측\n",
    "model.fit(train, y)\n",
    "pred2 = model.predict(test)\n",
    "\n",
    "# 데이터프레임 생성\n",
    "result = pd.DataFrame({'pred':pred2})\n",
    "result.to_csv('result.csv', index=False)\n",
    "result_read = pd.read_csv('result.csv')\n",
    "print(result_read)"
   ]
  },
  {
   "cell_type": "markdown",
   "id": "62257017",
   "metadata": {
    "papermill": {
     "duration": 0.002239,
     "end_time": "2025-06-11T19:04:47.849351",
     "exception": false,
     "start_time": "2025-06-11T19:04:47.847112",
     "status": "completed"
    },
    "tags": []
   },
   "source": [
    "# 작업형3"
   ]
  },
  {
   "cell_type": "markdown",
   "id": "c7198b62",
   "metadata": {
    "papermill": {
     "duration": 0.002309,
     "end_time": "2025-06-11T19:04:47.855144",
     "exception": false,
     "start_time": "2025-06-11T19:04:47.852835",
     "status": "completed"
    },
    "tags": []
   },
   "source": [
    "## 문제1\n",
    "\n",
    "1. train 데이터의 전체 무게(Whole_weight) 칼럼을 사용하여 전복의 성별(Sex)을 예 측하는 로지스틱 회귀 분석을 했을 때, 전체 무게(Whole_weight)가 1g(단위) 증가 할 때 수컷(1)의 오즈비를 구하시오.\n",
    "2. train 데이터의 전복 성별(Sex)을 종속변수로 하고, Length, Diameter, Height, Rings를 독립변수로 하여 로지스틱 회귀 분석을 했을 때, 잔차 이탈도(deviance)를 구하시오.\n",
    "3. train 데이터를 활용하여 전복의 성별(Sex)을 분류하는 로지스틱 회귀 모델을 만들 었을 때, 이 모델을 활용하여 test 데이터에 적용한 결과에 대한 오분류율을 구하시오.\n",
    "  \n",
    "(단, 원본 데이터의 성별(Sex)의 값이 2인 데이터를 제외하고, train 데이터(상위 2,500)와 test 데이터(하위 395행)로 슬라이싱하여 사용한다. 로지스틱 회귀 모형에 서 train_test_split 함수를 활용하여 데이터 분할 시, random state는 100으로 하고, test size는 20%로 한다.) (모든 결팟값은 반올림하여 소수점 3자리까지 출력한다.)"
   ]
  },
  {
   "cell_type": "code",
   "execution_count": 5,
   "id": "490f9bdc",
   "metadata": {
    "execution": {
     "iopub.execute_input": "2025-06-11T19:04:47.861461Z",
     "iopub.status.busy": "2025-06-11T19:04:47.861131Z",
     "iopub.status.idle": "2025-06-11T19:04:48.595381Z",
     "shell.execute_reply": "2025-06-11T19:04:48.593904Z"
    },
    "papermill": {
     "duration": 0.739069,
     "end_time": "2025-06-11T19:04:48.596636",
     "exception": false,
     "start_time": "2025-06-11T19:04:47.857567",
     "status": "completed"
    },
    "tags": []
   },
   "outputs": [
    {
     "name": "stdout",
     "output_type": "stream",
     "text": [
      "(2835, 9)\n",
      "Optimization terminated successfully.\n",
      "         Current function value: 0.688890\n",
      "         Iterations 4\n",
      "Intercept       0.671486\n",
      "Whole_weight    1.284140\n",
      "dtype: float64\n",
      "Optimization terminated successfully.\n",
      "         Current function value: 0.684938\n",
      "         Iterations 5\n",
      "3424.691\n",
      "Optimization terminated successfully.\n",
      "         Current function value: 0.684483\n",
      "         Iterations 5\n",
      "0.482\n"
     ]
    }
   ],
   "source": [
    "import pandas as pd\n",
    "import numpy as np\n",
    "from statsmodels.formula.api import logit\n",
    "from sklearn.model_selection import train_test_split\n",
    "\n",
    "# 1. 오즈비\n",
    "df = pd.read_csv('/kaggle/input/bigdata-csvfile/abalone_data.csv')\n",
    "cond = df['Sex'] !=2\n",
    "df = df[cond]\n",
    "\n",
    "print(df.shape)\n",
    "\n",
    "train = df[:2500]\n",
    "test = df[2500:]\n",
    "formula = ('Sex ~ Whole_weight')\n",
    "model = logit(formula, data= train).fit()\n",
    "odds_ratio = np.exp(model.params)\n",
    "print(odds_ratio)\n",
    "\n",
    "# 2. \n",
    "formula = ('Sex~  Length + Diameter + Height + Rings')\n",
    "model = logit(formula, data=train).fit()\n",
    "print(round(-2 * model.llf,3)) #3424.691\n",
    "\n",
    "# 3.\n",
    "X = train.drop(columns = 'Sex')\n",
    "y = train['Sex']\n",
    "\n",
    "X_train, X_test, y_train, y_test = train_test_split(X,y ,random_state=100, test_size=0.2)\n",
    "train_df = X_train.copy()\n",
    "train_df['Sex'] = y_train\n",
    "\n",
    "test_df = X_test.copy()\n",
    "test_df['Sex'] = y_test\n",
    "\n",
    "formula = ('Sex~  Length + Diameter + Height + Rings')\n",
    "model = logit(formula, data=train_df).fit()\n",
    "pred = model.predict(test_df)\n",
    "class_pred = (pred > 0.5).astype(int)\n",
    "accuracy = (class_pred == test_df['Sex']).mean()\n",
    "error_rate = 1 - accuracy\n",
    "print(round(error_rate,3)) "
   ]
  },
  {
   "cell_type": "markdown",
   "id": "09787b6d",
   "metadata": {
    "papermill": {
     "duration": 0.002558,
     "end_time": "2025-06-11T19:04:48.602017",
     "exception": false,
     "start_time": "2025-06-11T19:04:48.599459",
     "status": "completed"
    },
    "tags": []
   },
   "source": [
    "## 문제2\n",
    "1. latest_price와 가장 큰 상관계수를 갖는 변수의 상관계수를 구하시오.\n",
    "2. ram_gb, ssd, hdd, os, graphic_card_gb 칼럼을 독립변수로 하는 다중 선형 회귀 모형으로 latest_price 칼럼을 예측할 때, 결정계수(R-squared)를 구하시오.\n",
    "3. 2번 문제의 다중 선형 회귀 모형에서 가장 큰 값을 갖는 칼럼의 T-검정 통계량을 구 하시오. (단, 데이터 분석에는 ram_gb, ssd, hdd, os, graphic_card_gb, latest_ price, old_price, discount, ratings, reviews 칼럼만을 사용한다.)"
   ]
  },
  {
   "cell_type": "code",
   "execution_count": 6,
   "id": "5a29add9",
   "metadata": {
    "execution": {
     "iopub.execute_input": "2025-06-11T19:04:48.608850Z",
     "iopub.status.busy": "2025-06-11T19:04:48.608039Z",
     "iopub.status.idle": "2025-06-11T19:04:48.699124Z",
     "shell.execute_reply": "2025-06-11T19:04:48.697991Z"
    },
    "papermill": {
     "duration": 0.095841,
     "end_time": "2025-06-11T19:04:48.700367",
     "exception": false,
     "start_time": "2025-06-11T19:04:48.604526",
     "status": "completed"
    },
    "tags": []
   },
   "outputs": [
    {
     "name": "stdout",
     "output_type": "stream",
     "text": [
      "0.748\n",
      "                            OLS Regression Results                            \n",
      "==============================================================================\n",
      "Dep. Variable:           latest_price   R-squared:                       0.617\n",
      "Model:                            OLS   Adj. R-squared:                  0.615\n",
      "Method:                 Least Squares   F-statistic:                     238.8\n",
      "Date:                Wed, 11 Jun 2025   Prob (F-statistic):          1.76e-181\n",
      "Time:                        19:04:48   Log-Likelihood:                -10472.\n",
      "No. Observations:                 896   AIC:                         2.096e+04\n",
      "Df Residuals:                     889   BIC:                         2.099e+04\n",
      "Df Model:                           6                                         \n",
      "Covariance Type:            nonrobust                                         \n",
      "===================================================================================\n",
      "                      coef    std err          t      P>|t|      [0.025      0.975]\n",
      "-----------------------------------------------------------------------------------\n",
      "Intercept         8.38e+04   5433.952     15.421      0.000    7.31e+04    9.45e+04\n",
      "os[T.Mac]       -4636.4194   8038.102     -0.577      0.564   -2.04e+04    1.11e+04\n",
      "os[T.Windows]   -7.431e+04   5445.872    -13.646      0.000    -8.5e+04   -6.36e+04\n",
      "ram_gb           2068.3074    248.708      8.316      0.000    1580.184    2556.431\n",
      "ssd                78.8200      4.412     17.865      0.000      70.161      87.479\n",
      "hdd                14.9161      2.990      4.989      0.000       9.048      20.784\n",
      "graphic_card_gb  5472.3478    544.853     10.044      0.000    4402.999    6541.697\n",
      "==============================================================================\n",
      "Omnibus:                      372.428   Durbin-Watson:                   1.401\n",
      "Prob(Omnibus):                  0.000   Jarque-Bera (JB):             2467.208\n",
      "Skew:                           1.759   Prob(JB):                         0.00\n",
      "Kurtosis:                      10.329   Cond. No.                     5.62e+03\n",
      "==============================================================================\n",
      "\n",
      "Notes:\n",
      "[1] Standard Errors assume that the covariance matrix of the errors is correctly specified.\n",
      "[2] The condition number is large, 5.62e+03. This might indicate that there are\n",
      "strong multicollinearity or other numerical problems.\n",
      "t 검정통계량 : t값 17.865\n"
     ]
    }
   ],
   "source": [
    "import pandas as pd\n",
    "import numpy as np\n",
    "\n",
    "df = pd.read_csv('/kaggle/input/bigdata-csvfile/new_laptop_data.csv')\n",
    "\n",
    "# 1.\n",
    "data = df[['ram_gb', 'ssd', 'hdd', 'warranty', 'latest_price', \n",
    "           'old_price', 'discount', 'star_rating', 'ratings', 'reviews']]\n",
    "data_corr = data.corr().drop('latest_price')\n",
    "abs_corr = np.abs(data_corr['latest_price'])\n",
    "print(round(abs_corr.max(),3)) # 0.748\n",
    "\n",
    "# 2.\n",
    "from statsmodels.formula.api import ols\n",
    "formula = ('latest_price ~ ram_gb + ssd + hdd + os + graphic_card_gb')\n",
    "model = ols(formula, data = df).fit()\n",
    "print(model.summary()) # 0.617\n",
    "\n",
    "# 3.\n",
    "print(f't 검정통계량 : t값 {17.865}')"
   ]
  }
 ],
 "metadata": {
  "kaggle": {
   "accelerator": "none",
   "dataSources": [
    {
     "datasetId": 7611297,
     "sourceId": 12090743,
     "sourceType": "datasetVersion"
    }
   ],
   "dockerImageVersionId": 31040,
   "isGpuEnabled": false,
   "isInternetEnabled": false,
   "language": "python",
   "sourceType": "notebook"
  },
  "kernelspec": {
   "display_name": "Python 3",
   "language": "python",
   "name": "python3"
  },
  "language_info": {
   "codemirror_mode": {
    "name": "ipython",
    "version": 3
   },
   "file_extension": ".py",
   "mimetype": "text/x-python",
   "name": "python",
   "nbconvert_exporter": "python",
   "pygments_lexer": "ipython3",
   "version": "3.11.11"
  },
  "papermill": {
   "default_parameters": {},
   "duration": 11.016708,
   "end_time": "2025-06-11T19:04:49.523581",
   "environment_variables": {},
   "exception": null,
   "input_path": "__notebook__.ipynb",
   "output_path": "__notebook__.ipynb",
   "parameters": {},
   "start_time": "2025-06-11T19:04:38.506873",
   "version": "2.6.0"
  }
 },
 "nbformat": 4,
 "nbformat_minor": 5
}
