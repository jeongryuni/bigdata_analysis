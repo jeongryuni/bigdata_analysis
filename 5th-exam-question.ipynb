{
 "cells": [
  {
   "cell_type": "markdown",
   "id": "2351af98",
   "metadata": {
    "papermill": {
     "duration": 0.002824,
     "end_time": "2025-06-09T16:09:41.397441",
     "exception": false,
     "start_time": "2025-06-09T16:09:41.394617",
     "status": "completed"
    },
    "tags": []
   },
   "source": [
    "# 작업형1"
   ]
  },
  {
   "cell_type": "markdown",
   "id": "e4ef5f61",
   "metadata": {
    "papermill": {
     "duration": 0.002056,
     "end_time": "2025-06-09T16:09:41.401964",
     "exception": false,
     "start_time": "2025-06-09T16:09:41.399908",
     "status": "completed"
    },
    "tags": []
   },
   "source": [
    "## 문제1\n",
    "\n",
    "주어지는 종량제 봉투 데이터에서 20L 가격과 5L 가격의 차이를 '가격차이'라고 한다.\n",
    "\n",
    "시도명별 가격 차이의 평균가격을 비교할 때 그 값이 가장 큰 금액을 반올림하여 소수점 이하 1자리까지 구하시오.\n",
    "\n",
    "(단, 가격 데이터가 0인 값은 없는 값으로 판단하여 연산에서 제외)"
   ]
  },
  {
   "cell_type": "code",
   "execution_count": 1,
   "id": "e411e282",
   "metadata": {
    "_cell_guid": "b1076dfc-b9ad-4769-8c92-a6c4dae69d19",
    "_uuid": "8f2839f25d086af736a60e9eeb907d3b93b6e0e5",
    "execution": {
     "iopub.execute_input": "2025-06-09T16:09:41.407748Z",
     "iopub.status.busy": "2025-06-09T16:09:41.407362Z",
     "iopub.status.idle": "2025-06-09T16:09:43.380563Z",
     "shell.execute_reply": "2025-06-09T16:09:43.379486Z"
    },
    "papermill": {
     "duration": 1.978106,
     "end_time": "2025-06-09T16:09:43.382202",
     "exception": false,
     "start_time": "2025-06-09T16:09:41.404096",
     "status": "completed"
    },
    "tags": []
   },
   "outputs": [
    {
     "name": "stdout",
     "output_type": "stream",
     "text": [
      "619.0\n"
     ]
    }
   ],
   "source": [
    "import pandas as pd\n",
    "import numpy as np\n",
    "import warnings\n",
    "\n",
    "warnings.filterwarnings('ignore')  # 경고 메시지 무시\n",
    "df = pd.read_csv('/kaggle/input/bigdata-csvfile/garbage_bag.csv')\n",
    "\n",
    "new_data = df.loc[(df['20L가격'] != 0) & (df['5L가격'] != 0)]\n",
    "new_data['가격차이'] = new_data['20L가격'] -new_data['5L가격'] \n",
    "df2 = new_data.groupby('시도명')['가격차이'].mean().reset_index()\n",
    "df2 = df2.sort_values(by='가격차이', ascending=False)\n",
    "print(round(df2['가격차이'].max(),1)) # 619.0"
   ]
  },
  {
   "cell_type": "markdown",
   "id": "98776d49",
   "metadata": {
    "papermill": {
     "duration": 0.002012,
     "end_time": "2025-06-09T16:09:43.386856",
     "exception": false,
     "start_time": "2025-06-09T16:09:43.384844",
     "status": "completed"
    },
    "tags": []
   },
   "source": [
    "## 문제2\n",
    "\n",
    "BMI는 '몸무게(kg)/ (키(M)×키(M)'로 정의한다. \n",
    "\n",
    "- 초고도 비만은 BM 25 이상, \n",
    "- 고도 비만은 BMI 25 미만~ 23 이상,\n",
    "- 정상은 23 미만~18.5 이상,\n",
    "- 저체중은 18.5 미만으로 정의한다. \n",
    "\n",
    "주어진 데이터에서 (초고도 비만 인원+저체중 인원)의 인원 수를 구하시오."
   ]
  },
  {
   "cell_type": "code",
   "execution_count": 2,
   "id": "3702d98f",
   "metadata": {
    "execution": {
     "iopub.execute_input": "2025-06-09T16:09:43.392795Z",
     "iopub.status.busy": "2025-06-09T16:09:43.392508Z",
     "iopub.status.idle": "2025-06-09T16:09:43.434680Z",
     "shell.execute_reply": "2025-06-09T16:09:43.433714Z"
    },
    "papermill": {
     "duration": 0.047084,
     "end_time": "2025-06-09T16:09:43.436203",
     "exception": false,
     "start_time": "2025-06-09T16:09:43.389119",
     "status": "completed"
    },
    "tags": []
   },
   "outputs": [
    {
     "name": "stdout",
     "output_type": "stream",
     "text": [
      "8998\n"
     ]
    }
   ],
   "source": [
    "# 방법1\n",
    "import pandas as pd\n",
    "import numpy as np\n",
    "import warnings\n",
    "\n",
    "warnings.filterwarnings('ignore')  # 경고 메시지 무시\n",
    "df = pd.read_csv('/kaggle/input/bigdata-csvfile/BMI_data.csv')\n",
    "df['height(M)'] = df['height(cm)'] / 100\n",
    "df['BMI'] = df['weight(kg)'] / (df['height(M)'] * df['height(M)'])\n",
    "\n",
    "def fat(number):\n",
    "    if 25 <= number :\n",
    "        return '초고도비만'\n",
    "    elif 23<= number < 25:\n",
    "        return '고도비만'\n",
    "    elif 18.5 <= number < 23:\n",
    "        return '정상'\n",
    "    else:\n",
    "        return '저체중'\n",
    "df['class'] = df['BMI'].apply(fat)\n",
    "\n",
    "cond = df.loc[(df['class'] == '초고도비만') | (df['class'] == '저체중')]\n",
    "print(len(cond))"
   ]
  },
  {
   "cell_type": "code",
   "execution_count": 3,
   "id": "f70b0fc8",
   "metadata": {
    "execution": {
     "iopub.execute_input": "2025-06-09T16:09:43.442033Z",
     "iopub.status.busy": "2025-06-09T16:09:43.441772Z",
     "iopub.status.idle": "2025-06-09T16:09:43.460836Z",
     "shell.execute_reply": "2025-06-09T16:09:43.459579Z"
    },
    "papermill": {
     "duration": 0.024108,
     "end_time": "2025-06-09T16:09:43.462734",
     "exception": false,
     "start_time": "2025-06-09T16:09:43.438626",
     "status": "completed"
    },
    "tags": []
   },
   "outputs": [
    {
     "name": "stdout",
     "output_type": "stream",
     "text": [
      "8998\n"
     ]
    }
   ],
   "source": [
    "# 방법2\n",
    "import pandas as pd\n",
    "import numpy as np\n",
    "import warnings\n",
    "\n",
    "warnings.filterwarnings('ignore')  # 경고 메시지 무시\n",
    "df = pd.read_csv('/kaggle/input/bigdata-csvfile/BMI_data.csv')\n",
    "df['height(M)'] = df['height(cm)'] / 100\n",
    "df['BMI'] = df['weight(kg)'] / (df['height(M)'] * df['height(M)'])\n",
    "\n",
    "result =  (25<= df['BMI']) + (df['BMI'] < 18.5)\n",
    "print(len(df[result]))"
   ]
  },
  {
   "cell_type": "markdown",
   "id": "041e8dbe",
   "metadata": {
    "papermill": {
     "duration": 0.002046,
     "end_time": "2025-06-09T16:09:43.467295",
     "exception": false,
     "start_time": "2025-06-09T16:09:43.465249",
     "status": "completed"
    },
    "tags": []
   },
   "source": [
    "## 문제3\n",
    "\n",
    "순유입 인원은 초중고 도내, 도외 전입 인원에서 초중고 도내, 도외 전출 인원을 뺀 값이다. \n",
    "\n",
    "주어진 데이터에서 각 연도별로 가장 큰 순유입 인원을 가진 지역구 의 순유입 인원을 구하고 \n",
    "\n",
    "전체 기간의 해당 순유입 인원들의 합을 구하시오."
   ]
  },
  {
   "cell_type": "code",
   "execution_count": 4,
   "id": "4d9ecf42",
   "metadata": {
    "execution": {
     "iopub.execute_input": "2025-06-09T16:09:43.473318Z",
     "iopub.status.busy": "2025-06-09T16:09:43.472696Z",
     "iopub.status.idle": "2025-06-09T16:09:43.513685Z",
     "shell.execute_reply": "2025-06-09T16:09:43.512594Z"
    },
    "papermill": {
     "duration": 0.046205,
     "end_time": "2025-06-09T16:09:43.515756",
     "exception": false,
     "start_time": "2025-06-09T16:09:43.469551",
     "status": "completed"
    },
    "tags": []
   },
   "outputs": [
    {
     "name": "stdout",
     "output_type": "stream",
     "text": [
      "13853\n"
     ]
    }
   ],
   "source": [
    "import pandas as pd\n",
    "import numpy as np\n",
    "import warnings\n",
    "\n",
    "warnings.filterwarnings('ignore')  # 경고 메시지 무시\n",
    "df = pd.read_csv('/kaggle/input/bigdata-csvfile/school_data.csv')\n",
    "\n",
    "# 각 연도별로 가장 큰 순유입 인원을 가진 지역구 의 순유입 인원\n",
    "df['전입'] = df['초등학교_전입_도내'] + df['초등학교_전입_도외'] + df['중학교_전입_도내'] +df['중학교_전입_도외']  + df['고등학교_전입_도내'] + df['고등학교_전입_도외']\n",
    "df['전출'] = df['초등학교_전출_도내'] + df['초등학교_전출_도외'] + df['중학교_전출_도내'] +df['중학교_전출_도외']  + df['고등학교_전출_도내'] + df['고등학교_전출_도외']\n",
    "df['순유입'] = df['전입'] - df['전출']\n",
    "df = df.sort_values(by='순유입', ascending=False).reset_index()\n",
    "\n",
    "df = df.groupby(['년도'])['순유입'].max().sum()\n",
    "print(df)"
   ]
  }
 ],
 "metadata": {
  "kaggle": {
   "accelerator": "none",
   "dataSources": [
    {
     "datasetId": 7611297,
     "sourceId": 12090743,
     "sourceType": "datasetVersion"
    }
   ],
   "dockerImageVersionId": 31040,
   "isGpuEnabled": false,
   "isInternetEnabled": false,
   "language": "python",
   "sourceType": "notebook"
  },
  "kernelspec": {
   "display_name": "Python 3",
   "language": "python",
   "name": "python3"
  },
  "language_info": {
   "codemirror_mode": {
    "name": "ipython",
    "version": 3
   },
   "file_extension": ".py",
   "mimetype": "text/x-python",
   "name": "python",
   "nbconvert_exporter": "python",
   "pygments_lexer": "ipython3",
   "version": "3.11.11"
  },
  "papermill": {
   "default_parameters": {},
   "duration": 7.716787,
   "end_time": "2025-06-09T16:09:44.140859",
   "environment_variables": {},
   "exception": null,
   "input_path": "__notebook__.ipynb",
   "output_path": "__notebook__.ipynb",
   "parameters": {},
   "start_time": "2025-06-09T16:09:36.424072",
   "version": "2.6.0"
  }
 },
 "nbformat": 4,
 "nbformat_minor": 5
}
