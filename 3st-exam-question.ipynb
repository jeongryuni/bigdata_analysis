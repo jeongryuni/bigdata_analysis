{
 "cells": [
  {
   "cell_type": "markdown",
   "id": "ef610944",
   "metadata": {
    "papermill": {
     "duration": 0.003364,
     "end_time": "2025-06-08T20:54:01.109538",
     "exception": false,
     "start_time": "2025-06-08T20:54:01.106174",
     "status": "completed"
    },
    "tags": []
   },
   "source": [
    "# 작업형1"
   ]
  },
  {
   "cell_type": "markdown",
   "id": "3bd5ef93",
   "metadata": {
    "papermill": {
     "duration": 0.001959,
     "end_time": "2025-06-08T20:54:01.113876",
     "exception": false,
     "start_time": "2025-06-08T20:54:01.111917",
     "status": "completed"
    },
    "tags": []
   },
   "source": [
    "## 문제1\n",
    "\n",
    "주어진 데이터 칼럼들의 결측값을 전부 제거한 후 데이터를 처음부터 순서대로 70% 추출하여 housing_median_age 칼럼의 1분위수를 산출.\n",
    "\n",
    "(단, 출력 결과는 정수형태)"
   ]
  },
  {
   "cell_type": "code",
   "execution_count": 1,
   "id": "789c2be8",
   "metadata": {
    "_cell_guid": "b1076dfc-b9ad-4769-8c92-a6c4dae69d19",
    "_uuid": "8f2839f25d086af736a60e9eeb907d3b93b6e0e5",
    "execution": {
     "iopub.execute_input": "2025-06-08T20:54:01.119250Z",
     "iopub.status.busy": "2025-06-08T20:54:01.118929Z",
     "iopub.status.idle": "2025-06-08T20:54:03.366877Z",
     "shell.execute_reply": "2025-06-08T20:54:03.365587Z"
    },
    "papermill": {
     "duration": 2.252902,
     "end_time": "2025-06-08T20:54:03.368759",
     "exception": false,
     "start_time": "2025-06-08T20:54:01.115857",
     "status": "completed"
    },
    "tags": []
   },
   "outputs": [
    {
     "name": "stdout",
     "output_type": "stream",
     "text": [
      "19\n"
     ]
    }
   ],
   "source": [
    "import pandas as pd\n",
    "import numpy as np\n",
    "import warnings\n",
    "\n",
    "warnings.filterwarnings('ignore')  # 경고 메시지 무시\n",
    "df = pd.read_csv('/kaggle/input/bigdata-csvfile/california_housing.csv')\n",
    "df = df.dropna() \n",
    "# df.shape[0] * 0.7 #14303\n",
    "df = df.iloc[:14303]\n",
    "\n",
    "print(df['housing_median_age'].quantile(0.25).astype(int))"
   ]
  },
  {
   "cell_type": "markdown",
   "id": "f598958e",
   "metadata": {
    "papermill": {
     "duration": 0.002109,
     "end_time": "2025-06-08T20:54:03.373469",
     "exception": false,
     "start_time": "2025-06-08T20:54:03.371360",
     "status": "completed"
    },
    "tags": []
   },
   "source": [
    "## 문제2\n",
    "\n",
    "4개년도(2000, 2006, 2012, 2021)에 대한 국가별 기아의 수치 데이터에서\n",
    "2000년 전체 기아 수치의 평균을 구하고, 2000년 데이터를 대상으로 연산된 평 균보다 큰 값을 갖는 국가의 수를 산출하시오."
   ]
  },
  {
   "cell_type": "code",
   "execution_count": 2,
   "id": "4968a1c8",
   "metadata": {
    "execution": {
     "iopub.execute_input": "2025-06-08T20:54:03.379542Z",
     "iopub.status.busy": "2025-06-08T20:54:03.379200Z",
     "iopub.status.idle": "2025-06-08T20:54:03.400544Z",
     "shell.execute_reply": "2025-06-08T20:54:03.399252Z"
    },
    "papermill": {
     "duration": 0.026511,
     "end_time": "2025-06-08T20:54:03.402332",
     "exception": false,
     "start_time": "2025-06-08T20:54:03.375821",
     "status": "completed"
    },
    "tags": []
   },
   "outputs": [
    {
     "name": "stdout",
     "output_type": "stream",
     "text": [
      "50\n"
     ]
    }
   ],
   "source": [
    "import pandas as pd\n",
    "import numpy as np\n",
    "import warnings\n",
    "\n",
    "warnings.filterwarnings('ignore')  # 경고 메시지 무시\n",
    "df = pd.read_csv('/kaggle/input/bigdata-csvfile/global_hunger_data.csv')\n",
    "\n",
    "data_2000 = df[df['Year'] == 2000]\n",
    "data_2000_mean = data_2000['Global Hunger Index'].mean()\n",
    "cond = (data_2000['Global Hunger Index'] > data_2000_mean)\n",
    "cond_df = data_2000[cond]\n",
    " \n",
    "print(len(cond_df['Entity'].unique()))"
   ]
  },
  {
   "cell_type": "markdown",
   "id": "117d976d",
   "metadata": {
    "papermill": {
     "duration": 0.002704,
     "end_time": "2025-06-08T20:54:03.407530",
     "exception": false,
     "start_time": "2025-06-08T20:54:03.404826",
     "status": "completed"
    },
    "tags": []
   },
   "source": [
    "## 문제3\n",
    "\n",
    "주어진 데이터의 컬럼별로 결측값들의 비율을 확인하여 결측값의 비율이 가장 높은 변수명 출력"
   ]
  },
  {
   "cell_type": "code",
   "execution_count": 3,
   "id": "91aba545",
   "metadata": {
    "execution": {
     "iopub.execute_input": "2025-06-08T20:54:03.414152Z",
     "iopub.status.busy": "2025-06-08T20:54:03.413821Z",
     "iopub.status.idle": "2025-06-08T20:54:03.434904Z",
     "shell.execute_reply": "2025-06-08T20:54:03.433741Z"
    },
    "papermill": {
     "duration": 0.02657,
     "end_time": "2025-06-08T20:54:03.436627",
     "exception": false,
     "start_time": "2025-06-08T20:54:03.410057",
     "status": "completed"
    },
    "tags": []
   },
   "outputs": [
    {
     "name": "stdout",
     "output_type": "stream",
     "text": [
      "PassengerId    0.000000\n",
      "Survived       0.000000\n",
      "Pclass         0.000000\n",
      "Name           0.000000\n",
      "Sex            0.000000\n",
      "Age            0.198653\n",
      "SibSp          0.000000\n",
      "Parch          0.000000\n",
      "Ticket         0.000000\n",
      "Fare           0.000000\n",
      "Cabin          0.771044\n",
      "Embarked       0.002245\n",
      "dtype: float64\n"
     ]
    }
   ],
   "source": [
    "import pandas as pd\n",
    "import numpy as np\n",
    "import warnings\n",
    "\n",
    "warnings.filterwarnings('ignore')  # 경고 메시지 무시\n",
    "df = pd.read_csv('/kaggle/input/bigdata-csvfile/titanic.csv')\n",
    "\n",
    "print(df.isnull().sum() / df.shape[0]) # Cabin          0.771044"
   ]
  },
  {
   "cell_type": "code",
   "execution_count": null,
   "id": "d4f0b622",
   "metadata": {
    "papermill": {
     "duration": 0.002054,
     "end_time": "2025-06-08T20:54:03.441101",
     "exception": false,
     "start_time": "2025-06-08T20:54:03.439047",
     "status": "completed"
    },
    "tags": []
   },
   "outputs": [],
   "source": []
  }
 ],
 "metadata": {
  "kaggle": {
   "accelerator": "none",
   "dataSources": [
    {
     "datasetId": 7611297,
     "sourceId": 12090743,
     "sourceType": "datasetVersion"
    }
   ],
   "dockerImageVersionId": 31040,
   "isGpuEnabled": false,
   "isInternetEnabled": false,
   "language": "python",
   "sourceType": "notebook"
  },
  "kernelspec": {
   "display_name": "Python 3",
   "language": "python",
   "name": "python3"
  },
  "language_info": {
   "codemirror_mode": {
    "name": "ipython",
    "version": 3
   },
   "file_extension": ".py",
   "mimetype": "text/x-python",
   "name": "python",
   "nbconvert_exporter": "python",
   "pygments_lexer": "ipython3",
   "version": "3.11.11"
  },
  "papermill": {
   "default_parameters": {},
   "duration": 8.079765,
   "end_time": "2025-06-08T20:54:03.964035",
   "environment_variables": {},
   "exception": null,
   "input_path": "__notebook__.ipynb",
   "output_path": "__notebook__.ipynb",
   "parameters": {},
   "start_time": "2025-06-08T20:53:55.884270",
   "version": "2.6.0"
  }
 },
 "nbformat": 4,
 "nbformat_minor": 5
}
