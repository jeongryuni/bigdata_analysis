{
 "cells": [
  {
   "cell_type": "markdown",
   "id": "67324951",
   "metadata": {
    "papermill": {
     "duration": 0.002473,
     "end_time": "2025-06-09T10:06:27.960908",
     "exception": false,
     "start_time": "2025-06-09T10:06:27.958435",
     "status": "completed"
    },
    "tags": []
   },
   "source": [
    "# 작업형1"
   ]
  },
  {
   "cell_type": "markdown",
   "id": "5a311aca",
   "metadata": {
    "papermill": {
     "duration": 0.001782,
     "end_time": "2025-06-09T10:06:27.964846",
     "exception": false,
     "start_time": "2025-06-09T10:06:27.963064",
     "status": "completed"
    },
    "tags": []
   },
   "source": [
    "## 문제1\n",
    "\n",
    "주어진 데이터 age칼럼의 3사분위수와 1사분위수의 차를 절댓값으로 구하고, 정수 형태로 출력하시오"
   ]
  },
  {
   "cell_type": "code",
   "execution_count": 1,
   "id": "3bc0cda3",
   "metadata": {
    "_cell_guid": "b1076dfc-b9ad-4769-8c92-a6c4dae69d19",
    "_uuid": "8f2839f25d086af736a60e9eeb907d3b93b6e0e5",
    "execution": {
     "iopub.execute_input": "2025-06-09T10:06:27.969807Z",
     "iopub.status.busy": "2025-06-09T10:06:27.969508Z",
     "iopub.status.idle": "2025-06-09T10:06:29.810700Z",
     "shell.execute_reply": "2025-06-09T10:06:29.809563Z"
    },
    "papermill": {
     "duration": 1.845625,
     "end_time": "2025-06-09T10:06:29.812331",
     "exception": false,
     "start_time": "2025-06-09T10:06:27.966706",
     "status": "completed"
    },
    "tags": []
   },
   "outputs": [
    {
     "name": "stdout",
     "output_type": "stream",
     "text": [
      "50\n"
     ]
    }
   ],
   "source": [
    "import pandas as pd\n",
    "import numpy as np\n",
    "\n",
    "df = pd.read_csv('/kaggle/input/bigdata-csvfile/basic1.csv')\n",
    "\n",
    "Q3 = df['age'].quantile(0.75)\n",
    "Q1 = df['age'].quantile(0.25)\n",
    "result = Q3 - Q1\n",
    "print(int(result))"
   ]
  },
  {
   "cell_type": "markdown",
   "id": "0796fc05",
   "metadata": {
    "papermill": {
     "duration": 0.00187,
     "end_time": "2025-06-09T10:06:29.816603",
     "exception": false,
     "start_time": "2025-06-09T10:06:29.814733",
     "status": "completed"
    },
    "tags": []
   },
   "source": [
    "## 문제2\n",
    "주어진 서셜 데이터에서 (loves컬럼 + wows컬럼) / (reactions 컬럼) 비율이 0.4보다 크고 0.5보다 작으면서 type = 'video'인 데이터의 개수를 구하시오 "
   ]
  },
  {
   "cell_type": "code",
   "execution_count": 2,
   "id": "1f2c917a",
   "metadata": {
    "execution": {
     "iopub.execute_input": "2025-06-09T10:06:29.822008Z",
     "iopub.status.busy": "2025-06-09T10:06:29.821664Z",
     "iopub.status.idle": "2025-06-09T10:06:29.862646Z",
     "shell.execute_reply": "2025-06-09T10:06:29.861517Z"
    },
    "papermill": {
     "duration": 0.045872,
     "end_time": "2025-06-09T10:06:29.864530",
     "exception": false,
     "start_time": "2025-06-09T10:06:29.818658",
     "status": "completed"
    },
    "tags": []
   },
   "outputs": [
    {
     "name": "stdout",
     "output_type": "stream",
     "text": [
      "90\n"
     ]
    }
   ],
   "source": [
    "import pandas as pd\n",
    "import numpy as np\n",
    "import warnings\n",
    "\n",
    "warnings.filterwarnings('ignore')  # 경고 메시지 무시\n",
    "df = pd.read_csv('/kaggle/input/bigdata-csvfile/fb.csv')\n",
    "df['cond'] = (df['loves'] + df['wows']) / df['reactions']\n",
    "\n",
    "cond = df.loc[(0.4 < df['cond']) & (df['cond'] < 0.5) & (df['type'] == 'video')]\n",
    "\n",
    "print(len(cond))"
   ]
  },
  {
   "cell_type": "markdown",
   "id": "c326e827",
   "metadata": {
    "papermill": {
     "duration": 0.002275,
     "end_time": "2025-06-09T10:06:29.869520",
     "exception": false,
     "start_time": "2025-06-09T10:06:29.867245",
     "status": "completed"
    },
    "tags": []
   },
   "source": [
    "## 문제3\n",
    "\n",
    "주어진 미디어 데이터에서 data_added가 2018년 1월이면서 country가 United Kingdom 단독 제작인 데이터의 개수를 구하시오."
   ]
  },
  {
   "cell_type": "code",
   "execution_count": 3,
   "id": "861c66a0",
   "metadata": {
    "execution": {
     "iopub.execute_input": "2025-06-09T10:06:29.875094Z",
     "iopub.status.busy": "2025-06-09T10:06:29.874746Z",
     "iopub.status.idle": "2025-06-09T10:06:29.987043Z",
     "shell.execute_reply": "2025-06-09T10:06:29.986001Z"
    },
    "papermill": {
     "duration": 0.117064,
     "end_time": "2025-06-09T10:06:29.988691",
     "exception": false,
     "start_time": "2025-06-09T10:06:29.871627",
     "status": "completed"
    },
    "tags": []
   },
   "outputs": [
    {
     "name": "stdout",
     "output_type": "stream",
     "text": [
      "6\n"
     ]
    }
   ],
   "source": [
    "import pandas as pd\n",
    "import numpy as np\n",
    "import warnings\n",
    "\n",
    "warnings.filterwarnings('ignore')  # 경고 메시지 무시\n",
    "df = pd.read_csv('/kaggle/input/bigdata-csvfile/nf.csv')\n",
    "df['date_added'] = pd.to_datetime(df['date_added'])\n",
    "df['Year'] = df['date_added'].dt.year\n",
    "df['Month'] = df['date_added'].dt.month\n",
    "df['Day'] = df['date_added'].dt.day\n",
    "\n",
    "cond = df.loc[(df['Year']==2018) & (df['Month'] == 1) & (df['country']== 'United Kingdom') ] \n",
    "print(len(cond))"
   ]
  }
 ],
 "metadata": {
  "kaggle": {
   "accelerator": "none",
   "dataSources": [
    {
     "datasetId": 7611297,
     "sourceId": 12090743,
     "sourceType": "datasetVersion"
    }
   ],
   "dockerImageVersionId": 31040,
   "isGpuEnabled": false,
   "isInternetEnabled": false,
   "language": "python",
   "sourceType": "notebook"
  },
  "kernelspec": {
   "display_name": "Python 3",
   "language": "python",
   "name": "python3"
  },
  "language_info": {
   "codemirror_mode": {
    "name": "ipython",
    "version": 3
   },
   "file_extension": ".py",
   "mimetype": "text/x-python",
   "name": "python",
   "nbconvert_exporter": "python",
   "pygments_lexer": "ipython3",
   "version": "3.11.11"
  },
  "papermill": {
   "default_parameters": {},
   "duration": 7.328776,
   "end_time": "2025-06-09T10:06:30.511200",
   "environment_variables": {},
   "exception": null,
   "input_path": "__notebook__.ipynb",
   "output_path": "__notebook__.ipynb",
   "parameters": {},
   "start_time": "2025-06-09T10:06:23.182424",
   "version": "2.6.0"
  }
 },
 "nbformat": 4,
 "nbformat_minor": 5
}
