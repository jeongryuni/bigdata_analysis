{
 "cells": [
  {
   "cell_type": "markdown",
   "id": "fc1e7b80",
   "metadata": {
    "papermill": {
     "duration": 0.015113,
     "end_time": "2025-06-20T16:04:57.453873",
     "exception": false,
     "start_time": "2025-06-20T16:04:57.438760",
     "status": "completed"
    },
    "tags": []
   },
   "source": [
    "## 결측치 제거 및 그룹 합계에서 조건에 맞는 값 찾아 출력\n",
    "- 주어진 데이터 중 basic1.csv에서 'f1'컬럼 결측 데이터를 제거하고, 'city'와 'f2'을 기준으로 묶어 합계를 구하고, 'city가 경기이면서 f2가 0'인 조건에 만족하는 f1 값을 구하시오\n",
    "- 데이터셋 : basic1.csv\n",
    "- 오른쪽 상단 copy&edit 클릭 -> 예상문제 풀이 시작"
   ]
  },
  {
   "cell_type": "markdown",
   "id": "1c884bda",
   "metadata": {
    "papermill": {
     "duration": 0.01276,
     "end_time": "2025-06-20T16:04:57.480206",
     "exception": false,
     "start_time": "2025-06-20T16:04:57.467446",
     "status": "completed"
    },
    "tags": []
   },
   "source": [
    "# 1"
   ]
  },
  {
   "cell_type": "code",
   "execution_count": 1,
   "id": "c17f310f",
   "metadata": {
    "execution": {
     "iopub.execute_input": "2025-06-20T16:04:57.521524Z",
     "iopub.status.busy": "2025-06-20T16:04:57.520649Z",
     "iopub.status.idle": "2025-06-20T16:04:57.558268Z",
     "shell.execute_reply": "2025-06-20T16:04:57.557513Z",
     "shell.execute_reply.started": "2025-06-20T16:01:19.353798Z"
    },
    "papermill": {
     "duration": 0.06498,
     "end_time": "2025-06-20T16:04:57.558442",
     "exception": false,
     "start_time": "2025-06-20T16:04:57.493462",
     "status": "completed"
    },
    "tags": []
   },
   "outputs": [
    {
     "name": "stdout",
     "output_type": "stream",
     "text": [
      "833.0\n"
     ]
    }
   ],
   "source": [
    "# 라이브러리 및 데이터 불러오기\n",
    "import numpy as np\n",
    "import pandas as pd\n",
    "\n",
    "df = pd.read_csv('/kaggle/input/bigdatacertificationkr/basic1.csv')\n",
    "df = df.dropna(subset = ['f1'])\n",
    "\n",
    "df = df.groupby(['city', 'f2']).sum().reset_index()\n",
    "cond = df.loc[(df['city'] == '경기')& (df['f2'] == 0)]['f1'][0]\n",
    "print(cond)"
   ]
  },
  {
   "cell_type": "code",
   "execution_count": null,
   "id": "6875be1f",
   "metadata": {
    "papermill": {
     "duration": 0.013093,
     "end_time": "2025-06-20T16:04:57.585653",
     "exception": false,
     "start_time": "2025-06-20T16:04:57.572560",
     "status": "completed"
    },
    "tags": []
   },
   "outputs": [],
   "source": []
  },
  {
   "cell_type": "code",
   "execution_count": null,
   "id": "732d06a3",
   "metadata": {
    "papermill": {
     "duration": 0.012777,
     "end_time": "2025-06-20T16:04:57.611751",
     "exception": false,
     "start_time": "2025-06-20T16:04:57.598974",
     "status": "completed"
    },
    "tags": []
   },
   "outputs": [],
   "source": []
  },
  {
   "cell_type": "code",
   "execution_count": null,
   "id": "a2b2ed99",
   "metadata": {
    "papermill": {
     "duration": 0.013294,
     "end_time": "2025-06-20T16:04:57.640124",
     "exception": false,
     "start_time": "2025-06-20T16:04:57.626830",
     "status": "completed"
    },
    "tags": []
   },
   "outputs": [],
   "source": []
  },
  {
   "cell_type": "code",
   "execution_count": null,
   "id": "6b48c270",
   "metadata": {
    "papermill": {
     "duration": 0.013169,
     "end_time": "2025-06-20T16:04:57.666666",
     "exception": false,
     "start_time": "2025-06-20T16:04:57.653497",
     "status": "completed"
    },
    "tags": []
   },
   "outputs": [],
   "source": []
  },
  {
   "cell_type": "markdown",
   "id": "36eccb72",
   "metadata": {
    "papermill": {
     "duration": 0.012962,
     "end_time": "2025-06-20T16:04:57.694675",
     "exception": false,
     "start_time": "2025-06-20T16:04:57.681713",
     "status": "completed"
    },
    "tags": []
   },
   "source": [
    "# 2"
   ]
  },
  {
   "cell_type": "code",
   "execution_count": 2,
   "id": "8ce0d8f8",
   "metadata": {
    "execution": {
     "iopub.execute_input": "2025-06-20T16:04:57.726650Z",
     "iopub.status.busy": "2025-06-20T16:04:57.725661Z",
     "iopub.status.idle": "2025-06-20T16:04:57.754283Z",
     "shell.execute_reply": "2025-06-20T16:04:57.753707Z",
     "shell.execute_reply.started": "2024-10-01T07:03:04.793487Z"
    },
    "papermill": {
     "duration": 0.046637,
     "end_time": "2025-06-20T16:04:57.754438",
     "exception": false,
     "start_time": "2025-06-20T16:04:57.707801",
     "status": "completed"
    },
    "tags": []
   },
   "outputs": [
    {
     "data": {
      "text/html": [
       "<div>\n",
       "<style scoped>\n",
       "    .dataframe tbody tr th:only-of-type {\n",
       "        vertical-align: middle;\n",
       "    }\n",
       "\n",
       "    .dataframe tbody tr th {\n",
       "        vertical-align: top;\n",
       "    }\n",
       "\n",
       "    .dataframe thead th {\n",
       "        text-align: right;\n",
       "    }\n",
       "</style>\n",
       "<table border=\"1\" class=\"dataframe\">\n",
       "  <thead>\n",
       "    <tr style=\"text-align: right;\">\n",
       "      <th></th>\n",
       "      <th>id</th>\n",
       "      <th>age</th>\n",
       "      <th>city</th>\n",
       "      <th>f1</th>\n",
       "      <th>f2</th>\n",
       "      <th>f3</th>\n",
       "      <th>f4</th>\n",
       "      <th>f5</th>\n",
       "    </tr>\n",
       "  </thead>\n",
       "  <tbody>\n",
       "    <tr>\n",
       "      <th>0</th>\n",
       "      <td>id01</td>\n",
       "      <td>2.0</td>\n",
       "      <td>서울</td>\n",
       "      <td>NaN</td>\n",
       "      <td>0</td>\n",
       "      <td>NaN</td>\n",
       "      <td>ENFJ</td>\n",
       "      <td>91.297791</td>\n",
       "    </tr>\n",
       "    <tr>\n",
       "      <th>1</th>\n",
       "      <td>id02</td>\n",
       "      <td>9.0</td>\n",
       "      <td>서울</td>\n",
       "      <td>70.0</td>\n",
       "      <td>1</td>\n",
       "      <td>NaN</td>\n",
       "      <td>ENFJ</td>\n",
       "      <td>60.339826</td>\n",
       "    </tr>\n",
       "    <tr>\n",
       "      <th>2</th>\n",
       "      <td>id03</td>\n",
       "      <td>27.0</td>\n",
       "      <td>서울</td>\n",
       "      <td>61.0</td>\n",
       "      <td>1</td>\n",
       "      <td>NaN</td>\n",
       "      <td>ISTJ</td>\n",
       "      <td>17.252986</td>\n",
       "    </tr>\n",
       "    <tr>\n",
       "      <th>3</th>\n",
       "      <td>id04</td>\n",
       "      <td>75.0</td>\n",
       "      <td>서울</td>\n",
       "      <td>NaN</td>\n",
       "      <td>2</td>\n",
       "      <td>NaN</td>\n",
       "      <td>INFP</td>\n",
       "      <td>52.667078</td>\n",
       "    </tr>\n",
       "    <tr>\n",
       "      <th>4</th>\n",
       "      <td>id05</td>\n",
       "      <td>24.0</td>\n",
       "      <td>서울</td>\n",
       "      <td>85.0</td>\n",
       "      <td>2</td>\n",
       "      <td>NaN</td>\n",
       "      <td>ISFJ</td>\n",
       "      <td>29.269869</td>\n",
       "    </tr>\n",
       "    <tr>\n",
       "      <th>...</th>\n",
       "      <td>...</td>\n",
       "      <td>...</td>\n",
       "      <td>...</td>\n",
       "      <td>...</td>\n",
       "      <td>...</td>\n",
       "      <td>...</td>\n",
       "      <td>...</td>\n",
       "      <td>...</td>\n",
       "    </tr>\n",
       "    <tr>\n",
       "      <th>95</th>\n",
       "      <td>id96</td>\n",
       "      <td>92.0</td>\n",
       "      <td>경기</td>\n",
       "      <td>53.0</td>\n",
       "      <td>1</td>\n",
       "      <td>NaN</td>\n",
       "      <td>ENTJ</td>\n",
       "      <td>52.667078</td>\n",
       "    </tr>\n",
       "    <tr>\n",
       "      <th>96</th>\n",
       "      <td>id97</td>\n",
       "      <td>100.0</td>\n",
       "      <td>경기</td>\n",
       "      <td>NaN</td>\n",
       "      <td>0</td>\n",
       "      <td>NaN</td>\n",
       "      <td>INFP</td>\n",
       "      <td>67.886373</td>\n",
       "    </tr>\n",
       "    <tr>\n",
       "      <th>97</th>\n",
       "      <td>id98</td>\n",
       "      <td>39.0</td>\n",
       "      <td>경기</td>\n",
       "      <td>58.0</td>\n",
       "      <td>2</td>\n",
       "      <td>NaN</td>\n",
       "      <td>INFP</td>\n",
       "      <td>98.429899</td>\n",
       "    </tr>\n",
       "    <tr>\n",
       "      <th>98</th>\n",
       "      <td>id99</td>\n",
       "      <td>1.0</td>\n",
       "      <td>경기</td>\n",
       "      <td>47.0</td>\n",
       "      <td>0</td>\n",
       "      <td>NaN</td>\n",
       "      <td>ESFJ</td>\n",
       "      <td>97.381034</td>\n",
       "    </tr>\n",
       "    <tr>\n",
       "      <th>99</th>\n",
       "      <td>id100</td>\n",
       "      <td>47.0</td>\n",
       "      <td>경기</td>\n",
       "      <td>53.0</td>\n",
       "      <td>0</td>\n",
       "      <td>vip</td>\n",
       "      <td>ESFP</td>\n",
       "      <td>33.308999</td>\n",
       "    </tr>\n",
       "  </tbody>\n",
       "</table>\n",
       "<p>100 rows × 8 columns</p>\n",
       "</div>"
      ],
      "text/plain": [
       "       id    age city    f1  f2   f3    f4         f5\n",
       "0    id01    2.0   서울   NaN   0  NaN  ENFJ  91.297791\n",
       "1    id02    9.0   서울  70.0   1  NaN  ENFJ  60.339826\n",
       "2    id03   27.0   서울  61.0   1  NaN  ISTJ  17.252986\n",
       "3    id04   75.0   서울   NaN   2  NaN  INFP  52.667078\n",
       "4    id05   24.0   서울  85.0   2  NaN  ISFJ  29.269869\n",
       "..    ...    ...  ...   ...  ..  ...   ...        ...\n",
       "95   id96   92.0   경기  53.0   1  NaN  ENTJ  52.667078\n",
       "96   id97  100.0   경기   NaN   0  NaN  INFP  67.886373\n",
       "97   id98   39.0   경기  58.0   2  NaN  INFP  98.429899\n",
       "98   id99    1.0   경기  47.0   0  NaN  ESFJ  97.381034\n",
       "99  id100   47.0   경기  53.0   0  vip  ESFP  33.308999\n",
       "\n",
       "[100 rows x 8 columns]"
      ]
     },
     "execution_count": 2,
     "metadata": {},
     "output_type": "execute_result"
    }
   ],
   "source": [
    "import numpy as np\n",
    "import pandas as pd\n",
    "\n",
    "df = pd.read_csv('/kaggle/input/bigdatacertificationkr/basic1.csv')\n",
    "df"
   ]
  },
  {
   "cell_type": "code",
   "execution_count": 3,
   "id": "ff084e6a",
   "metadata": {
    "execution": {
     "iopub.execute_input": "2025-06-20T16:04:57.809605Z",
     "iopub.status.busy": "2025-06-20T16:04:57.803808Z",
     "iopub.status.idle": "2025-06-20T16:04:57.814224Z",
     "shell.execute_reply": "2025-06-20T16:04:57.813640Z",
     "shell.execute_reply.started": "2024-10-01T07:36:26.239530Z"
    },
    "papermill": {
     "duration": 0.044951,
     "end_time": "2025-06-20T16:04:57.814372",
     "exception": false,
     "start_time": "2025-06-20T16:04:57.769421",
     "status": "completed"
    },
    "tags": []
   },
   "outputs": [
    {
     "data": {
      "text/html": [
       "<div>\n",
       "<style scoped>\n",
       "    .dataframe tbody tr th:only-of-type {\n",
       "        vertical-align: middle;\n",
       "    }\n",
       "\n",
       "    .dataframe tbody tr th {\n",
       "        vertical-align: top;\n",
       "    }\n",
       "\n",
       "    .dataframe thead th {\n",
       "        text-align: right;\n",
       "    }\n",
       "</style>\n",
       "<table border=\"1\" class=\"dataframe\">\n",
       "  <thead>\n",
       "    <tr style=\"text-align: right;\">\n",
       "      <th></th>\n",
       "      <th>id</th>\n",
       "      <th>age</th>\n",
       "      <th>city</th>\n",
       "      <th>f1</th>\n",
       "      <th>f2</th>\n",
       "      <th>f3</th>\n",
       "      <th>f4</th>\n",
       "      <th>f5</th>\n",
       "    </tr>\n",
       "  </thead>\n",
       "  <tbody>\n",
       "    <tr>\n",
       "      <th>1</th>\n",
       "      <td>id02</td>\n",
       "      <td>9.0</td>\n",
       "      <td>서울</td>\n",
       "      <td>70.0</td>\n",
       "      <td>1</td>\n",
       "      <td>NaN</td>\n",
       "      <td>ENFJ</td>\n",
       "      <td>60.339826</td>\n",
       "    </tr>\n",
       "    <tr>\n",
       "      <th>2</th>\n",
       "      <td>id03</td>\n",
       "      <td>27.0</td>\n",
       "      <td>서울</td>\n",
       "      <td>61.0</td>\n",
       "      <td>1</td>\n",
       "      <td>NaN</td>\n",
       "      <td>ISTJ</td>\n",
       "      <td>17.252986</td>\n",
       "    </tr>\n",
       "    <tr>\n",
       "      <th>4</th>\n",
       "      <td>id05</td>\n",
       "      <td>24.0</td>\n",
       "      <td>서울</td>\n",
       "      <td>85.0</td>\n",
       "      <td>2</td>\n",
       "      <td>NaN</td>\n",
       "      <td>ISFJ</td>\n",
       "      <td>29.269869</td>\n",
       "    </tr>\n",
       "    <tr>\n",
       "      <th>5</th>\n",
       "      <td>id06</td>\n",
       "      <td>22.0</td>\n",
       "      <td>서울</td>\n",
       "      <td>57.0</td>\n",
       "      <td>0</td>\n",
       "      <td>vip</td>\n",
       "      <td>INTP</td>\n",
       "      <td>20.129444</td>\n",
       "    </tr>\n",
       "    <tr>\n",
       "      <th>6</th>\n",
       "      <td>id07</td>\n",
       "      <td>36.3</td>\n",
       "      <td>서울</td>\n",
       "      <td>60.0</td>\n",
       "      <td>1</td>\n",
       "      <td>NaN</td>\n",
       "      <td>ISFJ</td>\n",
       "      <td>9.796378</td>\n",
       "    </tr>\n",
       "    <tr>\n",
       "      <th>...</th>\n",
       "      <td>...</td>\n",
       "      <td>...</td>\n",
       "      <td>...</td>\n",
       "      <td>...</td>\n",
       "      <td>...</td>\n",
       "      <td>...</td>\n",
       "      <td>...</td>\n",
       "      <td>...</td>\n",
       "    </tr>\n",
       "    <tr>\n",
       "      <th>94</th>\n",
       "      <td>id95</td>\n",
       "      <td>77.0</td>\n",
       "      <td>경기</td>\n",
       "      <td>43.0</td>\n",
       "      <td>1</td>\n",
       "      <td>NaN</td>\n",
       "      <td>INTJ</td>\n",
       "      <td>91.297791</td>\n",
       "    </tr>\n",
       "    <tr>\n",
       "      <th>95</th>\n",
       "      <td>id96</td>\n",
       "      <td>92.0</td>\n",
       "      <td>경기</td>\n",
       "      <td>53.0</td>\n",
       "      <td>1</td>\n",
       "      <td>NaN</td>\n",
       "      <td>ENTJ</td>\n",
       "      <td>52.667078</td>\n",
       "    </tr>\n",
       "    <tr>\n",
       "      <th>97</th>\n",
       "      <td>id98</td>\n",
       "      <td>39.0</td>\n",
       "      <td>경기</td>\n",
       "      <td>58.0</td>\n",
       "      <td>2</td>\n",
       "      <td>NaN</td>\n",
       "      <td>INFP</td>\n",
       "      <td>98.429899</td>\n",
       "    </tr>\n",
       "    <tr>\n",
       "      <th>98</th>\n",
       "      <td>id99</td>\n",
       "      <td>1.0</td>\n",
       "      <td>경기</td>\n",
       "      <td>47.0</td>\n",
       "      <td>0</td>\n",
       "      <td>NaN</td>\n",
       "      <td>ESFJ</td>\n",
       "      <td>97.381034</td>\n",
       "    </tr>\n",
       "    <tr>\n",
       "      <th>99</th>\n",
       "      <td>id100</td>\n",
       "      <td>47.0</td>\n",
       "      <td>경기</td>\n",
       "      <td>53.0</td>\n",
       "      <td>0</td>\n",
       "      <td>vip</td>\n",
       "      <td>ESFP</td>\n",
       "      <td>33.308999</td>\n",
       "    </tr>\n",
       "  </tbody>\n",
       "</table>\n",
       "<p>69 rows × 8 columns</p>\n",
       "</div>"
      ],
      "text/plain": [
       "       id   age city    f1  f2   f3    f4         f5\n",
       "1    id02   9.0   서울  70.0   1  NaN  ENFJ  60.339826\n",
       "2    id03  27.0   서울  61.0   1  NaN  ISTJ  17.252986\n",
       "4    id05  24.0   서울  85.0   2  NaN  ISFJ  29.269869\n",
       "5    id06  22.0   서울  57.0   0  vip  INTP  20.129444\n",
       "6    id07  36.3   서울  60.0   1  NaN  ISFJ   9.796378\n",
       "..    ...   ...  ...   ...  ..  ...   ...        ...\n",
       "94   id95  77.0   경기  43.0   1  NaN  INTJ  91.297791\n",
       "95   id96  92.0   경기  53.0   1  NaN  ENTJ  52.667078\n",
       "97   id98  39.0   경기  58.0   2  NaN  INFP  98.429899\n",
       "98   id99   1.0   경기  47.0   0  NaN  ESFJ  97.381034\n",
       "99  id100  47.0   경기  53.0   0  vip  ESFP  33.308999\n",
       "\n",
       "[69 rows x 8 columns]"
      ]
     },
     "execution_count": 3,
     "metadata": {},
     "output_type": "execute_result"
    }
   ],
   "source": [
    "# 주어진 데이터 중 basic1.csv에서 'f1'컬럼 결측 데이터를 제거\n",
    "df.isnull().sum()\n",
    "df = df.dropna(subset=['f1'])\n",
    "df"
   ]
  },
  {
   "cell_type": "code",
   "execution_count": 4,
   "id": "fe9cb9ac",
   "metadata": {
    "execution": {
     "iopub.execute_input": "2025-06-20T16:04:57.860133Z",
     "iopub.status.busy": "2025-06-20T16:04:57.859091Z",
     "iopub.status.idle": "2025-06-20T16:04:57.862773Z",
     "shell.execute_reply": "2025-06-20T16:04:57.863323Z",
     "shell.execute_reply.started": "2024-10-01T07:37:43.887815Z"
    },
    "papermill": {
     "duration": 0.033511,
     "end_time": "2025-06-20T16:04:57.863515",
     "exception": false,
     "start_time": "2025-06-20T16:04:57.830004",
     "status": "completed"
    },
    "tags": []
   },
   "outputs": [
    {
     "name": "stdout",
     "output_type": "stream",
     "text": [
      "           age     f1          f5\n",
      "city f2                          \n",
      "경기   0   720.4  833.0  943.944823\n",
      "     1   696.0  670.0  657.241212\n",
      "     2   239.0  311.0  362.300060\n",
      "대구   0   387.0  527.0  183.199568\n",
      "     1   217.6  235.0  241.333824\n",
      "     2   140.0  211.0   79.667919\n",
      "부산   0   331.0  389.0  284.371097\n",
      "     1   188.7  315.0  299.270973\n",
      "     2   -13.5   47.0   67.886373\n",
      "서울   0   145.0  278.0  218.528577\n",
      "     1   315.3  534.0  438.485010\n",
      "     2    68.3  207.0  126.661135\n"
     ]
    }
   ],
   "source": [
    "# 'city'와 'f2'을 기준으로 묶어 합계'city'와 'f2'을 기준으로 묶어 합계\n",
    "city_f2_groupby = df.groupby(['city','f2'])\n",
    "city_f2_groupby_sum = city_f2_groupby.sum()\n",
    "print(city_f2_groupby_sum)"
   ]
  },
  {
   "cell_type": "code",
   "execution_count": 5,
   "id": "f5cbf80b",
   "metadata": {
    "execution": {
     "iopub.execute_input": "2025-06-20T16:04:57.906470Z",
     "iopub.status.busy": "2025-06-20T16:04:57.905323Z",
     "iopub.status.idle": "2025-06-20T16:04:57.910256Z",
     "shell.execute_reply": "2025-06-20T16:04:57.909610Z",
     "shell.execute_reply.started": "2024-10-01T07:43:13.843122Z"
    },
    "papermill": {
     "duration": 0.031709,
     "end_time": "2025-06-20T16:04:57.910414",
     "exception": false,
     "start_time": "2025-06-20T16:04:57.878705",
     "status": "completed"
    },
    "tags": []
   },
   "outputs": [
    {
     "data": {
      "text/plain": [
       "f1    833.0\n",
       "dtype: float64"
      ]
     },
     "execution_count": 5,
     "metadata": {},
     "output_type": "execute_result"
    }
   ],
   "source": [
    "# city가 경기이면서 f2가 0'인 조건에 만족하는 f1 값을 구하시오\n",
    "df.loc[(df['f2']==0) & (df['city']=='경기'), ['f1']].sum()"
   ]
  },
  {
   "cell_type": "code",
   "execution_count": null,
   "id": "d4ce990c",
   "metadata": {
    "papermill": {
     "duration": 0.014582,
     "end_time": "2025-06-20T16:04:57.940735",
     "exception": false,
     "start_time": "2025-06-20T16:04:57.926153",
     "status": "completed"
    },
    "tags": []
   },
   "outputs": [],
   "source": []
  },
  {
   "cell_type": "code",
   "execution_count": null,
   "id": "707a31e7",
   "metadata": {
    "papermill": {
     "duration": 0.014677,
     "end_time": "2025-06-20T16:04:57.971201",
     "exception": false,
     "start_time": "2025-06-20T16:04:57.956524",
     "status": "completed"
    },
    "tags": []
   },
   "outputs": [],
   "source": []
  },
  {
   "cell_type": "markdown",
   "id": "1538d4a5",
   "metadata": {
    "papermill": {
     "duration": 0.014659,
     "end_time": "2025-06-20T16:04:58.000936",
     "exception": false,
     "start_time": "2025-06-20T16:04:57.986277",
     "status": "completed"
    },
    "tags": []
   },
   "source": [
    "## Hint\n",
    "- 그룹 합계 "
   ]
  },
  {
   "cell_type": "code",
   "execution_count": 6,
   "id": "d960ead1",
   "metadata": {
    "execution": {
     "iopub.execute_input": "2025-06-20T16:04:58.043081Z",
     "iopub.status.busy": "2025-06-20T16:04:58.042283Z",
     "iopub.status.idle": "2025-06-20T16:04:58.046579Z",
     "shell.execute_reply": "2025-06-20T16:04:58.046094Z",
     "shell.execute_reply.started": "2024-09-29T17:32:34.578045Z"
    },
    "papermill": {
     "duration": 0.030612,
     "end_time": "2025-06-20T16:04:58.046766",
     "exception": false,
     "start_time": "2025-06-20T16:04:58.016154",
     "status": "completed"
    },
    "tags": []
   },
   "outputs": [
    {
     "data": {
      "text/html": [
       "<div>\n",
       "<style scoped>\n",
       "    .dataframe tbody tr th:only-of-type {\n",
       "        vertical-align: middle;\n",
       "    }\n",
       "\n",
       "    .dataframe tbody tr th {\n",
       "        vertical-align: top;\n",
       "    }\n",
       "\n",
       "    .dataframe thead th {\n",
       "        text-align: right;\n",
       "    }\n",
       "</style>\n",
       "<table border=\"1\" class=\"dataframe\">\n",
       "  <thead>\n",
       "    <tr style=\"text-align: right;\">\n",
       "      <th></th>\n",
       "      <th>User</th>\n",
       "      <th>Max Speed</th>\n",
       "    </tr>\n",
       "  </thead>\n",
       "  <tbody>\n",
       "    <tr>\n",
       "      <th>0</th>\n",
       "      <td>네모</td>\n",
       "      <td>120.0</td>\n",
       "    </tr>\n",
       "    <tr>\n",
       "      <th>1</th>\n",
       "      <td>네모</td>\n",
       "      <td>240.0</td>\n",
       "    </tr>\n",
       "    <tr>\n",
       "      <th>2</th>\n",
       "      <td>세모</td>\n",
       "      <td>57.0</td>\n",
       "    </tr>\n",
       "    <tr>\n",
       "      <th>3</th>\n",
       "      <td>세모</td>\n",
       "      <td>41.0</td>\n",
       "    </tr>\n",
       "  </tbody>\n",
       "</table>\n",
       "</div>"
      ],
      "text/plain": [
       "  User  Max Speed\n",
       "0   네모      120.0\n",
       "1   네모      240.0\n",
       "2   세모       57.0\n",
       "3   세모       41.0"
      ]
     },
     "execution_count": 6,
     "metadata": {},
     "output_type": "execute_result"
    }
   ],
   "source": [
    "import pandas as pd\n",
    "df = pd.DataFrame({'User': ['네모', '네모',\n",
    "                              '세모', '세모'],\n",
    "                   'Max Speed': [120., 240., 57., 41.]})\n",
    "df"
   ]
  },
  {
   "cell_type": "code",
   "execution_count": 7,
   "id": "d1a2ea53",
   "metadata": {
    "execution": {
     "iopub.execute_input": "2025-06-20T16:04:58.091162Z",
     "iopub.status.busy": "2025-06-20T16:04:58.090449Z",
     "iopub.status.idle": "2025-06-20T16:04:58.095648Z",
     "shell.execute_reply": "2025-06-20T16:04:58.095110Z",
     "shell.execute_reply.started": "2024-09-29T17:32:34.764267Z"
    },
    "papermill": {
     "duration": 0.03343,
     "end_time": "2025-06-20T16:04:58.095781",
     "exception": false,
     "start_time": "2025-06-20T16:04:58.062351",
     "status": "completed"
    },
    "tags": []
   },
   "outputs": [
    {
     "data": {
      "text/html": [
       "<div>\n",
       "<style scoped>\n",
       "    .dataframe tbody tr th:only-of-type {\n",
       "        vertical-align: middle;\n",
       "    }\n",
       "\n",
       "    .dataframe tbody tr th {\n",
       "        vertical-align: top;\n",
       "    }\n",
       "\n",
       "    .dataframe thead th {\n",
       "        text-align: right;\n",
       "    }\n",
       "</style>\n",
       "<table border=\"1\" class=\"dataframe\">\n",
       "  <thead>\n",
       "    <tr style=\"text-align: right;\">\n",
       "      <th></th>\n",
       "      <th>Max Speed</th>\n",
       "    </tr>\n",
       "    <tr>\n",
       "      <th>User</th>\n",
       "      <th></th>\n",
       "    </tr>\n",
       "  </thead>\n",
       "  <tbody>\n",
       "    <tr>\n",
       "      <th>네모</th>\n",
       "      <td>180.0</td>\n",
       "    </tr>\n",
       "    <tr>\n",
       "      <th>세모</th>\n",
       "      <td>49.0</td>\n",
       "    </tr>\n",
       "  </tbody>\n",
       "</table>\n",
       "</div>"
      ],
      "text/plain": [
       "      Max Speed\n",
       "User           \n",
       "네모        180.0\n",
       "세모         49.0"
      ]
     },
     "execution_count": 7,
     "metadata": {},
     "output_type": "execute_result"
    }
   ],
   "source": [
    "df.groupby(['User']).mean()"
   ]
  },
  {
   "cell_type": "markdown",
   "id": "83fe411a",
   "metadata": {
    "papermill": {
     "duration": 0.015497,
     "end_time": "2025-06-20T16:04:58.126916",
     "exception": false,
     "start_time": "2025-06-20T16:04:58.111419",
     "status": "completed"
    },
    "tags": []
   },
   "source": [
    "## 풀이"
   ]
  },
  {
   "cell_type": "code",
   "execution_count": 8,
   "id": "6f5af02b",
   "metadata": {
    "execution": {
     "iopub.execute_input": "2025-06-20T16:04:58.165006Z",
     "iopub.status.busy": "2025-06-20T16:04:58.164339Z",
     "iopub.status.idle": "2025-06-20T16:04:58.180496Z",
     "shell.execute_reply": "2025-06-20T16:04:58.179797Z",
     "shell.execute_reply.started": "2024-11-11T10:14:29.125540Z"
    },
    "papermill": {
     "duration": 0.037588,
     "end_time": "2025-06-20T16:04:58.180646",
     "exception": false,
     "start_time": "2025-06-20T16:04:58.143058",
     "status": "completed"
    },
    "tags": []
   },
   "outputs": [
    {
     "data": {
      "text/html": [
       "<div>\n",
       "<style scoped>\n",
       "    .dataframe tbody tr th:only-of-type {\n",
       "        vertical-align: middle;\n",
       "    }\n",
       "\n",
       "    .dataframe tbody tr th {\n",
       "        vertical-align: top;\n",
       "    }\n",
       "\n",
       "    .dataframe thead th {\n",
       "        text-align: right;\n",
       "    }\n",
       "</style>\n",
       "<table border=\"1\" class=\"dataframe\">\n",
       "  <thead>\n",
       "    <tr style=\"text-align: right;\">\n",
       "      <th></th>\n",
       "      <th>id</th>\n",
       "      <th>age</th>\n",
       "      <th>city</th>\n",
       "      <th>f1</th>\n",
       "      <th>f2</th>\n",
       "      <th>f3</th>\n",
       "      <th>f4</th>\n",
       "      <th>f5</th>\n",
       "    </tr>\n",
       "  </thead>\n",
       "  <tbody>\n",
       "    <tr>\n",
       "      <th>0</th>\n",
       "      <td>id01</td>\n",
       "      <td>2.0</td>\n",
       "      <td>서울</td>\n",
       "      <td>NaN</td>\n",
       "      <td>0</td>\n",
       "      <td>NaN</td>\n",
       "      <td>ENFJ</td>\n",
       "      <td>91.297791</td>\n",
       "    </tr>\n",
       "    <tr>\n",
       "      <th>1</th>\n",
       "      <td>id02</td>\n",
       "      <td>9.0</td>\n",
       "      <td>서울</td>\n",
       "      <td>70.0</td>\n",
       "      <td>1</td>\n",
       "      <td>NaN</td>\n",
       "      <td>ENFJ</td>\n",
       "      <td>60.339826</td>\n",
       "    </tr>\n",
       "    <tr>\n",
       "      <th>2</th>\n",
       "      <td>id03</td>\n",
       "      <td>27.0</td>\n",
       "      <td>서울</td>\n",
       "      <td>61.0</td>\n",
       "      <td>1</td>\n",
       "      <td>NaN</td>\n",
       "      <td>ISTJ</td>\n",
       "      <td>17.252986</td>\n",
       "    </tr>\n",
       "    <tr>\n",
       "      <th>3</th>\n",
       "      <td>id04</td>\n",
       "      <td>75.0</td>\n",
       "      <td>서울</td>\n",
       "      <td>NaN</td>\n",
       "      <td>2</td>\n",
       "      <td>NaN</td>\n",
       "      <td>INFP</td>\n",
       "      <td>52.667078</td>\n",
       "    </tr>\n",
       "    <tr>\n",
       "      <th>4</th>\n",
       "      <td>id05</td>\n",
       "      <td>24.0</td>\n",
       "      <td>서울</td>\n",
       "      <td>85.0</td>\n",
       "      <td>2</td>\n",
       "      <td>NaN</td>\n",
       "      <td>ISFJ</td>\n",
       "      <td>29.269869</td>\n",
       "    </tr>\n",
       "  </tbody>\n",
       "</table>\n",
       "</div>"
      ],
      "text/plain": [
       "     id   age city    f1  f2   f3    f4         f5\n",
       "0  id01   2.0   서울   NaN   0  NaN  ENFJ  91.297791\n",
       "1  id02   9.0   서울  70.0   1  NaN  ENFJ  60.339826\n",
       "2  id03  27.0   서울  61.0   1  NaN  ISTJ  17.252986\n",
       "3  id04  75.0   서울   NaN   2  NaN  INFP  52.667078\n",
       "4  id05  24.0   서울  85.0   2  NaN  ISFJ  29.269869"
      ]
     },
     "execution_count": 8,
     "metadata": {},
     "output_type": "execute_result"
    }
   ],
   "source": [
    "# 라이브러리 및 데이터 불러오기\n",
    "import pandas as pd\n",
    "import numpy as np\n",
    "\n",
    "df = pd.read_csv('../input/bigdatacertificationkr/basic1.csv')\n",
    "df.head()"
   ]
  },
  {
   "cell_type": "code",
   "execution_count": 9,
   "id": "cbac4167",
   "metadata": {
    "execution": {
     "iopub.execute_input": "2025-06-20T16:04:58.221802Z",
     "iopub.status.busy": "2025-06-20T16:04:58.221079Z",
     "iopub.status.idle": "2025-06-20T16:04:58.224191Z",
     "shell.execute_reply": "2025-06-20T16:04:58.223521Z",
     "shell.execute_reply.started": "2024-11-11T10:14:29.324777Z"
    },
    "papermill": {
     "duration": 0.026117,
     "end_time": "2025-06-20T16:04:58.224344",
     "exception": false,
     "start_time": "2025-06-20T16:04:58.198227",
     "status": "completed"
    },
    "tags": []
   },
   "outputs": [],
   "source": [
    "# f1컬럼 결측치 제거\n",
    "df = df.dropna(subset=['f1'])"
   ]
  },
  {
   "cell_type": "code",
   "execution_count": 10,
   "id": "e799eb48",
   "metadata": {
    "execution": {
     "iopub.execute_input": "2025-06-20T16:04:58.264773Z",
     "iopub.status.busy": "2025-06-20T16:04:58.264120Z",
     "iopub.status.idle": "2025-06-20T16:04:58.277739Z",
     "shell.execute_reply": "2025-06-20T16:04:58.278274Z",
     "shell.execute_reply.started": "2024-11-11T10:14:29.527195Z"
    },
    "papermill": {
     "duration": 0.037932,
     "end_time": "2025-06-20T16:04:58.278449",
     "exception": false,
     "start_time": "2025-06-20T16:04:58.240517",
     "status": "completed"
    },
    "tags": []
   },
   "outputs": [
    {
     "data": {
      "text/html": [
       "<div>\n",
       "<style scoped>\n",
       "    .dataframe tbody tr th:only-of-type {\n",
       "        vertical-align: middle;\n",
       "    }\n",
       "\n",
       "    .dataframe tbody tr th {\n",
       "        vertical-align: top;\n",
       "    }\n",
       "\n",
       "    .dataframe thead th {\n",
       "        text-align: right;\n",
       "    }\n",
       "</style>\n",
       "<table border=\"1\" class=\"dataframe\">\n",
       "  <thead>\n",
       "    <tr style=\"text-align: right;\">\n",
       "      <th></th>\n",
       "      <th></th>\n",
       "      <th>age</th>\n",
       "      <th>f1</th>\n",
       "      <th>f5</th>\n",
       "    </tr>\n",
       "    <tr>\n",
       "      <th>city</th>\n",
       "      <th>f2</th>\n",
       "      <th></th>\n",
       "      <th></th>\n",
       "      <th></th>\n",
       "    </tr>\n",
       "  </thead>\n",
       "  <tbody>\n",
       "    <tr>\n",
       "      <th rowspan=\"3\" valign=\"top\">경기</th>\n",
       "      <th>0</th>\n",
       "      <td>720.4</td>\n",
       "      <td>833.0</td>\n",
       "      <td>943.944823</td>\n",
       "    </tr>\n",
       "    <tr>\n",
       "      <th>1</th>\n",
       "      <td>696.0</td>\n",
       "      <td>670.0</td>\n",
       "      <td>657.241212</td>\n",
       "    </tr>\n",
       "    <tr>\n",
       "      <th>2</th>\n",
       "      <td>239.0</td>\n",
       "      <td>311.0</td>\n",
       "      <td>362.300060</td>\n",
       "    </tr>\n",
       "    <tr>\n",
       "      <th rowspan=\"3\" valign=\"top\">대구</th>\n",
       "      <th>0</th>\n",
       "      <td>387.0</td>\n",
       "      <td>527.0</td>\n",
       "      <td>183.199568</td>\n",
       "    </tr>\n",
       "    <tr>\n",
       "      <th>1</th>\n",
       "      <td>217.6</td>\n",
       "      <td>235.0</td>\n",
       "      <td>241.333824</td>\n",
       "    </tr>\n",
       "    <tr>\n",
       "      <th>2</th>\n",
       "      <td>140.0</td>\n",
       "      <td>211.0</td>\n",
       "      <td>79.667919</td>\n",
       "    </tr>\n",
       "    <tr>\n",
       "      <th rowspan=\"3\" valign=\"top\">부산</th>\n",
       "      <th>0</th>\n",
       "      <td>331.0</td>\n",
       "      <td>389.0</td>\n",
       "      <td>284.371097</td>\n",
       "    </tr>\n",
       "    <tr>\n",
       "      <th>1</th>\n",
       "      <td>188.7</td>\n",
       "      <td>315.0</td>\n",
       "      <td>299.270973</td>\n",
       "    </tr>\n",
       "    <tr>\n",
       "      <th>2</th>\n",
       "      <td>-13.5</td>\n",
       "      <td>47.0</td>\n",
       "      <td>67.886373</td>\n",
       "    </tr>\n",
       "    <tr>\n",
       "      <th rowspan=\"3\" valign=\"top\">서울</th>\n",
       "      <th>0</th>\n",
       "      <td>145.0</td>\n",
       "      <td>278.0</td>\n",
       "      <td>218.528577</td>\n",
       "    </tr>\n",
       "    <tr>\n",
       "      <th>1</th>\n",
       "      <td>315.3</td>\n",
       "      <td>534.0</td>\n",
       "      <td>438.485010</td>\n",
       "    </tr>\n",
       "    <tr>\n",
       "      <th>2</th>\n",
       "      <td>68.3</td>\n",
       "      <td>207.0</td>\n",
       "      <td>126.661135</td>\n",
       "    </tr>\n",
       "  </tbody>\n",
       "</table>\n",
       "</div>"
      ],
      "text/plain": [
       "           age     f1          f5\n",
       "city f2                          \n",
       "경기   0   720.4  833.0  943.944823\n",
       "     1   696.0  670.0  657.241212\n",
       "     2   239.0  311.0  362.300060\n",
       "대구   0   387.0  527.0  183.199568\n",
       "     1   217.6  235.0  241.333824\n",
       "     2   140.0  211.0   79.667919\n",
       "부산   0   331.0  389.0  284.371097\n",
       "     1   188.7  315.0  299.270973\n",
       "     2   -13.5   47.0   67.886373\n",
       "서울   0   145.0  278.0  218.528577\n",
       "     1   315.3  534.0  438.485010\n",
       "     2    68.3  207.0  126.661135"
      ]
     },
     "execution_count": 10,
     "metadata": {},
     "output_type": "execute_result"
    }
   ],
   "source": [
    "# 그룹 합계 계산\n",
    "df2 = df.groupby(['city','f2']).sum()\n",
    "df2"
   ]
  },
  {
   "cell_type": "code",
   "execution_count": 11,
   "id": "554f6e4f",
   "metadata": {
    "execution": {
     "iopub.execute_input": "2025-06-20T16:04:58.318758Z",
     "iopub.status.busy": "2025-06-20T16:04:58.318096Z",
     "iopub.status.idle": "2025-06-20T16:04:58.321223Z",
     "shell.execute_reply": "2025-06-20T16:04:58.321769Z",
     "shell.execute_reply.started": "2024-11-11T10:14:29.716691Z"
    },
    "papermill": {
     "duration": 0.026241,
     "end_time": "2025-06-20T16:04:58.321940",
     "exception": false,
     "start_time": "2025-06-20T16:04:58.295699",
     "status": "completed"
    },
    "tags": []
   },
   "outputs": [
    {
     "name": "stdout",
     "output_type": "stream",
     "text": [
      "833.0\n"
     ]
    }
   ],
   "source": [
    "# 조건에 맞는 값 출력\n",
    "print(df2.iloc[0]['f1'])"
   ]
  },
  {
   "cell_type": "code",
   "execution_count": null,
   "id": "971d5765",
   "metadata": {
    "papermill": {
     "duration": 0.01759,
     "end_time": "2025-06-20T16:04:58.356472",
     "exception": false,
     "start_time": "2025-06-20T16:04:58.338882",
     "status": "completed"
    },
    "tags": []
   },
   "outputs": [],
   "source": []
  },
  {
   "cell_type": "code",
   "execution_count": null,
   "id": "569b2e48",
   "metadata": {
    "papermill": {
     "duration": 0.017107,
     "end_time": "2025-06-20T16:04:58.390700",
     "exception": false,
     "start_time": "2025-06-20T16:04:58.373593",
     "status": "completed"
    },
    "tags": []
   },
   "outputs": [],
   "source": []
  }
 ],
 "metadata": {
  "kaggle": {
   "accelerator": "none",
   "dataSources": [
    {
     "databundleVersionId": 12753598,
     "datasetId": 1633303,
     "sourceId": 12211878,
     "sourceType": "datasetVersion"
    }
   ],
   "dockerImageVersionId": 30129,
   "isGpuEnabled": false,
   "isInternetEnabled": false,
   "language": "python",
   "sourceType": "notebook"
  },
  "kernelspec": {
   "display_name": "Python 3",
   "language": "python",
   "name": "python3"
  },
  "language_info": {
   "codemirror_mode": {
    "name": "ipython",
    "version": 3
   },
   "file_extension": ".py",
   "mimetype": "text/x-python",
   "name": "python",
   "nbconvert_exporter": "python",
   "pygments_lexer": "ipython3",
   "version": "3.7.10"
  },
  "papermill": {
   "default_parameters": {},
   "duration": 10.485504,
   "end_time": "2025-06-20T16:04:59.019225",
   "environment_variables": {},
   "exception": null,
   "input_path": "__notebook__.ipynb",
   "output_path": "__notebook__.ipynb",
   "parameters": {},
   "start_time": "2025-06-20T16:04:48.533721",
   "version": "2.3.3"
  }
 },
 "nbformat": 4,
 "nbformat_minor": 5
}
