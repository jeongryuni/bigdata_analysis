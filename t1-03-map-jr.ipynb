{
 "cells": [
  {
   "cell_type": "markdown",
   "id": "ee45615c",
   "metadata": {
    "papermill": {
     "duration": 0.012734,
     "end_time": "2025-06-18T22:05:10.512545",
     "exception": false,
     "start_time": "2025-06-18T22:05:10.499811",
     "status": "completed"
    },
    "tags": []
   },
   "source": [
    "## 결측치 처리\n",
    "-  주어진 데이터에서 결측치가 80%이상 되는 컬럼은(변수는) 삭제하고, 80% 미만인 결측치가 있는 컬럼은 'city'별 중앙값으로 값을 대체하고 'f1'컬럼의 평균값을 출력하세요!\n",
    "- 데이터셋 : basic1.csv 오른쪽 상단 copy&edit 클릭 -> 예상문제 풀이 시작\n",
    "- 강의 영상 : https://youtu.be/WqlpqBRn7x4"
   ]
  },
  {
   "cell_type": "code",
   "execution_count": 1,
   "id": "2a9f842a",
   "metadata": {
    "execution": {
     "iopub.execute_input": "2025-06-18T22:05:10.551937Z",
     "iopub.status.busy": "2025-06-18T22:05:10.545486Z",
     "iopub.status.idle": "2025-06-18T22:05:10.598865Z",
     "shell.execute_reply": "2025-06-18T22:05:10.599411Z",
     "shell.execute_reply.started": "2025-06-18T21:56:44.609049Z"
    },
    "papermill": {
     "duration": 0.074849,
     "end_time": "2025-06-18T22:05:10.599795",
     "exception": false,
     "start_time": "2025-06-18T22:05:10.524946",
     "status": "completed"
    },
    "tags": []
   },
   "outputs": [
    {
     "name": "stdout",
     "output_type": "stream",
     "text": [
      "f3\n",
      "id      0\n",
      "age     0\n",
      "city    0\n",
      "f1      0\n",
      "f2      0\n",
      "f4      0\n",
      "f5      0\n",
      "dtype: int64\n",
      "65.52\n"
     ]
    }
   ],
   "source": [
    "# 라이브러리 및 데이터 불러오기\n",
    "import numpy as np\n",
    "import pandas as pd\n",
    "df = pd.read_csv('../input/bigdatacertificationkr/basic1.csv')\n",
    "\n",
    "# 결측치가 80% 이상되는 컬럼삭제\n",
    "rate_col = (df.isnull().sum()/ df.shape[0]) > 0.8 \n",
    "print(rate_col.idxmax()) # f3\n",
    "df = df.drop(columns = 'f3')\n",
    "\n",
    "# 80%미만인 결측치가 있는 컬럼은 city별 중앙값으로 대체하고 f1컬럼 평균값\n",
    "# print(df.isnull().sum()) #f1\n",
    "경기, 대구, 부산, 서울 = df.groupby('city')['f1'].median() #경기 58, 대구 75, 부산 62, 서울 68\n",
    "\n",
    "df['f1'] = df['f1'].fillna(df['city'].map({'경기' : 경기, '대구' : 대구, '부산' : 부산, '서울' : 서울}))\n",
    "print(df.isnull().sum()) \n",
    "print(df['f1'].mean())"
   ]
  },
  {
   "cell_type": "code",
   "execution_count": 2,
   "id": "b95b28ab",
   "metadata": {
    "execution": {
     "iopub.execute_input": "2025-06-18T22:05:10.635295Z",
     "iopub.status.busy": "2025-06-18T22:05:10.634546Z",
     "iopub.status.idle": "2025-06-18T22:05:10.645433Z",
     "shell.execute_reply": "2025-06-18T22:05:10.645942Z",
     "shell.execute_reply.started": "2025-06-18T22:03:58.159677Z"
    },
    "papermill": {
     "duration": 0.032539,
     "end_time": "2025-06-18T22:05:10.646144",
     "exception": false,
     "start_time": "2025-06-18T22:05:10.613605",
     "status": "completed"
    },
    "tags": []
   },
   "outputs": [
    {
     "name": "stdout",
     "output_type": "stream",
     "text": [
      "65.52\n"
     ]
    }
   ],
   "source": [
    "import numpy as np\n",
    "import pandas as pd\n",
    "df = pd.read_csv('../input/bigdatacertificationkr/basic1.csv')\n",
    "\n",
    "# 결측치가 80% 이상되는 컬럼삭제\n",
    "rate_col = (df.isnull().sum()/ df.shape[0]) > 0.8 \n",
    "# print(rate_col.idxmax()) # f3\n",
    "df = df.drop(columns = 'f3')\n",
    "\n",
    "# 80%미만인 결측치가 있는 컬럼은 city별 중앙값으로 대체하고 f1컬럼 평균값\n",
    "# print(df.isnull().sum()) #f1\n",
    "경기, 대구, 부산, 서울 = df.groupby('city')['f1'].median() #경기 58, 대구 75, 부산 62, 서울 68\n",
    "\n",
    "def fillna(city):\n",
    "    if city == '경기':\n",
    "        return 경기\n",
    "    elif city == '대구':\n",
    "        return 대구\n",
    "    elif city == '부산':\n",
    "        return 부산\n",
    "    elif city == '서울':\n",
    "        return 서울\n",
    "df['f1'] = df['f1'].fillna(df['city'].apply(fillna))\n",
    "\n",
    "print(df['f1'].mean())"
   ]
  },
  {
   "cell_type": "code",
   "execution_count": null,
   "id": "ff52e9f0",
   "metadata": {
    "papermill": {
     "duration": 0.012598,
     "end_time": "2025-06-18T22:05:10.671064",
     "exception": false,
     "start_time": "2025-06-18T22:05:10.658466",
     "status": "completed"
    },
    "tags": []
   },
   "outputs": [],
   "source": []
  },
  {
   "cell_type": "code",
   "execution_count": null,
   "id": "f31dd428",
   "metadata": {
    "papermill": {
     "duration": 0.012399,
     "end_time": "2025-06-18T22:05:10.695662",
     "exception": false,
     "start_time": "2025-06-18T22:05:10.683263",
     "status": "completed"
    },
    "tags": []
   },
   "outputs": [],
   "source": []
  },
  {
   "cell_type": "markdown",
   "id": "03cea202",
   "metadata": {
    "papermill": {
     "duration": 0.012863,
     "end_time": "2025-06-18T22:05:10.720912",
     "exception": false,
     "start_time": "2025-06-18T22:05:10.708049",
     "status": "completed"
    },
    "tags": []
   },
   "source": [
    "## Hint\n",
    "- city별 중앙값으로 대체에서는 map함수 활용"
   ]
  },
  {
   "cell_type": "markdown",
   "id": "0b7974b2",
   "metadata": {
    "papermill": {
     "duration": 0.011843,
     "end_time": "2025-06-18T22:05:10.745649",
     "exception": false,
     "start_time": "2025-06-18T22:05:10.733806",
     "status": "completed"
    },
    "tags": []
   },
   "source": [
    "## 풀이"
   ]
  },
  {
   "cell_type": "code",
   "execution_count": 3,
   "id": "022e670a",
   "metadata": {
    "execution": {
     "iopub.execute_input": "2025-06-18T22:05:10.777197Z",
     "iopub.status.busy": "2025-06-18T22:05:10.776480Z",
     "iopub.status.idle": "2025-06-18T22:05:10.800386Z",
     "shell.execute_reply": "2025-06-18T22:05:10.799819Z",
     "shell.execute_reply.started": "2025-06-18T21:56:57.551178Z"
    },
    "papermill": {
     "duration": 0.041379,
     "end_time": "2025-06-18T22:05:10.800523",
     "exception": false,
     "start_time": "2025-06-18T22:05:10.759144",
     "status": "completed"
    },
    "tags": []
   },
   "outputs": [
    {
     "data": {
      "text/html": [
       "<div>\n",
       "<style scoped>\n",
       "    .dataframe tbody tr th:only-of-type {\n",
       "        vertical-align: middle;\n",
       "    }\n",
       "\n",
       "    .dataframe tbody tr th {\n",
       "        vertical-align: top;\n",
       "    }\n",
       "\n",
       "    .dataframe thead th {\n",
       "        text-align: right;\n",
       "    }\n",
       "</style>\n",
       "<table border=\"1\" class=\"dataframe\">\n",
       "  <thead>\n",
       "    <tr style=\"text-align: right;\">\n",
       "      <th></th>\n",
       "      <th>id</th>\n",
       "      <th>age</th>\n",
       "      <th>city</th>\n",
       "      <th>f1</th>\n",
       "      <th>f2</th>\n",
       "      <th>f3</th>\n",
       "      <th>f4</th>\n",
       "      <th>f5</th>\n",
       "    </tr>\n",
       "  </thead>\n",
       "  <tbody>\n",
       "    <tr>\n",
       "      <th>0</th>\n",
       "      <td>id01</td>\n",
       "      <td>2.0</td>\n",
       "      <td>서울</td>\n",
       "      <td>NaN</td>\n",
       "      <td>0</td>\n",
       "      <td>NaN</td>\n",
       "      <td>ENFJ</td>\n",
       "      <td>91.297791</td>\n",
       "    </tr>\n",
       "    <tr>\n",
       "      <th>1</th>\n",
       "      <td>id02</td>\n",
       "      <td>9.0</td>\n",
       "      <td>서울</td>\n",
       "      <td>70.0</td>\n",
       "      <td>1</td>\n",
       "      <td>NaN</td>\n",
       "      <td>ENFJ</td>\n",
       "      <td>60.339826</td>\n",
       "    </tr>\n",
       "    <tr>\n",
       "      <th>2</th>\n",
       "      <td>id03</td>\n",
       "      <td>27.0</td>\n",
       "      <td>서울</td>\n",
       "      <td>61.0</td>\n",
       "      <td>1</td>\n",
       "      <td>NaN</td>\n",
       "      <td>ISTJ</td>\n",
       "      <td>17.252986</td>\n",
       "    </tr>\n",
       "    <tr>\n",
       "      <th>3</th>\n",
       "      <td>id04</td>\n",
       "      <td>75.0</td>\n",
       "      <td>서울</td>\n",
       "      <td>NaN</td>\n",
       "      <td>2</td>\n",
       "      <td>NaN</td>\n",
       "      <td>INFP</td>\n",
       "      <td>52.667078</td>\n",
       "    </tr>\n",
       "    <tr>\n",
       "      <th>4</th>\n",
       "      <td>id05</td>\n",
       "      <td>24.0</td>\n",
       "      <td>서울</td>\n",
       "      <td>85.0</td>\n",
       "      <td>2</td>\n",
       "      <td>NaN</td>\n",
       "      <td>ISFJ</td>\n",
       "      <td>29.269869</td>\n",
       "    </tr>\n",
       "  </tbody>\n",
       "</table>\n",
       "</div>"
      ],
      "text/plain": [
       "     id   age city    f1  f2   f3    f4         f5\n",
       "0  id01   2.0   서울   NaN   0  NaN  ENFJ  91.297791\n",
       "1  id02   9.0   서울  70.0   1  NaN  ENFJ  60.339826\n",
       "2  id03  27.0   서울  61.0   1  NaN  ISTJ  17.252986\n",
       "3  id04  75.0   서울   NaN   2  NaN  INFP  52.667078\n",
       "4  id05  24.0   서울  85.0   2  NaN  ISFJ  29.269869"
      ]
     },
     "execution_count": 3,
     "metadata": {},
     "output_type": "execute_result"
    }
   ],
   "source": [
    "# 라이브러리 및 데이터 불러오기\n",
    "import pandas as pd\n",
    "import numpy as np\n",
    "\n",
    "df = pd.read_csv('../input/bigdatacertificationkr/basic1.csv')\n",
    "df.head()"
   ]
  },
  {
   "cell_type": "code",
   "execution_count": 4,
   "id": "995eb9d1",
   "metadata": {
    "_cell_guid": "b1076dfc-b9ad-4769-8c92-a6c4dae69d19",
    "_uuid": "8f2839f25d086af736a60e9eeb907d3b93b6e0e5",
    "execution": {
     "iopub.execute_input": "2025-06-18T22:05:10.835188Z",
     "iopub.status.busy": "2025-06-18T22:05:10.834382Z",
     "iopub.status.idle": "2025-06-18T22:05:10.838905Z",
     "shell.execute_reply": "2025-06-18T22:05:10.838388Z",
     "shell.execute_reply.started": "2025-06-18T21:56:57.745279Z"
    },
    "papermill": {
     "duration": 0.025754,
     "end_time": "2025-06-18T22:05:10.839052",
     "exception": false,
     "start_time": "2025-06-18T22:05:10.813298",
     "status": "completed"
    },
    "tags": []
   },
   "outputs": [
    {
     "data": {
      "text/plain": [
       "id       0\n",
       "age      0\n",
       "city     0\n",
       "f1      31\n",
       "f2       0\n",
       "f3      95\n",
       "f4       0\n",
       "f5       0\n",
       "dtype: int64"
      ]
     },
     "execution_count": 4,
     "metadata": {},
     "output_type": "execute_result"
    }
   ],
   "source": [
    "# EDA - 결측값 확인\n",
    "df.isnull().sum()"
   ]
  },
  {
   "cell_type": "code",
   "execution_count": 5,
   "id": "2361d80e",
   "metadata": {
    "execution": {
     "iopub.execute_input": "2025-06-18T22:05:10.871820Z",
     "iopub.status.busy": "2025-06-18T22:05:10.871002Z",
     "iopub.status.idle": "2025-06-18T22:05:10.875538Z",
     "shell.execute_reply": "2025-06-18T22:05:10.874989Z",
     "shell.execute_reply.started": "2025-06-18T21:56:57.885992Z"
    },
    "papermill": {
     "duration": 0.023508,
     "end_time": "2025-06-18T22:05:10.875695",
     "exception": false,
     "start_time": "2025-06-18T22:05:10.852187",
     "status": "completed"
    },
    "tags": []
   },
   "outputs": [
    {
     "data": {
      "text/plain": [
       "(100, 8)"
      ]
     },
     "execution_count": 5,
     "metadata": {},
     "output_type": "execute_result"
    }
   ],
   "source": [
    "# 데이터 shape\n",
    "df.shape"
   ]
  },
  {
   "cell_type": "code",
   "execution_count": 6,
   "id": "115759ac",
   "metadata": {
    "execution": {
     "iopub.execute_input": "2025-06-18T22:05:10.911127Z",
     "iopub.status.busy": "2025-06-18T22:05:10.910332Z",
     "iopub.status.idle": "2025-06-18T22:05:10.914337Z",
     "shell.execute_reply": "2025-06-18T22:05:10.914898Z",
     "shell.execute_reply.started": "2025-06-18T21:56:58.047110Z"
    },
    "papermill": {
     "duration": 0.026274,
     "end_time": "2025-06-18T22:05:10.915077",
     "exception": false,
     "start_time": "2025-06-18T22:05:10.888803",
     "status": "completed"
    },
    "tags": []
   },
   "outputs": [
    {
     "data": {
      "text/plain": [
       "id      0.00\n",
       "age     0.00\n",
       "city    0.00\n",
       "f1      0.31\n",
       "f2      0.00\n",
       "f3      0.95\n",
       "f4      0.00\n",
       "f5      0.00\n",
       "dtype: float64"
      ]
     },
     "execution_count": 6,
     "metadata": {},
     "output_type": "execute_result"
    }
   ],
   "source": [
    "# EDA - 결측비율 확인\n",
    "df.isnull().sum()/df.shape[0]"
   ]
  },
  {
   "cell_type": "code",
   "execution_count": 7,
   "id": "82e387b8",
   "metadata": {
    "execution": {
     "iopub.execute_input": "2025-06-18T22:05:10.952990Z",
     "iopub.status.busy": "2025-06-18T22:05:10.952028Z",
     "iopub.status.idle": "2025-06-18T22:05:10.955246Z",
     "shell.execute_reply": "2025-06-18T22:05:10.955688Z",
     "shell.execute_reply.started": "2025-06-18T21:56:58.188596Z"
    },
    "papermill": {
     "duration": 0.026002,
     "end_time": "2025-06-18T22:05:10.955915",
     "exception": false,
     "start_time": "2025-06-18T22:05:10.929913",
     "status": "completed"
    },
    "tags": []
   },
   "outputs": [
    {
     "name": "stdout",
     "output_type": "stream",
     "text": [
      "삭제 전: (100, 8)\n",
      "삭제 후: (100, 7)\n"
     ]
    }
   ],
   "source": [
    "# f3 컬럼 삭제\n",
    "print(\"삭제 전:\", df.shape)\n",
    "df = df.drop(['f3'], axis=1)\n",
    "print(\"삭제 후:\", df.shape)\n",
    "\n",
    "# 결측치가 있는 컬럼을 제거하는 2가지 방법\n",
    "# df.drop(['B', 'C'], axis=1)\n",
    "# df.drop(columns=['B', 'C'])"
   ]
  },
  {
   "cell_type": "code",
   "execution_count": 8,
   "id": "c17f2603",
   "metadata": {
    "execution": {
     "iopub.execute_input": "2025-06-18T22:05:10.990852Z",
     "iopub.status.busy": "2025-06-18T22:05:10.989903Z",
     "iopub.status.idle": "2025-06-18T22:05:10.993904Z",
     "shell.execute_reply": "2025-06-18T22:05:10.993368Z",
     "shell.execute_reply.started": "2025-06-18T21:56:59.915864Z"
    },
    "papermill": {
     "duration": 0.024173,
     "end_time": "2025-06-18T22:05:10.994057",
     "exception": false,
     "start_time": "2025-06-18T22:05:10.969884",
     "status": "completed"
    },
    "tags": []
   },
   "outputs": [
    {
     "data": {
      "text/plain": [
       "array(['서울', '부산', '대구', '경기'], dtype=object)"
      ]
     },
     "execution_count": 8,
     "metadata": {},
     "output_type": "execute_result"
    }
   ],
   "source": [
    "# 도시 확인\n",
    "df['city'].unique()"
   ]
  },
  {
   "cell_type": "code",
   "execution_count": 9,
   "id": "3897f916",
   "metadata": {
    "execution": {
     "iopub.execute_input": "2025-06-18T22:05:11.034137Z",
     "iopub.status.busy": "2025-06-18T22:05:11.033248Z",
     "iopub.status.idle": "2025-06-18T22:05:11.037599Z",
     "shell.execute_reply": "2025-06-18T22:05:11.037043Z",
     "shell.execute_reply.started": "2025-06-18T21:57:01.840777Z"
    },
    "papermill": {
     "duration": 0.029632,
     "end_time": "2025-06-18T22:05:11.037760",
     "exception": false,
     "start_time": "2025-06-18T22:05:11.008128",
     "status": "completed"
    },
    "tags": []
   },
   "outputs": [
    {
     "data": {
      "text/plain": [
       "(68.0, 58.0, 62.0, 75.0)"
      ]
     },
     "execution_count": 9,
     "metadata": {},
     "output_type": "execute_result"
    }
   ],
   "source": [
    "# 도시별 중앙값 계산\n",
    "s=df[df['city']=='서울']['f1'].median()\n",
    "k=df[df['city']=='경기']['f1'].median()\n",
    "b=df[df['city']=='부산']['f1'].median()\n",
    "d=df[df['city']=='대구']['f1'].median()\n",
    "s, k, b, d\n",
    "\n",
    "#방법2\n",
    "\n",
    "# k, d, b, s = df.groupby('city')['f1'].median()"
   ]
  },
  {
   "cell_type": "code",
   "execution_count": 10,
   "id": "800201a0",
   "metadata": {
    "execution": {
     "iopub.execute_input": "2025-06-18T22:05:11.080106Z",
     "iopub.status.busy": "2025-06-18T22:05:11.079131Z",
     "iopub.status.idle": "2025-06-18T22:05:11.084084Z",
     "shell.execute_reply": "2025-06-18T22:05:11.083517Z",
     "shell.execute_reply.started": "2025-06-18T21:57:03.953169Z"
    },
    "papermill": {
     "duration": 0.032657,
     "end_time": "2025-06-18T22:05:11.084235",
     "exception": false,
     "start_time": "2025-06-18T22:05:11.051578",
     "status": "completed"
    },
    "tags": []
   },
   "outputs": [
    {
     "data": {
      "text/html": [
       "<div>\n",
       "<style scoped>\n",
       "    .dataframe tbody tr th:only-of-type {\n",
       "        vertical-align: middle;\n",
       "    }\n",
       "\n",
       "    .dataframe tbody tr th {\n",
       "        vertical-align: top;\n",
       "    }\n",
       "\n",
       "    .dataframe thead th {\n",
       "        text-align: right;\n",
       "    }\n",
       "</style>\n",
       "<table border=\"1\" class=\"dataframe\">\n",
       "  <thead>\n",
       "    <tr style=\"text-align: right;\">\n",
       "      <th></th>\n",
       "      <th>id</th>\n",
       "      <th>age</th>\n",
       "      <th>city</th>\n",
       "      <th>f1</th>\n",
       "      <th>f2</th>\n",
       "      <th>f4</th>\n",
       "      <th>f5</th>\n",
       "    </tr>\n",
       "  </thead>\n",
       "  <tbody>\n",
       "    <tr>\n",
       "      <th>18</th>\n",
       "      <td>id19</td>\n",
       "      <td>53.0</td>\n",
       "      <td>서울</td>\n",
       "      <td>NaN</td>\n",
       "      <td>0</td>\n",
       "      <td>ISFP</td>\n",
       "      <td>83.685380</td>\n",
       "    </tr>\n",
       "    <tr>\n",
       "      <th>19</th>\n",
       "      <td>id20</td>\n",
       "      <td>11.0</td>\n",
       "      <td>서울</td>\n",
       "      <td>51.0</td>\n",
       "      <td>1</td>\n",
       "      <td>INTJ</td>\n",
       "      <td>91.297791</td>\n",
       "    </tr>\n",
       "    <tr>\n",
       "      <th>20</th>\n",
       "      <td>id21</td>\n",
       "      <td>90.0</td>\n",
       "      <td>부산</td>\n",
       "      <td>NaN</td>\n",
       "      <td>1</td>\n",
       "      <td>ISFP</td>\n",
       "      <td>29.269869</td>\n",
       "    </tr>\n",
       "  </tbody>\n",
       "</table>\n",
       "</div>"
      ],
      "text/plain": [
       "      id   age city    f1  f2    f4         f5\n",
       "18  id19  53.0   서울   NaN   0  ISFP  83.685380\n",
       "19  id20  11.0   서울  51.0   1  INTJ  91.297791\n",
       "20  id21  90.0   부산   NaN   1  ISFP  29.269869"
      ]
     },
     "execution_count": 10,
     "metadata": {},
     "output_type": "execute_result"
    }
   ],
   "source": [
    "# 대체 전 데이터 샘플 출력\n",
    "df[18:21]"
   ]
  },
  {
   "cell_type": "code",
   "execution_count": 11,
   "id": "8faecbf2",
   "metadata": {
    "execution": {
     "iopub.execute_input": "2025-06-18T22:05:11.121889Z",
     "iopub.status.busy": "2025-06-18T22:05:11.121056Z",
     "iopub.status.idle": "2025-06-18T22:05:11.124184Z",
     "shell.execute_reply": "2025-06-18T22:05:11.123452Z",
     "shell.execute_reply.started": "2025-06-18T21:57:06.551594Z"
    },
    "papermill": {
     "duration": 0.024914,
     "end_time": "2025-06-18T22:05:11.124325",
     "exception": false,
     "start_time": "2025-06-18T22:05:11.099411",
     "status": "completed"
    },
    "tags": []
   },
   "outputs": [],
   "source": [
    "# f1결측치 city별 중앙값으로 대체\n",
    "df['f1'] = df['f1'].fillna(df['city'].map({'서울':s,'경기':k,'부산':b,'대구':d}))\n",
    "\n",
    "# 만약 그냥 f1 중앙값으로 대체 한다면 \n",
    "# df['f1'] = df['f1'].fillna(df['f1'].median())"
   ]
  },
  {
   "cell_type": "code",
   "execution_count": 12,
   "id": "d61549fb",
   "metadata": {
    "execution": {
     "iopub.execute_input": "2025-06-18T22:05:11.167497Z",
     "iopub.status.busy": "2025-06-18T22:05:11.166659Z",
     "iopub.status.idle": "2025-06-18T22:05:11.170833Z",
     "shell.execute_reply": "2025-06-18T22:05:11.170318Z",
     "shell.execute_reply.started": "2025-06-18T21:57:08.034786Z"
    },
    "papermill": {
     "duration": 0.032194,
     "end_time": "2025-06-18T22:05:11.170982",
     "exception": false,
     "start_time": "2025-06-18T22:05:11.138788",
     "status": "completed"
    },
    "tags": []
   },
   "outputs": [
    {
     "data": {
      "text/html": [
       "<div>\n",
       "<style scoped>\n",
       "    .dataframe tbody tr th:only-of-type {\n",
       "        vertical-align: middle;\n",
       "    }\n",
       "\n",
       "    .dataframe tbody tr th {\n",
       "        vertical-align: top;\n",
       "    }\n",
       "\n",
       "    .dataframe thead th {\n",
       "        text-align: right;\n",
       "    }\n",
       "</style>\n",
       "<table border=\"1\" class=\"dataframe\">\n",
       "  <thead>\n",
       "    <tr style=\"text-align: right;\">\n",
       "      <th></th>\n",
       "      <th>id</th>\n",
       "      <th>age</th>\n",
       "      <th>city</th>\n",
       "      <th>f1</th>\n",
       "      <th>f2</th>\n",
       "      <th>f4</th>\n",
       "      <th>f5</th>\n",
       "    </tr>\n",
       "  </thead>\n",
       "  <tbody>\n",
       "    <tr>\n",
       "      <th>18</th>\n",
       "      <td>id19</td>\n",
       "      <td>53.0</td>\n",
       "      <td>서울</td>\n",
       "      <td>68.0</td>\n",
       "      <td>0</td>\n",
       "      <td>ISFP</td>\n",
       "      <td>83.685380</td>\n",
       "    </tr>\n",
       "    <tr>\n",
       "      <th>19</th>\n",
       "      <td>id20</td>\n",
       "      <td>11.0</td>\n",
       "      <td>서울</td>\n",
       "      <td>51.0</td>\n",
       "      <td>1</td>\n",
       "      <td>INTJ</td>\n",
       "      <td>91.297791</td>\n",
       "    </tr>\n",
       "    <tr>\n",
       "      <th>20</th>\n",
       "      <td>id21</td>\n",
       "      <td>90.0</td>\n",
       "      <td>부산</td>\n",
       "      <td>62.0</td>\n",
       "      <td>1</td>\n",
       "      <td>ISFP</td>\n",
       "      <td>29.269869</td>\n",
       "    </tr>\n",
       "  </tbody>\n",
       "</table>\n",
       "</div>"
      ],
      "text/plain": [
       "      id   age city    f1  f2    f4         f5\n",
       "18  id19  53.0   서울  68.0   0  ISFP  83.685380\n",
       "19  id20  11.0   서울  51.0   1  INTJ  91.297791\n",
       "20  id21  90.0   부산  62.0   1  ISFP  29.269869"
      ]
     },
     "execution_count": 12,
     "metadata": {},
     "output_type": "execute_result"
    }
   ],
   "source": [
    "# 대체 후 데이터 샘플 출력\n",
    "df[18:21]"
   ]
  },
  {
   "cell_type": "code",
   "execution_count": 13,
   "id": "8383cf42",
   "metadata": {
    "execution": {
     "iopub.execute_input": "2025-06-18T22:05:11.206660Z",
     "iopub.status.busy": "2025-06-18T22:05:11.206015Z",
     "iopub.status.idle": "2025-06-18T22:05:11.209603Z",
     "shell.execute_reply": "2025-06-18T22:05:11.209014Z",
     "shell.execute_reply.started": "2025-06-18T21:57:09.439200Z"
    },
    "papermill": {
     "duration": 0.023922,
     "end_time": "2025-06-18T22:05:11.209782",
     "exception": false,
     "start_time": "2025-06-18T22:05:11.185860",
     "status": "completed"
    },
    "tags": []
   },
   "outputs": [
    {
     "name": "stdout",
     "output_type": "stream",
     "text": [
      "65.52\n"
     ]
    }
   ],
   "source": [
    "#결과 출력\n",
    "print(df['f1'].mean())"
   ]
  },
  {
   "cell_type": "code",
   "execution_count": null,
   "id": "bad5c5af",
   "metadata": {
    "papermill": {
     "duration": 0.015248,
     "end_time": "2025-06-18T22:05:11.240445",
     "exception": false,
     "start_time": "2025-06-18T22:05:11.225197",
     "status": "completed"
    },
    "tags": []
   },
   "outputs": [],
   "source": []
  }
 ],
 "metadata": {
  "kaggle": {
   "accelerator": "none",
   "dataSources": [
    {
     "databundleVersionId": 12727830,
     "datasetId": 1633303,
     "sourceId": 12189494,
     "sourceType": "datasetVersion"
    }
   ],
   "dockerImageVersionId": 30129,
   "isGpuEnabled": false,
   "isInternetEnabled": false,
   "language": "python",
   "sourceType": "notebook"
  },
  "kernelspec": {
   "display_name": "Python 3",
   "language": "python",
   "name": "python3"
  },
  "language_info": {
   "codemirror_mode": {
    "name": "ipython",
    "version": 3
   },
   "file_extension": ".py",
   "mimetype": "text/x-python",
   "name": "python",
   "nbconvert_exporter": "python",
   "pygments_lexer": "ipython3",
   "version": "3.7.10"
  },
  "papermill": {
   "default_parameters": {},
   "duration": 10.933915,
   "end_time": "2025-06-18T22:05:12.611386",
   "environment_variables": {},
   "exception": null,
   "input_path": "__notebook__.ipynb",
   "output_path": "__notebook__.ipynb",
   "parameters": {},
   "start_time": "2025-06-18T22:05:01.677471",
   "version": "2.3.3"
  }
 },
 "nbformat": 4,
 "nbformat_minor": 5
}
