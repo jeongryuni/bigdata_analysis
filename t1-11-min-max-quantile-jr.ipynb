{
 "cells": [
  {
   "cell_type": "markdown",
   "id": "b03070e3",
   "metadata": {
    "papermill": {
     "duration": 0.00853,
     "end_time": "2025-06-20T22:27:31.526467",
     "exception": false,
     "start_time": "2025-06-20T22:27:31.517937",
     "status": "completed"
    },
    "tags": []
   },
   "source": [
    "# START"
   ]
  },
  {
   "cell_type": "code",
   "execution_count": 1,
   "id": "c2512710",
   "metadata": {
    "execution": {
     "iopub.execute_input": "2025-06-20T22:27:31.548235Z",
     "iopub.status.busy": "2025-06-20T22:27:31.547070Z",
     "iopub.status.idle": "2025-06-20T22:27:31.550623Z",
     "shell.execute_reply": "2025-06-20T22:27:31.549860Z",
     "shell.execute_reply.started": "2024-10-27T19:45:33.920193Z"
    },
    "papermill": {
     "duration": 0.016442,
     "end_time": "2025-06-20T22:27:31.550792",
     "exception": false,
     "start_time": "2025-06-20T22:27:31.534350",
     "status": "completed"
    },
    "tags": []
   },
   "outputs": [],
   "source": [
    "# min-max스케일링 기준 상하위 5% 구하기\n",
    "# 주어진 데이터에서 'f5'컬럼을 min-max 스케일 변환한 후, 상위 5%와 하위 5% 값의 합을 구하시오"
   ]
  },
  {
   "cell_type": "code",
   "execution_count": 2,
   "id": "8dd8fcbd",
   "metadata": {
    "execution": {
     "iopub.execute_input": "2025-06-20T22:27:31.576929Z",
     "iopub.status.busy": "2025-06-20T22:27:31.576070Z",
     "iopub.status.idle": "2025-06-20T22:27:32.522883Z",
     "shell.execute_reply": "2025-06-20T22:27:32.522355Z",
     "shell.execute_reply.started": "2025-06-20T22:26:54.858279Z"
    },
    "papermill": {
     "duration": 0.964584,
     "end_time": "2025-06-20T22:27:32.523031",
     "exception": false,
     "start_time": "2025-06-20T22:27:31.558447",
     "status": "completed"
    },
    "tags": []
   },
   "outputs": [
    {
     "name": "stdout",
     "output_type": "stream",
     "text": [
      "1.0248740983597389\n"
     ]
    }
   ],
   "source": [
    "import numpy as np\n",
    "import pandas as pd\n",
    "\n",
    "df = pd.read_csv('../input/bigdatacertificationkr/basic1.csv')\n",
    "\n",
    "from sklearn.preprocessing import MinMaxScaler\n",
    "scaler = MinMaxScaler()\n",
    "\n",
    "df['scaler'] = scaler.fit_transform(df[['f5']])\n",
    "\n",
    "top = df['scaler'].quantile(0.95)\n",
    "bottom = df['scaler'].quantile(0.05)\n",
    "\n",
    "print(top+bottom)"
   ]
  },
  {
   "cell_type": "code",
   "execution_count": 3,
   "id": "06dd8821",
   "metadata": {
    "execution": {
     "iopub.execute_input": "2025-06-20T22:27:32.546721Z",
     "iopub.status.busy": "2025-06-20T22:27:32.545918Z",
     "iopub.status.idle": "2025-06-20T22:27:32.548799Z",
     "shell.execute_reply": "2025-06-20T22:27:32.548258Z"
    },
    "papermill": {
     "duration": 0.017873,
     "end_time": "2025-06-20T22:27:32.548940",
     "exception": false,
     "start_time": "2025-06-20T22:27:32.531067",
     "status": "completed"
    },
    "tags": []
   },
   "outputs": [],
   "source": [
    "# 1.0248740983597389"
   ]
  },
  {
   "cell_type": "code",
   "execution_count": 4,
   "id": "af5ab38d",
   "metadata": {
    "execution": {
     "iopub.execute_input": "2025-06-20T22:27:32.570723Z",
     "iopub.status.busy": "2025-06-20T22:27:32.570026Z",
     "iopub.status.idle": "2025-06-20T22:27:32.582448Z",
     "shell.execute_reply": "2025-06-20T22:27:32.582987Z",
     "shell.execute_reply.started": "2025-05-11T14:23:07.725177Z"
    },
    "papermill": {
     "duration": 0.026735,
     "end_time": "2025-06-20T22:27:32.583158",
     "exception": false,
     "start_time": "2025-06-20T22:27:32.556423",
     "status": "completed"
    },
    "tags": []
   },
   "outputs": [
    {
     "name": "stdout",
     "output_type": "stream",
     "text": [
      "0.9881662742993513\n",
      "0.03670782406038746\n",
      "1.0248740983597389\n"
     ]
    }
   ],
   "source": [
    "# min-max스케일링 기준 상하위 5% 구하기\n",
    "# 주어진 데이터에서 'f5'컬럼을 min-max 스케일 변환한 후, 상위 5%와 하위 5% 값의 합을 구하시오\n",
    "\n",
    "import numpy as np\n",
    "import pandas as pd\n",
    "\n",
    "df = pd.read_csv('../input/bigdatacertificationkr/basic1.csv')\n",
    "\n",
    "from sklearn.preprocessing import MinMaxScaler\n",
    "scaler = MinMaxScaler()\n",
    "df['min_max']= scaler.fit_transform(df[['f5']])\n",
    "\n",
    "top5per = df['min_max'].quantile(0.95)\n",
    "bottom5per = df['min_max'].quantile(0.05)\n",
    "\n",
    "print(top5per)\n",
    "print(bottom5per)\n",
    "print(top5per + bottom5per)"
   ]
  },
  {
   "cell_type": "code",
   "execution_count": null,
   "id": "afb7e733",
   "metadata": {
    "execution": {
     "iopub.execute_input": "2025-05-11T13:29:08.503455Z",
     "iopub.status.busy": "2025-05-11T13:29:08.502586Z",
     "iopub.status.idle": "2025-05-11T13:29:09.381035Z",
     "shell.execute_reply": "2025-05-11T13:29:09.380066Z",
     "shell.execute_reply.started": "2025-05-11T13:29:08.503406Z"
    },
    "papermill": {
     "duration": 0.007299,
     "end_time": "2025-06-20T22:27:32.598209",
     "exception": false,
     "start_time": "2025-06-20T22:27:32.590910",
     "status": "completed"
    },
    "tags": []
   },
   "outputs": [],
   "source": []
  },
  {
   "cell_type": "code",
   "execution_count": null,
   "id": "bc7dc6c4",
   "metadata": {
    "papermill": {
     "duration": 0.007224,
     "end_time": "2025-06-20T22:27:32.613094",
     "exception": false,
     "start_time": "2025-06-20T22:27:32.605870",
     "status": "completed"
    },
    "tags": []
   },
   "outputs": [],
   "source": []
  },
  {
   "cell_type": "code",
   "execution_count": null,
   "id": "473953a9",
   "metadata": {
    "papermill": {
     "duration": 0.007357,
     "end_time": "2025-06-20T22:27:32.628279",
     "exception": false,
     "start_time": "2025-06-20T22:27:32.620922",
     "status": "completed"
    },
    "tags": []
   },
   "outputs": [],
   "source": []
  },
  {
   "cell_type": "markdown",
   "id": "961514fe",
   "metadata": {
    "papermill": {
     "duration": 0.00739,
     "end_time": "2025-06-20T22:27:32.643333",
     "exception": false,
     "start_time": "2025-06-20T22:27:32.635943",
     "status": "completed"
    },
    "tags": []
   },
   "source": [
    "# HINT"
   ]
  },
  {
   "cell_type": "code",
   "execution_count": 5,
   "id": "d12b5230",
   "metadata": {
    "_cell_guid": "02d0893f-c276-4eb8-bb54-6f59edc963a7",
    "_uuid": "2bbbf42e-3037-45e5-a590-618901071a5f",
    "collapsed": false,
    "execution": {
     "iopub.execute_input": "2025-06-20T22:27:32.667607Z",
     "iopub.status.busy": "2025-06-20T22:27:32.666882Z",
     "iopub.status.idle": "2025-06-20T22:27:32.693279Z",
     "shell.execute_reply": "2025-06-20T22:27:32.692750Z",
     "shell.execute_reply.started": "2024-11-12T14:08:36.191349Z"
    },
    "jupyter": {
     "outputs_hidden": false
    },
    "papermill": {
     "duration": 0.042343,
     "end_time": "2025-06-20T22:27:32.693414",
     "exception": false,
     "start_time": "2025-06-20T22:27:32.651071",
     "status": "completed"
    },
    "tags": []
   },
   "outputs": [
    {
     "name": "stdout",
     "output_type": "stream",
     "text": [
      "     id   age city    f1  f2   f3    f4         f5\n",
      "0  id01   2.0   서울   NaN   0  NaN  ENFJ  91.297791\n",
      "1  id02   9.0   서울  70.0   1  NaN  ENFJ  60.339826\n",
      "2  id03  27.0   서울  61.0   1  NaN  ISTJ  17.252986\n",
      "3  id04  75.0   서울   NaN   2  NaN  INFP  52.667078\n",
      "4  id05  24.0   서울  85.0   2  NaN  ISFJ  29.269869\n",
      "id       0\n",
      "age      0\n",
      "city     0\n",
      "f1      31\n",
      "f2       0\n",
      "f3      95\n",
      "f4       0\n",
      "f5       0\n",
      "dtype: int64\n",
      "     id   age city    f1  f2   f3    f4         f5      f5_1      f5_2\n",
      "0  id01   2.0   서울   NaN   0  NaN  ENFJ  91.297791  0.919533  0.919533\n",
      "1  id02   9.0   서울  70.0   1  NaN  ENFJ  60.339826  0.570252  0.570252\n",
      "2  id03  27.0   서울  61.0   1  NaN  ISTJ  17.252986  0.084129  0.084129\n",
      "3  id04  75.0   서울   NaN   2  NaN  INFP  52.667078  0.483685  0.483685\n",
      "4  id05  24.0   서울  85.0   2  NaN  ISFJ  29.269869  0.219708  0.219708\n",
      "0.03670782406038746\n",
      "0.9881662742993513\n",
      "1.0248740983597389\n"
     ]
    }
   ],
   "source": [
    "# min-max스케일링 기준 상하위 5% 구하기\n",
    "# 주어진 데이터에서 'f5'컬럼을 min-max 스케일 변환한 후, 상위 5%와 하위 5% 값의 합을 구하시오\n",
    "\n",
    "# - 데이터셋 : basic1.csv\n",
    "# - 오른쪽 상단 copy&edit 클릭 -> 예상문제 풀이 시작\n",
    "# - File -> Editor Type -> Script\n",
    "\n",
    "\n",
    "# 라이브러리 및 데이터 불러오기\n",
    "import pandas as pd\n",
    "import numpy as np\n",
    "\n",
    "df = pd.read_csv('../input/bigdatacertificationkr/basic1.csv')\n",
    "\n",
    "\n",
    "# EDA\n",
    "print(df.head(5))\n",
    "print(df.isnull().sum())    #결측치 확인\n",
    "\n",
    "\n",
    "# min-max scale 방법1\n",
    "from sklearn.preprocessing import MinMaxScaler\n",
    "scaler = MinMaxScaler()\n",
    "df['f5_1'] = scaler.fit_transform(df[['f5']])\n",
    "\n",
    "# min-max scale 방법2\n",
    "df['f5_2'] = df['f5'].transform(lambda x: ((x - x.min()) / (x.max() - x.min())))\n",
    "\n",
    "\n",
    "# 방법1과 2 비교\n",
    "print(df.head())\n",
    "\n",
    "\n",
    "# 하위 5%, 상위 5% 값 구하기\n",
    "lower = df['f5_1'].quantile(0.05)\n",
    "print(lower)\n",
    "\n",
    "upper = df['f5_1'].quantile(0.95)\n",
    "print(upper)\n",
    "\n",
    "print(lower + upper)"
   ]
  },
  {
   "cell_type": "code",
   "execution_count": null,
   "id": "5172db95",
   "metadata": {
    "papermill": {
     "duration": 0.007714,
     "end_time": "2025-06-20T22:27:32.709063",
     "exception": false,
     "start_time": "2025-06-20T22:27:32.701349",
     "status": "completed"
    },
    "tags": []
   },
   "outputs": [],
   "source": []
  }
 ],
 "metadata": {
  "kaggle": {
   "accelerator": "none",
   "dataSources": [
    {
     "databundleVersionId": 12753598,
     "datasetId": 1633303,
     "sourceId": 12211878,
     "sourceType": "datasetVersion"
    }
   ],
   "dockerImageVersionId": 30138,
   "isGpuEnabled": false,
   "isInternetEnabled": false,
   "language": "python",
   "sourceType": "notebook"
  },
  "kernelspec": {
   "display_name": "Python 3",
   "language": "python",
   "name": "python3"
  },
  "language_info": {
   "codemirror_mode": {
    "name": "ipython",
    "version": 3
   },
   "file_extension": ".py",
   "mimetype": "text/x-python",
   "name": "python",
   "nbconvert_exporter": "python",
   "pygments_lexer": "ipython3",
   "version": "3.7.10"
  },
  "papermill": {
   "default_parameters": {},
   "duration": 10.842402,
   "end_time": "2025-06-20T22:27:33.429266",
   "environment_variables": {},
   "exception": null,
   "input_path": "__notebook__.ipynb",
   "output_path": "__notebook__.ipynb",
   "parameters": {},
   "start_time": "2025-06-20T22:27:22.586864",
   "version": "2.3.3"
  }
 },
 "nbformat": 4,
 "nbformat_minor": 5
}
