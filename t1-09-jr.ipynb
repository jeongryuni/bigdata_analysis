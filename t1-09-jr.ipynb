{
 "cells": [
  {
   "cell_type": "markdown",
   "id": "1700bf87",
   "metadata": {
    "papermill": {
     "duration": 0.009749,
     "end_time": "2025-06-20T16:58:35.142897",
     "exception": false,
     "start_time": "2025-06-20T16:58:35.133148",
     "status": "completed"
    },
    "tags": []
   },
   "source": [
    "# 수치형 변수 변환하기\n",
    "\n",
    "\n",
    "### 주어진 데이터에서 'f5'컬럼을 표준화(Standardization (Z-score Normalization))하고 그 중앙값을 구하시오\n",
    "- 데이터셋 : basic1.csv\n",
    "- 오른쪽 상단 copy&edit 클릭 -> 예상문제 풀이 시작\n"
   ]
  },
  {
   "cell_type": "markdown",
   "id": "f392ecc4",
   "metadata": {
    "papermill": {
     "duration": 0.007738,
     "end_time": "2025-06-20T16:58:35.159277",
     "exception": false,
     "start_time": "2025-06-20T16:58:35.151539",
     "status": "completed"
    },
    "tags": []
   },
   "source": [
    "## Standardization (Z-score Normalization)\n",
    "\n",
    "![standard](https://wikimedia.org/api/rest_v1/media/math/render/svg/b0aa2e7d203db1526c577192f2d9102b718eafd5)"
   ]
  },
  {
   "cell_type": "code",
   "execution_count": 1,
   "id": "8af02c72",
   "metadata": {
    "execution": {
     "iopub.execute_input": "2025-06-20T16:58:35.185307Z",
     "iopub.status.busy": "2025-06-20T16:58:35.184537Z",
     "iopub.status.idle": "2025-06-20T16:58:36.292527Z",
     "shell.execute_reply": "2025-06-20T16:58:36.291823Z",
     "shell.execute_reply.started": "2025-06-20T16:57:54.708238Z"
    },
    "papermill": {
     "duration": 1.125146,
     "end_time": "2025-06-20T16:58:36.292709",
     "exception": false,
     "start_time": "2025-06-20T16:58:35.167563",
     "status": "completed"
    },
    "tags": []
   },
   "outputs": [
    {
     "name": "stdout",
     "output_type": "stream",
     "text": [
      "0.260619629559015\n"
     ]
    }
   ],
   "source": [
    "# 라이브러리 및 데이터 불러오기\n",
    "import pandas as pd\n",
    "import numpy as np\n",
    "\n",
    "df = pd.read_csv('../input/bigdatacertificationkr/basic1.csv')\n",
    "from sklearn.preprocessing import StandardScaler\n",
    "model = StandardScaler()\n",
    "df['scaler'] = model.fit_transform(df[['f5']])\n",
    "\n",
    "print(df['scaler'].median())"
   ]
  },
  {
   "cell_type": "code",
   "execution_count": null,
   "id": "71860c63",
   "metadata": {
    "papermill": {
     "duration": 0.008646,
     "end_time": "2025-06-20T16:58:36.312388",
     "exception": false,
     "start_time": "2025-06-20T16:58:36.303742",
     "status": "completed"
    },
    "tags": []
   },
   "outputs": [],
   "source": []
  },
  {
   "cell_type": "code",
   "execution_count": 2,
   "id": "f3edff9e",
   "metadata": {
    "execution": {
     "iopub.execute_input": "2025-06-20T16:58:36.335467Z",
     "iopub.status.busy": "2025-06-20T16:58:36.334741Z",
     "iopub.status.idle": "2025-06-20T16:58:36.345112Z",
     "shell.execute_reply": "2025-06-20T16:58:36.344587Z",
     "shell.execute_reply.started": "2025-05-04T23:07:45.658574Z"
    },
    "papermill": {
     "duration": 0.024617,
     "end_time": "2025-06-20T16:58:36.345261",
     "exception": false,
     "start_time": "2025-06-20T16:58:36.320644",
     "status": "completed"
    },
    "tags": []
   },
   "outputs": [
    {
     "name": "stdout",
     "output_type": "stream",
     "text": [
      "0.260619629559015\n"
     ]
    }
   ],
   "source": [
    "# 주어진 데이터에서 'f5'컬럼을 표준화(Standardization (Z-score Normalization))하고 그 중앙값을 구하시오\n",
    "\n",
    "import pandas as pd\n",
    "import numpy as np\n",
    "\n",
    "df = pd.read_csv('../input/bigdatacertificationkr/basic1.csv')\n",
    "\n",
    "from sklearn.preprocessing import StandardScaler\n",
    "scaler = StandardScaler()\n",
    "df['f5'] = scaler.fit_transform(df[['f5']])\n",
    "print(df['f5'].median())"
   ]
  },
  {
   "cell_type": "code",
   "execution_count": null,
   "id": "4d95daca",
   "metadata": {
    "papermill": {
     "duration": 0.008156,
     "end_time": "2025-06-20T16:58:36.361959",
     "exception": false,
     "start_time": "2025-06-20T16:58:36.353803",
     "status": "completed"
    },
    "tags": []
   },
   "outputs": [],
   "source": []
  },
  {
   "cell_type": "markdown",
   "id": "5b3cc222",
   "metadata": {
    "papermill": {
     "duration": 0.008284,
     "end_time": "2025-06-20T16:58:36.379034",
     "exception": false,
     "start_time": "2025-06-20T16:58:36.370750",
     "status": "completed"
    },
    "tags": []
   },
   "source": [
    "## Hint\n",
    "- https://scikit-learn.org/stable/modules/generated/sklearn.preprocessing.StandardScaler.html\n",
    "- https://en.wikipedia.org/wiki/Feature_scaling"
   ]
  },
  {
   "cell_type": "code",
   "execution_count": 3,
   "id": "44b458b0",
   "metadata": {
    "execution": {
     "iopub.execute_input": "2025-06-20T16:58:36.402974Z",
     "iopub.status.busy": "2025-06-20T16:58:36.402133Z",
     "iopub.status.idle": "2025-06-20T16:58:36.408905Z",
     "shell.execute_reply": "2025-06-20T16:58:36.409470Z",
     "shell.execute_reply.started": "2021-10-20T23:37:17.412446Z"
    },
    "papermill": {
     "duration": 0.022288,
     "end_time": "2025-06-20T16:58:36.409651",
     "exception": false,
     "start_time": "2025-06-20T16:58:36.387363",
     "status": "completed"
    },
    "tags": []
   },
   "outputs": [
    {
     "name": "stdout",
     "output_type": "stream",
     "text": [
      "StandardScaler()\n",
      "[[-0.73299648 -0.99206078]\n",
      " [-0.69948807 -1.125655  ]\n",
      " [-0.64084835 -0.39830869]\n",
      " [ 0.18848481  0.26966241]\n",
      " [ 2.11521842  0.41810043]\n",
      " [-0.23037032  1.82826164]]\n"
     ]
    }
   ],
   "source": [
    "from sklearn.preprocessing import StandardScaler\n",
    "data = [[0, 2], [0.4, 0.2], [1.1, 10], [11, 19], [34, 21], [6, 40]]\n",
    "scaler = StandardScaler()\n",
    "print(scaler.fit(data))\n",
    "print(scaler.transform(data))"
   ]
  },
  {
   "cell_type": "markdown",
   "id": "ffbbf438",
   "metadata": {
    "papermill": {
     "duration": 0.008402,
     "end_time": "2025-06-20T16:58:36.426975",
     "exception": false,
     "start_time": "2025-06-20T16:58:36.418573",
     "status": "completed"
    },
    "tags": []
   },
   "source": [
    "## 풀이"
   ]
  },
  {
   "cell_type": "code",
   "execution_count": 4,
   "id": "31b2838d",
   "metadata": {
    "_cell_guid": "b1076dfc-b9ad-4769-8c92-a6c4dae69d19",
    "_uuid": "8f2839f25d086af736a60e9eeb907d3b93b6e0e5",
    "execution": {
     "iopub.execute_input": "2025-06-20T16:58:36.449891Z",
     "iopub.status.busy": "2025-06-20T16:58:36.449232Z",
     "iopub.status.idle": "2025-06-20T16:58:36.469695Z",
     "shell.execute_reply": "2025-06-20T16:58:36.469208Z",
     "shell.execute_reply.started": "2024-10-27T12:20:40.004578Z"
    },
    "papermill": {
     "duration": 0.034127,
     "end_time": "2025-06-20T16:58:36.469840",
     "exception": false,
     "start_time": "2025-06-20T16:58:36.435713",
     "status": "completed"
    },
    "tags": []
   },
   "outputs": [
    {
     "data": {
      "text/html": [
       "<div>\n",
       "<style scoped>\n",
       "    .dataframe tbody tr th:only-of-type {\n",
       "        vertical-align: middle;\n",
       "    }\n",
       "\n",
       "    .dataframe tbody tr th {\n",
       "        vertical-align: top;\n",
       "    }\n",
       "\n",
       "    .dataframe thead th {\n",
       "        text-align: right;\n",
       "    }\n",
       "</style>\n",
       "<table border=\"1\" class=\"dataframe\">\n",
       "  <thead>\n",
       "    <tr style=\"text-align: right;\">\n",
       "      <th></th>\n",
       "      <th>id</th>\n",
       "      <th>age</th>\n",
       "      <th>city</th>\n",
       "      <th>f1</th>\n",
       "      <th>f2</th>\n",
       "      <th>f3</th>\n",
       "      <th>f4</th>\n",
       "      <th>f5</th>\n",
       "    </tr>\n",
       "  </thead>\n",
       "  <tbody>\n",
       "    <tr>\n",
       "      <th>0</th>\n",
       "      <td>id01</td>\n",
       "      <td>2.0</td>\n",
       "      <td>서울</td>\n",
       "      <td>NaN</td>\n",
       "      <td>0</td>\n",
       "      <td>NaN</td>\n",
       "      <td>ENFJ</td>\n",
       "      <td>91.297791</td>\n",
       "    </tr>\n",
       "    <tr>\n",
       "      <th>1</th>\n",
       "      <td>id02</td>\n",
       "      <td>9.0</td>\n",
       "      <td>서울</td>\n",
       "      <td>70.0</td>\n",
       "      <td>1</td>\n",
       "      <td>NaN</td>\n",
       "      <td>ENFJ</td>\n",
       "      <td>60.339826</td>\n",
       "    </tr>\n",
       "  </tbody>\n",
       "</table>\n",
       "</div>"
      ],
      "text/plain": [
       "     id  age city    f1  f2   f3    f4         f5\n",
       "0  id01  2.0   서울   NaN   0  NaN  ENFJ  91.297791\n",
       "1  id02  9.0   서울  70.0   1  NaN  ENFJ  60.339826"
      ]
     },
     "execution_count": 4,
     "metadata": {},
     "output_type": "execute_result"
    }
   ],
   "source": [
    "# 라이브러리 및 데이터 불러오기\n",
    "import pandas as pd\n",
    "import numpy as np\n",
    "\n",
    "df = pd.read_csv('../input/bigdatacertificationkr/basic1.csv')\n",
    "df.head(2)"
   ]
  },
  {
   "cell_type": "code",
   "execution_count": 5,
   "id": "4d269667",
   "metadata": {
    "execution": {
     "iopub.execute_input": "2025-06-20T16:58:36.502525Z",
     "iopub.status.busy": "2025-06-20T16:58:36.495712Z",
     "iopub.status.idle": "2025-06-20T16:58:36.511622Z",
     "shell.execute_reply": "2025-06-20T16:58:36.510909Z",
     "shell.execute_reply.started": "2024-10-27T12:20:40.200066Z"
    },
    "papermill": {
     "duration": 0.032678,
     "end_time": "2025-06-20T16:58:36.511766",
     "exception": false,
     "start_time": "2025-06-20T16:58:36.479088",
     "status": "completed"
    },
    "tags": []
   },
   "outputs": [
    {
     "data": {
      "text/html": [
       "<div>\n",
       "<style scoped>\n",
       "    .dataframe tbody tr th:only-of-type {\n",
       "        vertical-align: middle;\n",
       "    }\n",
       "\n",
       "    .dataframe tbody tr th {\n",
       "        vertical-align: top;\n",
       "    }\n",
       "\n",
       "    .dataframe thead th {\n",
       "        text-align: right;\n",
       "    }\n",
       "</style>\n",
       "<table border=\"1\" class=\"dataframe\">\n",
       "  <thead>\n",
       "    <tr style=\"text-align: right;\">\n",
       "      <th></th>\n",
       "      <th>id</th>\n",
       "      <th>age</th>\n",
       "      <th>city</th>\n",
       "      <th>f1</th>\n",
       "      <th>f2</th>\n",
       "      <th>f3</th>\n",
       "      <th>f4</th>\n",
       "      <th>f5</th>\n",
       "    </tr>\n",
       "  </thead>\n",
       "  <tbody>\n",
       "    <tr>\n",
       "      <th>0</th>\n",
       "      <td>id01</td>\n",
       "      <td>2.0</td>\n",
       "      <td>서울</td>\n",
       "      <td>NaN</td>\n",
       "      <td>0</td>\n",
       "      <td>NaN</td>\n",
       "      <td>ENFJ</td>\n",
       "      <td>1.220815</td>\n",
       "    </tr>\n",
       "    <tr>\n",
       "      <th>1</th>\n",
       "      <td>id02</td>\n",
       "      <td>9.0</td>\n",
       "      <td>서울</td>\n",
       "      <td>70.0</td>\n",
       "      <td>1</td>\n",
       "      <td>NaN</td>\n",
       "      <td>ENFJ</td>\n",
       "      <td>0.127343</td>\n",
       "    </tr>\n",
       "    <tr>\n",
       "      <th>2</th>\n",
       "      <td>id03</td>\n",
       "      <td>27.0</td>\n",
       "      <td>서울</td>\n",
       "      <td>61.0</td>\n",
       "      <td>1</td>\n",
       "      <td>NaN</td>\n",
       "      <td>ISTJ</td>\n",
       "      <td>-1.394535</td>\n",
       "    </tr>\n",
       "    <tr>\n",
       "      <th>3</th>\n",
       "      <td>id04</td>\n",
       "      <td>75.0</td>\n",
       "      <td>서울</td>\n",
       "      <td>NaN</td>\n",
       "      <td>2</td>\n",
       "      <td>NaN</td>\n",
       "      <td>INFP</td>\n",
       "      <td>-0.143667</td>\n",
       "    </tr>\n",
       "    <tr>\n",
       "      <th>4</th>\n",
       "      <td>id05</td>\n",
       "      <td>24.0</td>\n",
       "      <td>서울</td>\n",
       "      <td>85.0</td>\n",
       "      <td>2</td>\n",
       "      <td>NaN</td>\n",
       "      <td>ISFJ</td>\n",
       "      <td>-0.970085</td>\n",
       "    </tr>\n",
       "  </tbody>\n",
       "</table>\n",
       "</div>"
      ],
      "text/plain": [
       "     id   age city    f1  f2   f3    f4        f5\n",
       "0  id01   2.0   서울   NaN   0  NaN  ENFJ  1.220815\n",
       "1  id02   9.0   서울  70.0   1  NaN  ENFJ  0.127343\n",
       "2  id03  27.0   서울  61.0   1  NaN  ISTJ -1.394535\n",
       "3  id04  75.0   서울   NaN   2  NaN  INFP -0.143667\n",
       "4  id05  24.0   서울  85.0   2  NaN  ISFJ -0.970085"
      ]
     },
     "execution_count": 5,
     "metadata": {},
     "output_type": "execute_result"
    }
   ],
   "source": [
    "# 표준화\n",
    "from sklearn.preprocessing import StandardScaler\n",
    "\n",
    "scaler = StandardScaler()\n",
    "df['f5']=scaler.fit_transform(df[['f5']])\n",
    "df.head()"
   ]
  },
  {
   "cell_type": "code",
   "execution_count": 6,
   "id": "f7806425",
   "metadata": {
    "execution": {
     "iopub.execute_input": "2025-06-20T16:58:36.536265Z",
     "iopub.status.busy": "2025-06-20T16:58:36.535545Z",
     "iopub.status.idle": "2025-06-20T16:58:36.539160Z",
     "shell.execute_reply": "2025-06-20T16:58:36.538505Z",
     "shell.execute_reply.started": "2024-10-27T12:20:40.404524Z"
    },
    "papermill": {
     "duration": 0.017902,
     "end_time": "2025-06-20T16:58:36.539305",
     "exception": false,
     "start_time": "2025-06-20T16:58:36.521403",
     "status": "completed"
    },
    "tags": []
   },
   "outputs": [
    {
     "name": "stdout",
     "output_type": "stream",
     "text": [
      "0.260619629559015\n"
     ]
    }
   ],
   "source": [
    "# 중앙값 출력\n",
    "print(df['f5'].median()) #0.260619629559015"
   ]
  },
  {
   "cell_type": "code",
   "execution_count": null,
   "id": "89ebca88",
   "metadata": {
    "papermill": {
     "duration": 0.009542,
     "end_time": "2025-06-20T16:58:36.558761",
     "exception": false,
     "start_time": "2025-06-20T16:58:36.549219",
     "status": "completed"
    },
    "tags": []
   },
   "outputs": [],
   "source": []
  }
 ],
 "metadata": {
  "kaggle": {
   "accelerator": "none",
   "dataSources": [
    {
     "databundleVersionId": 12753598,
     "datasetId": 1633303,
     "sourceId": 12211878,
     "sourceType": "datasetVersion"
    }
   ],
   "dockerImageVersionId": 30138,
   "isGpuEnabled": false,
   "isInternetEnabled": false,
   "language": "python",
   "sourceType": "notebook"
  },
  "kernelspec": {
   "display_name": "Python 3",
   "language": "python",
   "name": "python3"
  },
  "language_info": {
   "codemirror_mode": {
    "name": "ipython",
    "version": 3
   },
   "file_extension": ".py",
   "mimetype": "text/x-python",
   "name": "python",
   "nbconvert_exporter": "python",
   "pygments_lexer": "ipython3",
   "version": "3.7.10"
  },
  "papermill": {
   "default_parameters": {},
   "duration": 11.500736,
   "end_time": "2025-06-20T16:58:37.281300",
   "environment_variables": {},
   "exception": null,
   "input_path": "__notebook__.ipynb",
   "output_path": "__notebook__.ipynb",
   "parameters": {},
   "start_time": "2025-06-20T16:58:25.780564",
   "version": "2.3.3"
  }
 },
 "nbformat": 4,
 "nbformat_minor": 5
}
