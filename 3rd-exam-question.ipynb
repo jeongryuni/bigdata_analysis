{
 "cells": [
  {
   "cell_type": "markdown",
   "id": "62049384",
   "metadata": {
    "papermill": {
     "duration": 0.002765,
     "end_time": "2025-06-09T08:33:12.497041",
     "exception": false,
     "start_time": "2025-06-09T08:33:12.494276",
     "status": "completed"
    },
    "tags": []
   },
   "source": [
    "# 작업형1"
   ]
  },
  {
   "cell_type": "markdown",
   "id": "d5e87e97",
   "metadata": {
    "papermill": {
     "duration": 0.001943,
     "end_time": "2025-06-09T08:33:12.501301",
     "exception": false,
     "start_time": "2025-06-09T08:33:12.499358",
     "status": "completed"
    },
    "tags": []
   },
   "source": [
    "## 문제1\n",
    "\n",
    "주어진 데이터 칼럼들의 결측값을 전부 제거한 후 데이터를 처음부터 순서대로 70% 추출하여 housing_median_age 칼럼의 1분위수를 산출.\n",
    "\n",
    "(단, 출력 결과는 정수형태)"
   ]
  },
  {
   "cell_type": "code",
   "execution_count": 1,
   "id": "af8ee611",
   "metadata": {
    "_cell_guid": "b1076dfc-b9ad-4769-8c92-a6c4dae69d19",
    "_uuid": "8f2839f25d086af736a60e9eeb907d3b93b6e0e5",
    "execution": {
     "iopub.execute_input": "2025-06-09T08:33:12.506692Z",
     "iopub.status.busy": "2025-06-09T08:33:12.506302Z",
     "iopub.status.idle": "2025-06-09T08:33:14.729044Z",
     "shell.execute_reply": "2025-06-09T08:33:14.727942Z"
    },
    "papermill": {
     "duration": 2.227434,
     "end_time": "2025-06-09T08:33:14.730770",
     "exception": false,
     "start_time": "2025-06-09T08:33:12.503336",
     "status": "completed"
    },
    "tags": []
   },
   "outputs": [
    {
     "name": "stdout",
     "output_type": "stream",
     "text": [
      "19\n"
     ]
    }
   ],
   "source": [
    "import pandas as pd\n",
    "import numpy as np\n",
    "import warnings\n",
    "\n",
    "warnings.filterwarnings('ignore')  # 경고 메시지 무시\n",
    "df = pd.read_csv('/kaggle/input/bigdata-csvfile/california_housing.csv')\n",
    "df = df.dropna() \n",
    "# df.shape[0] * 0.7 #14303\n",
    "df = df.iloc[:14303]\n",
    "\n",
    "print(df['housing_median_age'].quantile(0.25).astype(int))"
   ]
  },
  {
   "cell_type": "markdown",
   "id": "2d7068a7",
   "metadata": {
    "papermill": {
     "duration": 0.00189,
     "end_time": "2025-06-09T08:33:14.735046",
     "exception": false,
     "start_time": "2025-06-09T08:33:14.733156",
     "status": "completed"
    },
    "tags": []
   },
   "source": [
    "## 문제2\n",
    "\n",
    "4개년도(2000, 2006, 2012, 2021)에 대한 국가별 기아의 수치 데이터에서\n",
    "2000년 전체 기아 수치의 평균을 구하고, 2000년 데이터를 대상으로 연산된 평균보다 큰 값을 갖는 국가의 수를 산출하시오."
   ]
  },
  {
   "cell_type": "code",
   "execution_count": 2,
   "id": "14e589d6",
   "metadata": {
    "execution": {
     "iopub.execute_input": "2025-06-09T08:33:14.741336Z",
     "iopub.status.busy": "2025-06-09T08:33:14.740328Z",
     "iopub.status.idle": "2025-06-09T08:33:14.772840Z",
     "shell.execute_reply": "2025-06-09T08:33:14.771688Z"
    },
    "papermill": {
     "duration": 0.037619,
     "end_time": "2025-06-09T08:33:14.774733",
     "exception": false,
     "start_time": "2025-06-09T08:33:14.737114",
     "status": "completed"
    },
    "tags": []
   },
   "outputs": [
    {
     "name": "stdout",
     "output_type": "stream",
     "text": [
      "50\n"
     ]
    }
   ],
   "source": [
    "import pandas as pd\n",
    "import numpy as np\n",
    "import warnings\n",
    "\n",
    "warnings.filterwarnings('ignore')  # 경고 메시지 무시\n",
    "df = pd.read_csv('/kaggle/input/bigdata-csvfile/global_hunger_data.csv')\n",
    "\n",
    "data_2000 = df[df['Year'] == 2000]\n",
    "data_2000_mean = data_2000['Global Hunger Index'].mean()\n",
    "cond = (data_2000['Global Hunger Index'] > data_2000_mean)\n",
    "cond_df = data_2000[cond]\n",
    " \n",
    "print(len(cond_df['Entity'].unique()))"
   ]
  },
  {
   "cell_type": "markdown",
   "id": "127e6fdf",
   "metadata": {
    "papermill": {
     "duration": 0.002015,
     "end_time": "2025-06-09T08:33:14.779127",
     "exception": false,
     "start_time": "2025-06-09T08:33:14.777112",
     "status": "completed"
    },
    "tags": []
   },
   "source": [
    "## 문제3\n",
    "\n",
    "주어진 데이터의 컬럼별로 결측값들의 비율을 확인하여 결측값의 비율이 가장 높은 변수명 출력"
   ]
  },
  {
   "cell_type": "code",
   "execution_count": 3,
   "id": "4e272c6c",
   "metadata": {
    "execution": {
     "iopub.execute_input": "2025-06-09T08:33:14.784928Z",
     "iopub.status.busy": "2025-06-09T08:33:14.784604Z",
     "iopub.status.idle": "2025-06-09T08:33:14.808957Z",
     "shell.execute_reply": "2025-06-09T08:33:14.807531Z"
    },
    "papermill": {
     "duration": 0.029236,
     "end_time": "2025-06-09T08:33:14.810544",
     "exception": false,
     "start_time": "2025-06-09T08:33:14.781308",
     "status": "completed"
    },
    "tags": []
   },
   "outputs": [
    {
     "name": "stdout",
     "output_type": "stream",
     "text": [
      "PassengerId    0.000000\n",
      "Survived       0.000000\n",
      "Pclass         0.000000\n",
      "Name           0.000000\n",
      "Sex            0.000000\n",
      "Age            0.198653\n",
      "SibSp          0.000000\n",
      "Parch          0.000000\n",
      "Ticket         0.000000\n",
      "Fare           0.000000\n",
      "Cabin          0.771044\n",
      "Embarked       0.002245\n",
      "dtype: float64\n"
     ]
    }
   ],
   "source": [
    "import pandas as pd\n",
    "import numpy as np\n",
    "import warnings\n",
    "\n",
    "warnings.filterwarnings('ignore')  # 경고 메시지 무시\n",
    "df = pd.read_csv('/kaggle/input/bigdata-csvfile/titanic.csv')\n",
    "\n",
    "print(df.isnull().sum() / df.shape[0]) # Cabin          0.771044"
   ]
  },
  {
   "cell_type": "code",
   "execution_count": null,
   "id": "644b97e9",
   "metadata": {
    "papermill": {
     "duration": 0.002001,
     "end_time": "2025-06-09T08:33:14.814896",
     "exception": false,
     "start_time": "2025-06-09T08:33:14.812895",
     "status": "completed"
    },
    "tags": []
   },
   "outputs": [],
   "source": []
  }
 ],
 "metadata": {
  "kaggle": {
   "accelerator": "none",
   "dataSources": [
    {
     "datasetId": 7611297,
     "sourceId": 12090743,
     "sourceType": "datasetVersion"
    }
   ],
   "dockerImageVersionId": 31040,
   "isGpuEnabled": false,
   "isInternetEnabled": false,
   "language": "python",
   "sourceType": "notebook"
  },
  "kernelspec": {
   "display_name": "Python 3",
   "language": "python",
   "name": "python3"
  },
  "language_info": {
   "codemirror_mode": {
    "name": "ipython",
    "version": 3
   },
   "file_extension": ".py",
   "mimetype": "text/x-python",
   "name": "python",
   "nbconvert_exporter": "python",
   "pygments_lexer": "ipython3",
   "version": "3.11.11"
  },
  "papermill": {
   "default_parameters": {},
   "duration": 8.178805,
   "end_time": "2025-06-09T08:33:15.437947",
   "environment_variables": {},
   "exception": null,
   "input_path": "__notebook__.ipynb",
   "output_path": "__notebook__.ipynb",
   "parameters": {},
   "start_time": "2025-06-09T08:33:07.259142",
   "version": "2.6.0"
  }
 },
 "nbformat": 4,
 "nbformat_minor": 5
}
