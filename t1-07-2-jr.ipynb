{
 "cells": [
  {
   "cell_type": "markdown",
   "id": "6a8fac8f",
   "metadata": {
    "papermill": {
     "duration": 0.014126,
     "end_time": "2025-06-20T16:34:43.028030",
     "exception": false,
     "start_time": "2025-06-20T16:34:43.013904",
     "status": "completed"
    },
    "tags": []
   },
   "source": [
    "### 'f4'컬럼의 값이 'ESFJ'인 데이터를 'ISFJ'로 대체하고, 'city'가 '경기'이면서 'f4'가 'ISFJ'인 데이터 중 'age'컬럼의 최대값을 출력하시오!\n",
    "- 데이터셋 : basic1.csv\n",
    "- 오른쪽 상단 copy&edit 클릭 -> 예상문제 풀이 시작"
   ]
  },
  {
   "cell_type": "code",
   "execution_count": 1,
   "id": "a578b02a",
   "metadata": {
    "execution": {
     "iopub.execute_input": "2025-06-20T16:34:43.066319Z",
     "iopub.status.busy": "2025-06-20T16:34:43.065502Z",
     "iopub.status.idle": "2025-06-20T16:34:43.094594Z",
     "shell.execute_reply": "2025-06-20T16:34:43.093881Z",
     "shell.execute_reply.started": "2025-05-04T22:31:33.570376Z"
    },
    "jupyter": {
     "source_hidden": true
    },
    "papermill": {
     "duration": 0.053989,
     "end_time": "2025-06-20T16:34:43.094807",
     "exception": false,
     "start_time": "2025-06-20T16:34:43.040818",
     "status": "completed"
    },
    "tags": []
   },
   "outputs": [
    {
     "name": "stdout",
     "output_type": "stream",
     "text": [
      "90.0\n"
     ]
    }
   ],
   "source": [
    "# 라이브러리 및 데이터 불러오기\n",
    "import pandas as pd\n",
    "import numpy as np\n",
    "\n",
    "df = pd.read_csv('../input/bigdatacertificationkr/basic1.csv')\n",
    "\n",
    "# 'f4'컬럼의 값이 ESFJ인 데이터를 ISFJ로 대체 \n",
    "# 방법3개\n",
    "# 1. df.loc[df['f4'] == 'ESFJ', 'f4'] = 'ISFJ'\n",
    "# 2. df['f4'] = df['f4'].replace('ESFJ', 'ISFJ') \n",
    "df['f4'] = df['f4'].replace({'ESFJ':'ISFJ'}) \n",
    "\n",
    "# 'city'가 '경기'이면서 'f4'가 'ISFJ'인 데이터 중 'age'컬럼의 최댓값\n",
    "df_cond = df.loc[(df['city'] == '경기') & (df['f4'] == 'ISFJ'), 'age'].max()\n",
    "\n",
    "print(df_cond)"
   ]
  },
  {
   "cell_type": "code",
   "execution_count": 2,
   "id": "d0ba37ba",
   "metadata": {
    "execution": {
     "iopub.execute_input": "2025-06-20T16:34:43.128889Z",
     "iopub.status.busy": "2025-06-20T16:34:43.127689Z",
     "iopub.status.idle": "2025-06-20T16:34:43.143107Z",
     "shell.execute_reply": "2025-06-20T16:34:43.142561Z",
     "shell.execute_reply.started": "2025-06-20T16:33:43.789709Z"
    },
    "papermill": {
     "duration": 0.035078,
     "end_time": "2025-06-20T16:34:43.143263",
     "exception": false,
     "start_time": "2025-06-20T16:34:43.108185",
     "status": "completed"
    },
    "tags": []
   },
   "outputs": [
    {
     "name": "stdout",
     "output_type": "stream",
     "text": [
      "90.0\n"
     ]
    }
   ],
   "source": [
    "# 라이브러리 및 데이터 불러오기\n",
    "import pandas as pd\n",
    "import numpy as np\n",
    "\n",
    "df = pd.read_csv('../input/bigdatacertificationkr/basic1.csv')\n",
    "\n",
    "df['f4'] = df['f4'].replace('ESFJ', 'ISFJ')\n",
    "cond = df.loc[(df['city'] == '경기') & (df['f4']=='ISFJ')]['age'].max()\n",
    "print(cond)"
   ]
  },
  {
   "cell_type": "code",
   "execution_count": null,
   "id": "be9950ab",
   "metadata": {
    "papermill": {
     "duration": 0.013002,
     "end_time": "2025-06-20T16:34:43.169604",
     "exception": false,
     "start_time": "2025-06-20T16:34:43.156602",
     "status": "completed"
    },
    "tags": []
   },
   "outputs": [],
   "source": []
  },
  {
   "cell_type": "code",
   "execution_count": null,
   "id": "803e002a",
   "metadata": {
    "papermill": {
     "duration": 0.012837,
     "end_time": "2025-06-20T16:34:43.196395",
     "exception": false,
     "start_time": "2025-06-20T16:34:43.183558",
     "status": "completed"
    },
    "tags": []
   },
   "outputs": [],
   "source": []
  },
  {
   "cell_type": "code",
   "execution_count": null,
   "id": "c380689f",
   "metadata": {
    "papermill": {
     "duration": 0.012761,
     "end_time": "2025-06-20T16:34:43.222671",
     "exception": false,
     "start_time": "2025-06-20T16:34:43.209910",
     "status": "completed"
    },
    "tags": []
   },
   "outputs": [],
   "source": []
  },
  {
   "cell_type": "code",
   "execution_count": null,
   "id": "3c42ab46",
   "metadata": {
    "papermill": {
     "duration": 0.012972,
     "end_time": "2025-06-20T16:34:43.248683",
     "exception": false,
     "start_time": "2025-06-20T16:34:43.235711",
     "status": "completed"
    },
    "tags": []
   },
   "outputs": [],
   "source": []
  },
  {
   "cell_type": "markdown",
   "id": "ba17d7b4",
   "metadata": {
    "papermill": {
     "duration": 0.013041,
     "end_time": "2025-06-20T16:34:43.274711",
     "exception": false,
     "start_time": "2025-06-20T16:34:43.261670",
     "status": "completed"
    },
    "tags": []
   },
   "source": [
    "## Hint"
   ]
  },
  {
   "cell_type": "code",
   "execution_count": 3,
   "id": "ca3414e3",
   "metadata": {
    "execution": {
     "iopub.execute_input": "2025-06-20T16:34:43.312637Z",
     "iopub.status.busy": "2025-06-20T16:34:43.311868Z",
     "iopub.status.idle": "2025-06-20T16:34:43.322944Z",
     "shell.execute_reply": "2025-06-20T16:34:43.322388Z",
     "shell.execute_reply.started": "2024-10-01T13:19:07.403686Z"
    },
    "papermill": {
     "duration": 0.034999,
     "end_time": "2025-06-20T16:34:43.323082",
     "exception": false,
     "start_time": "2025-06-20T16:34:43.288083",
     "status": "completed"
    },
    "tags": []
   },
   "outputs": [
    {
     "data": {
      "text/html": [
       "<div>\n",
       "<style scoped>\n",
       "    .dataframe tbody tr th:only-of-type {\n",
       "        vertical-align: middle;\n",
       "    }\n",
       "\n",
       "    .dataframe tbody tr th {\n",
       "        vertical-align: top;\n",
       "    }\n",
       "\n",
       "    .dataframe thead th {\n",
       "        text-align: right;\n",
       "    }\n",
       "</style>\n",
       "<table border=\"1\" class=\"dataframe\">\n",
       "  <thead>\n",
       "    <tr style=\"text-align: right;\">\n",
       "      <th></th>\n",
       "      <th>0</th>\n",
       "    </tr>\n",
       "  </thead>\n",
       "  <tbody>\n",
       "    <tr>\n",
       "      <th>0</th>\n",
       "      <td>2</td>\n",
       "    </tr>\n",
       "    <tr>\n",
       "      <th>1</th>\n",
       "      <td>1</td>\n",
       "    </tr>\n",
       "    <tr>\n",
       "      <th>2</th>\n",
       "      <td>2</td>\n",
       "    </tr>\n",
       "    <tr>\n",
       "      <th>3</th>\n",
       "      <td>1</td>\n",
       "    </tr>\n",
       "    <tr>\n",
       "      <th>4</th>\n",
       "      <td>2</td>\n",
       "    </tr>\n",
       "  </tbody>\n",
       "</table>\n",
       "</div>"
      ],
      "text/plain": [
       "   0\n",
       "0  2\n",
       "1  1\n",
       "2  2\n",
       "3  1\n",
       "4  2"
      ]
     },
     "execution_count": 3,
     "metadata": {},
     "output_type": "execute_result"
    }
   ],
   "source": [
    "# 값 변경하기\n",
    "import pandas as pd\n",
    "data = pd.DataFrame([0, 1, 0, 1, 0])\n",
    "data = data.replace(0, 2)\n",
    "data"
   ]
  },
  {
   "cell_type": "markdown",
   "id": "79c9ecdb",
   "metadata": {
    "papermill": {
     "duration": 0.013665,
     "end_time": "2025-06-20T16:34:43.351716",
     "exception": false,
     "start_time": "2025-06-20T16:34:43.338051",
     "status": "completed"
    },
    "tags": []
   },
   "source": [
    "## 풀이"
   ]
  },
  {
   "cell_type": "code",
   "execution_count": 4,
   "id": "05abd88d",
   "metadata": {
    "_cell_guid": "b1076dfc-b9ad-4769-8c92-a6c4dae69d19",
    "_uuid": "8f2839f25d086af736a60e9eeb907d3b93b6e0e5",
    "execution": {
     "iopub.execute_input": "2025-06-20T16:34:43.385748Z",
     "iopub.status.busy": "2025-06-20T16:34:43.384583Z",
     "iopub.status.idle": "2025-06-20T16:34:43.401091Z",
     "shell.execute_reply": "2025-06-20T16:34:43.400388Z",
     "shell.execute_reply.started": "2024-11-11T10:28:23.332825Z"
    },
    "papermill": {
     "duration": 0.035914,
     "end_time": "2025-06-20T16:34:43.401235",
     "exception": false,
     "start_time": "2025-06-20T16:34:43.365321",
     "status": "completed"
    },
    "tags": []
   },
   "outputs": [
    {
     "data": {
      "text/html": [
       "<div>\n",
       "<style scoped>\n",
       "    .dataframe tbody tr th:only-of-type {\n",
       "        vertical-align: middle;\n",
       "    }\n",
       "\n",
       "    .dataframe tbody tr th {\n",
       "        vertical-align: top;\n",
       "    }\n",
       "\n",
       "    .dataframe thead th {\n",
       "        text-align: right;\n",
       "    }\n",
       "</style>\n",
       "<table border=\"1\" class=\"dataframe\">\n",
       "  <thead>\n",
       "    <tr style=\"text-align: right;\">\n",
       "      <th></th>\n",
       "      <th>id</th>\n",
       "      <th>age</th>\n",
       "      <th>city</th>\n",
       "      <th>f1</th>\n",
       "      <th>f2</th>\n",
       "      <th>f3</th>\n",
       "      <th>f4</th>\n",
       "      <th>f5</th>\n",
       "    </tr>\n",
       "  </thead>\n",
       "  <tbody>\n",
       "    <tr>\n",
       "      <th>0</th>\n",
       "      <td>id01</td>\n",
       "      <td>2.0</td>\n",
       "      <td>서울</td>\n",
       "      <td>NaN</td>\n",
       "      <td>0</td>\n",
       "      <td>NaN</td>\n",
       "      <td>ENFJ</td>\n",
       "      <td>91.297791</td>\n",
       "    </tr>\n",
       "    <tr>\n",
       "      <th>1</th>\n",
       "      <td>id02</td>\n",
       "      <td>9.0</td>\n",
       "      <td>서울</td>\n",
       "      <td>70.0</td>\n",
       "      <td>1</td>\n",
       "      <td>NaN</td>\n",
       "      <td>ENFJ</td>\n",
       "      <td>60.339826</td>\n",
       "    </tr>\n",
       "  </tbody>\n",
       "</table>\n",
       "</div>"
      ],
      "text/plain": [
       "     id  age city    f1  f2   f3    f4         f5\n",
       "0  id01  2.0   서울   NaN   0  NaN  ENFJ  91.297791\n",
       "1  id02  9.0   서울  70.0   1  NaN  ENFJ  60.339826"
      ]
     },
     "execution_count": 4,
     "metadata": {},
     "output_type": "execute_result"
    }
   ],
   "source": [
    "# 라이브러리 및 데이터 불러오기\n",
    "import pandas as pd\n",
    "import numpy as np\n",
    "\n",
    "df = pd.read_csv('../input/bigdatacertificationkr/basic1.csv')\n",
    "df.head(2)"
   ]
  },
  {
   "cell_type": "code",
   "execution_count": 5,
   "id": "587dd683",
   "metadata": {
    "execution": {
     "iopub.execute_input": "2025-06-20T16:34:43.446201Z",
     "iopub.status.busy": "2025-06-20T16:34:43.445186Z",
     "iopub.status.idle": "2025-06-20T16:34:43.450180Z",
     "shell.execute_reply": "2025-06-20T16:34:43.449461Z",
     "shell.execute_reply.started": "2024-11-11T10:28:23.519843Z"
    },
    "papermill": {
     "duration": 0.034742,
     "end_time": "2025-06-20T16:34:43.450348",
     "exception": false,
     "start_time": "2025-06-20T16:34:43.415606",
     "status": "completed"
    },
    "tags": []
   },
   "outputs": [
    {
     "data": {
      "text/html": [
       "<div>\n",
       "<style scoped>\n",
       "    .dataframe tbody tr th:only-of-type {\n",
       "        vertical-align: middle;\n",
       "    }\n",
       "\n",
       "    .dataframe tbody tr th {\n",
       "        vertical-align: top;\n",
       "    }\n",
       "\n",
       "    .dataframe thead th {\n",
       "        text-align: right;\n",
       "    }\n",
       "</style>\n",
       "<table border=\"1\" class=\"dataframe\">\n",
       "  <thead>\n",
       "    <tr style=\"text-align: right;\">\n",
       "      <th></th>\n",
       "      <th>id</th>\n",
       "      <th>age</th>\n",
       "      <th>city</th>\n",
       "      <th>f1</th>\n",
       "      <th>f2</th>\n",
       "      <th>f3</th>\n",
       "      <th>f4</th>\n",
       "      <th>f5</th>\n",
       "    </tr>\n",
       "  </thead>\n",
       "  <tbody>\n",
       "    <tr>\n",
       "      <th>8</th>\n",
       "      <td>id09</td>\n",
       "      <td>3.3</td>\n",
       "      <td>서울</td>\n",
       "      <td>35.0</td>\n",
       "      <td>2</td>\n",
       "      <td>NaN</td>\n",
       "      <td>ESFJ</td>\n",
       "      <td>17.252986</td>\n",
       "    </tr>\n",
       "    <tr>\n",
       "      <th>12</th>\n",
       "      <td>id13</td>\n",
       "      <td>15.0</td>\n",
       "      <td>서울</td>\n",
       "      <td>68.0</td>\n",
       "      <td>0</td>\n",
       "      <td>NaN</td>\n",
       "      <td>ESFJ</td>\n",
       "      <td>83.685380</td>\n",
       "    </tr>\n",
       "    <tr>\n",
       "      <th>30</th>\n",
       "      <td>id31</td>\n",
       "      <td>86.0</td>\n",
       "      <td>부산</td>\n",
       "      <td>77.0</td>\n",
       "      <td>0</td>\n",
       "      <td>NaN</td>\n",
       "      <td>ESFJ</td>\n",
       "      <td>73.586397</td>\n",
       "    </tr>\n",
       "    <tr>\n",
       "      <th>58</th>\n",
       "      <td>id59</td>\n",
       "      <td>64.0</td>\n",
       "      <td>대구</td>\n",
       "      <td>NaN</td>\n",
       "      <td>1</td>\n",
       "      <td>NaN</td>\n",
       "      <td>ESFJ</td>\n",
       "      <td>20.129444</td>\n",
       "    </tr>\n",
       "    <tr>\n",
       "      <th>98</th>\n",
       "      <td>id99</td>\n",
       "      <td>1.0</td>\n",
       "      <td>경기</td>\n",
       "      <td>47.0</td>\n",
       "      <td>0</td>\n",
       "      <td>NaN</td>\n",
       "      <td>ESFJ</td>\n",
       "      <td>97.381034</td>\n",
       "    </tr>\n",
       "  </tbody>\n",
       "</table>\n",
       "</div>"
      ],
      "text/plain": [
       "      id   age city    f1  f2   f3    f4         f5\n",
       "8   id09   3.3   서울  35.0   2  NaN  ESFJ  17.252986\n",
       "12  id13  15.0   서울  68.0   0  NaN  ESFJ  83.685380\n",
       "30  id31  86.0   부산  77.0   0  NaN  ESFJ  73.586397\n",
       "58  id59  64.0   대구   NaN   1  NaN  ESFJ  20.129444\n",
       "98  id99   1.0   경기  47.0   0  NaN  ESFJ  97.381034"
      ]
     },
     "execution_count": 5,
     "metadata": {},
     "output_type": "execute_result"
    }
   ],
   "source": [
    "# ESFJ 값을 가진 데이터 확인\n",
    "df[df['f4'] == 'ESFJ']"
   ]
  },
  {
   "cell_type": "code",
   "execution_count": 6,
   "id": "41ca8299",
   "metadata": {
    "execution": {
     "iopub.execute_input": "2025-06-20T16:34:43.485608Z",
     "iopub.status.busy": "2025-06-20T16:34:43.484910Z",
     "iopub.status.idle": "2025-06-20T16:34:43.487637Z",
     "shell.execute_reply": "2025-06-20T16:34:43.488130Z",
     "shell.execute_reply.started": "2024-11-11T10:28:23.723355Z"
    },
    "papermill": {
     "duration": 0.023289,
     "end_time": "2025-06-20T16:34:43.488315",
     "exception": false,
     "start_time": "2025-06-20T16:34:43.465026",
     "status": "completed"
    },
    "tags": []
   },
   "outputs": [],
   "source": [
    "# 값 변경하기\n",
    "df['f4'] = df['f4'].replace('ESFJ', 'ISFJ')"
   ]
  },
  {
   "cell_type": "code",
   "execution_count": 7,
   "id": "3456f605",
   "metadata": {
    "execution": {
     "iopub.execute_input": "2025-06-20T16:34:43.530022Z",
     "iopub.status.busy": "2025-06-20T16:34:43.529147Z",
     "iopub.status.idle": "2025-06-20T16:34:43.533690Z",
     "shell.execute_reply": "2025-06-20T16:34:43.533065Z",
     "shell.execute_reply.started": "2024-11-11T10:28:23.924117Z"
    },
    "papermill": {
     "duration": 0.030268,
     "end_time": "2025-06-20T16:34:43.533856",
     "exception": false,
     "start_time": "2025-06-20T16:34:43.503588",
     "status": "completed"
    },
    "tags": []
   },
   "outputs": [
    {
     "data": {
      "text/html": [
       "<div>\n",
       "<style scoped>\n",
       "    .dataframe tbody tr th:only-of-type {\n",
       "        vertical-align: middle;\n",
       "    }\n",
       "\n",
       "    .dataframe tbody tr th {\n",
       "        vertical-align: top;\n",
       "    }\n",
       "\n",
       "    .dataframe thead th {\n",
       "        text-align: right;\n",
       "    }\n",
       "</style>\n",
       "<table border=\"1\" class=\"dataframe\">\n",
       "  <thead>\n",
       "    <tr style=\"text-align: right;\">\n",
       "      <th></th>\n",
       "      <th>id</th>\n",
       "      <th>age</th>\n",
       "      <th>city</th>\n",
       "      <th>f1</th>\n",
       "      <th>f2</th>\n",
       "      <th>f3</th>\n",
       "      <th>f4</th>\n",
       "      <th>f5</th>\n",
       "    </tr>\n",
       "  </thead>\n",
       "  <tbody>\n",
       "  </tbody>\n",
       "</table>\n",
       "</div>"
      ],
      "text/plain": [
       "Empty DataFrame\n",
       "Columns: [id, age, city, f1, f2, f3, f4, f5]\n",
       "Index: []"
      ]
     },
     "execution_count": 7,
     "metadata": {},
     "output_type": "execute_result"
    }
   ],
   "source": [
    "# ESFJ 값을 가진 데이터 확인\n",
    "df[df['f4'] == 'ESFJ']"
   ]
  },
  {
   "cell_type": "code",
   "execution_count": 8,
   "id": "3f04788e",
   "metadata": {
    "execution": {
     "iopub.execute_input": "2025-06-20T16:34:43.580302Z",
     "iopub.status.busy": "2025-06-20T16:34:43.579172Z",
     "iopub.status.idle": "2025-06-20T16:34:43.583152Z",
     "shell.execute_reply": "2025-06-20T16:34:43.583643Z",
     "shell.execute_reply.started": "2024-11-11T10:28:24.125102Z"
    },
    "papermill": {
     "duration": 0.03499,
     "end_time": "2025-06-20T16:34:43.583869",
     "exception": false,
     "start_time": "2025-06-20T16:34:43.548879",
     "status": "completed"
    },
    "tags": []
   },
   "outputs": [
    {
     "data": {
      "text/html": [
       "<div>\n",
       "<style scoped>\n",
       "    .dataframe tbody tr th:only-of-type {\n",
       "        vertical-align: middle;\n",
       "    }\n",
       "\n",
       "    .dataframe tbody tr th {\n",
       "        vertical-align: top;\n",
       "    }\n",
       "\n",
       "    .dataframe thead th {\n",
       "        text-align: right;\n",
       "    }\n",
       "</style>\n",
       "<table border=\"1\" class=\"dataframe\">\n",
       "  <thead>\n",
       "    <tr style=\"text-align: right;\">\n",
       "      <th></th>\n",
       "      <th>id</th>\n",
       "      <th>age</th>\n",
       "      <th>city</th>\n",
       "      <th>f1</th>\n",
       "      <th>f2</th>\n",
       "      <th>f3</th>\n",
       "      <th>f4</th>\n",
       "      <th>f5</th>\n",
       "    </tr>\n",
       "  </thead>\n",
       "  <tbody>\n",
       "    <tr>\n",
       "      <th>62</th>\n",
       "      <td>id63</td>\n",
       "      <td>88.0</td>\n",
       "      <td>경기</td>\n",
       "      <td>86.0</td>\n",
       "      <td>1</td>\n",
       "      <td>NaN</td>\n",
       "      <td>ISFJ</td>\n",
       "      <td>73.586397</td>\n",
       "    </tr>\n",
       "    <tr>\n",
       "      <th>66</th>\n",
       "      <td>id67</td>\n",
       "      <td>66.0</td>\n",
       "      <td>경기</td>\n",
       "      <td>52.0</td>\n",
       "      <td>1</td>\n",
       "      <td>NaN</td>\n",
       "      <td>ISFJ</td>\n",
       "      <td>73.586397</td>\n",
       "    </tr>\n",
       "    <tr>\n",
       "      <th>72</th>\n",
       "      <td>id73</td>\n",
       "      <td>90.0</td>\n",
       "      <td>경기</td>\n",
       "      <td>NaN</td>\n",
       "      <td>1</td>\n",
       "      <td>NaN</td>\n",
       "      <td>ISFJ</td>\n",
       "      <td>73.586397</td>\n",
       "    </tr>\n",
       "    <tr>\n",
       "      <th>80</th>\n",
       "      <td>id81</td>\n",
       "      <td>86.0</td>\n",
       "      <td>경기</td>\n",
       "      <td>50.0</td>\n",
       "      <td>1</td>\n",
       "      <td>NaN</td>\n",
       "      <td>ISFJ</td>\n",
       "      <td>37.113739</td>\n",
       "    </tr>\n",
       "    <tr>\n",
       "      <th>98</th>\n",
       "      <td>id99</td>\n",
       "      <td>1.0</td>\n",
       "      <td>경기</td>\n",
       "      <td>47.0</td>\n",
       "      <td>0</td>\n",
       "      <td>NaN</td>\n",
       "      <td>ISFJ</td>\n",
       "      <td>97.381034</td>\n",
       "    </tr>\n",
       "  </tbody>\n",
       "</table>\n",
       "</div>"
      ],
      "text/plain": [
       "      id   age city    f1  f2   f3    f4         f5\n",
       "62  id63  88.0   경기  86.0   1  NaN  ISFJ  73.586397\n",
       "66  id67  66.0   경기  52.0   1  NaN  ISFJ  73.586397\n",
       "72  id73  90.0   경기   NaN   1  NaN  ISFJ  73.586397\n",
       "80  id81  86.0   경기  50.0   1  NaN  ISFJ  37.113739\n",
       "98  id99   1.0   경기  47.0   0  NaN  ISFJ  97.381034"
      ]
     },
     "execution_count": 8,
     "metadata": {},
     "output_type": "execute_result"
    }
   ],
   "source": [
    "# 2개의 조건에 맞는 값\n",
    "df[(df['f4'] == 'ISFJ') & (df['city'] == '경기')]"
   ]
  },
  {
   "cell_type": "code",
   "execution_count": 9,
   "id": "11b83a1f",
   "metadata": {
    "execution": {
     "iopub.execute_input": "2025-06-20T16:34:43.623279Z",
     "iopub.status.busy": "2025-06-20T16:34:43.622340Z",
     "iopub.status.idle": "2025-06-20T16:34:43.626198Z",
     "shell.execute_reply": "2025-06-20T16:34:43.626903Z",
     "shell.execute_reply.started": "2024-11-11T10:28:24.339032Z"
    },
    "papermill": {
     "duration": 0.028038,
     "end_time": "2025-06-20T16:34:43.627115",
     "exception": false,
     "start_time": "2025-06-20T16:34:43.599077",
     "status": "completed"
    },
    "tags": []
   },
   "outputs": [
    {
     "data": {
      "text/plain": [
       "90.0"
      ]
     },
     "execution_count": 9,
     "metadata": {},
     "output_type": "execute_result"
    }
   ],
   "source": [
    "# 2개의 조건에 맞는 값중 age컬럼의 최대값\n",
    "df[(df['f4'] == 'ISFJ') & (df['city'] == '경기')]['age'].max()"
   ]
  },
  {
   "cell_type": "code",
   "execution_count": null,
   "id": "a84add48",
   "metadata": {
    "papermill": {
     "duration": 0.01507,
     "end_time": "2025-06-20T16:34:43.657722",
     "exception": false,
     "start_time": "2025-06-20T16:34:43.642652",
     "status": "completed"
    },
    "tags": []
   },
   "outputs": [],
   "source": []
  },
  {
   "cell_type": "code",
   "execution_count": null,
   "id": "e64ee8d8",
   "metadata": {
    "papermill": {
     "duration": 0.015763,
     "end_time": "2025-06-20T16:34:43.689074",
     "exception": false,
     "start_time": "2025-06-20T16:34:43.673311",
     "status": "completed"
    },
    "tags": []
   },
   "outputs": [],
   "source": []
  },
  {
   "cell_type": "code",
   "execution_count": null,
   "id": "14bb2ddb",
   "metadata": {
    "papermill": {
     "duration": 0.015205,
     "end_time": "2025-06-20T16:34:43.719725",
     "exception": false,
     "start_time": "2025-06-20T16:34:43.704520",
     "status": "completed"
    },
    "tags": []
   },
   "outputs": [],
   "source": []
  }
 ],
 "metadata": {
  "kaggle": {
   "accelerator": "none",
   "dataSources": [
    {
     "databundleVersionId": 12753598,
     "datasetId": 1633303,
     "sourceId": 12211878,
     "sourceType": "datasetVersion"
    }
   ],
   "dockerImageVersionId": 30129,
   "isGpuEnabled": false,
   "isInternetEnabled": false,
   "language": "python",
   "sourceType": "notebook"
  },
  "kernelspec": {
   "display_name": "Python 3",
   "language": "python",
   "name": "python3"
  },
  "language_info": {
   "codemirror_mode": {
    "name": "ipython",
    "version": 3
   },
   "file_extension": ".py",
   "mimetype": "text/x-python",
   "name": "python",
   "nbconvert_exporter": "python",
   "pygments_lexer": "ipython3",
   "version": "3.7.10"
  },
  "papermill": {
   "default_parameters": {},
   "duration": 9.514249,
   "end_time": "2025-06-20T16:34:44.246314",
   "environment_variables": {},
   "exception": null,
   "input_path": "__notebook__.ipynb",
   "output_path": "__notebook__.ipynb",
   "parameters": {},
   "start_time": "2025-06-20T16:34:34.732065",
   "version": "2.3.3"
  }
 },
 "nbformat": 4,
 "nbformat_minor": 5
}
