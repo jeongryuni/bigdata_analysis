{
 "cells": [
  {
   "cell_type": "markdown",
   "id": "a3a54814",
   "metadata": {
    "papermill": {
     "duration": 0.009548,
     "end_time": "2025-06-18T21:40:30.892251",
     "exception": false,
     "start_time": "2025-06-18T21:40:30.882703",
     "status": "completed"
    },
    "tags": []
   },
   "source": [
    "## 이상치를 찾아라(소수점 나이)\n",
    "### 주어진 데이터에서 이상치(소수점 나이)를 찾고 올림, 내림, 버림(절사)했을때 3가지 모두 이상치 'age' 평균을 구한 다음 모두 더하여 출력하시오\n",
    "\n",
    "- 데이터셋 : basic1.csv\n",
    "- 오른쪽 상단 copy&edit 클릭 -> 예상문제 풀이 시작\n",
    "- 강의 영상 : https://youtu.be/c3Fr9G-ZYdw"
   ]
  },
  {
   "cell_type": "code",
   "execution_count": 1,
   "id": "2a1de39f",
   "metadata": {
    "execution": {
     "iopub.execute_input": "2025-06-18T21:40:30.918561Z",
     "iopub.status.busy": "2025-06-18T21:40:30.916038Z",
     "iopub.status.idle": "2025-06-18T21:40:30.944648Z",
     "shell.execute_reply": "2025-06-18T21:40:30.944039Z",
     "shell.execute_reply.started": "2025-06-18T21:39:11.988394Z"
    },
    "papermill": {
     "duration": 0.04416,
     "end_time": "2025-06-18T21:40:30.944806",
     "exception": false,
     "start_time": "2025-06-18T21:40:30.900646",
     "status": "completed"
    },
    "tags": []
   },
   "outputs": [
    {
     "name": "stdout",
     "output_type": "stream",
     "text": [
      "69.5\n"
     ]
    }
   ],
   "source": [
    "import pandas as pd\n",
    "import numpy as np\n",
    "\n",
    "df = pd.read_csv('../input/bigdatacertificationkr/basic1.csv')\n",
    "outdata = df[df['age']%1 !=0]\n",
    "\n",
    "ceil = np.ceil(outdata['age']).mean()\n",
    "floor = np.floor(outdata['age']).mean()\n",
    "trunc = np.trunc(outdata['age']).mean()\n",
    "\n",
    "print(ceil + floor + trunc)"
   ]
  },
  {
   "cell_type": "code",
   "execution_count": null,
   "id": "b4550f13",
   "metadata": {
    "papermill": {
     "duration": 0.007929,
     "end_time": "2025-06-18T21:40:30.961363",
     "exception": false,
     "start_time": "2025-06-18T21:40:30.953434",
     "status": "completed"
    },
    "tags": []
   },
   "outputs": [],
   "source": []
  },
  {
   "cell_type": "code",
   "execution_count": null,
   "id": "b0d7df9a",
   "metadata": {
    "papermill": {
     "duration": 0.007927,
     "end_time": "2025-06-18T21:40:30.977553",
     "exception": false,
     "start_time": "2025-06-18T21:40:30.969626",
     "status": "completed"
    },
    "tags": []
   },
   "outputs": [],
   "source": []
  },
  {
   "cell_type": "code",
   "execution_count": null,
   "id": "c05f55ef",
   "metadata": {
    "papermill": {
     "duration": 0.007901,
     "end_time": "2025-06-18T21:40:30.993585",
     "exception": false,
     "start_time": "2025-06-18T21:40:30.985684",
     "status": "completed"
    },
    "tags": []
   },
   "outputs": [],
   "source": []
  },
  {
   "cell_type": "code",
   "execution_count": null,
   "id": "63ce5ab9",
   "metadata": {
    "papermill": {
     "duration": 0.00803,
     "end_time": "2025-06-18T21:40:31.009802",
     "exception": false,
     "start_time": "2025-06-18T21:40:31.001772",
     "status": "completed"
    },
    "tags": []
   },
   "outputs": [],
   "source": []
  },
  {
   "cell_type": "markdown",
   "id": "c8a4442e",
   "metadata": {
    "papermill": {
     "duration": 0.007815,
     "end_time": "2025-06-18T21:40:31.025979",
     "exception": false,
     "start_time": "2025-06-18T21:40:31.018164",
     "status": "completed"
    },
    "tags": []
   },
   "source": [
    "## Hint\n",
    "- import numpy as np\n",
    "- 올림: np.ceil()\n",
    "- 내림: np.floor()\n",
    "- 버림: np.trunc()"
   ]
  },
  {
   "cell_type": "markdown",
   "id": "1827d685",
   "metadata": {
    "papermill": {
     "duration": 0.007935,
     "end_time": "2025-06-18T21:40:31.042047",
     "exception": false,
     "start_time": "2025-06-18T21:40:31.034112",
     "status": "completed"
    },
    "tags": []
   },
   "source": [
    "### 쉬어가기 : 내림과 버림의 차이는??\n",
    "- 양수에서는 같지만 음수에서는 -5.5에서 내림을 하면 -6, 버림을하면 -5가 된다."
   ]
  },
  {
   "cell_type": "markdown",
   "id": "abe3a700",
   "metadata": {
    "papermill": {
     "duration": 0.007819,
     "end_time": "2025-06-18T21:40:31.057946",
     "exception": false,
     "start_time": "2025-06-18T21:40:31.050127",
     "status": "completed"
    },
    "tags": []
   },
   "source": [
    "## 풀이"
   ]
  },
  {
   "cell_type": "code",
   "execution_count": 2,
   "id": "a4b27b3b",
   "metadata": {
    "execution": {
     "iopub.execute_input": "2025-06-18T21:40:31.080016Z",
     "iopub.status.busy": "2025-06-18T21:40:31.079054Z",
     "iopub.status.idle": "2025-06-18T21:40:31.099726Z",
     "shell.execute_reply": "2025-06-18T21:40:31.099194Z",
     "shell.execute_reply.started": "2024-10-26T13:30:45.846145Z"
    },
    "papermill": {
     "duration": 0.033834,
     "end_time": "2025-06-18T21:40:31.099873",
     "exception": false,
     "start_time": "2025-06-18T21:40:31.066039",
     "status": "completed"
    },
    "tags": []
   },
   "outputs": [
    {
     "data": {
      "text/html": [
       "<div>\n",
       "<style scoped>\n",
       "    .dataframe tbody tr th:only-of-type {\n",
       "        vertical-align: middle;\n",
       "    }\n",
       "\n",
       "    .dataframe tbody tr th {\n",
       "        vertical-align: top;\n",
       "    }\n",
       "\n",
       "    .dataframe thead th {\n",
       "        text-align: right;\n",
       "    }\n",
       "</style>\n",
       "<table border=\"1\" class=\"dataframe\">\n",
       "  <thead>\n",
       "    <tr style=\"text-align: right;\">\n",
       "      <th></th>\n",
       "      <th>id</th>\n",
       "      <th>age</th>\n",
       "      <th>city</th>\n",
       "      <th>f1</th>\n",
       "      <th>f2</th>\n",
       "      <th>f3</th>\n",
       "      <th>f4</th>\n",
       "      <th>f5</th>\n",
       "    </tr>\n",
       "  </thead>\n",
       "  <tbody>\n",
       "    <tr>\n",
       "      <th>0</th>\n",
       "      <td>id01</td>\n",
       "      <td>2.0</td>\n",
       "      <td>서울</td>\n",
       "      <td>NaN</td>\n",
       "      <td>0</td>\n",
       "      <td>NaN</td>\n",
       "      <td>ENFJ</td>\n",
       "      <td>91.297791</td>\n",
       "    </tr>\n",
       "    <tr>\n",
       "      <th>1</th>\n",
       "      <td>id02</td>\n",
       "      <td>9.0</td>\n",
       "      <td>서울</td>\n",
       "      <td>70.0</td>\n",
       "      <td>1</td>\n",
       "      <td>NaN</td>\n",
       "      <td>ENFJ</td>\n",
       "      <td>60.339826</td>\n",
       "    </tr>\n",
       "    <tr>\n",
       "      <th>2</th>\n",
       "      <td>id03</td>\n",
       "      <td>27.0</td>\n",
       "      <td>서울</td>\n",
       "      <td>61.0</td>\n",
       "      <td>1</td>\n",
       "      <td>NaN</td>\n",
       "      <td>ISTJ</td>\n",
       "      <td>17.252986</td>\n",
       "    </tr>\n",
       "    <tr>\n",
       "      <th>3</th>\n",
       "      <td>id04</td>\n",
       "      <td>75.0</td>\n",
       "      <td>서울</td>\n",
       "      <td>NaN</td>\n",
       "      <td>2</td>\n",
       "      <td>NaN</td>\n",
       "      <td>INFP</td>\n",
       "      <td>52.667078</td>\n",
       "    </tr>\n",
       "    <tr>\n",
       "      <th>4</th>\n",
       "      <td>id05</td>\n",
       "      <td>24.0</td>\n",
       "      <td>서울</td>\n",
       "      <td>85.0</td>\n",
       "      <td>2</td>\n",
       "      <td>NaN</td>\n",
       "      <td>ISFJ</td>\n",
       "      <td>29.269869</td>\n",
       "    </tr>\n",
       "  </tbody>\n",
       "</table>\n",
       "</div>"
      ],
      "text/plain": [
       "     id   age city    f1  f2   f3    f4         f5\n",
       "0  id01   2.0   서울   NaN   0  NaN  ENFJ  91.297791\n",
       "1  id02   9.0   서울  70.0   1  NaN  ENFJ  60.339826\n",
       "2  id03  27.0   서울  61.0   1  NaN  ISTJ  17.252986\n",
       "3  id04  75.0   서울   NaN   2  NaN  INFP  52.667078\n",
       "4  id05  24.0   서울  85.0   2  NaN  ISFJ  29.269869"
      ]
     },
     "execution_count": 2,
     "metadata": {},
     "output_type": "execute_result"
    }
   ],
   "source": [
    "# 라이브러리 및 데이터 불러오기\n",
    "import pandas as pd\n",
    "import numpy as np\n",
    "\n",
    "df = pd.read_csv('../input/bigdatacertificationkr/basic1.csv')\n",
    "df.head()"
   ]
  },
  {
   "cell_type": "code",
   "execution_count": 3,
   "id": "afd793ab",
   "metadata": {
    "execution": {
     "iopub.execute_input": "2025-06-18T21:40:31.133066Z",
     "iopub.status.busy": "2025-06-18T21:40:31.132245Z",
     "iopub.status.idle": "2025-06-18T21:40:31.136219Z",
     "shell.execute_reply": "2025-06-18T21:40:31.135718Z",
     "shell.execute_reply.started": "2024-10-26T13:30:46.007586Z"
    },
    "papermill": {
     "duration": 0.027797,
     "end_time": "2025-06-18T21:40:31.136375",
     "exception": false,
     "start_time": "2025-06-18T21:40:31.108578",
     "status": "completed"
    },
    "tags": []
   },
   "outputs": [
    {
     "data": {
      "text/html": [
       "<div>\n",
       "<style scoped>\n",
       "    .dataframe tbody tr th:only-of-type {\n",
       "        vertical-align: middle;\n",
       "    }\n",
       "\n",
       "    .dataframe tbody tr th {\n",
       "        vertical-align: top;\n",
       "    }\n",
       "\n",
       "    .dataframe thead th {\n",
       "        text-align: right;\n",
       "    }\n",
       "</style>\n",
       "<table border=\"1\" class=\"dataframe\">\n",
       "  <thead>\n",
       "    <tr style=\"text-align: right;\">\n",
       "      <th></th>\n",
       "      <th>id</th>\n",
       "      <th>age</th>\n",
       "      <th>city</th>\n",
       "      <th>f1</th>\n",
       "      <th>f2</th>\n",
       "      <th>f3</th>\n",
       "      <th>f4</th>\n",
       "      <th>f5</th>\n",
       "    </tr>\n",
       "  </thead>\n",
       "  <tbody>\n",
       "    <tr>\n",
       "      <th>6</th>\n",
       "      <td>id07</td>\n",
       "      <td>36.3</td>\n",
       "      <td>서울</td>\n",
       "      <td>60.0</td>\n",
       "      <td>1</td>\n",
       "      <td>NaN</td>\n",
       "      <td>ISFJ</td>\n",
       "      <td>9.796378</td>\n",
       "    </tr>\n",
       "    <tr>\n",
       "      <th>8</th>\n",
       "      <td>id09</td>\n",
       "      <td>3.3</td>\n",
       "      <td>서울</td>\n",
       "      <td>35.0</td>\n",
       "      <td>2</td>\n",
       "      <td>NaN</td>\n",
       "      <td>ESFJ</td>\n",
       "      <td>17.252986</td>\n",
       "    </tr>\n",
       "    <tr>\n",
       "      <th>21</th>\n",
       "      <td>id22</td>\n",
       "      <td>-6.3</td>\n",
       "      <td>부산</td>\n",
       "      <td>72.0</td>\n",
       "      <td>1</td>\n",
       "      <td>NaN</td>\n",
       "      <td>ENFP</td>\n",
       "      <td>52.667078</td>\n",
       "    </tr>\n",
       "    <tr>\n",
       "      <th>28</th>\n",
       "      <td>id29</td>\n",
       "      <td>-13.5</td>\n",
       "      <td>부산</td>\n",
       "      <td>47.0</td>\n",
       "      <td>2</td>\n",
       "      <td>NaN</td>\n",
       "      <td>ENTP</td>\n",
       "      <td>67.886373</td>\n",
       "    </tr>\n",
       "    <tr>\n",
       "      <th>46</th>\n",
       "      <td>id47</td>\n",
       "      <td>34.6</td>\n",
       "      <td>대구</td>\n",
       "      <td>75.0</td>\n",
       "      <td>1</td>\n",
       "      <td>NaN</td>\n",
       "      <td>ESTJ</td>\n",
       "      <td>90.496999</td>\n",
       "    </tr>\n",
       "    <tr>\n",
       "      <th>64</th>\n",
       "      <td>id65</td>\n",
       "      <td>26.5</td>\n",
       "      <td>경기</td>\n",
       "      <td>NaN</td>\n",
       "      <td>0</td>\n",
       "      <td>NaN</td>\n",
       "      <td>ISFP</td>\n",
       "      <td>91.297791</td>\n",
       "    </tr>\n",
       "    <tr>\n",
       "      <th>84</th>\n",
       "      <td>id85</td>\n",
       "      <td>83.6</td>\n",
       "      <td>경기</td>\n",
       "      <td>55.0</td>\n",
       "      <td>0</td>\n",
       "      <td>NaN</td>\n",
       "      <td>INFJ</td>\n",
       "      <td>80.138280</td>\n",
       "    </tr>\n",
       "    <tr>\n",
       "      <th>92</th>\n",
       "      <td>id93</td>\n",
       "      <td>21.8</td>\n",
       "      <td>경기</td>\n",
       "      <td>57.0</td>\n",
       "      <td>0</td>\n",
       "      <td>NaN</td>\n",
       "      <td>ISFP</td>\n",
       "      <td>73.586397</td>\n",
       "    </tr>\n",
       "  </tbody>\n",
       "</table>\n",
       "</div>"
      ],
      "text/plain": [
       "      id   age city    f1  f2   f3    f4         f5\n",
       "6   id07  36.3   서울  60.0   1  NaN  ISFJ   9.796378\n",
       "8   id09   3.3   서울  35.0   2  NaN  ESFJ  17.252986\n",
       "21  id22  -6.3   부산  72.0   1  NaN  ENFP  52.667078\n",
       "28  id29 -13.5   부산  47.0   2  NaN  ENTP  67.886373\n",
       "46  id47  34.6   대구  75.0   1  NaN  ESTJ  90.496999\n",
       "64  id65  26.5   경기   NaN   0  NaN  ISFP  91.297791\n",
       "84  id85  83.6   경기  55.0   0  NaN  INFJ  80.138280\n",
       "92  id93  21.8   경기  57.0   0  NaN  ISFP  73.586397"
      ]
     },
     "execution_count": 3,
     "metadata": {},
     "output_type": "execute_result"
    }
   ],
   "source": [
    "# 소수점 데이터 찾기\n",
    "df = df[(df['age']-np.floor(df['age']))!= 0]\n",
    "df"
   ]
  },
  {
   "cell_type": "code",
   "execution_count": 4,
   "id": "b0f0a22e",
   "metadata": {
    "execution": {
     "iopub.execute_input": "2025-06-18T21:40:31.163020Z",
     "iopub.status.busy": "2025-06-18T21:40:31.162176Z",
     "iopub.status.idle": "2025-06-18T21:40:31.165425Z",
     "shell.execute_reply": "2025-06-18T21:40:31.165847Z",
     "shell.execute_reply.started": "2024-10-26T13:30:46.188685Z"
    },
    "papermill": {
     "duration": 0.020211,
     "end_time": "2025-06-18T21:40:31.166008",
     "exception": false,
     "start_time": "2025-06-18T21:40:31.145797",
     "status": "completed"
    },
    "tags": []
   },
   "outputs": [
    {
     "data": {
      "text/plain": [
       "(23.75, 22.75, 23.0)"
      ]
     },
     "execution_count": 4,
     "metadata": {},
     "output_type": "execute_result"
    }
   ],
   "source": [
    "# 이상치를 포함한 데이터 올림, 내림, 버림의 평균값 \n",
    "\n",
    "# 올림\n",
    "m_ceil = np.ceil(df['age']).mean()\n",
    "\n",
    "# 내림\n",
    "m_floor = np.floor(df['age']).mean()\n",
    "\n",
    "# 버림\n",
    "m_trunc = np.trunc(df['age']).mean()\n",
    "\n",
    "m_ceil, m_floor, m_trunc"
   ]
  },
  {
   "cell_type": "code",
   "execution_count": 5,
   "id": "b1786125",
   "metadata": {
    "execution": {
     "iopub.execute_input": "2025-06-18T21:40:31.190911Z",
     "iopub.status.busy": "2025-06-18T21:40:31.190132Z",
     "iopub.status.idle": "2025-06-18T21:40:31.192997Z",
     "shell.execute_reply": "2025-06-18T21:40:31.193496Z",
     "shell.execute_reply.started": "2024-10-26T13:30:46.356407Z"
    },
    "papermill": {
     "duration": 0.016959,
     "end_time": "2025-06-18T21:40:31.193658",
     "exception": false,
     "start_time": "2025-06-18T21:40:31.176699",
     "status": "completed"
    },
    "tags": []
   },
   "outputs": [
    {
     "name": "stdout",
     "output_type": "stream",
     "text": [
      "69.5\n"
     ]
    }
   ],
   "source": [
    "# 평균값 더한 다음 출력\n",
    "print(m_ceil + m_floor + m_trunc) # 69.5"
   ]
  },
  {
   "cell_type": "code",
   "execution_count": null,
   "id": "658552c8",
   "metadata": {
    "papermill": {
     "duration": 0.009291,
     "end_time": "2025-06-18T21:40:31.212781",
     "exception": false,
     "start_time": "2025-06-18T21:40:31.203490",
     "status": "completed"
    },
    "tags": []
   },
   "outputs": [],
   "source": []
  }
 ],
 "metadata": {
  "kaggle": {
   "accelerator": "none",
   "dataSources": [
    {
     "databundleVersionId": 12727830,
     "datasetId": 1633303,
     "sourceId": 12189494,
     "sourceType": "datasetVersion"
    }
   ],
   "dockerImageVersionId": 30129,
   "isGpuEnabled": false,
   "isInternetEnabled": false,
   "language": "python",
   "sourceType": "notebook"
  },
  "kernelspec": {
   "display_name": "Python 3",
   "language": "python",
   "name": "python3"
  },
  "language_info": {
   "codemirror_mode": {
    "name": "ipython",
    "version": 3
   },
   "file_extension": ".py",
   "mimetype": "text/x-python",
   "name": "python",
   "nbconvert_exporter": "python",
   "pygments_lexer": "ipython3",
   "version": "3.7.10"
  },
  "papermill": {
   "default_parameters": {},
   "duration": 8.72626,
   "end_time": "2025-06-18T21:40:32.484451",
   "environment_variables": {},
   "exception": null,
   "input_path": "__notebook__.ipynb",
   "output_path": "__notebook__.ipynb",
   "parameters": {},
   "start_time": "2025-06-18T21:40:23.758191",
   "version": "2.3.3"
  }
 },
 "nbformat": 4,
 "nbformat_minor": 5
}
